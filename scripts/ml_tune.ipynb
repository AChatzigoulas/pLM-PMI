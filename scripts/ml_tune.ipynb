{
 "cells": [
  {
   "cell_type": "code",
   "execution_count": 1,
   "metadata": {},
   "outputs": [
    {
     "name": "stderr",
     "output_type": "stream",
     "text": [
      "/home/dimitra/miniconda3/lib/python3.11/site-packages/tqdm/auto.py:21: TqdmWarning: IProgress not found. Please update jupyter and ipywidgets. See https://ipywidgets.readthedocs.io/en/stable/user_install.html\n",
      "  from .autonotebook import tqdm as notebook_tqdm\n",
      "2024-03-28 16:23:00.745059: I tensorflow/core/util/port.cc:113] oneDNN custom operations are on. You may see slightly different numerical results due to floating-point round-off errors from different computation orders. To turn them off, set the environment variable `TF_ENABLE_ONEDNN_OPTS=0`.\n",
      "2024-03-28 16:23:00.765632: E external/local_xla/xla/stream_executor/cuda/cuda_dnn.cc:9261] Unable to register cuDNN factory: Attempting to register factory for plugin cuDNN when one has already been registered\n",
      "2024-03-28 16:23:00.765651: E external/local_xla/xla/stream_executor/cuda/cuda_fft.cc:607] Unable to register cuFFT factory: Attempting to register factory for plugin cuFFT when one has already been registered\n",
      "2024-03-28 16:23:00.766421: E external/local_xla/xla/stream_executor/cuda/cuda_blas.cc:1515] Unable to register cuBLAS factory: Attempting to register factory for plugin cuBLAS when one has already been registered\n",
      "2024-03-28 16:23:00.770245: I tensorflow/core/platform/cpu_feature_guard.cc:182] This TensorFlow binary is optimized to use available CPU instructions in performance-critical operations.\n",
      "To enable the following instructions: AVX2 AVX512F AVX512_VNNI AVX512_BF16 FMA, in other operations, rebuild TensorFlow with the appropriate compiler flags.\n",
      "2024-03-28 16:23:01.184410: W tensorflow/compiler/tf2tensorrt/utils/py_utils.cc:38] TF-TRT Warning: Could not find TensorRT\n",
      "WARNING:root:Limited tf.compat.v2.summary API due to missing TensorBoard installation.\n",
      "WARNING:root:Limited tf.compat.v2.summary API due to missing TensorBoard installation.\n",
      "WARNING:root:Limited tf.compat.v2.summary API due to missing TensorBoard installation.\n",
      "WARNING:root:Limited tf.summary API due to missing TensorBoard installation.\n",
      "WARNING:root:Limited tf.compat.v2.summary API due to missing TensorBoard installation.\n"
     ]
    }
   ],
   "source": [
    "import pandas as pd\n",
    "import json\n",
    "import numpy as np\n",
    "\n",
    "from sklearn.metrics import f1_score, balanced_accuracy_score, matthews_corrcoef, confusion_matrix, precision_recall_curve\n",
    "\n",
    "from xgboost import XGBClassifier\n",
    "import xgboost as xgb\n",
    "import lightgbm as lgb\n",
    "from imblearn.ensemble import BalancedRandomForestClassifier\n",
    "\n",
    "# import packages for hyperparameters tuning\n",
    "import optuna\n",
    "\n",
    "import tensorflow as tf\n",
    "\n",
    "import warnings\n",
    "warnings.filterwarnings('ignore')"
   ]
  },
  {
   "cell_type": "code",
   "execution_count": 2,
   "metadata": {},
   "outputs": [
    {
     "name": "stdout",
     "output_type": "stream",
     "text": [
      "(325943, 1047)\n",
      "(297295, 1044)\n",
      "(7776, 1044)\n",
      "(5967, 1044)\n"
     ]
    }
   ],
   "source": [
    "model_for_testing = 'protTrans'\n",
    "df = pd.read_csv('/home/dimitra/master_thesis/Datasets/My_Dataset/proteins_embeddings_' + model_for_testing + '_annotated.csv', index_col=0)\n",
    "\n",
    "# convert residues to one-hot encode\n",
    "df_res = pd.get_dummies(df['residue_1l'])\n",
    "# Convert boolean values to numeric values\n",
    "df_res = df_res.astype(int)\n",
    "\n",
    "df = df.merge(df_res, left_index=True, right_index=True, how='inner')\n",
    "df.insert(len(df.columns)-1, 'is_IBS', df.pop('is_IBS'))\n",
    "print(df.shape)\n",
    "\n",
    "f = open('/home/dimitra/master_thesis/Datasets/Uniprot_Dataset/split_proteins.json')\n",
    "dict_proteins_split = json.load(f)\n",
    "f.close()\n",
    "\n",
    "df_train = df[df.uniprot_id.isin(dict_proteins_split['train'])]\n",
    "df_test = df[df.uniprot_id.isin(dict_proteins_split['test'])]\n",
    "df_val = df[df.uniprot_id.isin(dict_proteins_split['val'])]\n",
    "\n",
    "positive_samples = df_train['is_IBS'].sum()\n",
    "negative_samples = len(df_train) - positive_samples\n",
    "\n",
    "ratio = negative_samples / positive_samples\n",
    "\n",
    "X_train, y_train = df_train.drop(['uniprot_id', 'residue_1l', 'is_IBS'], axis=1, inplace=False), df_train['is_IBS']\n",
    "X_test, y_test = df_test.drop(['uniprot_id', 'residue_1l', 'is_IBS'], axis=1, inplace=False), df_test['is_IBS']\n",
    "X_val, y_val = df_val.drop(['uniprot_id', 'residue_1l', 'is_IBS'], axis=1, inplace=False), df_val['is_IBS']\n",
    "\n",
    "print(X_train.shape)\n",
    "print(X_test.shape)\n",
    "print(X_val.shape)\n",
    "import gc\n",
    "\n",
    "del df, df_train, df_test, df_val, df_res\n",
    "gc.collect()\n",
    "\n",
    "X_train, y_train = X_train.values, y_train.values\n",
    "X_test, y_test = X_test.values, y_test.values"
   ]
  },
  {
   "cell_type": "markdown",
   "metadata": {},
   "source": [
    "### Optimize LGBM\n"
   ]
  },
  {
   "cell_type": "code",
   "execution_count": 3,
   "metadata": {},
   "outputs": [
    {
     "name": "stderr",
     "output_type": "stream",
     "text": [
      "[I 2024-03-28 16:23:59,494] A new study created in memory with name: no-name-4437b2ff-7f48-4af3-8409-bcd6a9e3c865\n",
      "[I 2024-03-28 16:27:24,981] Trial 0 finished with value: 0.5361952861952861 and parameters: {'learning_rate': 0.006074219550826093, 'max_depth': 9, 'scale_pos_weight': 32.14284292231546, 'num_leaves': 36, 'feature_fraction': 0.860681142606906, 'bagging_fraction': 0.7712060811379233, 'bagging_freq': 8, 'lambda_l1': 0.62956544175204, 'lambda_l2': 0.03631846152524043, 'num_iterations': 1800}. Best is trial 0 with value: 0.5361952861952861.\n",
      "[I 2024-03-28 16:28:12,767] Trial 1 finished with value: 0.4588715159755269 and parameters: {'learning_rate': 0.010995749081307779, 'max_depth': 3, 'scale_pos_weight': 35.05340905931346, 'num_leaves': 36, 'feature_fraction': 0.856104424936892, 'bagging_fraction': 0.9700474987709665, 'bagging_freq': 4, 'lambda_l1': 0.35422701611246976, 'lambda_l2': 0.3026931698249439, 'num_iterations': 1500}. Best is trial 0 with value: 0.5361952861952861.\n",
      "[I 2024-03-28 16:32:07,542] Trial 2 finished with value: 0.5152013147082991 and parameters: {'learning_rate': 0.001949075034403324, 'max_depth': 15, 'scale_pos_weight': 38.96053842738042, 'num_leaves': 65, 'feature_fraction': 0.7769264996880658, 'bagging_fraction': 0.962497999238183, 'bagging_freq': 9, 'lambda_l1': 0.3181454854897393, 'lambda_l2': 0.7521435367005656, 'num_iterations': 1500}. Best is trial 0 with value: 0.5361952861952861.\n",
      "[I 2024-03-28 16:35:53,395] Trial 3 finished with value: 0.0 and parameters: {'learning_rate': 0.00027828978607300197, 'max_depth': 21, 'scale_pos_weight': 38.16793925989437, 'num_leaves': 62, 'feature_fraction': 0.9334564854302707, 'bagging_fraction': 0.7215381127889786, 'bagging_freq': 7, 'lambda_l1': 0.5862614762188836, 'lambda_l2': 0.7733736731499944, 'num_iterations': 1600}. Best is trial 0 with value: 0.5361952861952861.\n",
      "[I 2024-03-28 16:36:13,179] Trial 4 finished with value: 0.5365622032288699 and parameters: {'learning_rate': 0.071270375303821, 'max_depth': 31, 'scale_pos_weight': 30.692020720538522, 'num_leaves': 46, 'feature_fraction': 0.5821724730462748, 'bagging_fraction': 0.6128691061535411, 'bagging_freq': 5, 'lambda_l1': 0.7137597462060372, 'lambda_l2': 0.12521572169595818, 'num_iterations': 200}. Best is trial 4 with value: 0.5365622032288699.\n",
      "[I 2024-03-28 16:39:09,802] Trial 5 finished with value: 0.5916489738145788 and parameters: {'learning_rate': 0.08241390775797872, 'max_depth': 11, 'scale_pos_weight': 31.67307617740676, 'num_leaves': 27, 'feature_fraction': 0.9917273709299175, 'bagging_fraction': 0.5074632244600537, 'bagging_freq': 4, 'lambda_l1': 0.15268305739470023, 'lambda_l2': 0.5187623197084389, 'num_iterations': 2000}. Best is trial 5 with value: 0.5916489738145788.\n",
      "[I 2024-03-28 16:39:50,273] Trial 6 finished with value: 0.0 and parameters: {'learning_rate': 0.00010584966207684336, 'max_depth': 25, 'scale_pos_weight': 32.022867917276784, 'num_leaves': 88, 'feature_fraction': 0.9639647422487346, 'bagging_fraction': 0.8557059871062407, 'bagging_freq': 1, 'lambda_l1': 0.4889354993417455, 'lambda_l2': 0.33494582240415016, 'num_iterations': 200}. Best is trial 5 with value: 0.5916489738145788.\n",
      "[I 2024-03-28 16:40:38,332] Trial 7 finished with value: 0.002635046113306983 and parameters: {'learning_rate': 0.0010085805438958945, 'max_depth': 9, 'scale_pos_weight': 30.760361727549046, 'num_leaves': 39, 'feature_fraction': 0.6102466177389323, 'bagging_fraction': 0.5330415544777296, 'bagging_freq': 7, 'lambda_l1': 0.06699169703918728, 'lambda_l2': 0.9034708225614864, 'num_iterations': 700}. Best is trial 5 with value: 0.5916489738145788.\n",
      "[I 2024-03-28 16:40:43,466] Trial 8 finished with value: 0.0 and parameters: {'learning_rate': 0.0011281848749415473, 'max_depth': 1, 'scale_pos_weight': 30.219343645531765, 'num_leaves': 44, 'feature_fraction': 0.5924346279827297, 'bagging_fraction': 0.6081231096812669, 'bagging_freq': 8, 'lambda_l1': 0.5861854998463151, 'lambda_l2': 0.9642938738375213, 'num_iterations': 100}. Best is trial 5 with value: 0.5916489738145788.\n",
      "[I 2024-03-28 16:41:14,863] Trial 9 finished with value: 0.0 and parameters: {'learning_rate': 0.0003278789856596124, 'max_depth': 9, 'scale_pos_weight': 38.34118243826852, 'num_leaves': 20, 'feature_fraction': 0.8389970855242291, 'bagging_fraction': 0.8484421367324142, 'bagging_freq': 10, 'lambda_l1': 0.4394534407221472, 'lambda_l2': 0.8649510781571402, 'num_iterations': 400}. Best is trial 5 with value: 0.5916489738145788.\n",
      "[I 2024-03-28 16:44:36,604] Trial 10 finished with value: 0.5620094191522762 and parameters: {'learning_rate': 0.05917056198256387, 'max_depth': 17, 'scale_pos_weight': 34.49864033072894, 'num_leaves': 84, 'feature_fraction': 0.6849817007359368, 'bagging_fraction': 0.5006916478446467, 'bagging_freq': 2, 'lambda_l1': 0.9548559032016012, 'lambda_l2': 0.5692468660548049, 'num_iterations': 2000}. Best is trial 5 with value: 0.5916489738145788.\n",
      "[I 2024-03-28 16:47:38,263] Trial 11 finished with value: 0.564302416212003 and parameters: {'learning_rate': 0.06560680029123768, 'max_depth': 17, 'scale_pos_weight': 34.829910074161546, 'num_leaves': 90, 'feature_fraction': 0.6732198364938068, 'bagging_fraction': 0.5020215229448818, 'bagging_freq': 2, 'lambda_l1': 0.9859902560031989, 'lambda_l2': 0.5482759075053313, 'num_iterations': 2000}. Best is trial 5 with value: 0.5916489738145788.\n",
      "[I 2024-03-28 16:49:12,770] Trial 12 finished with value: 0.6269791006966435 and parameters: {'learning_rate': 0.027090327293298938, 'max_depth': 15, 'scale_pos_weight': 35.23517667764343, 'num_leaves': 74, 'feature_fraction': 0.503285789188655, 'bagging_fraction': 0.6022454635206698, 'bagging_freq': 3, 'lambda_l1': 0.0021636057737682013, 'lambda_l2': 0.5692614017059986, 'num_iterations': 1100}. Best is trial 12 with value: 0.6269791006966435.\n",
      "[I 2024-03-28 16:50:49,243] Trial 13 finished with value: 0.6092020966802563 and parameters: {'learning_rate': 0.019394785350682613, 'max_depth': 13, 'scale_pos_weight': 36.563323323809264, 'num_leaves': 74, 'feature_fraction': 0.5075903519756807, 'bagging_fraction': 0.6189115181762452, 'bagging_freq': 4, 'lambda_l1': 0.007149146543674502, 'lambda_l2': 0.40784394412609437, 'num_iterations': 1100}. Best is trial 12 with value: 0.6269791006966435.\n",
      "[I 2024-03-28 16:52:29,468] Trial 14 finished with value: 0.6112660345789179 and parameters: {'learning_rate': 0.017366679137568272, 'max_depth': 23, 'scale_pos_weight': 36.78986002371503, 'num_leaves': 75, 'feature_fraction': 0.5014231606318275, 'bagging_fraction': 0.6350016582544935, 'bagging_freq': 3, 'lambda_l1': 0.026808616111674045, 'lambda_l2': 0.3611086320642176, 'num_iterations': 1100}. Best is trial 12 with value: 0.6269791006966435.\n",
      "[I 2024-03-28 16:57:03,004] Trial 15 finished with value: 0.6184738955823293 and parameters: {'learning_rate': 0.022806389949991696, 'max_depth': 25, 'scale_pos_weight': 36.42069968803755, 'num_leaves': 100, 'feature_fraction': 0.5118827320902274, 'bagging_fraction': 0.6826812802010535, 'bagging_freq': 3, 'lambda_l1': 0.2139418359306735, 'lambda_l2': 0.672054486736676, 'num_iterations': 1100}. Best is trial 12 with value: 0.6269791006966435.\n",
      "[I 2024-03-28 16:58:47,899] Trial 16 finished with value: 0.6227848101265824 and parameters: {'learning_rate': 0.02388327933294877, 'max_depth': 29, 'scale_pos_weight': 33.74779052798038, 'num_leaves': 100, 'feature_fraction': 0.5733538993228579, 'bagging_fraction': 0.7030759334904105, 'bagging_freq': 1, 'lambda_l1': 0.2012705255382049, 'lambda_l2': 0.6719697424249085, 'num_iterations': 800}. Best is trial 12 with value: 0.6269791006966435.\n",
      "[I 2024-03-28 17:00:53,538] Trial 17 finished with value: 0.5610200364298725 and parameters: {'learning_rate': 0.005394325718187551, 'max_depth': 31, 'scale_pos_weight': 33.45772752707274, 'num_leaves': 97, 'feature_fraction': 0.6568715537435552, 'bagging_fraction': 0.8161306393696962, 'bagging_freq': 1, 'lambda_l1': 0.18183093159580818, 'lambda_l2': 0.6693040289611881, 'num_iterations': 800}. Best is trial 12 with value: 0.6269791006966435.\n",
      "[I 2024-03-28 17:02:02,944] Trial 18 finished with value: 0.6056096164854036 and parameters: {'learning_rate': 0.03308867122596327, 'max_depth': 19, 'scale_pos_weight': 33.35155826828891, 'num_leaves': 53, 'feature_fraction': 0.5539986215322694, 'bagging_fraction': 0.6860858814494769, 'bagging_freq': 2, 'lambda_l1': 0.28526060485457294, 'lambda_l2': 0.6587849031965745, 'num_iterations': 800}. Best is trial 12 with value: 0.6269791006966435.\n",
      "[I 2024-03-28 17:05:19,741] Trial 19 finished with value: 0.5733656174334141 and parameters: {'learning_rate': 0.006783010566591096, 'max_depth': 25, 'scale_pos_weight': 33.491179810589024, 'num_leaves': 78, 'feature_fraction': 0.7608265353233395, 'bagging_fraction': 0.5675325410288368, 'bagging_freq': 1, 'lambda_l1': 0.11731104901176953, 'lambda_l2': 0.2183220949181206, 'num_iterations': 1300}. Best is trial 12 with value: 0.6269791006966435.\n",
      "[I 2024-03-28 17:06:26,719] Trial 20 finished with value: 0.5448275862068965 and parameters: {'learning_rate': 0.002609413573293124, 'max_depth': 27, 'scale_pos_weight': 35.72038953801659, 'num_leaves': 66, 'feature_fraction': 0.6324716360953764, 'bagging_fraction': 0.7612124140683479, 'bagging_freq': 6, 'lambda_l1': 0.3935708552186441, 'lambda_l2': 0.4397945661803243, 'num_iterations': 600}. Best is trial 12 with value: 0.6269791006966435.\n",
      "[I 2024-03-28 17:08:14,365] Trial 21 finished with value: 0.6256756756756756 and parameters: {'learning_rate': 0.029044468127234317, 'max_depth': 27, 'scale_pos_weight': 36.70308119953286, 'num_leaves': 100, 'feature_fraction': 0.537134121253886, 'bagging_fraction': 0.68789770544491, 'bagging_freq': 3, 'lambda_l1': 0.2630418508506976, 'lambda_l2': 0.6294339204096445, 'num_iterations': 900}. Best is trial 12 with value: 0.6269791006966435.\n",
      "[I 2024-03-28 17:09:59,531] Trial 22 finished with value: 0.6148459383753502 and parameters: {'learning_rate': 0.036013964361259455, 'max_depth': 29, 'scale_pos_weight': 37.44556108048412, 'num_leaves': 93, 'feature_fraction': 0.5533140300092848, 'bagging_fraction': 0.6776961437047024, 'bagging_freq': 3, 'lambda_l1': 0.2462056833072488, 'lambda_l2': 0.6203376373734023, 'num_iterations': 900}. Best is trial 12 with value: 0.6269791006966435.\n",
      "[I 2024-03-28 17:10:58,231] Trial 23 finished with value: 0.5550022634676324 and parameters: {'learning_rate': 0.011334144457469822, 'max_depth': 21, 'scale_pos_weight': 34.40675078679532, 'num_leaves': 83, 'feature_fraction': 0.552536103737899, 'bagging_fraction': 0.7199271176662263, 'bagging_freq': 5, 'lambda_l1': 0.1405128594800048, 'lambda_l2': 0.7830704638014805, 'num_iterations': 500}. Best is trial 12 with value: 0.6269791006966435.\n",
      "[I 2024-03-28 17:14:28,377] Trial 24 finished with value: 0.5812883435582822 and parameters: {'learning_rate': 0.04022081152263455, 'max_depth': 29, 'scale_pos_weight': 36.00774254846431, 'num_leaves': 94, 'feature_fraction': 0.714165418288292, 'bagging_fraction': 0.5716440464712791, 'bagging_freq': 2, 'lambda_l1': 0.0914257400916117, 'lambda_l2': 0.47379264481923555, 'num_iterations': 1300}. Best is trial 12 with value: 0.6269791006966435.\n",
      "[I 2024-03-28 17:15:04,328] Trial 25 finished with value: 0.5285140562248996 and parameters: {'learning_rate': 0.016590650014961766, 'max_depth': 5, 'scale_pos_weight': 39.65695728522299, 'num_leaves': 100, 'feature_fraction': 0.5589827914605096, 'bagging_fraction': 0.6496882445788814, 'bagging_freq': 3, 'lambda_l1': 0.23964429842321802, 'lambda_l2': 0.5880392953339328, 'num_iterations': 900}. Best is trial 12 with value: 0.6269791006966435.\n",
      "[I 2024-03-28 17:17:47,006] Trial 26 finished with value: 0.5973084886128365 and parameters: {'learning_rate': 0.01097352966433823, 'max_depth': 21, 'scale_pos_weight': 35.409768679743756, 'num_leaves': 70, 'feature_fraction': 0.6261671596584059, 'bagging_fraction': 0.7985898742939742, 'bagging_freq': 1, 'lambda_l1': 0.06599761782805175, 'lambda_l2': 0.7243990827787259, 'num_iterations': 1300}. Best is trial 12 with value: 0.6269791006966435.\n",
      "[I 2024-03-28 17:19:11,787] Trial 27 finished with value: 0.5811209439528024 and parameters: {'learning_rate': 0.09677410786897364, 'max_depth': 27, 'scale_pos_weight': 37.32724565883609, 'num_leaves': 56, 'feature_fraction': 0.5279425003314345, 'bagging_fraction': 0.7312320785948088, 'bagging_freq': 2, 'lambda_l1': 0.3141860067618565, 'lambda_l2': 0.8676892481511302, 'num_iterations': 1000}. Best is trial 12 with value: 0.6269791006966435.\n",
      "[I 2024-03-28 17:20:13,204] Trial 28 finished with value: 0.5865951742627346 and parameters: {'learning_rate': 0.03173733723631162, 'max_depth': 15, 'scale_pos_weight': 33.78657742232469, 'num_leaves': 82, 'feature_fraction': 0.7092221935914825, 'bagging_fraction': 0.659788614888291, 'bagging_freq': 5, 'lambda_l1': 0.19215318891926847, 'lambda_l2': 0.502728046895092, 'num_iterations': 400}. Best is trial 12 with value: 0.6269791006966435.\n",
      "[I 2024-03-28 17:21:26,069] Trial 29 finished with value: 0.5497185741088181 and parameters: {'learning_rate': 0.004314133757140783, 'max_depth': 7, 'scale_pos_weight': 32.828096581102734, 'num_leaves': 88, 'feature_fraction': 0.8036321623102094, 'bagging_fraction': 0.7917628059686732, 'bagging_freq': 4, 'lambda_l1': 0.704885697542428, 'lambda_l2': 0.6128760334822075, 'num_iterations': 600}. Best is trial 12 with value: 0.6269791006966435.\n",
      "[I 2024-03-28 17:23:46,108] Trial 30 finished with value: 0.5914034179181771 and parameters: {'learning_rate': 0.007481768513889951, 'max_depth': 13, 'scale_pos_weight': 32.83888815893089, 'num_leaves': 94, 'feature_fraction': 0.5843000284528331, 'bagging_fraction': 0.5775504605411511, 'bagging_freq': 3, 'lambda_l1': 0.006534520661737597, 'lambda_l2': 0.8150569741592817, 'num_iterations': 1200}. Best is trial 12 with value: 0.6269791006966435.\n",
      "[I 2024-03-28 17:25:42,870] Trial 31 finished with value: 0.6200931470392548 and parameters: {'learning_rate': 0.02459954345229909, 'max_depth': 25, 'scale_pos_weight': 36.27877434528743, 'num_leaves': 100, 'feature_fraction': 0.5273994172906451, 'bagging_fraction': 0.6888787407536787, 'bagging_freq': 3, 'lambda_l1': 0.24394833651128806, 'lambda_l2': 0.6764182745131252, 'num_iterations': 1000}. Best is trial 12 with value: 0.6269791006966435.\n",
      "[I 2024-03-28 17:27:33,994] Trial 32 finished with value: 0.6021021021021021 and parameters: {'learning_rate': 0.050712539717734616, 'max_depth': 29, 'scale_pos_weight': 35.104231476077764, 'num_leaves': 100, 'feature_fraction': 0.5320222933242543, 'bagging_fraction': 0.714543390540078, 'bagging_freq': 4, 'lambda_l1': 0.3945296863243446, 'lambda_l2': 0.7031878858071458, 'num_iterations': 900}. Best is trial 12 with value: 0.6269791006966435.\n",
      "[I 2024-03-28 17:29:42,731] Trial 33 finished with value: 0.59328165374677 and parameters: {'learning_rate': 0.010878866299342562, 'max_depth': 23, 'scale_pos_weight': 37.2283156987612, 'num_leaves': 90, 'feature_fraction': 0.5786196328467906, 'bagging_fraction': 0.7531468212143044, 'bagging_freq': 2, 'lambda_l1': 0.2719073552883854, 'lambda_l2': 0.6273292789202786, 'num_iterations': 1000}. Best is trial 12 with value: 0.6269791006966435.\n",
      "[I 2024-03-28 17:32:13,744] Trial 34 finished with value: 0.6243833685694151 and parameters: {'learning_rate': 0.02668145249597276, 'max_depth': 27, 'scale_pos_weight': 36.0635492652931, 'num_leaves': 80, 'feature_fraction': 0.5013343425083194, 'bagging_fraction': 0.6863778662105744, 'bagging_freq': 6, 'lambda_l1': 0.3499277996886623, 'lambda_l2': 0.7377729693963534, 'num_iterations': 1600}. Best is trial 12 with value: 0.6269791006966435.\n",
      "[I 2024-03-28 17:35:29,058] Trial 35 finished with value: 0.6267562614538792 and parameters: {'learning_rate': 0.013241398472274167, 'max_depth': 31, 'scale_pos_weight': 34.02210984494905, 'num_leaves': 79, 'feature_fraction': 0.6185156315969063, 'bagging_fraction': 0.5994775166722717, 'bagging_freq': 6, 'lambda_l1': 0.3388722183694822, 'lambda_l2': 0.7453875723126626, 'num_iterations': 1700}. Best is trial 12 with value: 0.6269791006966435.\n",
      "[I 2024-03-28 17:38:30,200] Trial 36 finished with value: 0.5949895615866388 and parameters: {'learning_rate': 0.009153914127658721, 'max_depth': 31, 'scale_pos_weight': 35.417081737093454, 'num_leaves': 69, 'feature_fraction': 0.6178322828275834, 'bagging_fraction': 0.5928682452251576, 'bagging_freq': 6, 'lambda_l1': 0.5107813122508469, 'lambda_l2': 0.009065288887023293, 'num_iterations': 1700}. Best is trial 12 with value: 0.6269791006966435.\n",
      "[I 2024-03-28 17:40:49,475] Trial 37 finished with value: 0.6279491833030852 and parameters: {'learning_rate': 0.014059332125222547, 'max_depth': 19, 'scale_pos_weight': 34.22905213429302, 'num_leaves': 79, 'feature_fraction': 0.5019739076774398, 'bagging_fraction': 0.545552185204456, 'bagging_freq': 7, 'lambda_l1': 0.35557131173485196, 'lambda_l2': 0.7510172697025246, 'num_iterations': 1600}. Best is trial 37 with value: 0.6279491833030852.\n",
      "[I 2024-03-28 17:45:48,798] Trial 38 finished with value: 0.6149968494013862 and parameters: {'learning_rate': 0.013695853734508972, 'max_depth': 19, 'scale_pos_weight': 34.29437735039284, 'num_leaves': 74, 'feature_fraction': 0.9091039076579217, 'bagging_fraction': 0.5445283817724138, 'bagging_freq': 7, 'lambda_l1': 0.47291279049131324, 'lambda_l2': 0.9909852473115028, 'num_iterations': 1800}. Best is trial 37 with value: 0.6279491833030852.\n",
      "[I 2024-03-28 17:48:56,561] Trial 39 finished with value: 0.52679307502061 and parameters: {'learning_rate': 0.003208271770953139, 'max_depth': 13, 'scale_pos_weight': 32.27612170038426, 'num_leaves': 61, 'feature_fraction': 0.6500518866577836, 'bagging_fraction': 0.9173738766640137, 'bagging_freq': 8, 'lambda_l1': 0.3491785778402319, 'lambda_l2': 0.8047013502995485, 'num_iterations': 1500}. Best is trial 37 with value: 0.6279491833030852.\n",
      "[I 2024-03-28 17:51:02,822] Trial 40 finished with value: 0.6183574879227053 and parameters: {'learning_rate': 0.044633511167587944, 'max_depth': 15, 'scale_pos_weight': 38.33041057977625, 'num_leaves': 57, 'feature_fraction': 0.6012847500940683, 'bagging_fraction': 0.5475154036661847, 'bagging_freq': 8, 'lambda_l1': 0.5185648529364792, 'lambda_l2': 0.9262645069175909, 'num_iterations': 1400}. Best is trial 37 with value: 0.6279491833030852.\n",
      "[I 2024-03-28 17:53:41,843] Trial 41 finished with value: 0.6157112526539279 and parameters: {'learning_rate': 0.02732842767350921, 'max_depth': 27, 'scale_pos_weight': 35.79687139604, 'num_leaves': 79, 'feature_fraction': 0.5350798308427069, 'bagging_fraction': 0.6398957013435989, 'bagging_freq': 6, 'lambda_l1': 0.4151611891374378, 'lambda_l2': 0.7329162161883827, 'num_iterations': 1600}. Best is trial 37 with value: 0.6279491833030852.\n",
      "[I 2024-03-28 17:56:28,825] Trial 42 finished with value: 0.6151832460732983 and parameters: {'learning_rate': 0.015152682394568745, 'max_depth': 23, 'scale_pos_weight': 34.10038851558668, 'num_leaves': 85, 'feature_fraction': 0.5004272137911197, 'bagging_fraction': 0.6008440985732705, 'bagging_freq': 7, 'lambda_l1': 0.34227879144902634, 'lambda_l2': 0.8374163489160477, 'num_iterations': 1800}. Best is trial 37 with value: 0.6279491833030852.\n",
      "[I 2024-03-28 17:58:57,756] Trial 43 finished with value: 0.5762452107279693 and parameters: {'learning_rate': 0.05141881116625597, 'max_depth': 31, 'scale_pos_weight': 34.97217762343279, 'num_leaves': 79, 'feature_fraction': 0.5345810344656945, 'bagging_fraction': 0.5378938057723868, 'bagging_freq': 7, 'lambda_l1': 0.6056025058430066, 'lambda_l2': 0.7606093946356232, 'num_iterations': 1600}. Best is trial 37 with value: 0.6279491833030852.\n",
      "[I 2024-03-28 18:01:46,610] Trial 44 finished with value: 0.5369244135534318 and parameters: {'learning_rate': 0.0016137102280871334, 'max_depth': 19, 'scale_pos_weight': 37.00148650857366, 'num_leaves': 69, 'feature_fraction': 0.5658918395704412, 'bagging_fraction': 0.6294632582765015, 'bagging_freq': 6, 'lambda_l1': 0.3125414067774203, 'lambda_l2': 0.5364167161353754, 'num_iterations': 1800}. Best is trial 37 with value: 0.6279491833030852.\n",
      "[I 2024-03-28 18:04:26,723] Trial 45 finished with value: 0.571294117647059 and parameters: {'learning_rate': 0.005459904649714349, 'max_depth': 11, 'scale_pos_weight': 35.345465430501115, 'num_leaves': 65, 'feature_fraction': 0.512239260830634, 'bagging_fraction': 0.6599936446609024, 'bagging_freq': 9, 'lambda_l1': 0.3792294168312904, 'lambda_l2': 0.7551576682290093, 'num_iterations': 1900}. Best is trial 37 with value: 0.6279491833030852.\n",
      "[I 2024-03-28 18:06:44,583] Trial 46 finished with value: 0.5827612509534708 and parameters: {'learning_rate': 0.0772276756980655, 'max_depth': 27, 'scale_pos_weight': 37.753524678419446, 'num_leaves': 75, 'feature_fraction': 0.5906257571934865, 'bagging_fraction': 0.525906355068346, 'bagging_freq': 5, 'lambda_l1': 0.8197723888418592, 'lambda_l2': 0.9054916774301498, 'num_iterations': 1500}. Best is trial 37 with value: 0.6279491833030852.\n",
      "[I 2024-03-28 18:09:51,565] Trial 47 finished with value: 0.0 and parameters: {'learning_rate': 0.0004020338781868214, 'max_depth': 17, 'scale_pos_weight': 34.69389091026206, 'num_leaves': 86, 'feature_fraction': 0.5406448908827785, 'bagging_fraction': 0.9996286484734078, 'bagging_freq': 6, 'lambda_l1': 0.46054056639228297, 'lambda_l2': 0.5870062519908354, 'num_iterations': 1700}. Best is trial 37 with value: 0.6279491833030852.\n",
      "[I 2024-03-28 18:11:59,849] Trial 48 finished with value: 0.624131396083386 and parameters: {'learning_rate': 0.017845098437290756, 'max_depth': 31, 'scale_pos_weight': 31.421203115009114, 'num_leaves': 81, 'feature_fraction': 0.5015488330455569, 'bagging_fraction': 0.6079956156524259, 'bagging_freq': 8, 'lambda_l1': 0.4351664689346155, 'lambda_l2': 0.8492700778774951, 'num_iterations': 1400}. Best is trial 37 with value: 0.6279491833030852.\n",
      "[I 2024-03-28 18:14:10,346] Trial 49 finished with value: 0.0 and parameters: {'learning_rate': 0.00010002689967119284, 'max_depth': 21, 'scale_pos_weight': 36.11248897655205, 'num_leaves': 72, 'feature_fraction': 0.5261594937338271, 'bagging_fraction': 0.5785929004359511, 'bagging_freq': 7, 'lambda_l1': 0.5513728835172718, 'lambda_l2': 0.7092197077811433, 'num_iterations': 1700}. Best is trial 37 with value: 0.6279491833030852.\n",
      "[I 2024-03-28 18:16:56,895] Trial 50 finished with value: 0.6119205298013246 and parameters: {'learning_rate': 0.021311784073404515, 'max_depth': 29, 'scale_pos_weight': 38.867596969960054, 'num_leaves': 65, 'feature_fraction': 0.573397786376323, 'bagging_fraction': 0.5205146099088034, 'bagging_freq': 9, 'lambda_l1': 0.15372554618047263, 'lambda_l2': 0.5412097432805855, 'num_iterations': 1900}. Best is trial 37 with value: 0.6279491833030852.\n",
      "[I 2024-03-28 18:19:09,603] Trial 51 finished with value: 0.605878824235153 and parameters: {'learning_rate': 0.014320476691676527, 'max_depth': 31, 'scale_pos_weight': 30.555023022285106, 'num_leaves': 80, 'feature_fraction': 0.5114607662341771, 'bagging_fraction': 0.6202106493273001, 'bagging_freq': 8, 'lambda_l1': 0.4302431818726765, 'lambda_l2': 0.8757803407424549, 'num_iterations': 1400}. Best is trial 37 with value: 0.6279491833030852.\n",
      "[I 2024-03-28 18:21:23,676] Trial 52 finished with value: 0.6152849740932643 and parameters: {'learning_rate': 0.018828919741835794, 'max_depth': 31, 'scale_pos_weight': 32.95678936581745, 'num_leaves': 77, 'feature_fraction': 0.5077193414028656, 'bagging_fraction': 0.5589127541070036, 'bagging_freq': 8, 'lambda_l1': 0.34509584907730506, 'lambda_l2': 0.9368917716357037, 'num_iterations': 1500}. Best is trial 37 with value: 0.6279491833030852.\n",
      "[I 2024-03-28 18:23:54,095] Trial 53 finished with value: 0.5963597430406852 and parameters: {'learning_rate': 0.00847875349570267, 'max_depth': 27, 'scale_pos_weight': 31.04676835961391, 'num_leaves': 87, 'feature_fraction': 0.5467287803444378, 'bagging_fraction': 0.595852876590982, 'bagging_freq': 5, 'lambda_l1': 0.288562325276834, 'lambda_l2': 0.8267734113405018, 'num_iterations': 1400}. Best is trial 37 with value: 0.6279491833030852.\n",
      "[I 2024-03-28 18:25:18,429] Trial 54 finished with value: 0.6077170418006431 and parameters: {'learning_rate': 0.029251237842533192, 'max_depth': 29, 'scale_pos_weight': 31.041711806284926, 'num_leaves': 32, 'feature_fraction': 0.6070092895259181, 'bagging_fraction': 0.66592229774385, 'bagging_freq': 7, 'lambda_l1': 0.6586457731362483, 'lambda_l2': 0.7818654873884597, 'num_iterations': 1200}. Best is trial 37 with value: 0.6279491833030852.\n",
      "[I 2024-03-28 18:27:49,088] Trial 55 finished with value: 0.5959671396564601 and parameters: {'learning_rate': 0.03454846409833675, 'max_depth': 25, 'scale_pos_weight': 32.04191462192432, 'num_leaves': 81, 'feature_fraction': 0.5018845647300053, 'bagging_fraction': 0.6247792875769501, 'bagging_freq': 9, 'lambda_l1': 0.45226054631164525, 'lambda_l2': 0.6363845849083773, 'num_iterations': 1600}. Best is trial 37 with value: 0.6279491833030852.\n",
      "[I 2024-03-28 18:30:03,637] Trial 56 finished with value: 0.567843137254902 and parameters: {'learning_rate': 0.05965268566755474, 'max_depth': 11, 'scale_pos_weight': 36.70301625701513, 'num_leaves': 92, 'feature_fraction': 0.5624319609349804, 'bagging_fraction': 0.702453814544088, 'bagging_freq': 6, 'lambda_l1': 0.5462609883231199, 'lambda_l2': 0.11161341983208206, 'num_iterations': 1200}. Best is trial 37 with value: 0.6279491833030852.\n",
      "[I 2024-03-28 18:32:45,833] Trial 57 finished with value: 0.630391506303915 and parameters: {'learning_rate': 0.020786815310720814, 'max_depth': 23, 'scale_pos_weight': 31.39246542151939, 'num_leaves': 72, 'feature_fraction': 0.5228806241385848, 'bagging_fraction': 0.7394794627085115, 'bagging_freq': 10, 'lambda_l1': 0.38343405154587923, 'lambda_l2': 0.7006831399325681, 'num_iterations': 1700}. Best is trial 57 with value: 0.630391506303915.\n",
      "[I 2024-03-28 18:35:50,048] Trial 58 finished with value: 0.5954198473282443 and parameters: {'learning_rate': 0.041496690367390156, 'max_depth': 23, 'scale_pos_weight': 29.785499203833922, 'num_leaves': 72, 'feature_fraction': 0.5227189858153168, 'bagging_fraction': 0.7292999070496544, 'bagging_freq': 4, 'lambda_l1': 0.3873277307473677, 'lambda_l2': 0.47142044061330524, 'num_iterations': 1900}. Best is trial 57 with value: 0.630391506303915.\n",
      "[I 2024-03-28 18:38:16,731] Trial 59 finished with value: 0.6007326007326008 and parameters: {'learning_rate': 0.01289907647456992, 'max_depth': 19, 'scale_pos_weight': 34.16354905896416, 'num_leaves': 49, 'feature_fraction': 0.5479626859368167, 'bagging_fraction': 0.8344235829359428, 'bagging_freq': 10, 'lambda_l1': 0.2764226204180166, 'lambda_l2': 0.7058209122154138, 'num_iterations': 1700}. Best is trial 57 with value: 0.630391506303915.\n",
      "[I 2024-03-28 18:39:47,833] Trial 60 finished with value: 0.5467096180395765 and parameters: {'learning_rate': 0.004194797314719072, 'max_depth': 23, 'scale_pos_weight': 32.42888170117199, 'num_leaves': 77, 'feature_fraction': 0.6493748889744629, 'bagging_fraction': 0.744682441545334, 'bagging_freq': 10, 'lambda_l1': 0.04895404715794826, 'lambda_l2': 0.57481119013686, 'num_iterations': 700}. Best is trial 57 with value: 0.630391506303915.\n",
      "[I 2024-03-28 18:42:22,361] Trial 61 finished with value: 0.607681755829904 and parameters: {'learning_rate': 0.019810939218863947, 'max_depth': 29, 'scale_pos_weight': 31.70605162203039, 'num_leaves': 83, 'feature_fraction': 0.5234863180879243, 'bagging_fraction': 0.5861161555408957, 'bagging_freq': 9, 'lambda_l1': 0.37019236571408487, 'lambda_l2': 0.7382750164044084, 'num_iterations': 1600}. Best is trial 57 with value: 0.630391506303915.\n",
      "[I 2024-03-28 18:44:41,529] Trial 62 finished with value: 0.6195869420386408 and parameters: {'learning_rate': 0.025431024519675986, 'max_depth': 25, 'scale_pos_weight': 31.409723696564974, 'num_leaves': 68, 'feature_fraction': 0.5170730739823465, 'bagging_fraction': 0.7805206469973281, 'bagging_freq': 7, 'lambda_l1': 0.42790948106517096, 'lambda_l2': 0.6540504238584539, 'num_iterations': 1500}. Best is trial 57 with value: 0.630391506303915.\n",
      "[I 2024-03-28 18:46:46,174] Trial 63 finished with value: 0.6119909502262444 and parameters: {'learning_rate': 0.016947508022569873, 'max_depth': 27, 'scale_pos_weight': 35.77712514422367, 'num_leaves': 62, 'feature_fraction': 0.5430706190279411, 'bagging_fraction': 0.6435158179175438, 'bagging_freq': 6, 'lambda_l1': 0.318450788688406, 'lambda_l2': 0.7784971279316495, 'num_iterations': 1400}. Best is trial 57 with value: 0.630391506303915.\n",
      "[I 2024-03-28 18:49:09,223] Trial 64 finished with value: 0.6120092378752887 and parameters: {'learning_rate': 0.010794929154536902, 'max_depth': 17, 'scale_pos_weight': 31.624481244391752, 'num_leaves': 74, 'feature_fraction': 0.5002262462728, 'bagging_fraction': 0.5585428159735845, 'bagging_freq': 8, 'lambda_l1': 0.47848153740734184, 'lambda_l2': 0.691691785449576, 'num_iterations': 1700}. Best is trial 57 with value: 0.630391506303915.\n",
      "[I 2024-03-28 18:52:46,646] Trial 65 finished with value: 0.6057971014492755 and parameters: {'learning_rate': 0.021519529265182028, 'max_depth': 21, 'scale_pos_weight': 34.678006927370376, 'num_leaves': 90, 'feature_fraction': 0.5709925260543107, 'bagging_fraction': 0.7050162522071243, 'bagging_freq': 5, 'lambda_l1': 0.2386932270161894, 'lambda_l2': 0.8515417644570574, 'num_iterations': 1800}. Best is trial 57 with value: 0.630391506303915.\n",
      "[I 2024-03-28 18:56:39,166] Trial 66 finished with value: 0.6030589949016752 and parameters: {'learning_rate': 0.032094218518362236, 'max_depth': 15, 'scale_pos_weight': 36.55219404373478, 'num_leaves': 96, 'feature_fraction': 0.8126346401241338, 'bagging_fraction': 0.6103786895257658, 'bagging_freq': 4, 'lambda_l1': 0.1151807172157456, 'lambda_l2': 0.8000995182198738, 'num_iterations': 1300}. Best is trial 57 with value: 0.630391506303915.\n",
      "[I 2024-03-28 18:59:16,408] Trial 67 finished with value: 0.5675675675675675 and parameters: {'learning_rate': 0.009068810998690339, 'max_depth': 29, 'scale_pos_weight': 37.922399240239976, 'num_leaves': 71, 'feature_fraction': 0.737597028185495, 'bagging_fraction': 0.6793341454509216, 'bagging_freq': 10, 'lambda_l1': 0.408719124201466, 'lambda_l2': 0.37467913512552914, 'num_iterations': 1100}. Best is trial 57 with value: 0.630391506303915.\n",
      "[I 2024-03-28 19:03:14,871] Trial 68 finished with value: 0.5684713375796179 and parameters: {'learning_rate': 0.04865207234845851, 'max_depth': 31, 'scale_pos_weight': 33.08618859620234, 'num_leaves': 82, 'feature_fraction': 0.6777135471332245, 'bagging_fraction': 0.5130749560128578, 'bagging_freq': 5, 'lambda_l1': 0.3217981451819736, 'lambda_l2': 0.6043425360476592, 'num_iterations': 2000}. Best is trial 57 with value: 0.630391506303915.\n",
      "[I 2024-03-28 19:06:29,879] Trial 69 finished with value: 0.591919191919192 and parameters: {'learning_rate': 0.0073510028099745, 'max_depth': 25, 'scale_pos_weight': 33.933590528321, 'num_leaves': 76, 'feature_fraction': 0.5962329418697434, 'bagging_fraction': 0.7627450572587064, 'bagging_freq': 9, 'lambda_l1': 0.16360565636898422, 'lambda_l2': 0.6519310343793973, 'num_iterations': 1600}. Best is trial 57 with value: 0.630391506303915.\n",
      "[I 2024-03-28 19:08:05,810] Trial 70 finished with value: 0.5993127147766323 and parameters: {'learning_rate': 0.037664358520000295, 'max_depth': 27, 'scale_pos_weight': 32.53747480493699, 'num_leaves': 90, 'feature_fraction': 0.5508085456682605, 'bagging_fraction': 0.7436264333726291, 'bagging_freq': 6, 'lambda_l1': 0.21288135662212526, 'lambda_l2': 0.7430857915433094, 'num_iterations': 800}. Best is trial 57 with value: 0.630391506303915.\n",
      "[I 2024-03-28 19:09:37,319] Trial 71 finished with value: 0.6262376237623762 and parameters: {'learning_rate': 0.026038051807645894, 'max_depth': 29, 'scale_pos_weight': 33.89258623083461, 'num_leaves': 97, 'feature_fraction': 0.5812855916430153, 'bagging_fraction': 0.7009648985384301, 'bagging_freq': 1, 'lambda_l1': 0.19189525608574037, 'lambda_l2': 0.6814130380281068, 'num_iterations': 700}. Best is trial 57 with value: 0.630391506303915.\n",
      "[I 2024-03-28 19:10:51,365] Trial 72 finished with value: 0.6211031175059952 and parameters: {'learning_rate': 0.027912181730614057, 'max_depth': 31, 'scale_pos_weight': 35.10229844479608, 'num_leaves': 86, 'feature_fraction': 0.5157848654534469, 'bagging_fraction': 0.697168361082279, 'bagging_freq': 1, 'lambda_l1': 0.29893992420833604, 'lambda_l2': 0.6742025680786633, 'num_iterations': 700}. Best is trial 57 with value: 0.630391506303915.\n",
      "[I 2024-03-28 19:12:07,024] Trial 73 finished with value: 0.5885500267522739 and parameters: {'learning_rate': 0.016854604791203202, 'max_depth': 29, 'scale_pos_weight': 33.66918070256147, 'num_leaves': 98, 'feature_fraction': 0.562197641365042, 'bagging_fraction': 0.6626838899802444, 'bagging_freq': 7, 'lambda_l1': 0.2574296431613424, 'lambda_l2': 0.7148186923194711, 'num_iterations': 600}. Best is trial 57 with value: 0.630391506303915.\n",
      "[I 2024-03-28 19:13:47,939] Trial 74 finished with value: 0.5822981366459627 and parameters: {'learning_rate': 0.06665479506458134, 'max_depth': 27, 'scale_pos_weight': 33.189723361257585, 'num_leaves': 95, 'feature_fraction': 0.5339343413810345, 'bagging_fraction': 0.6075070740962294, 'bagging_freq': 1, 'lambda_l1': 0.3641257675627747, 'lambda_l2': 0.29045166611825973, 'num_iterations': 900}. Best is trial 57 with value: 0.630391506303915.\n",
      "[I 2024-03-28 19:14:06,181] Trial 75 finished with value: 0.4199077125906394 and parameters: {'learning_rate': 0.012124531165034579, 'max_depth': 1, 'scale_pos_weight': 34.420188487202985, 'num_leaves': 92, 'feature_fraction': 0.5805783716645776, 'bagging_fraction': 0.7145116341268162, 'bagging_freq': 2, 'lambda_l1': 0.22729712373922936, 'lambda_l2': 0.8880673325694398, 'num_iterations': 1700}. Best is trial 57 with value: 0.630391506303915.\n",
      "[I 2024-03-28 19:14:51,179] Trial 76 finished with value: 0.5786653677545056 and parameters: {'learning_rate': 0.024107401703721904, 'max_depth': 31, 'scale_pos_weight': 36.15732541991998, 'num_leaves': 84, 'feature_fraction': 0.5235145161645882, 'bagging_fraction': 0.6747136002792187, 'bagging_freq': 3, 'lambda_l1': 0.1815169555523476, 'lambda_l2': 0.5669676889580267, 'num_iterations': 400}. Best is trial 57 with value: 0.630391506303915.\n",
      "[I 2024-03-28 19:15:58,257] Trial 77 finished with value: 0.5689530685920577 and parameters: {'learning_rate': 0.08903085700617283, 'max_depth': 29, 'scale_pos_weight': 35.43848504913498, 'num_leaves': 79, 'feature_fraction': 0.6351143826027009, 'bagging_fraction': 0.7335215814746009, 'bagging_freq': 7, 'lambda_l1': 0.12094879982849416, 'lambda_l2': 0.6325362696628842, 'num_iterations': 500}. Best is trial 57 with value: 0.630391506303915.\n",
      "[I 2024-03-28 19:17:38,371] Trial 78 finished with value: 0.6005449591280654 and parameters: {'learning_rate': 0.01482604752610185, 'max_depth': 23, 'scale_pos_weight': 30.3178323888511, 'num_leaves': 73, 'feature_fraction': 0.5397313683629162, 'bagging_fraction': 0.6402414520980193, 'bagging_freq': 6, 'lambda_l1': 0.3334877951744649, 'lambda_l2': 0.7671719894834107, 'num_iterations': 1000}. Best is trial 57 with value: 0.630391506303915.\n",
      "[I 2024-03-28 19:18:56,673] Trial 79 finished with value: 0.5827010622154779 and parameters: {'learning_rate': 0.019392047583259128, 'max_depth': 13, 'scale_pos_weight': 33.38148754903715, 'num_leaves': 67, 'feature_fraction': 0.613961132918919, 'bagging_fraction': 0.6527489301577987, 'bagging_freq': 3, 'lambda_l1': 0.49671726549629164, 'lambda_l2': 0.5098207159088918, 'num_iterations': 700}. Best is trial 57 with value: 0.630391506303915.\n",
      "[I 2024-03-28 19:20:23,224] Trial 80 finished with value: 0.0 and parameters: {'learning_rate': 0.0008136808647720634, 'max_depth': 27, 'scale_pos_weight': 37.05922393243272, 'num_leaves': 89, 'feature_fraction': 0.5575162999256928, 'bagging_fraction': 0.7751096954306174, 'bagging_freq': 2, 'lambda_l1': 0.03784871677315779, 'lambda_l2': 0.6835450292208951, 'num_iterations': 800}. Best is trial 57 with value: 0.630391506303915.\n",
      "[I 2024-03-28 19:22:22,192] Trial 81 finished with value: 0.6046511627906977 and parameters: {'learning_rate': 0.025417307086699988, 'max_depth': 29, 'scale_pos_weight': 33.6402084117125, 'num_leaves': 98, 'feature_fraction': 0.5898502361171925, 'bagging_fraction': 0.6954226606130508, 'bagging_freq': 1, 'lambda_l1': 0.26809505626841024, 'lambda_l2': 0.6074143163048835, 'num_iterations': 900}. Best is trial 57 with value: 0.630391506303915.\n",
      "[I 2024-03-28 19:23:45,539] Trial 82 finished with value: 0.6050179211469533 and parameters: {'learning_rate': 0.040316528310124215, 'max_depth': 31, 'scale_pos_weight': 33.96536162176104, 'num_leaves': 97, 'feature_fraction': 0.5139177997155899, 'bagging_fraction': 0.5581154455553258, 'bagging_freq': 1, 'lambda_l1': 0.21362134734583682, 'lambda_l2': 0.8004061110923979, 'num_iterations': 800}. Best is trial 57 with value: 0.630391506303915.\n",
      "[I 2024-03-28 19:26:59,431] Trial 83 finished with value: 0.6094420600858369 and parameters: {'learning_rate': 0.03150872641760312, 'max_depth': 25, 'scale_pos_weight': 34.62677617864012, 'num_leaves': 100, 'feature_fraction': 0.9020356090899222, 'bagging_fraction': 0.7124815404378047, 'bagging_freq': 1, 'lambda_l1': 0.07255629721375861, 'lambda_l2': 0.7263321574485876, 'num_iterations': 900}. Best is trial 57 with value: 0.630391506303915.\n",
      "[I 2024-03-28 19:28:16,515] Trial 84 finished with value: 0.5695488721804511 and parameters: {'learning_rate': 0.01722075647069515, 'max_depth': 29, 'scale_pos_weight': 34.876845757492056, 'num_leaves': 59, 'feature_fraction': 0.5794539442409645, 'bagging_fraction': 0.8789356140147168, 'bagging_freq': 2, 'lambda_l1': 0.3651305352922059, 'lambda_l2': 0.8343673019388147, 'num_iterations': 700}. Best is trial 57 with value: 0.630391506303915.\n",
      "[I 2024-03-28 19:30:49,528] Trial 85 finished with value: 0.0 and parameters: {'learning_rate': 0.00017190047078826268, 'max_depth': 21, 'scale_pos_weight': 35.67022475055863, 'num_leaves': 93, 'feature_fraction': 0.5340214602033422, 'bagging_fraction': 0.6873749195438277, 'bagging_freq': 1, 'lambda_l1': 0.1940162615054007, 'lambda_l2': 0.671200517033453, 'num_iterations': 1600}. Best is trial 57 with value: 0.630391506303915.\n",
      "[I 2024-03-28 19:31:38,539] Trial 86 finished with value: 0.5473032714412025 and parameters: {'learning_rate': 0.010045918213608371, 'max_depth': 31, 'scale_pos_weight': 32.622540448393366, 'num_leaves': 77, 'feature_fraction': 0.5014424042244477, 'bagging_fraction': 0.6743418696346946, 'bagging_freq': 4, 'lambda_l1': 0.4024276673633175, 'lambda_l2': 0.6960514155191815, 'num_iterations': 500}. Best is trial 57 with value: 0.630391506303915.\n",
      "[I 2024-03-28 19:34:30,021] Trial 87 finished with value: 0.6111493461803165 and parameters: {'learning_rate': 0.023862549674209213, 'max_depth': 25, 'scale_pos_weight': 36.38207719813165, 'num_leaves': 81, 'feature_fraction': 0.5698188562815025, 'bagging_fraction': 0.7236038413281528, 'bagging_freq': 6, 'lambda_l1': 0.9082032737216437, 'lambda_l2': 0.7572143263784162, 'num_iterations': 1500}. Best is trial 57 with value: 0.630391506303915.\n",
      "[I 2024-03-28 19:35:53,405] Trial 88 finished with value: 0.5889487870619946 and parameters: {'learning_rate': 0.05424031118477225, 'max_depth': 19, 'scale_pos_weight': 35.258427833301944, 'num_leaves': 84, 'feature_fraction': 0.6957958105246549, 'bagging_fraction': 0.584805948209937, 'bagging_freq': 5, 'lambda_l1': 0.2920210675087072, 'lambda_l2': 0.6500902719353534, 'num_iterations': 600}. Best is trial 57 with value: 0.630391506303915.\n",
      "[I 2024-03-28 19:38:58,409] Trial 89 finished with value: 0.6168009205983889 and parameters: {'learning_rate': 0.012448239530879335, 'max_depth': 27, 'scale_pos_weight': 34.33119505621868, 'num_leaves': 64, 'feature_fraction': 0.5543618061424977, 'bagging_fraction': 0.755821795652672, 'bagging_freq': 2, 'lambda_l1': 0.43988941931158343, 'lambda_l2': 0.6096468332987784, 'num_iterations': 1900}. Best is trial 57 with value: 0.630391506303915.\n",
      "[I 2024-03-28 19:40:13,872] Trial 90 finished with value: 0.5102912621359224 and parameters: {'learning_rate': 0.005925174572089633, 'max_depth': 15, 'scale_pos_weight': 36.008875580493694, 'num_leaves': 42, 'feature_fraction': 0.5188297734156708, 'bagging_fraction': 0.6316878055569163, 'bagging_freq': 7, 'lambda_l1': 0.3088926380952904, 'lambda_l2': 0.5628186709174184, 'num_iterations': 1100}. Best is trial 57 with value: 0.630391506303915.\n",
      "[I 2024-03-28 19:41:29,368] Trial 91 finished with value: 0.6069221260815822 and parameters: {'learning_rate': 0.031333308029537765, 'max_depth': 31, 'scale_pos_weight': 35.24016530224867, 'num_leaves': 87, 'feature_fraction': 0.5124109069595117, 'bagging_fraction': 0.6982722434174166, 'bagging_freq': 1, 'lambda_l1': 0.29764195202317595, 'lambda_l2': 0.6769300854589779, 'num_iterations': 700}. Best is trial 57 with value: 0.630391506303915.\n",
      "[I 2024-03-28 19:42:59,515] Trial 92 finished with value: 0.621654501216545 and parameters: {'learning_rate': 0.027298461228537397, 'max_depth': 29, 'scale_pos_weight': 34.95256652583313, 'num_leaves': 85, 'feature_fraction': 0.5443177506967793, 'bagging_fraction': 0.7076872887422563, 'bagging_freq': 1, 'lambda_l1': 0.3385755633520102, 'lambda_l2': 0.7310086618878261, 'num_iterations': 800}. Best is trial 57 with value: 0.630391506303915.\n",
      "[I 2024-03-28 19:46:31,428] Trial 93 finished with value: 0.6150121065375304 and parameters: {'learning_rate': 0.02083941577853176, 'max_depth': 29, 'scale_pos_weight': 33.853641060416145, 'num_leaves': 80, 'feature_fraction': 0.9744281636630561, 'bagging_fraction': 0.7343175092378569, 'bagging_freq': 2, 'lambda_l1': 0.3467440014062425, 'lambda_l2': 0.7274913961997659, 'num_iterations': 1000}. Best is trial 57 with value: 0.630391506303915.\n",
      "[I 2024-03-28 19:48:00,446] Trial 94 finished with value: 0.6205023761031908 and parameters: {'learning_rate': 0.04371313581424578, 'max_depth': 27, 'scale_pos_weight': 34.17471285174286, 'num_leaves': 78, 'feature_fraction': 0.5444356253509366, 'bagging_fraction': 0.8005754106284185, 'bagging_freq': 1, 'lambda_l1': 0.38985890560676023, 'lambda_l2': 0.637073534678139, 'num_iterations': 800}. Best is trial 57 with value: 0.630391506303915.\n",
      "[I 2024-03-28 19:50:09,297] Trial 95 finished with value: 0.6007326007326007 and parameters: {'learning_rate': 0.03654060274960884, 'max_depth': 29, 'scale_pos_weight': 31.078136852997574, 'num_leaves': 75, 'feature_fraction': 0.6014553878304337, 'bagging_fraction': 0.5708116442492511, 'bagging_freq': 1, 'lambda_l1': 0.4141217124890587, 'lambda_l2': 0.7963063653498942, 'num_iterations': 1200}. Best is trial 57 with value: 0.630391506303915.\n",
      "[I 2024-03-28 19:51:56,804] Trial 96 finished with value: 0.6025712688652879 and parameters: {'learning_rate': 0.015449425089628887, 'max_depth': 29, 'scale_pos_weight': 34.87539493924005, 'num_leaves': 96, 'feature_fraction': 0.5358885101521841, 'bagging_fraction': 0.711412204602349, 'bagging_freq': 8, 'lambda_l1': 0.2556532706729404, 'lambda_l2': 0.851967475744199, 'num_iterations': 900}. Best is trial 57 with value: 0.630391506303915.\n",
      "[I 2024-03-28 19:52:10,956] Trial 97 finished with value: 0.5244487056567594 and parameters: {'learning_rate': 0.027618082580192237, 'max_depth': 17, 'scale_pos_weight': 35.53646752253346, 'num_leaves': 92, 'feature_fraction': 0.5290605917256322, 'bagging_fraction': 0.5324125652919407, 'bagging_freq': 6, 'lambda_l1': 0.33107682766602853, 'lambda_l2': 0.7579406967024789, 'num_iterations': 100}. Best is trial 57 with value: 0.630391506303915.\n",
      "[I 2024-03-28 19:53:28,737] Trial 98 finished with value: 0.5737164390014131 and parameters: {'learning_rate': 0.02248269580132986, 'max_depth': 31, 'scale_pos_weight': 36.881575529166135, 'num_leaves': 22, 'feature_fraction': 0.5657962216513658, 'bagging_fraction': 0.668546801050285, 'bagging_freq': 8, 'lambda_l1': 0.13369817060405495, 'lambda_l2': 0.7077079410317308, 'num_iterations': 1500}. Best is trial 57 with value: 0.630391506303915.\n",
      "[I 2024-03-28 19:55:02,118] Trial 99 finished with value: 0.6023454157782517 and parameters: {'learning_rate': 0.018566963296013407, 'max_depth': 27, 'scale_pos_weight': 31.86222565976577, 'num_leaves': 70, 'feature_fraction': 0.6265838264866431, 'bagging_fraction': 0.6224168823202045, 'bagging_freq': 3, 'lambda_l1': 0.45278426853866127, 'lambda_l2': 0.7826069236910542, 'num_iterations': 800}. Best is trial 57 with value: 0.630391506303915.\n",
      "[I 2024-03-28 19:57:56,031] Trial 100 finished with value: 0.6030814380044021 and parameters: {'learning_rate': 0.027939765645273777, 'max_depth': 25, 'scale_pos_weight': 31.36926563169138, 'num_leaves': 82, 'feature_fraction': 0.5103228158633449, 'bagging_fraction': 0.652028725380847, 'bagging_freq': 10, 'lambda_l1': 0.09777799991362206, 'lambda_l2': 0.8197670669075862, 'num_iterations': 1800}. Best is trial 57 with value: 0.630391506303915.\n",
      "[I 2024-03-28 19:59:12,479] Trial 101 finished with value: 0.5863613738178197 and parameters: {'learning_rate': 0.01369820147548183, 'max_depth': 31, 'scale_pos_weight': 35.08833796953856, 'num_leaves': 86, 'feature_fraction': 0.5213602022581364, 'bagging_fraction': 0.687608970350837, 'bagging_freq': 1, 'lambda_l1': 0.28399397960299594, 'lambda_l2': 0.5885882869936151, 'num_iterations': 700}. Best is trial 57 with value: 0.630391506303915.\n",
      "[I 2024-03-28 20:00:21,044] Trial 102 finished with value: 0.6041275797373359 and parameters: {'learning_rate': 0.035069744555435954, 'max_depth': 31, 'scale_pos_weight': 34.638036926484155, 'num_leaves': 98, 'feature_fraction': 0.5009306867128829, 'bagging_fraction': 0.7228215877104793, 'bagging_freq': 1, 'lambda_l1': 0.3513982938486462, 'lambda_l2': 0.6598845798832144, 'num_iterations': 600}. Best is trial 57 with value: 0.630391506303915.\n",
      "[I 2024-03-28 20:01:51,928] Trial 103 finished with value: 0.6059479553903346 and parameters: {'learning_rate': 0.02831350121810621, 'max_depth': 29, 'scale_pos_weight': 35.06211183316776, 'num_leaves': 85, 'feature_fraction': 0.5511946586443174, 'bagging_fraction': 0.6955702461219831, 'bagging_freq': 2, 'lambda_l1': 0.37734222525732886, 'lambda_l2': 0.6874084891473159, 'num_iterations': 800}. Best is trial 57 with value: 0.630391506303915.\n",
      "[I 2024-03-28 20:04:46,547] Trial 104 finished with value: 0.5778132482043097 and parameters: {'learning_rate': 0.05930312330528688, 'max_depth': 31, 'scale_pos_weight': 34.57449900463795, 'num_leaves': 88, 'feature_fraction': 0.5172296195270452, 'bagging_fraction': 0.7376477819271714, 'bagging_freq': 1, 'lambda_l1': 0.3024904309154604, 'lambda_l2': 0.7460942168832752, 'num_iterations': 1700}. Best is trial 57 with value: 0.630391506303915.\n",
      "[I 2024-03-28 20:06:07,101] Trial 105 finished with value: 0.6001147446930579 and parameters: {'learning_rate': 0.022168809382942606, 'max_depth': 27, 'scale_pos_weight': 35.90836348434482, 'num_leaves': 94, 'feature_fraction': 0.5278040949083529, 'bagging_fraction': 0.7061667868210335, 'bagging_freq': 5, 'lambda_l1': 0.17092397336784626, 'lambda_l2': 0.7142160513711615, 'num_iterations': 700}. Best is trial 57 with value: 0.630391506303915.\n",
      "[I 2024-03-28 20:09:01,264] Trial 106 finished with value: 0.5942142298670836 and parameters: {'learning_rate': 0.04875288514845587, 'max_depth': 31, 'scale_pos_weight': 37.557533076905, 'num_leaves': 80, 'feature_fraction': 0.5405351763479902, 'bagging_fraction': 0.7490805334163411, 'bagging_freq': 2, 'lambda_l1': 0.1994129861484962, 'lambda_l2': 0.6234169874457937, 'num_iterations': 1600}. Best is trial 57 with value: 0.630391506303915.\n",
      "[I 2024-03-28 20:11:36,489] Trial 107 finished with value: 0.6060606060606061 and parameters: {'learning_rate': 0.025984917821712843, 'max_depth': 29, 'scale_pos_weight': 36.554868029333285, 'num_leaves': 83, 'feature_fraction': 0.5855341645678769, 'bagging_fraction': 0.6003366974302301, 'bagging_freq': 1, 'lambda_l1': 0.23370880848615297, 'lambda_l2': 0.7344415116347685, 'num_iterations': 1400}. Best is trial 57 with value: 0.630391506303915.\n",
      "[I 2024-03-28 20:12:39,559] Trial 108 finished with value: 0.5825825825825827 and parameters: {'learning_rate': 0.01865584320825463, 'max_depth': 29, 'scale_pos_weight': 33.65322185147738, 'num_leaves': 76, 'feature_fraction': 0.5073646017683122, 'bagging_fraction': 0.763244054351831, 'bagging_freq': 7, 'lambda_l1': 0.43069684868863056, 'lambda_l2': 0.46856230493930084, 'num_iterations': 600}. Best is trial 57 with value: 0.630391506303915.\n",
      "[I 2024-03-28 20:15:23,243] Trial 109 finished with value: 0.6163522012578617 and parameters: {'learning_rate': 0.015433638777406791, 'max_depth': 31, 'scale_pos_weight': 35.59065174522377, 'num_leaves': 73, 'feature_fraction': 0.5597897099808633, 'bagging_fraction': 0.5004094584623444, 'bagging_freq': 1, 'lambda_l1': 0.2617417789569241, 'lambda_l2': 0.5352425566817145, 'num_iterations': 1800}. Best is trial 57 with value: 0.630391506303915.\n",
      "[I 2024-03-28 20:18:28,868] Trial 110 finished with value: 0.5494685200327065 and parameters: {'learning_rate': 0.04139199679504525, 'max_depth': 15, 'scale_pos_weight': 33.27175209604008, 'num_leaves': 99, 'feature_fraction': 0.5461428709762289, 'bagging_fraction': 0.5474696143880353, 'bagging_freq': 2, 'lambda_l1': 0.32481005053206347, 'lambda_l2': 0.59153727366022, 'num_iterations': 1700}. Best is trial 57 with value: 0.630391506303915.\n",
      "[I 2024-03-28 20:20:19,616] Trial 111 finished with value: 0.6186953597848016 and parameters: {'learning_rate': 0.03289288196935994, 'max_depth': 27, 'scale_pos_weight': 34.07048805491811, 'num_leaves': 78, 'feature_fraction': 0.5434131777103927, 'bagging_fraction': 0.8055253795844919, 'bagging_freq': 1, 'lambda_l1': 0.392207096611712, 'lambda_l2': 0.6431198954097207, 'num_iterations': 1000}. Best is trial 57 with value: 0.630391506303915.\n",
      "[I 2024-03-28 20:21:56,355] Trial 112 finished with value: 0.5986301369863014 and parameters: {'learning_rate': 0.046421733538147776, 'max_depth': 27, 'scale_pos_weight': 34.24687624842475, 'num_leaves': 78, 'feature_fraction': 0.5751158416291734, 'bagging_fraction': 0.8306573343489321, 'bagging_freq': 1, 'lambda_l1': 0.3813387059557182, 'lambda_l2': 0.6662514084189, 'num_iterations': 800}. Best is trial 57 with value: 0.630391506303915.\n",
      "[I 2024-03-28 20:23:25,421] Trial 113 finished with value: 0.6078984485190408 and parameters: {'learning_rate': 0.04232408507293609, 'max_depth': 29, 'scale_pos_weight': 34.22284109845035, 'num_leaves': 81, 'feature_fraction': 0.5248885522675371, 'bagging_fraction': 0.614790576899992, 'bagging_freq': 1, 'lambda_l1': 0.526045229264468, 'lambda_l2': 0.6261278306849606, 'num_iterations': 900}. Best is trial 57 with value: 0.630391506303915.\n",
      "[I 2024-03-28 20:24:47,484] Trial 114 finished with value: 0.6152046783625732 and parameters: {'learning_rate': 0.022726615640578717, 'max_depth': 25, 'scale_pos_weight': 33.48985067787372, 'num_leaves': 85, 'feature_fraction': 0.5100551499506221, 'bagging_fraction': 0.6795171864388447, 'bagging_freq': 1, 'lambda_l1': 0.0008388117669708706, 'lambda_l2': 0.6947926721892206, 'num_iterations': 800}. Best is trial 57 with value: 0.630391506303915.\n",
      "[I 2024-03-28 20:26:00,679] Trial 115 finished with value: 0.6131736526946108 and parameters: {'learning_rate': 0.02958593892204923, 'max_depth': 23, 'scale_pos_weight': 30.845853075795212, 'num_leaves': 75, 'feature_fraction': 0.5336010141780727, 'bagging_fraction': 0.7222524027025559, 'bagging_freq': 2, 'lambda_l1': 0.4740793015652109, 'lambda_l2': 0.6768060058185045, 'num_iterations': 700}. Best is trial 57 with value: 0.630391506303915.\n",
      "[I 2024-03-28 20:27:42,519] Trial 116 finished with value: 0.611764705882353 and parameters: {'learning_rate': 0.036612354198233665, 'max_depth': 27, 'scale_pos_weight': 34.85829006441979, 'num_leaves': 90, 'feature_fraction': 0.5527604122405867, 'bagging_fraction': 0.8545131517037184, 'bagging_freq': 6, 'lambda_l1': 0.3632575281016042, 'lambda_l2': 0.6384820736295048, 'num_iterations': 800}. Best is trial 57 with value: 0.630391506303915.\n",
      "[I 2024-03-28 20:29:18,221] Trial 117 finished with value: 0.56797583081571 and parameters: {'learning_rate': 0.07388156777340128, 'max_depth': 29, 'scale_pos_weight': 34.42636907268996, 'num_leaves': 79, 'feature_fraction': 0.5180468535298017, 'bagging_fraction': 0.7796172533508864, 'bagging_freq': 5, 'lambda_l1': 0.4081166382481911, 'lambda_l2': 0.7672677283529333, 'num_iterations': 900}. Best is trial 57 with value: 0.630391506303915.\n",
      "[I 2024-03-28 20:30:41,776] Trial 118 finished with value: 0.5962732919254657 and parameters: {'learning_rate': 0.019939937391859883, 'max_depth': 19, 'scale_pos_weight': 34.037024375088336, 'num_leaves': 71, 'feature_fraction': 0.5672880702741228, 'bagging_fraction': 0.8901168071207697, 'bagging_freq': 2, 'lambda_l1': 0.341085284711119, 'lambda_l2': 0.7268416916025672, 'num_iterations': 700}. Best is trial 57 with value: 0.630391506303915.\n",
      "[I 2024-03-28 20:32:53,748] Trial 119 finished with value: 0.6165075800112296 and parameters: {'learning_rate': 0.01288556138160812, 'max_depth': 13, 'scale_pos_weight': 36.31289160075865, 'num_leaves': 83, 'feature_fraction': 0.5006820503709083, 'bagging_fraction': 0.7919040699934154, 'bagging_freq': 1, 'lambda_l1': 0.3106103106342404, 'lambda_l2': 0.560675416160638, 'num_iterations': 1300}. Best is trial 57 with value: 0.630391506303915.\n",
      "[I 2024-03-28 20:34:29,221] Trial 120 finished with value: 0.6124223602484471 and parameters: {'learning_rate': 0.025617586498014114, 'max_depth': 17, 'scale_pos_weight': 35.277379815644004, 'num_leaves': 96, 'feature_fraction': 0.542154360906535, 'bagging_fraction': 0.689597886084072, 'bagging_freq': 7, 'lambda_l1': 0.27576731197772814, 'lambda_l2': 0.5256115590377641, 'num_iterations': 800}. Best is trial 57 with value: 0.630391506303915.\n",
      "[I 2024-03-28 20:36:23,154] Trial 121 finished with value: 0.6104129263913824 and parameters: {'learning_rate': 0.01779679565641967, 'max_depth': 25, 'scale_pos_weight': 36.76492705332917, 'num_leaves': 98, 'feature_fraction': 0.5245630356339794, 'bagging_fraction': 0.6698857457613863, 'bagging_freq': 3, 'lambda_l1': 0.2231956796516083, 'lambda_l2': 0.6627369225188329, 'num_iterations': 1000}. Best is trial 57 with value: 0.630391506303915.\n",
      "[I 2024-03-28 20:38:17,213] Trial 122 finished with value: 0.6138743455497383 and parameters: {'learning_rate': 0.023911786280786343, 'max_depth': 25, 'scale_pos_weight': 36.24917791480758, 'num_leaves': 95, 'feature_fraction': 0.5335859231092357, 'bagging_fraction': 0.7021637294523169, 'bagging_freq': 4, 'lambda_l1': 0.24185312939546413, 'lambda_l2': 0.7022916887892331, 'num_iterations': 1000}. Best is trial 57 with value: 0.630391506303915.\n",
      "[I 2024-03-28 20:39:57,980] Trial 123 finished with value: 0.6046195652173914 and parameters: {'learning_rate': 0.029138219011019022, 'max_depth': 27, 'scale_pos_weight': 32.245136618429314, 'num_leaves': 99, 'feature_fraction': 0.5178170317665367, 'bagging_fraction': 0.6552384590618826, 'bagging_freq': 3, 'lambda_l1': 0.35560619757160367, 'lambda_l2': 0.5989671946930972, 'num_iterations': 900}. Best is trial 57 with value: 0.630391506303915.\n",
      "[I 2024-03-28 20:42:54,484] Trial 124 finished with value: 0.5861538461538461 and parameters: {'learning_rate': 0.033303054825840964, 'max_depth': 29, 'scale_pos_weight': 35.92836665738621, 'num_leaves': 100, 'feature_fraction': 0.5092513500720129, 'bagging_fraction': 0.6436011872749168, 'bagging_freq': 9, 'lambda_l1': 0.39513620967477225, 'lambda_l2': 0.6396773615883098, 'num_iterations': 1600}. Best is trial 57 with value: 0.630391506303915.\n",
      "[I 2024-03-28 20:44:42,953] Trial 125 finished with value: 0.6133651551312649 and parameters: {'learning_rate': 0.020398658428227034, 'max_depth': 27, 'scale_pos_weight': 34.532173798966866, 'num_leaves': 77, 'feature_fraction': 0.5480155246903964, 'bagging_fraction': 0.5881908688929501, 'bagging_freq': 3, 'lambda_l1': 0.14757061247511288, 'lambda_l2': 0.683833220270497, 'num_iterations': 1100}. Best is trial 57 with value: 0.630391506303915.\n",
      "[I 2024-03-28 20:49:34,197] Trial 126 finished with value: 0.6200923787528869 and parameters: {'learning_rate': 0.009862014478157398, 'max_depth': 31, 'scale_pos_weight': 33.84858377037531, 'num_leaves': 81, 'feature_fraction': 0.7652041025935165, 'bagging_fraction': 0.7187849342656785, 'bagging_freq': 6, 'lambda_l1': 0.29112372106864437, 'lambda_l2': 0.7412555682019272, 'num_iterations': 1800}. Best is trial 57 with value: 0.630391506303915.\n",
      "[I 2024-03-28 20:52:29,476] Trial 127 finished with value: 0.5329391891891893 and parameters: {'learning_rate': 0.0022523593084381485, 'max_depth': 25, 'scale_pos_weight': 37.10948659381949, 'num_leaves': 74, 'feature_fraction': 0.5592005496873581, 'bagging_fraction': 0.6973113040817764, 'bagging_freq': 4, 'lambda_l1': 0.32434696333147817, 'lambda_l2': 0.7148770253804801, 'num_iterations': 1700}. Best is trial 57 with value: 0.630391506303915.\n",
      "[I 2024-03-28 20:54:22,882] Trial 128 finished with value: 0.6119486320491346 and parameters: {'learning_rate': 0.014425009329340035, 'max_depth': 29, 'scale_pos_weight': 34.77561549189155, 'num_leaves': 92, 'feature_fraction': 0.5327562395520986, 'bagging_fraction': 0.6867936958056826, 'bagging_freq': 1, 'lambda_l1': 0.208644934803633, 'lambda_l2': 0.6149404979725872, 'num_iterations': 1000}. Best is trial 57 with value: 0.630391506303915.\n",
      "[I 2024-03-28 20:55:31,648] Trial 129 finished with value: 0.6140917905623787 and parameters: {'learning_rate': 0.03709351100725197, 'max_depth': 23, 'scale_pos_weight': 32.953463588207065, 'num_leaves': 100, 'feature_fraction': 0.5001206851491181, 'bagging_fraction': 0.7415737288278369, 'bagging_freq': 2, 'lambda_l1': 0.2693941572128383, 'lambda_l2': 0.9858431070691142, 'num_iterations': 600}. Best is trial 57 with value: 0.630391506303915.\n",
      "[I 2024-03-28 20:57:48,945] Trial 130 finished with value: 0.610188261351052 and parameters: {'learning_rate': 0.01596967590396375, 'max_depth': 31, 'scale_pos_weight': 30.0263686185927, 'num_leaves': 52, 'feature_fraction': 0.588851014459937, 'bagging_fraction': 0.7064708330156011, 'bagging_freq': 6, 'lambda_l1': 0.1774328647079803, 'lambda_l2': 0.9145019175903952, 'num_iterations': 1500}. Best is trial 57 with value: 0.630391506303915.\n",
      "[I 2024-03-28 21:02:44,664] Trial 131 finished with value: 0.6209302325581395 and parameters: {'learning_rate': 0.010138675743420991, 'max_depth': 31, 'scale_pos_weight': 33.66291591407108, 'num_leaves': 80, 'feature_fraction': 0.7760694609070534, 'bagging_fraction': 0.7257969008263845, 'bagging_freq': 6, 'lambda_l1': 0.2917694050849863, 'lambda_l2': 0.7525079846273333, 'num_iterations': 1800}. Best is trial 57 with value: 0.630391506303915.\n",
      "[I 2024-03-28 21:07:27,353] Trial 132 finished with value: 0.6085035891772501 and parameters: {'learning_rate': 0.008680503034088015, 'max_depth': 29, 'scale_pos_weight': 33.691496409518265, 'num_leaves': 79, 'feature_fraction': 0.7822398189222926, 'bagging_fraction': 0.7266611652620725, 'bagging_freq': 6, 'lambda_l1': 0.246718157647671, 'lambda_l2': 0.7877616425797722, 'num_iterations': 1700}. Best is trial 57 with value: 0.630391506303915.\n",
      "[I 2024-03-28 21:12:15,853] Trial 133 finished with value: 0.6213821618428825 and parameters: {'learning_rate': 0.010927141692703334, 'max_depth': 31, 'scale_pos_weight': 34.32074229637698, 'num_leaves': 76, 'feature_fraction': 0.7553168630067697, 'bagging_fraction': 0.7164563248673385, 'bagging_freq': 7, 'lambda_l1': 0.3685673529191441, 'lambda_l2': 0.7540550173153021, 'num_iterations': 1900}. Best is trial 57 with value: 0.630391506303915.\n",
      "[I 2024-03-28 21:16:15,602] Trial 134 finished with value: 0.6142278773857721 and parameters: {'learning_rate': 0.01141257198727142, 'max_depth': 31, 'scale_pos_weight': 33.517795695104645, 'num_leaves': 76, 'feature_fraction': 0.7383413068041857, 'bagging_fraction': 0.7104035525088369, 'bagging_freq': 7, 'lambda_l1': 0.3758003461591429, 'lambda_l2': 0.8176825541073819, 'num_iterations': 1600}. Best is trial 57 with value: 0.630391506303915.\n",
      "[I 2024-03-28 21:20:58,496] Trial 135 finished with value: 0.6030085022890779 and parameters: {'learning_rate': 0.01714390566172313, 'max_depth': 31, 'scale_pos_weight': 34.15556007444581, 'num_leaves': 72, 'feature_fraction': 0.7525925424939724, 'bagging_fraction': 0.7661282216719717, 'bagging_freq': 8, 'lambda_l1': 0.4247509534397918, 'lambda_l2': 0.7748665414988641, 'num_iterations': 1900}. Best is trial 57 with value: 0.630391506303915.\n",
      "[I 2024-03-28 21:26:38,606] Trial 136 finished with value: 0.623179227359088 and parameters: {'learning_rate': 0.012702784500755208, 'max_depth': 31, 'scale_pos_weight': 34.355081132662846, 'num_leaves': 82, 'feature_fraction': 0.7883357551182237, 'bagging_fraction': 0.7549509624548635, 'bagging_freq': 6, 'lambda_l1': 0.3377613041510486, 'lambda_l2': 0.7413542252395985, 'num_iterations': 2000}. Best is trial 57 with value: 0.630391506303915.\n",
      "[I 2024-03-28 21:27:29,339] Trial 137 finished with value: 0.45402103834407875 and parameters: {'learning_rate': 0.007981650582571963, 'max_depth': 3, 'scale_pos_weight': 35.01061808547343, 'num_leaves': 86, 'feature_fraction': 0.7938560566670868, 'bagging_fraction': 0.7496129895950333, 'bagging_freq': 6, 'lambda_l1': 0.343599158337238, 'lambda_l2': 0.7529228582146038, 'num_iterations': 1900}. Best is trial 57 with value: 0.630391506303915.\n",
      "[I 2024-03-28 21:32:44,901] Trial 138 finished with value: 0.6156648451730419 and parameters: {'learning_rate': 0.011253465663496942, 'max_depth': 31, 'scale_pos_weight': 33.835410863588486, 'num_leaves': 83, 'feature_fraction': 0.8154010533026381, 'bagging_fraction': 0.7260549184761359, 'bagging_freq': 6, 'lambda_l1': 0.3061701022847998, 'lambda_l2': 0.72859077091123, 'num_iterations': 1800}. Best is trial 57 with value: 0.630391506303915.\n",
      "[I 2024-03-28 21:38:13,753] Trial 139 finished with value: 0.6224821312540612 and parameters: {'learning_rate': 0.013197813049409481, 'max_depth': 31, 'scale_pos_weight': 34.487752911061555, 'num_leaves': 82, 'feature_fraction': 0.7735492503368678, 'bagging_fraction': 0.7525912652209686, 'bagging_freq': 7, 'lambda_l1': 0.36285806865802345, 'lambda_l2': 0.7579702968259919, 'num_iterations': 2000}. Best is trial 57 with value: 0.630391506303915.\n",
      "[I 2024-03-28 21:43:24,924] Trial 140 finished with value: 0.6333113890717578 and parameters: {'learning_rate': 0.01380605288076058, 'max_depth': 31, 'scale_pos_weight': 34.683464805409834, 'num_leaves': 84, 'feature_fraction': 0.7271452869823677, 'bagging_fraction': 0.755295392779871, 'bagging_freq': 7, 'lambda_l1': 0.35802780689923713, 'lambda_l2': 0.8098299642862663, 'num_iterations': 2000}. Best is trial 140 with value: 0.6333113890717578.\n",
      "[I 2024-03-28 21:49:42,541] Trial 141 finished with value: 0.6229946524064172 and parameters: {'learning_rate': 0.013007260084553931, 'max_depth': 31, 'scale_pos_weight': 34.40752025259073, 'num_leaves': 88, 'feature_fraction': 0.8403375317226386, 'bagging_fraction': 0.7574560741523342, 'bagging_freq': 7, 'lambda_l1': 0.36468674823686537, 'lambda_l2': 0.8638906763625323, 'num_iterations': 2000}. Best is trial 140 with value: 0.6333113890717578.\n",
      "[I 2024-03-28 21:56:23,005] Trial 142 finished with value: 0.6115702479338844 and parameters: {'learning_rate': 0.006619812433083767, 'max_depth': 31, 'scale_pos_weight': 34.434488167982586, 'num_leaves': 88, 'feature_fraction': 0.8602829368439668, 'bagging_fraction': 0.7834268380775351, 'bagging_freq': 7, 'lambda_l1': 0.361942141901548, 'lambda_l2': 0.8722598552130023, 'num_iterations': 2000}. Best is trial 140 with value: 0.6333113890717578.\n",
      "[I 2024-03-28 22:01:43,819] Trial 143 finished with value: 0.631715210355987 and parameters: {'learning_rate': 0.013212919653602176, 'max_depth': 29, 'scale_pos_weight': 34.795380969434454, 'num_leaves': 84, 'feature_fraction': 0.7422022557826633, 'bagging_fraction': 0.7670627711621184, 'bagging_freq': 7, 'lambda_l1': 0.44695858188275855, 'lambda_l2': 0.839711610669007, 'num_iterations': 2000}. Best is trial 140 with value: 0.6333113890717578.\n",
      "[I 2024-03-28 22:07:48,767] Trial 144 finished with value: 0.6152796725784446 and parameters: {'learning_rate': 0.015746080704914435, 'max_depth': 29, 'scale_pos_weight': 34.8092715573048, 'num_leaves': 84, 'feature_fraction': 0.8343264173964305, 'bagging_fraction': 0.7541541434985677, 'bagging_freq': 7, 'lambda_l1': 0.4464413062040522, 'lambda_l2': 0.8560445957655317, 'num_iterations': 2000}. Best is trial 140 with value: 0.6333113890717578.\n",
      "[I 2024-03-28 22:14:27,170] Trial 145 finished with value: 0.6321381142098274 and parameters: {'learning_rate': 0.013573564057362921, 'max_depth': 29, 'scale_pos_weight': 34.59487527334547, 'num_leaves': 88, 'feature_fraction': 0.8731057912524494, 'bagging_fraction': 0.7681230856311713, 'bagging_freq': 7, 'lambda_l1': 0.42015242204154934, 'lambda_l2': 0.8894054097715874, 'num_iterations': 2000}. Best is trial 140 with value: 0.6333113890717578.\n",
      "[I 2024-03-28 22:19:37,222] Trial 146 finished with value: 0.628056628056628 and parameters: {'learning_rate': 0.012993056799714619, 'max_depth': 29, 'scale_pos_weight': 34.626333304826716, 'num_leaves': 82, 'feature_fraction': 0.726938262289953, 'bagging_fraction': 0.7629321869896714, 'bagging_freq': 7, 'lambda_l1': 0.4126475922447447, 'lambda_l2': 0.8893347605039883, 'num_iterations': 2000}. Best is trial 140 with value: 0.6333113890717578.\n",
      "[I 2024-03-28 22:25:02,597] Trial 147 finished with value: 0.6184210526315789 and parameters: {'learning_rate': 0.012554895946086119, 'max_depth': 29, 'scale_pos_weight': 34.62632042197997, 'num_leaves': 90, 'feature_fraction': 0.7191591193588874, 'bagging_fraction': 0.7615283726235477, 'bagging_freq': 8, 'lambda_l1': 0.4685743177228714, 'lambda_l2': 0.8260195106881129, 'num_iterations': 2000}. Best is trial 140 with value: 0.6333113890717578.\n",
      "[I 2024-03-28 22:30:37,542] Trial 148 finished with value: 0.6201550387596899 and parameters: {'learning_rate': 0.009258362172175773, 'max_depth': 29, 'scale_pos_weight': 34.007679724770284, 'num_leaves': 88, 'feature_fraction': 0.7373274809200699, 'bagging_fraction': 0.7715853238148918, 'bagging_freq': 7, 'lambda_l1': 0.4220948332529664, 'lambda_l2': 0.9585992537028819, 'num_iterations': 2000}. Best is trial 140 with value: 0.6333113890717578.\n",
      "[I 2024-03-28 22:36:49,404] Trial 149 finished with value: 0.6207340631036704 and parameters: {'learning_rate': 0.013434822077117808, 'max_depth': 29, 'scale_pos_weight': 35.36945162740983, 'num_leaves': 81, 'feature_fraction': 0.893984343545225, 'bagging_fraction': 0.7832836818158744, 'bagging_freq': 8, 'lambda_l1': 0.4925058635724013, 'lambda_l2': 0.89978678307422, 'num_iterations': 1900}. Best is trial 140 with value: 0.6333113890717578.\n",
      "[I 2024-03-28 22:43:40,803] Trial 150 finished with value: 0.6163886874546773 and parameters: {'learning_rate': 0.019218785137552555, 'max_depth': 21, 'scale_pos_weight': 31.552546589972337, 'num_leaves': 86, 'feature_fraction': 0.8882996628420053, 'bagging_fraction': 0.818212438150169, 'bagging_freq': 7, 'lambda_l1': 0.4051028068860501, 'lambda_l2': 0.9349062344409822, 'num_iterations': 2000}. Best is trial 140 with value: 0.6333113890717578.\n",
      "[I 2024-03-28 22:50:02,557] Trial 151 finished with value: 0.6227544910179641 and parameters: {'learning_rate': 0.013873332778233174, 'max_depth': 31, 'scale_pos_weight': 34.479549114643696, 'num_leaves': 82, 'feature_fraction': 0.8759145407800827, 'bagging_fraction': 0.7580437166606651, 'bagging_freq': 7, 'lambda_l1': 0.4465644113136645, 'lambda_l2': 0.8447297127223456, 'num_iterations': 2000}. Best is trial 140 with value: 0.6333113890717578.\n",
      "[I 2024-03-28 22:56:13,417] Trial 152 finished with value: 0.6236702127659576 and parameters: {'learning_rate': 0.014677084661587696, 'max_depth': 31, 'scale_pos_weight': 34.689788361250784, 'num_leaves': 84, 'feature_fraction': 0.8426296719814104, 'bagging_fraction': 0.7684571492479774, 'bagging_freq': 7, 'lambda_l1': 0.4431053671350137, 'lambda_l2': 0.8904974872808877, 'num_iterations': 2000}. Best is trial 140 with value: 0.6333113890717578.\n",
      "[I 2024-03-28 23:01:26,177] Trial 153 finished with value: 0.624484181568088 and parameters: {'learning_rate': 0.01663146088452906, 'max_depth': 31, 'scale_pos_weight': 34.6658042403626, 'num_leaves': 84, 'feature_fraction': 0.7204919961253372, 'bagging_fraction': 0.7723297756838718, 'bagging_freq': 7, 'lambda_l1': 0.46278827981525417, 'lambda_l2': 0.8989392810978586, 'num_iterations': 2000}. Best is trial 140 with value: 0.6333113890717578.\n",
      "[I 2024-03-28 23:07:23,852] Trial 154 finished with value: 0.6189502385821404 and parameters: {'learning_rate': 0.01668621545246009, 'max_depth': 31, 'scale_pos_weight': 35.185748795995586, 'num_leaves': 85, 'feature_fraction': 0.8433677241587622, 'bagging_fraction': 0.7732989090754335, 'bagging_freq': 7, 'lambda_l1': 0.4585351839027376, 'lambda_l2': 0.883544072777788, 'num_iterations': 1900}. Best is trial 140 with value: 0.6333113890717578.\n",
      "[I 2024-03-28 23:12:53,104] Trial 155 finished with value: 0.6317804722399489 and parameters: {'learning_rate': 0.012167285687978965, 'max_depth': 31, 'scale_pos_weight': 34.742518380210136, 'num_leaves': 87, 'feature_fraction': 0.7222302716908601, 'bagging_fraction': 0.7918491537851539, 'bagging_freq': 7, 'lambda_l1': 0.5108947185241232, 'lambda_l2': 0.8985335917777972, 'num_iterations': 2000}. Best is trial 140 with value: 0.6333113890717578.\n",
      "[I 2024-03-28 23:18:07,960] Trial 156 finished with value: 0.6265508684863523 and parameters: {'learning_rate': 0.011240327316059793, 'max_depth': 29, 'scale_pos_weight': 34.70093383921646, 'num_leaves': 83, 'feature_fraction': 0.7216286667237869, 'bagging_fraction': 0.7911933362883242, 'bagging_freq': 8, 'lambda_l1': 0.5394281814877628, 'lambda_l2': 0.9550524312472447, 'num_iterations': 2000}. Best is trial 140 with value: 0.6333113890717578.\n",
      "[I 2024-03-28 23:23:31,263] Trial 157 finished with value: 0.6218020022246941 and parameters: {'learning_rate': 0.00791514625877191, 'max_depth': 29, 'scale_pos_weight': 34.93143312066015, 'num_leaves': 83, 'feature_fraction': 0.7222410188434939, 'bagging_fraction': 0.812911246814334, 'bagging_freq': 8, 'lambda_l1': 0.5482031590977806, 'lambda_l2': 0.9565048684730818, 'num_iterations': 2000}. Best is trial 140 with value: 0.6333113890717578.\n",
      "[I 2024-03-28 23:28:43,488] Trial 158 finished with value: 0.6180469715698393 and parameters: {'learning_rate': 0.011191988038231198, 'max_depth': 29, 'scale_pos_weight': 34.708206750506946, 'num_leaves': 87, 'feature_fraction': 0.7293358536729684, 'bagging_fraction': 0.7911916494693412, 'bagging_freq': 8, 'lambda_l1': 0.5154041435061785, 'lambda_l2': 0.9169099026205525, 'num_iterations': 1900}. Best is trial 140 with value: 0.6333113890717578.\n",
      "[I 2024-03-28 23:33:34,811] Trial 159 finished with value: 0.6301911667765328 and parameters: {'learning_rate': 0.015298203047424614, 'max_depth': 29, 'scale_pos_weight': 34.74254163942178, 'num_leaves': 84, 'feature_fraction': 0.6989613379931844, 'bagging_fraction': 0.7933198570758121, 'bagging_freq': 7, 'lambda_l1': 0.5296427363234464, 'lambda_l2': 0.8932065155684134, 'num_iterations': 1900}. Best is trial 140 with value: 0.6333113890717578.\n",
      "[I 2024-03-28 23:38:25,696] Trial 160 finished with value: 0.5767397521448999 and parameters: {'learning_rate': 0.004591317382919317, 'max_depth': 27, 'scale_pos_weight': 35.51458541300297, 'num_leaves': 80, 'feature_fraction': 0.7024011789132893, 'bagging_fraction': 0.7957344470994286, 'bagging_freq': 7, 'lambda_l1': 0.4949102032822508, 'lambda_l2': 0.9422109993869423, 'num_iterations': 1900}. Best is trial 140 with value: 0.6333113890717578.\n",
      "[I 2024-03-28 23:43:30,271] Trial 161 finished with value: 0.6248313090418355 and parameters: {'learning_rate': 0.015081920049201938, 'max_depth': 29, 'scale_pos_weight': 34.725049735889236, 'num_leaves': 84, 'feature_fraction': 0.6927600725337678, 'bagging_fraction': 0.8063091177405837, 'bagging_freq': 7, 'lambda_l1': 0.5942709686406408, 'lambda_l2': 0.8998983760753853, 'num_iterations': 2000}. Best is trial 140 with value: 0.6333113890717578.\n",
      "[I 2024-03-28 23:48:21,430] Trial 162 finished with value: 0.6212338593974175 and parameters: {'learning_rate': 0.022083768444392724, 'max_depth': 29, 'scale_pos_weight': 35.001282729800884, 'num_leaves': 85, 'feature_fraction': 0.6860826520456442, 'bagging_fraction': 0.8063861715564734, 'bagging_freq': 7, 'lambda_l1': 0.59225282293663, 'lambda_l2': 0.9243899124942359, 'num_iterations': 1900}. Best is trial 140 with value: 0.6333113890717578.\n",
      "[I 2024-03-28 23:53:38,493] Trial 163 finished with value: 0.6173184357541899 and parameters: {'learning_rate': 0.01780265958495909, 'max_depth': 29, 'scale_pos_weight': 34.79621061687101, 'num_leaves': 87, 'feature_fraction': 0.7084917047853361, 'bagging_fraction': 0.7791415655566943, 'bagging_freq': 9, 'lambda_l1': 0.5601823861526151, 'lambda_l2': 0.8986004066646802, 'num_iterations': 2000}. Best is trial 140 with value: 0.6333113890717578.\n",
      "[I 2024-03-28 23:58:21,898] Trial 164 finished with value: 0.6246719160104987 and parameters: {'learning_rate': 0.015278693618741944, 'max_depth': 27, 'scale_pos_weight': 35.160503499169224, 'num_leaves': 79, 'feature_fraction': 0.6660090905648379, 'bagging_fraction': 0.8376525576862192, 'bagging_freq': 7, 'lambda_l1': 0.6116910532089158, 'lambda_l2': 0.8689018644886047, 'num_iterations': 2000}. Best is trial 140 with value: 0.6333113890717578.\n",
      "[I 2024-03-29 00:03:16,780] Trial 165 finished with value: 0.6322751322751323 and parameters: {'learning_rate': 0.01583645989604959, 'max_depth': 27, 'scale_pos_weight': 35.00747689760995, 'num_leaves': 78, 'feature_fraction': 0.6942111382307122, 'bagging_fraction': 0.8239608382358704, 'bagging_freq': 7, 'lambda_l1': 0.6245673555372271, 'lambda_l2': 0.997614051431339, 'num_iterations': 2000}. Best is trial 140 with value: 0.6333113890717578.\n",
      "[I 2024-03-29 00:07:58,456] Trial 166 finished with value: 0.6263096623981373 and parameters: {'learning_rate': 0.009924381409553143, 'max_depth': 29, 'scale_pos_weight': 35.15070336493965, 'num_leaves': 78, 'feature_fraction': 0.6583883949748761, 'bagging_fraction': 0.8359520601975521, 'bagging_freq': 7, 'lambda_l1': 0.6223314983819054, 'lambda_l2': 0.9815468501678606, 'num_iterations': 2000}. Best is trial 140 with value: 0.6333113890717578.\n",
      "[I 2024-03-29 00:12:24,985] Trial 167 finished with value: 0.6189944134078211 and parameters: {'learning_rate': 0.009768195528432515, 'max_depth': 27, 'scale_pos_weight': 38.98018836593921, 'num_leaves': 78, 'feature_fraction': 0.6519470250263572, 'bagging_fraction': 0.8301219035790659, 'bagging_freq': 7, 'lambda_l1': 0.654234956239434, 'lambda_l2': 0.9495755856772966, 'num_iterations': 1900}. Best is trial 140 with value: 0.6333113890717578.\n",
      "[I 2024-03-29 00:17:05,147] Trial 168 finished with value: 0.6202301635372501 and parameters: {'learning_rate': 0.011522709112833459, 'max_depth': 27, 'scale_pos_weight': 35.1912859083953, 'num_leaves': 78, 'feature_fraction': 0.659955995036376, 'bagging_fraction': 0.835508970038748, 'bagging_freq': 7, 'lambda_l1': 0.6460346119064682, 'lambda_l2': 0.9985611968857845, 'num_iterations': 2000}. Best is trial 140 with value: 0.6333113890717578.\n",
      "[I 2024-03-29 00:21:27,791] Trial 169 finished with value: 0.6253908692933082 and parameters: {'learning_rate': 0.01475628791826521, 'max_depth': 27, 'scale_pos_weight': 35.72429222335362, 'num_leaves': 74, 'feature_fraction': 0.664690611112483, 'bagging_fraction': 0.8660522769720918, 'bagging_freq': 7, 'lambda_l1': 0.6829064814541403, 'lambda_l2': 0.8712833305995609, 'num_iterations': 1900}. Best is trial 140 with value: 0.6333113890717578.\n",
      "[I 2024-03-29 00:25:59,170] Trial 170 finished with value: 0.6164079822616408 and parameters: {'learning_rate': 0.009553871999447822, 'max_depth': 15, 'scale_pos_weight': 35.51317302882252, 'num_leaves': 74, 'feature_fraction': 0.6868002410995271, 'bagging_fraction': 0.8229736367825402, 'bagging_freq': 7, 'lambda_l1': 0.6034301094589261, 'lambda_l2': 0.9810127939758838, 'num_iterations': 1900}. Best is trial 140 with value: 0.6333113890717578.\n",
      "[I 2024-03-29 00:30:39,415] Trial 171 finished with value: 0.6327827191867853 and parameters: {'learning_rate': 0.013736623497752464, 'max_depth': 27, 'scale_pos_weight': 35.147899213060704, 'num_leaves': 76, 'feature_fraction': 0.6675319655098423, 'bagging_fraction': 0.8473021030599945, 'bagging_freq': 7, 'lambda_l1': 0.70623664770147, 'lambda_l2': 0.8711107913440451, 'num_iterations': 2000}. Best is trial 140 with value: 0.6333113890717578.\n",
      "[I 2024-03-29 00:35:25,759] Trial 172 finished with value: 0.6261904761904762 and parameters: {'learning_rate': 0.011357659605714596, 'max_depth': 27, 'scale_pos_weight': 34.903875572593826, 'num_leaves': 76, 'feature_fraction': 0.6963858595933521, 'bagging_fraction': 0.873908984647793, 'bagging_freq': 7, 'lambda_l1': 0.5764841386335597, 'lambda_l2': 0.9283999002152631, 'num_iterations': 1900}. Best is trial 140 with value: 0.6333113890717578.\n",
      "[I 2024-03-29 00:39:47,781] Trial 173 finished with value: 0.6251482799525504 and parameters: {'learning_rate': 0.01113456009336168, 'max_depth': 27, 'scale_pos_weight': 35.67216026200542, 'num_leaves': 76, 'feature_fraction': 0.6413080066103987, 'bagging_fraction': 0.8787142045076349, 'bagging_freq': 7, 'lambda_l1': 0.7434797016616199, 'lambda_l2': 0.9312078870856297, 'num_iterations': 1900}. Best is trial 140 with value: 0.6333113890717578.\n",
      "[I 2024-03-29 00:44:04,281] Trial 174 finished with value: 0.607352157698455 and parameters: {'learning_rate': 0.008474208136730853, 'max_depth': 27, 'scale_pos_weight': 35.293810638291816, 'num_leaves': 74, 'feature_fraction': 0.6721325099504578, 'bagging_fraction': 0.8604117025844389, 'bagging_freq': 7, 'lambda_l1': 0.6874254949588674, 'lambda_l2': 0.9852725513326057, 'num_iterations': 1800}. Best is trial 140 with value: 0.6333113890717578.\n",
      "[I 2024-03-29 00:48:42,957] Trial 175 finished with value: 0.6253687315634218 and parameters: {'learning_rate': 0.012211598140803222, 'max_depth': 25, 'scale_pos_weight': 35.02781898745972, 'num_leaves': 72, 'feature_fraction': 0.7060403863216427, 'bagging_fraction': 0.8476711268662217, 'bagging_freq': 7, 'lambda_l1': 0.5667150102860149, 'lambda_l2': 0.9124449184507188, 'num_iterations': 1900}. Best is trial 140 with value: 0.6333113890717578.\n",
      "[I 2024-03-29 00:55:09,762] Trial 176 finished with value: 0.6240601503759399 and parameters: {'learning_rate': 0.014230408363965363, 'max_depth': 27, 'scale_pos_weight': 34.91605725758886, 'num_leaves': 70, 'feature_fraction': 0.9223079140265347, 'bagging_fraction': 0.8676346601504439, 'bagging_freq': 8, 'lambda_l1': 0.7472755595170557, 'lambda_l2': 0.9735407821525337, 'num_iterations': 2000}. Best is trial 140 with value: 0.6333113890717578.\n",
      "[I 2024-03-29 00:59:40,053] Trial 177 finished with value: 0.6040268456375838 and parameters: {'learning_rate': 0.007410885533397561, 'max_depth': 29, 'scale_pos_weight': 35.35048970916437, 'num_leaves': 73, 'feature_fraction': 0.6758198966513633, 'bagging_fraction': 0.8462623520371171, 'bagging_freq': 7, 'lambda_l1': 0.6855163078013459, 'lambda_l2': 0.954582676265757, 'num_iterations': 1900}. Best is trial 140 with value: 0.6333113890717578.\n",
      "[I 2024-03-29 01:00:30,061] Trial 178 finished with value: 0.5458515283842795 and parameters: {'learning_rate': 0.020263126214045933, 'max_depth': 29, 'scale_pos_weight': 35.086387028819615, 'num_leaves': 77, 'feature_fraction': 0.6985137438926559, 'bagging_fraction': 0.8678483132566566, 'bagging_freq': 7, 'lambda_l1': 0.6339723405093598, 'lambda_l2': 0.8430566422557952, 'num_iterations': 300}. Best is trial 140 with value: 0.6333113890717578.\n",
      "[I 2024-03-29 01:05:52,992] Trial 179 finished with value: 0.6222775357809582 and parameters: {'learning_rate': 0.012093785209553667, 'max_depth': 27, 'scale_pos_weight': 35.71355022259253, 'num_leaves': 76, 'feature_fraction': 0.7408922547457155, 'bagging_fraction': 0.8979405285904734, 'bagging_freq': 7, 'lambda_l1': 0.5311691115402462, 'lambda_l2': 0.9648316532763446, 'num_iterations': 2000}. Best is trial 140 with value: 0.6333113890717578.\n",
      "[I 2024-03-29 01:10:54,939] Trial 180 finished with value: 0.6186392224128073 and parameters: {'learning_rate': 0.009672302937683352, 'max_depth': 29, 'scale_pos_weight': 34.56172405516168, 'num_leaves': 80, 'feature_fraction': 0.7300403510158495, 'bagging_fraction': 0.9185247284898018, 'bagging_freq': 7, 'lambda_l1': 0.5747545322583693, 'lambda_l2': 0.8798203715366864, 'num_iterations': 1800}. Best is trial 140 with value: 0.6333113890717578.\n",
      "[I 2024-03-29 01:15:31,998] Trial 181 finished with value: 0.6303317535545023 and parameters: {'learning_rate': 0.011758896285698157, 'max_depth': 27, 'scale_pos_weight': 34.989433449758394, 'num_leaves': 72, 'feature_fraction': 0.7021498991308458, 'bagging_fraction': 0.8575014912275476, 'bagging_freq': 7, 'lambda_l1': 0.5823391760568596, 'lambda_l2': 0.9132927040263031, 'num_iterations': 1900}. Best is trial 140 with value: 0.6333113890717578.\n",
      "[I 2024-03-29 01:20:18,284] Trial 182 finished with value: 0.6226086956521739 and parameters: {'learning_rate': 0.01076859819180208, 'max_depth': 27, 'scale_pos_weight': 34.86559850035676, 'num_leaves': 73, 'feature_fraction': 0.7120482845888553, 'bagging_fraction': 0.8772638124636548, 'bagging_freq': 7, 'lambda_l1': 0.6184274004131672, 'lambda_l2': 0.9392273019501827, 'num_iterations': 1900}. Best is trial 140 with value: 0.6333113890717578.\n",
      "[I 2024-03-29 01:24:42,929] Trial 183 finished with value: 0.6220328667072429 and parameters: {'learning_rate': 0.01418052659496039, 'max_depth': 25, 'scale_pos_weight': 35.143864844696544, 'num_leaves': 67, 'feature_fraction': 0.6800704485345158, 'bagging_fraction': 0.856971897511797, 'bagging_freq': 7, 'lambda_l1': 0.7328310987314889, 'lambda_l2': 0.8711355128063917, 'num_iterations': 2000}. Best is trial 140 with value: 0.6333113890717578.\n",
      "[I 2024-03-29 01:29:03,594] Trial 184 finished with value: 0.623768877216021 and parameters: {'learning_rate': 0.01771084753733485, 'max_depth': 27, 'scale_pos_weight': 34.23448391573762, 'num_leaves': 69, 'feature_fraction': 0.663775253380741, 'bagging_fraction': 0.8414046286796645, 'bagging_freq': 7, 'lambda_l1': 0.5323701126308114, 'lambda_l2': 0.9169893466882426, 'num_iterations': 2000}. Best is trial 140 with value: 0.6333113890717578.\n",
      "[I 2024-03-29 01:33:19,486] Trial 185 finished with value: 0.6152004787552363 and parameters: {'learning_rate': 0.012414746935577675, 'max_depth': 27, 'scale_pos_weight': 35.42165706205791, 'num_leaves': 75, 'feature_fraction': 0.6922918400944003, 'bagging_fraction': 0.7909796429712788, 'bagging_freq': 8, 'lambda_l1': 0.6970856547745965, 'lambda_l2': 0.8113362562735146, 'num_iterations': 1800}. Best is trial 140 with value: 0.6333113890717578.\n",
      "[I 2024-03-29 01:38:17,143] Trial 186 finished with value: 0.6223091976516634 and parameters: {'learning_rate': 0.01515442818019435, 'max_depth': 17, 'scale_pos_weight': 34.95844247529387, 'num_leaves': 77, 'feature_fraction': 0.7301489529417843, 'bagging_fraction': 0.8644503761921184, 'bagging_freq': 7, 'lambda_l1': 0.6712495411594921, 'lambda_l2': 0.8380337349095509, 'num_iterations': 1900}. Best is trial 140 with value: 0.6333113890717578.\n",
      "[I 2024-03-29 01:42:35,949] Trial 187 finished with value: 0.6274052478134111 and parameters: {'learning_rate': 0.010349877121058618, 'max_depth': 29, 'scale_pos_weight': 34.74348083953502, 'num_leaves': 79, 'feature_fraction': 0.6429200372679478, 'bagging_fraction': 0.8233144696089946, 'bagging_freq': 7, 'lambda_l1': 0.5714314864738651, 'lambda_l2': 0.8883977395806624, 'num_iterations': 1900}. Best is trial 140 with value: 0.6333113890717578.\n",
      "[I 2024-03-29 01:47:09,378] Trial 188 finished with value: 0.6188594014680971 and parameters: {'learning_rate': 0.008370345056538579, 'max_depth': 29, 'scale_pos_weight': 34.5619049476966, 'num_leaves': 79, 'feature_fraction': 0.6382052130527772, 'bagging_fraction': 0.8258520596210983, 'bagging_freq': 7, 'lambda_l1': 0.5794383448145248, 'lambda_l2': 0.9980758352855131, 'num_iterations': 2000}. Best is trial 140 with value: 0.6333113890717578.\n",
      "[I 2024-03-29 01:52:06,129] Trial 189 finished with value: 0.6232057416267943 and parameters: {'learning_rate': 0.010301220885459731, 'max_depth': 29, 'scale_pos_weight': 34.24972879042427, 'num_leaves': 81, 'feature_fraction': 0.7138316105883976, 'bagging_fraction': 0.8145868326731868, 'bagging_freq': 8, 'lambda_l1': 0.6280637569226045, 'lambda_l2': 0.9730145918637345, 'num_iterations': 1900}. Best is trial 140 with value: 0.6333113890717578.\n",
      "[I 2024-03-29 01:56:40,054] Trial 190 finished with value: 0.6170830912260313 and parameters: {'learning_rate': 0.009381591124925016, 'max_depth': 29, 'scale_pos_weight': 34.79675450232767, 'num_leaves': 82, 'feature_fraction': 0.6243125248561402, 'bagging_fraction': 0.8522418256883585, 'bagging_freq': 8, 'lambda_l1': 0.5133917211694184, 'lambda_l2': 0.9364579827755705, 'num_iterations': 2000}. Best is trial 140 with value: 0.6333113890717578.\n",
      "[I 2024-03-29 02:01:41,372] Trial 191 finished with value: 0.6266416510318951 and parameters: {'learning_rate': 0.013036987848723362, 'max_depth': 27, 'scale_pos_weight': 34.78943973776005, 'num_leaves': 78, 'feature_fraction': 0.7458694904085991, 'bagging_fraction': 0.8004061552189012, 'bagging_freq': 7, 'lambda_l1': 0.5633809581301951, 'lambda_l2': 0.8883555858009752, 'num_iterations': 1900}. Best is trial 140 with value: 0.6333113890717578.\n",
      "[I 2024-03-29 02:06:31,919] Trial 192 finished with value: 0.5929752066115703 and parameters: {'learning_rate': 0.006817220294918302, 'max_depth': 15, 'scale_pos_weight': 34.55043216040138, 'num_leaves': 78, 'feature_fraction': 0.7444682568782326, 'bagging_fraction': 0.8093473748325436, 'bagging_freq': 10, 'lambda_l1': 0.5509582011398036, 'lambda_l2': 0.8872465502860852, 'num_iterations': 1800}. Best is trial 140 with value: 0.6333113890717578.\n",
      "[I 2024-03-29 02:11:26,517] Trial 193 finished with value: 0.6198243412797994 and parameters: {'learning_rate': 0.01296434504245532, 'max_depth': 29, 'scale_pos_weight': 34.73015788648664, 'num_leaves': 80, 'feature_fraction': 0.7251275416419879, 'bagging_fraction': 0.7883667486386623, 'bagging_freq': 7, 'lambda_l1': 0.5726192648604798, 'lambda_l2': 0.9068422333701991, 'num_iterations': 1900}. Best is trial 140 with value: 0.6333113890717578.\n",
      "[I 2024-03-29 02:15:51,796] Trial 194 finished with value: 0.624773413897281 and parameters: {'learning_rate': 0.01112539958393911, 'max_depth': 27, 'scale_pos_weight': 34.414568275122384, 'num_leaves': 77, 'feature_fraction': 0.6451253320514199, 'bagging_fraction': 0.7999264901037452, 'bagging_freq': 7, 'lambda_l1': 0.5435641839369396, 'lambda_l2': 0.914982171825186, 'num_iterations': 2000}. Best is trial 140 with value: 0.6333113890717578.\n",
      "[I 2024-03-29 02:21:26,469] Trial 195 finished with value: 0.6266573621772504 and parameters: {'learning_rate': 0.019728967089949666, 'max_depth': 29, 'scale_pos_weight': 34.99489312143749, 'num_leaves': 79, 'feature_fraction': 0.7636588834032942, 'bagging_fraction': 0.8213596388693337, 'bagging_freq': 7, 'lambda_l1': 0.7931781436729716, 'lambda_l2': 0.8844014179633252, 'num_iterations': 2000}. Best is trial 140 with value: 0.6333113890717578.\n",
      "[I 2024-03-29 02:25:19,723] Trial 196 finished with value: 0.44787644787644787 and parameters: {'learning_rate': 0.000571060751178516, 'max_depth': 9, 'scale_pos_weight': 35.19269337355601, 'num_leaves': 75, 'feature_fraction': 0.7034129417660182, 'bagging_fraction': 0.8013554529974414, 'bagging_freq': 7, 'lambda_l1': 0.8057873377443656, 'lambda_l2': 0.856368980926447, 'num_iterations': 2000}. Best is trial 140 with value: 0.6333113890717578.\n",
      "[I 2024-03-29 02:30:29,715] Trial 197 finished with value: 0.6189502385821404 and parameters: {'learning_rate': 0.019223098905970962, 'max_depth': 29, 'scale_pos_weight': 34.926886269796405, 'num_leaves': 79, 'feature_fraction': 0.7587494865467186, 'bagging_fraction': 0.813661923850382, 'bagging_freq': 7, 'lambda_l1': 0.5880208368479591, 'lambda_l2': 0.8885778280420165, 'num_iterations': 1900}. Best is trial 140 with value: 0.6333113890717578.\n",
      "[I 2024-03-29 02:35:56,701] Trial 198 finished with value: 0.6236559139784946 and parameters: {'learning_rate': 0.016492512804181278, 'max_depth': 29, 'scale_pos_weight': 34.779676471966184, 'num_leaves': 81, 'feature_fraction': 0.7469127525367361, 'bagging_fraction': 0.822275464093954, 'bagging_freq': 7, 'lambda_l1': 0.8244016994507248, 'lambda_l2': 0.9288188386626842, 'num_iterations': 2000}. Best is trial 140 with value: 0.6333113890717578.\n",
      "[I 2024-03-29 02:41:01,573] Trial 199 finished with value: 0.6236825790452573 and parameters: {'learning_rate': 0.012629592125171904, 'max_depth': 29, 'scale_pos_weight': 35.038754171795446, 'num_leaves': 78, 'feature_fraction': 0.7124321016531783, 'bagging_fraction': 0.838952304492082, 'bagging_freq': 7, 'lambda_l1': 0.7728652685940931, 'lambda_l2': 0.8306796055697319, 'num_iterations': 2000}. Best is trial 140 with value: 0.6333113890717578.\n"
     ]
    },
    {
     "name": "stdout",
     "output_type": "stream",
     "text": [
      "Number of finished trials:  200\n",
      "Best trial:\n",
      "  Value: 0.6333113890717578\n",
      "  Params: \n",
      "    learning_rate: 0.01380605288076058\n",
      "    max_depth: 31\n",
      "    scale_pos_weight: 34.683464805409834\n",
      "    num_leaves: 84\n",
      "    feature_fraction: 0.7271452869823677\n",
      "    bagging_fraction: 0.755295392779871\n",
      "    bagging_freq: 7\n",
      "    lambda_l1: 0.35802780689923713\n",
      "    lambda_l2: 0.8098299642862663\n",
      "    num_iterations: 2000\n"
     ]
    }
   ],
   "source": [
    "# define the params and the metric function\n",
    "def objective(trial):\n",
    "  params = {\n",
    "    'objective': 'binary',\n",
    "    'boosting_type': 'gbdt',\n",
    "    'metric': 'binary_logloss',\n",
    "    'learning_rate': trial.suggest_float('learning_rate', 1e-4, 1e-1, log=True),\n",
    "    \"max_depth\": trial.suggest_int(\"max_depth\", 1, 31, step=2),\n",
    "    \"scale_pos_weight\": trial.suggest_float(\"scale_pos_weight\", ratio-5, ratio+5),\n",
    "    'num_leaves': trial.suggest_int('num_leaves', 20, 100),\n",
    "    'feature_fraction': trial.suggest_float('feature_fraction', 0.5, 1.0),\n",
    "    'bagging_fraction': trial.suggest_float('bagging_fraction', 0.5, 1.0),\n",
    "    'bagging_freq': trial.suggest_int('bagging_freq', 1, 10),\n",
    "    'lambda_l1': trial.suggest_float('lambda_l1', 0, 1),\n",
    "    'lambda_l2': trial.suggest_float('lambda_l2', 0, 1),\n",
    "    \"num_iterations\": trial.suggest_int(\"num_iterations\", 100, 2000, step=100),\n",
    "    'verbosity': -1,\n",
    "    'device_type': 'cpu',\n",
    "    'random_state': 42,\n",
    "    'n_jobs': -1\n",
    "}\n",
    "  model = lgb.train(params, lgb.Dataset(X_train, y_train))\n",
    "\n",
    "  preds = model.predict(X_val)\n",
    "  pred_labels = np.rint(preds)\n",
    "\n",
    "  f1 =  f1_score(y_val, pred_labels)\n",
    "\n",
    "  return f1\n",
    "\n",
    "# start fine-tuning and search for the optimal hyper-params\n",
    "study = optuna.create_study(direction='maximize')\n",
    "study.optimize(objective, n_trials=200)\n",
    "\n",
    "print(\"Number of finished trials: \", len(study.trials))\n",
    "print(\"Best trial:\")\n",
    "trial = study.best_trial\n",
    "\n",
    "print(\"  Value: {}\".format(trial.value))\n",
    "print(\"  Params: \")\n",
    "for key, value in trial.params.items():\n",
    "    print(\"    {}: {}\".format(key, value))"
   ]
  },
  {
   "cell_type": "code",
   "execution_count": 5,
   "metadata": {},
   "outputs": [
    {
     "name": "stdout",
     "output_type": "stream",
     "text": [
      "\n",
      "----------- Model ---------\n",
      "protTrans\n",
      "\n",
      "F1 score: 0.674 \n",
      "MCC: 0.634 \n",
      "      0    1\n",
      "0  6637  275\n",
      "1   285  579\n"
     ]
    }
   ],
   "source": [
    "clf = lgb.LGBMClassifier(device_type= 'cpu',\n",
    "    verbosity= -1,\n",
    "    random_state= 42,\n",
    "    n_jobs= -1, \n",
    "    # **params\n",
    "    **study.best_trial.params\n",
    "    )\n",
    "\n",
    "clf.fit(X_train, y_train)\n",
    "\n",
    "y_pred = clf.predict(X_test)\n",
    "\n",
    "print()\n",
    "print(\"----------- Model ---------\")\n",
    "print(model_for_testing)\n",
    "print()\n",
    "print('F1 score: %.3f ' % f1_score(y_test, y_pred))\n",
    "print('MCC: %.3f ' % matthews_corrcoef(y_test, y_pred))\n",
    "cm = confusion_matrix(y_test, y_pred)\n",
    "cm = pd.DataFrame(cm , index = ['0','1'] , columns = ['0','1'])\n",
    "print(cm)"
   ]
  },
  {
   "cell_type": "markdown",
   "metadata": {},
   "source": [
    "### Optimize XGBoost"
   ]
  },
  {
   "cell_type": "code",
   "execution_count": 15,
   "metadata": {},
   "outputs": [
    {
     "name": "stderr",
     "output_type": "stream",
     "text": [
      "[I 2024-01-23 13:26:53,408] A new study created in memory with name: no-name-c84a1349-96ae-4551-861d-273f68315eef\n",
      "[I 2024-01-23 13:27:18,379] Trial 0 finished with value: 0.4389920424403183 and parameters: {'learning_rate': 0.0012641991782402873, 'booster': 'gbtree', 'gamma': 1.0, 'lambda': 1.1668214802791591e-05, 'reg_alpha': 2.280211019758367, 'subsample': 0.8843771568323349, 'colsample_bytree': 0.7232707745585862, 'max_depth': 13, 'min_child_weight': 6, 'scale_pos_weight': 36.41220956670108}. Best is trial 0 with value: 0.4389920424403183.\n",
      "[I 2024-01-23 13:27:50,182] Trial 1 finished with value: 0.30665380906460943 and parameters: {'learning_rate': 0.003098403261906665, 'booster': 'dart', 'gamma': 1.0, 'lambda': 3.0372221662472634e-06, 'reg_alpha': 5.038250753174373, 'subsample': 0.5362969263049406, 'colsample_bytree': 0.864917218190785, 'max_depth': 31, 'min_child_weight': 5, 'scale_pos_weight': 31.435649442807488}. Best is trial 0 with value: 0.4389920424403183.\n",
      "[I 2024-01-23 13:28:14,115] Trial 2 finished with value: 0.4511930585683297 and parameters: {'learning_rate': 0.0004107545479849489, 'booster': 'dart', 'gamma': 0.7999999999999999, 'lambda': 3.4768923436866385e-08, 'reg_alpha': 8.449230908503665, 'subsample': 0.6459530538069931, 'colsample_bytree': 0.8131841221555288, 'max_depth': 15, 'min_child_weight': 9, 'scale_pos_weight': 38.297025160159066}. Best is trial 2 with value: 0.4511930585683297.\n",
      "[I 2024-01-23 13:28:47,804] Trial 3 finished with value: 0.3269961977186312 and parameters: {'learning_rate': 0.09592995288441229, 'booster': 'dart', 'gamma': 0.8999999999999999, 'lambda': 5.6506838798394015e-05, 'reg_alpha': 2.562362437679488, 'subsample': 0.8172292171051014, 'colsample_bytree': 0.8504998296587338, 'max_depth': 25, 'min_child_weight': 8, 'scale_pos_weight': 33.51038888751853}. Best is trial 2 with value: 0.4511930585683297.\n",
      "[I 2024-01-23 13:29:00,187] Trial 4 finished with value: 0.44366197183098594 and parameters: {'learning_rate': 0.07153436530580133, 'booster': 'dart', 'gamma': 0.7, 'lambda': 2.6966249919729963e-06, 'reg_alpha': 2.238281717399177, 'subsample': 0.23470399454672455, 'colsample_bytree': 0.9713274485587406, 'max_depth': 13, 'min_child_weight': 9, 'scale_pos_weight': 37.44005759467428}. Best is trial 2 with value: 0.4511930585683297.\n",
      "[I 2024-01-23 13:29:12,931] Trial 5 finished with value: 0.24870466321243526 and parameters: {'learning_rate': 0.001647323144134756, 'booster': 'gbtree', 'gamma': 0.7, 'lambda': 3.647455126523268e-08, 'reg_alpha': 5.529322180407051, 'subsample': 0.30509995754633173, 'colsample_bytree': 0.5459498915259684, 'max_depth': 27, 'min_child_weight': 6, 'scale_pos_weight': 34.376926951507656}. Best is trial 2 with value: 0.4511930585683297.\n",
      "[I 2024-01-23 13:29:28,300] Trial 6 finished with value: 0.44272445820433437 and parameters: {'learning_rate': 0.09302157302659457, 'booster': 'gbtree', 'gamma': 0.7999999999999999, 'lambda': 0.020371256029202974, 'reg_alpha': 8.883578725324368, 'subsample': 0.4893670897039254, 'colsample_bytree': 0.6793070538516335, 'max_depth': 17, 'min_child_weight': 4, 'scale_pos_weight': 38.67257106330736}. Best is trial 2 with value: 0.4511930585683297.\n",
      "[I 2024-01-23 13:29:54,256] Trial 7 finished with value: 0.3236124176857949 and parameters: {'learning_rate': 0.00015136179583823174, 'booster': 'dart', 'gamma': 1.0, 'lambda': 4.0612161798607433e-07, 'reg_alpha': 4.414978569732301, 'subsample': 0.735501594966433, 'colsample_bytree': 0.6416156572642258, 'max_depth': 19, 'min_child_weight': 10, 'scale_pos_weight': 30.241714579017977}. Best is trial 2 with value: 0.4511930585683297.\n",
      "[I 2024-01-23 13:30:30,411] Trial 8 finished with value: 0.32123411978221417 and parameters: {'learning_rate': 0.0162248505720485, 'booster': 'gbtree', 'gamma': 0.8999999999999999, 'lambda': 6.156897048963281e-07, 'reg_alpha': 3.256805696848279, 'subsample': 0.9832866785668088, 'colsample_bytree': 0.6430716937166644, 'max_depth': 21, 'min_child_weight': 3, 'scale_pos_weight': 35.91168179105131}. Best is trial 2 with value: 0.4511930585683297.\n",
      "[I 2024-01-23 13:30:37,444] Trial 9 finished with value: 0.44351961950059454 and parameters: {'learning_rate': 0.003625832099912746, 'booster': 'gbtree', 'gamma': 1.0, 'lambda': 0.027803513579673873, 'reg_alpha': 5.232533592967105, 'subsample': 0.2339939922263338, 'colsample_bytree': 0.8630215075160843, 'max_depth': 9, 'min_child_weight': 9, 'scale_pos_weight': 31.01167157783322}. Best is trial 2 with value: 0.4511930585683297.\n",
      "[I 2024-01-23 13:30:44,724] Trial 10 finished with value: 0.3061757031023485 and parameters: {'learning_rate': 0.000108975753524537, 'booster': 'dart', 'gamma': 0.7999999999999999, 'lambda': 1.1655767562573825e-08, 'reg_alpha': 9.814534825306104, 'subsample': 0.6449595161821353, 'colsample_bytree': 0.9726633821564592, 'max_depth': 3, 'min_child_weight': 1, 'scale_pos_weight': 39.65335249430912}. Best is trial 2 with value: 0.4511930585683297.\n",
      "[I 2024-01-23 13:30:58,189] Trial 11 finished with value: 0.46269457863660757 and parameters: {'learning_rate': 0.0005204930506816801, 'booster': 'dart', 'gamma': 0.7, 'lambda': 0.00020604520825817524, 'reg_alpha': 7.568454602314411, 'subsample': 0.38860848512393537, 'colsample_bytree': 0.9949423581982602, 'max_depth': 9, 'min_child_weight': 8, 'scale_pos_weight': 37.69343401219364}. Best is trial 11 with value: 0.46269457863660757.\n",
      "[I 2024-01-23 13:31:05,638] Trial 12 finished with value: 0.3788429752066116 and parameters: {'learning_rate': 0.00042588064828034917, 'booster': 'dart', 'gamma': 0.7, 'lambda': 0.0005163501450899653, 'reg_alpha': 7.5332257818761885, 'subsample': 0.411686629664967, 'colsample_bytree': 0.7780065960051435, 'max_depth': 5, 'min_child_weight': 7, 'scale_pos_weight': 37.917168902529}. Best is trial 11 with value: 0.46269457863660757.\n",
      "[I 2024-01-23 13:31:24,783] Trial 13 finished with value: 0.4749518304431599 and parameters: {'learning_rate': 0.00044864507181746225, 'booster': 'dart', 'gamma': 0.7999999999999999, 'lambda': 0.00037855242444972064, 'reg_alpha': 7.357082184033187, 'subsample': 0.6332713593966612, 'colsample_bytree': 0.9984370038430126, 'max_depth': 9, 'min_child_weight': 8, 'scale_pos_weight': 36.4435032872264}. Best is trial 13 with value: 0.4749518304431599.\n",
      "[I 2024-01-23 13:31:40,119] Trial 14 finished with value: 0.4682377049180328 and parameters: {'learning_rate': 0.00047659945424007516, 'booster': 'dart', 'gamma': 0.7, 'lambda': 0.0009031205942143729, 'reg_alpha': 6.58505520677407, 'subsample': 0.43541221426179055, 'colsample_bytree': 0.9942779849926419, 'max_depth': 9, 'min_child_weight': 7, 'scale_pos_weight': 36.42060487166238}. Best is trial 13 with value: 0.4749518304431599.\n",
      "[I 2024-01-23 13:31:43,899] Trial 15 finished with value: 0.23094027954256668 and parameters: {'learning_rate': 0.0002722680546836456, 'booster': 'dart', 'gamma': 0.7999999999999999, 'lambda': 0.8689984078982734, 'reg_alpha': 0.13683922880092858, 'subsample': 0.5508404034693801, 'colsample_bytree': 0.9083690597210029, 'max_depth': 1, 'min_child_weight': 7, 'scale_pos_weight': 35.6690971913016}. Best is trial 13 with value: 0.4749518304431599.\n",
      "[I 2024-01-23 13:31:55,142] Trial 16 finished with value: 0.4572687224669604 and parameters: {'learning_rate': 0.001002375624542036, 'booster': 'dart', 'gamma': 0.8999999999999999, 'lambda': 0.002755412027965713, 'reg_alpha': 6.597542960939491, 'subsample': 0.4323114272008398, 'colsample_bytree': 0.9243757527727423, 'max_depth': 7, 'min_child_weight': 7, 'scale_pos_weight': 33.10555624892054}. Best is trial 13 with value: 0.4749518304431599.\n",
      "[I 2024-01-23 13:32:18,188] Trial 17 finished with value: 0.4633294528521537 and parameters: {'learning_rate': 0.01046893990459706, 'booster': 'dart', 'gamma': 0.7, 'lambda': 0.0037300812805394303, 'reg_alpha': 6.8261417059728515, 'subsample': 0.7140561109672554, 'colsample_bytree': 0.9430834780262459, 'max_depth': 11, 'min_child_weight': 5, 'scale_pos_weight': 34.84714531395033}. Best is trial 13 with value: 0.4749518304431599.\n",
      "[I 2024-01-23 13:32:25,717] Trial 18 finished with value: 0.3887762001352265 and parameters: {'learning_rate': 0.00020962800119754476, 'booster': 'dart', 'gamma': 0.7999999999999999, 'lambda': 0.41581272037889666, 'reg_alpha': 6.167451203852263, 'subsample': 0.33943105808626395, 'colsample_bytree': 0.9006328275113702, 'max_depth': 5, 'min_child_weight': 10, 'scale_pos_weight': 36.6725033057952}. Best is trial 13 with value: 0.4749518304431599.\n",
      "[I 2024-01-23 13:32:36,115] Trial 19 finished with value: 0.45835488877392655 and parameters: {'learning_rate': 0.0007434493443485495, 'booster': 'dart', 'gamma': 0.7, 'lambda': 4.474251366634341e-05, 'reg_alpha': 4.013298513593673, 'subsample': 0.5871759655276045, 'colsample_bytree': 0.512634632883183, 'max_depth': 9, 'min_child_weight': 3, 'scale_pos_weight': 35.10160308527158}. Best is trial 13 with value: 0.4749518304431599.\n",
      "[I 2024-01-23 13:32:39,628] Trial 20 finished with value: 0.2308669418863131 and parameters: {'learning_rate': 0.003855214171401223, 'booster': 'dart', 'gamma': 0.7999999999999999, 'lambda': 0.001047346263829118, 'reg_alpha': 8.344871496992926, 'subsample': 0.4821287187712796, 'colsample_bytree': 0.9991744323245355, 'max_depth': 1, 'min_child_weight': 8, 'scale_pos_weight': 33.57125584461888}. Best is trial 13 with value: 0.4749518304431599.\n",
      "[I 2024-01-23 13:33:01,382] Trial 21 finished with value: 0.4701795020266358 and parameters: {'learning_rate': 0.012665198831578267, 'booster': 'dart', 'gamma': 0.7, 'lambda': 0.01227352420977234, 'reg_alpha': 7.215954795669937, 'subsample': 0.7242195514867655, 'colsample_bytree': 0.9396857846156474, 'max_depth': 11, 'min_child_weight': 5, 'scale_pos_weight': 34.559317561270525}. Best is trial 13 with value: 0.4749518304431599.\n",
      "[I 2024-01-23 13:33:27,418] Trial 22 finished with value: 0.4331926863572434 and parameters: {'learning_rate': 0.0123756483626895, 'booster': 'dart', 'gamma': 0.7, 'lambda': 0.030682477802736537, 'reg_alpha': 7.430661415051382, 'subsample': 0.7704556554939069, 'colsample_bytree': 0.9509555297985287, 'max_depth': 13, 'min_child_weight': 4, 'scale_pos_weight': 32.41653849164601}. Best is trial 13 with value: 0.4749518304431599.\n",
      "[I 2024-01-23 13:33:41,162] Trial 23 finished with value: 0.42879499217527384 and parameters: {'learning_rate': 0.0327846573650449, 'booster': 'dart', 'gamma': 0.7, 'lambda': 0.06534054609423956, 'reg_alpha': 6.255862277783937, 'subsample': 0.6558140343591936, 'colsample_bytree': 0.9217542180245067, 'max_depth': 7, 'min_child_weight': 6, 'scale_pos_weight': 36.7312630678082}. Best is trial 13 with value: 0.4749518304431599.\n",
      "[I 2024-01-23 13:34:09,907] Trial 24 finished with value: 0.4115805946791862 and parameters: {'learning_rate': 0.006686032011317254, 'booster': 'dart', 'gamma': 0.7999999999999999, 'lambda': 0.00767969632489449, 'reg_alpha': 9.481910749736706, 'subsample': 0.8401471096360915, 'colsample_bytree': 0.8174126652107666, 'max_depth': 17, 'min_child_weight': 7, 'scale_pos_weight': 34.44991949734492}. Best is trial 13 with value: 0.4749518304431599.\n",
      "[I 2024-01-23 13:34:32,260] Trial 25 finished with value: 0.46417998815867373 and parameters: {'learning_rate': 0.001940028188237055, 'booster': 'dart', 'gamma': 0.7, 'lambda': 0.0002968969177258195, 'reg_alpha': 8.028921014397334, 'subsample': 0.6963201975547688, 'colsample_bytree': 0.8781398511758945, 'max_depth': 11, 'min_child_weight': 4, 'scale_pos_weight': 35.46841220984345}. Best is trial 13 with value: 0.4749518304431599.\n",
      "[I 2024-01-23 13:34:47,425] Trial 26 finished with value: 0.4252411575562701 and parameters: {'learning_rate': 0.027794094048111204, 'booster': 'gbtree', 'gamma': 0.8999999999999999, 'lambda': 0.10748483676768637, 'reg_alpha': 7.086850038136846, 'subsample': 0.9194041515265334, 'colsample_bytree': 0.9593063164583335, 'max_depth': 7, 'min_child_weight': 5, 'scale_pos_weight': 36.401525401235894}. Best is trial 13 with value: 0.4749518304431599.\n",
      "[I 2024-01-23 13:35:14,587] Trial 27 finished with value: 0.45017421602787455 and parameters: {'learning_rate': 0.007257390836093989, 'booster': 'dart', 'gamma': 0.7999999999999999, 'lambda': 0.0012328733134160039, 'reg_alpha': 5.802858642439617, 'subsample': 0.5870937268700717, 'colsample_bytree': 0.9958656345535174, 'max_depth': 15, 'min_child_weight': 8, 'scale_pos_weight': 39.173683614826516}. Best is trial 13 with value: 0.4749518304431599.\n",
      "[I 2024-01-23 13:35:37,751] Trial 28 finished with value: 0.4000000000000001 and parameters: {'learning_rate': 0.00029560730649089774, 'booster': 'dart', 'gamma': 0.7, 'lambda': 0.006715432817162821, 'reg_alpha': 8.931225465559223, 'subsample': 0.48838655295477357, 'colsample_bytree': 0.8092917673057355, 'max_depth': 21, 'min_child_weight': 6, 'scale_pos_weight': 37.31557412937684}. Best is trial 13 with value: 0.4749518304431599.\n",
      "[I 2024-01-23 13:35:56,255] Trial 29 finished with value: 0.4716459197786999 and parameters: {'learning_rate': 0.0008660701624396508, 'booster': 'gbtree', 'gamma': 0.7, 'lambda': 8.738854901928976e-05, 'reg_alpha': 4.436286169622186, 'subsample': 0.7983612920950615, 'colsample_bytree': 0.7262979545956822, 'max_depth': 13, 'min_child_weight': 1, 'scale_pos_weight': 36.200764037346886}. Best is trial 13 with value: 0.4749518304431599.\n",
      "[I 2024-01-23 13:36:15,306] Trial 30 finished with value: 0.4483985765124555 and parameters: {'learning_rate': 0.001124465225800484, 'booster': 'gbtree', 'gamma': 0.7999999999999999, 'lambda': 1.8549926778542857e-05, 'reg_alpha': 4.330214208705596, 'subsample': 0.793153508227291, 'colsample_bytree': 0.7276569082135098, 'max_depth': 13, 'min_child_weight': 1, 'scale_pos_weight': 34.02485783117804}. Best is trial 13 with value: 0.4749518304431599.\n",
      "[I 2024-01-23 13:36:40,713] Trial 31 finished with value: 0.4755813953488372 and parameters: {'learning_rate': 0.0007601960690795547, 'booster': 'gbtree', 'gamma': 0.7, 'lambda': 8.991856579997954e-05, 'reg_alpha': 6.664964357327912, 'subsample': 0.8658679216716312, 'colsample_bytree': 0.7561273872785819, 'max_depth': 11, 'min_child_weight': 2, 'scale_pos_weight': 36.42209346924987}. Best is trial 31 with value: 0.4755813953488372.\n",
      "[I 2024-01-23 13:37:00,127] Trial 32 finished with value: 0.45679012345679015 and parameters: {'learning_rate': 0.0007577369336092323, 'booster': 'gbtree', 'gamma': 0.7, 'lambda': 1.1773372910335148e-05, 'reg_alpha': 4.8666211060451, 'subsample': 0.8719847436475413, 'colsample_bytree': 0.6853502760802783, 'max_depth': 13, 'min_child_weight': 2, 'scale_pos_weight': 35.910612540285285}. Best is trial 31 with value: 0.4755813953488372.\n",
      "[I 2024-01-23 13:37:19,496] Trial 33 finished with value: 0.4495575221238939 and parameters: {'learning_rate': 0.0024747678632513993, 'booster': 'gbtree', 'gamma': 0.7, 'lambda': 0.00012726340045129573, 'reg_alpha': 3.646261396043033, 'subsample': 0.9420068044020367, 'colsample_bytree': 0.7681053857263759, 'max_depth': 11, 'min_child_weight': 2, 'scale_pos_weight': 35.14164468016138}. Best is trial 31 with value: 0.4755813953488372.\n",
      "[I 2024-01-23 13:37:39,789] Trial 34 finished with value: 0.422087745839637 and parameters: {'learning_rate': 0.0006948642351143713, 'booster': 'gbtree', 'gamma': 0.7, 'lambda': 3.066795357662051e-06, 'reg_alpha': 5.877912419036788, 'subsample': 0.7634036930724473, 'colsample_bytree': 0.7284225335035377, 'max_depth': 15, 'min_child_weight': 2, 'scale_pos_weight': 36.99619813845353}. Best is trial 31 with value: 0.4755813953488372.\n",
      "[I 2024-01-23 13:37:47,226] Trial 35 finished with value: 0.3710715638015903 and parameters: {'learning_rate': 0.0012642681401433865, 'booster': 'gbtree', 'gamma': 0.7999999999999999, 'lambda': 5.0421287607279976e-05, 'reg_alpha': 4.96224185756051, 'subsample': 0.8572203538242527, 'colsample_bytree': 0.6813054398520982, 'max_depth': 5, 'min_child_weight': 1, 'scale_pos_weight': 32.34362544295586}. Best is trial 31 with value: 0.4755813953488372.\n",
      "[I 2024-01-23 13:38:06,714] Trial 36 finished with value: 0.4667066586682663 and parameters: {'learning_rate': 0.0017138513144323226, 'booster': 'gbtree', 'gamma': 0.7, 'lambda': 3.21844836696002e-06, 'reg_alpha': 1.372967604912831, 'subsample': 0.6835949226485152, 'colsample_bytree': 0.8411455299167954, 'max_depth': 11, 'min_child_weight': 3, 'scale_pos_weight': 38.203293920767884}. Best is trial 31 with value: 0.4755813953488372.\n",
      "[I 2024-01-23 13:38:36,255] Trial 37 finished with value: 0.40863787375415284 and parameters: {'learning_rate': 0.005688579400659469, 'booster': 'gbtree', 'gamma': 0.8999999999999999, 'lambda': 0.00010345411823750581, 'reg_alpha': 8.029743364923847, 'subsample': 0.8049889425050667, 'colsample_bytree': 0.6503853607446415, 'max_depth': 19, 'min_child_weight': 1, 'scale_pos_weight': 36.07970352159331}. Best is trial 31 with value: 0.4755813953488372.\n",
      "[I 2024-01-23 13:38:54,715] Trial 38 finished with value: 0.40607513988808946 and parameters: {'learning_rate': 0.03817146807144227, 'booster': 'gbtree', 'gamma': 0.7, 'lambda': 2.5245869305148763e-05, 'reg_alpha': 5.377077072807333, 'subsample': 0.9140305534836562, 'colsample_bytree': 0.5526882872571466, 'max_depth': 15, 'min_child_weight': 2, 'scale_pos_weight': 34.11406188856}. Best is trial 31 with value: 0.4755813953488372.\n",
      "[I 2024-01-23 13:39:22,545] Trial 39 finished with value: 0.3706233988044407 and parameters: {'learning_rate': 0.00030357598009000947, 'booster': 'gbtree', 'gamma': 0.7999999999999999, 'lambda': 6.491009452156901e-06, 'reg_alpha': 8.902311688171235, 'subsample': 0.9945622481689039, 'colsample_bytree': 0.5991007682018988, 'max_depth': 25, 'min_child_weight': 3, 'scale_pos_weight': 37.088395084843235}. Best is trial 31 with value: 0.4755813953488372.\n",
      "[I 2024-01-23 13:39:41,034] Trial 40 finished with value: 0.3884156729131176 and parameters: {'learning_rate': 0.00017847718511598343, 'booster': 'gbtree', 'gamma': 0.7, 'lambda': 7.694811853207545e-07, 'reg_alpha': 3.0813797082529453, 'subsample': 0.6336145492653953, 'colsample_bytree': 0.7059781213274221, 'max_depth': 17, 'min_child_weight': 4, 'scale_pos_weight': 38.6757136085961}. Best is trial 31 with value: 0.4755813953488372.\n",
      "[I 2024-01-23 13:40:01,928] Trial 41 finished with value: 0.45854562297359885 and parameters: {'learning_rate': 0.0005693903084363606, 'booster': 'dart', 'gamma': 0.7, 'lambda': 0.0005437263405051496, 'reg_alpha': 6.631335662177261, 'subsample': 0.7405067834207434, 'colsample_bytree': 0.9735241426772325, 'max_depth': 9, 'min_child_weight': 9, 'scale_pos_weight': 36.41369141438425}. Best is trial 31 with value: 0.4755813953488372.\n",
      "[I 2024-01-23 13:40:48,031] Trial 42 finished with value: 0.44240282685512367 and parameters: {'learning_rate': 0.0004239962309790255, 'booster': 'dart', 'gamma': 0.7, 'lambda': 0.0015143474241091602, 'reg_alpha': 6.2653863727383605, 'subsample': 0.536526151112166, 'colsample_bytree': 0.8847584318348832, 'max_depth': 13, 'min_child_weight': 8, 'scale_pos_weight': 35.376584369698286}. Best is trial 31 with value: 0.4755813953488372.\n",
      "[I 2024-01-23 13:41:08,616] Trial 43 finished with value: 0.427986906710311 and parameters: {'learning_rate': 0.0009957625583380371, 'booster': 'gbtree', 'gamma': 0.7, 'lambda': 0.00030986577799444387, 'reg_alpha': 7.08341134514791, 'subsample': 0.8233776092896514, 'colsample_bytree': 0.9407174383995857, 'max_depth': 7, 'min_child_weight': 9, 'scale_pos_weight': 36.0375899092829}. Best is trial 31 with value: 0.4755813953488372.\n",
      "[I 2024-01-23 13:41:40,748] Trial 44 finished with value: 0.48878048780487804 and parameters: {'learning_rate': 0.00011489831756711773, 'booster': 'dart', 'gamma': 0.7, 'lambda': 0.01140075576464219, 'reg_alpha': 7.870268962790938, 'subsample': 0.6246284576862319, 'colsample_bytree': 0.7819254440504576, 'max_depth': 9, 'min_child_weight': 7, 'scale_pos_weight': 34.67696581281655}. Best is trial 44 with value: 0.48878048780487804.\n",
      "[I 2024-01-23 13:42:14,031] Trial 45 finished with value: 0.46878980891719746 and parameters: {'learning_rate': 0.00013347653746581504, 'booster': 'gbtree', 'gamma': 1.0, 'lambda': 0.01435728681498014, 'reg_alpha': 7.883366289947469, 'subsample': 0.6133364073081252, 'colsample_bytree': 0.7622771070967439, 'max_depth': 11, 'min_child_weight': 6, 'scale_pos_weight': 34.7330668782056}. Best is trial 44 with value: 0.48878048780487804.\n",
      "[I 2024-01-23 13:42:21,640] Trial 46 finished with value: 0.34435857805255027 and parameters: {'learning_rate': 0.0024766439242133076, 'booster': 'dart', 'gamma': 0.7, 'lambda': 0.06414578568742912, 'reg_alpha': 8.586888542759597, 'subsample': 0.6716886494234907, 'colsample_bytree': 0.7490110068253794, 'max_depth': 3, 'min_child_weight': 2, 'scale_pos_weight': 33.442438354644246}. Best is trial 44 with value: 0.48878048780487804.\n",
      "[I 2024-01-23 13:42:52,431] Trial 47 finished with value: 0.460761817347407 and parameters: {'learning_rate': 0.00010557308376484489, 'booster': 'dart', 'gamma': 0.8999999999999999, 'lambda': 0.24044511426213272, 'reg_alpha': 9.341404460416005, 'subsample': 0.7253642841810478, 'colsample_bytree': 0.834217852705074, 'max_depth': 9, 'min_child_weight': 8, 'scale_pos_weight': 37.65955456723434}. Best is trial 44 with value: 0.48878048780487804.\n",
      "[I 2024-01-23 13:43:27,696] Trial 48 finished with value: 0.4705202312138728 and parameters: {'learning_rate': 0.0002628671271643659, 'booster': 'gbtree', 'gamma': 0.7999999999999999, 'lambda': 0.0029186215442185176, 'reg_alpha': 7.468589935472026, 'subsample': 0.7715082433189691, 'colsample_bytree': 0.7864367212432077, 'max_depth': 11, 'min_child_weight': 5, 'scale_pos_weight': 34.5593133844432}. Best is trial 44 with value: 0.48878048780487804.\n",
      "[I 2024-01-23 13:44:56,066] Trial 49 finished with value: 0.31316042267050914 and parameters: {'learning_rate': 0.00021873968842506676, 'booster': 'gbtree', 'gamma': 0.7999999999999999, 'lambda': 0.0028534948117097036, 'reg_alpha': 8.400355308922927, 'subsample': 0.9574575542570873, 'colsample_bytree': 0.7850034857428909, 'max_depth': 29, 'min_child_weight': 7, 'scale_pos_weight': 32.771778123355006}. Best is trial 44 with value: 0.48878048780487804.\n",
      "[I 2024-01-23 13:45:21,970] Trial 50 finished with value: 0.3602058319039451 and parameters: {'learning_rate': 0.0003274051606881244, 'booster': 'gbtree', 'gamma': 0.7999999999999999, 'lambda': 0.00017636432311286538, 'reg_alpha': 7.7309042071896075, 'subsample': 0.7700968764158198, 'colsample_bytree': 0.7977618054180877, 'max_depth': 19, 'min_child_weight': 10, 'scale_pos_weight': 33.85790254648704}. Best is trial 44 with value: 0.48878048780487804.\n",
      "[I 2024-01-23 13:45:39,978] Trial 51 finished with value: 0.47362250879249707 and parameters: {'learning_rate': 0.00022542076279595836, 'booster': 'gbtree', 'gamma': 0.7999999999999999, 'lambda': 0.009313462265169981, 'reg_alpha': 7.273978414879789, 'subsample': 0.8913659914506379, 'colsample_bytree': 0.7410208735022736, 'max_depth': 11, 'min_child_weight': 5, 'scale_pos_weight': 34.42201402631389}. Best is trial 44 with value: 0.48878048780487804.\n",
      "[I 2024-01-23 13:45:51,441] Trial 52 finished with value: 0.4228896103896103 and parameters: {'learning_rate': 0.00018000183490031704, 'booster': 'gbtree', 'gamma': 0.7999999999999999, 'lambda': 0.004352982410879813, 'reg_alpha': 7.0186586781075775, 'subsample': 0.9021013357640397, 'colsample_bytree': 0.7387105651048576, 'max_depth': 7, 'min_child_weight': 4, 'scale_pos_weight': 35.00270528676864}. Best is trial 44 with value: 0.48878048780487804.\n",
      "[I 2024-01-23 13:46:05,103] Trial 53 finished with value: 0.47410926365795725 and parameters: {'learning_rate': 0.00014566265196342098, 'booster': 'gbtree', 'gamma': 0.7999999999999999, 'lambda': 0.0004762347542348057, 'reg_alpha': 7.468343419985005, 'subsample': 0.8610030320213481, 'colsample_bytree': 0.7061877238639063, 'max_depth': 9, 'min_child_weight': 5, 'scale_pos_weight': 35.79819596299126}. Best is trial 44 with value: 0.48878048780487804.\n",
      "[I 2024-01-23 13:46:18,872] Trial 54 finished with value: 0.4756860857005296 and parameters: {'learning_rate': 0.00013589373293459173, 'booster': 'gbtree', 'gamma': 0.7999999999999999, 'lambda': 0.0006964903748676651, 'reg_alpha': 5.932436334070651, 'subsample': 0.8884847878309741, 'colsample_bytree': 0.7064992384042651, 'max_depth': 9, 'min_child_weight': 1, 'scale_pos_weight': 35.39187186617768}. Best is trial 44 with value: 0.48878048780487804.\n",
      "[I 2024-01-23 13:46:23,424] Trial 55 finished with value: 0.30160550458715596 and parameters: {'learning_rate': 0.00012954663525166062, 'booster': 'gbtree', 'gamma': 0.7999999999999999, 'lambda': 0.0005749214642665768, 'reg_alpha': 5.78438999220699, 'subsample': 0.9478829838146057, 'colsample_bytree': 0.6486935875519853, 'max_depth': 3, 'min_child_weight': 6, 'scale_pos_weight': 35.58362436641926}. Best is trial 44 with value: 0.48878048780487804.\n",
      "[I 2024-01-23 13:46:31,089] Trial 56 finished with value: 0.38325991189427316 and parameters: {'learning_rate': 0.00010096045255627354, 'booster': 'gbtree', 'gamma': 0.8999999999999999, 'lambda': 0.0017310788972602134, 'reg_alpha': 6.463218784214828, 'subsample': 0.8964406480295396, 'colsample_bytree': 0.6957079553118173, 'max_depth': 5, 'min_child_weight': 5, 'scale_pos_weight': 35.73297389825496}. Best is trial 44 with value: 0.48878048780487804.\n",
      "[I 2024-01-23 13:46:43,903] Trial 57 finished with value: 0.45158371040723977 and parameters: {'learning_rate': 0.00015194922126783673, 'booster': 'gbtree', 'gamma': 0.7999999999999999, 'lambda': 0.00038538610101615663, 'reg_alpha': 8.074807630012579, 'subsample': 0.853159809579973, 'colsample_bytree': 0.6191052466914098, 'max_depth': 9, 'min_child_weight': 7, 'scale_pos_weight': 36.80183220252511}. Best is trial 44 with value: 0.48878048780487804.\n",
      "[I 2024-01-23 13:46:57,558] Trial 58 finished with value: 0.4746864839758476 and parameters: {'learning_rate': 0.00036057289727633307, 'booster': 'gbtree', 'gamma': 0.7999999999999999, 'lambda': 0.008599011878349166, 'reg_alpha': 6.752134090030204, 'subsample': 0.9777601391602859, 'colsample_bytree': 0.6627758816710102, 'max_depth': 9, 'min_child_weight': 9, 'scale_pos_weight': 35.33962130078812}. Best is trial 44 with value: 0.48878048780487804.\n",
      "[I 2024-01-23 13:47:11,157] Trial 59 finished with value: 0.4517857142857143 and parameters: {'learning_rate': 0.0003669977987782705, 'booster': 'gbtree', 'gamma': 0.7999999999999999, 'lambda': 0.02726885487227169, 'reg_alpha': 6.718953483679347, 'subsample': 0.9774294530893151, 'colsample_bytree': 0.6187539735611596, 'max_depth': 9, 'min_child_weight': 9, 'scale_pos_weight': 35.345456045907866}. Best is trial 44 with value: 0.48878048780487804.\n",
      "[I 2024-01-23 13:47:14,921] Trial 60 finished with value: 0.3957219251336898 and parameters: {'learning_rate': 0.00016761352586139197, 'booster': 'gbtree', 'gamma': 0.8999999999999999, 'lambda': 0.0008460588655131988, 'reg_alpha': 5.6040388673592, 'subsample': 0.2756773793543308, 'colsample_bytree': 0.6694508551491698, 'max_depth': 5, 'min_child_weight': 9, 'scale_pos_weight': 30.24529356370465}. Best is trial 44 with value: 0.48878048780487804.\n",
      "[I 2024-01-23 13:47:26,626] Trial 61 finished with value: 0.4316546762589928 and parameters: {'learning_rate': 0.00024055271804322362, 'booster': 'gbtree', 'gamma': 0.7999999999999999, 'lambda': 0.009250342820641418, 'reg_alpha': 7.435231096320853, 'subsample': 0.8808864373318868, 'colsample_bytree': 0.7058988720224603, 'max_depth': 7, 'min_child_weight': 8, 'scale_pos_weight': 34.18612569040613}. Best is trial 44 with value: 0.48878048780487804.\n",
      "[I 2024-01-23 13:47:37,708] Trial 62 finished with value: 0.4178515007898894 and parameters: {'learning_rate': 0.0005590178442332051, 'booster': 'gbtree', 'gamma': 0.7999999999999999, 'lambda': 0.04497983017978965, 'reg_alpha': 6.085718688231916, 'subsample': 0.9652178649900559, 'colsample_bytree': 0.6662412587175776, 'max_depth': 7, 'min_child_weight': 7, 'scale_pos_weight': 34.88511215352841}. Best is trial 44 with value: 0.48878048780487804.\n",
      "[I 2024-01-23 13:47:48,588] Trial 63 finished with value: 0.4674250258531541 and parameters: {'learning_rate': 0.00020207525976279766, 'booster': 'gbtree', 'gamma': 0.7999999999999999, 'lambda': 0.004870004542272246, 'reg_alpha': 6.978250985563612, 'subsample': 0.5590998454565431, 'colsample_bytree': 0.7084320962183486, 'max_depth': 9, 'min_child_weight': 9, 'scale_pos_weight': 35.70696177811126}. Best is trial 44 with value: 0.48878048780487804.\n",
      "[I 2024-01-23 13:48:09,764] Trial 64 finished with value: 0.46803519061583587 and parameters: {'learning_rate': 0.00012927824389008297, 'booster': 'gbtree', 'gamma': 0.7999999999999999, 'lambda': 0.018558944806451823, 'reg_alpha': 7.264014660616192, 'subsample': 0.9299614367834738, 'colsample_bytree': 0.7579087759135449, 'max_depth': 11, 'min_child_weight': 8, 'scale_pos_weight': 33.695933402043806}. Best is trial 44 with value: 0.48878048780487804.\n",
      "[I 2024-01-23 13:48:29,424] Trial 65 finished with value: 0.46229050279329614 and parameters: {'learning_rate': 0.0002538703388008841, 'booster': 'gbtree', 'gamma': 0.7999999999999999, 'lambda': 0.0017654614889931362, 'reg_alpha': 6.447794623894092, 'subsample': 0.8348957912795467, 'colsample_bytree': 0.7412185346872144, 'max_depth': 13, 'min_child_weight': 6, 'scale_pos_weight': 35.252056042467935}. Best is trial 44 with value: 0.48878048780487804.\n",
      "[I 2024-01-23 13:48:43,460] Trial 66 finished with value: 0.4619744922059519 and parameters: {'learning_rate': 0.0003689965185659535, 'booster': 'dart', 'gamma': 0.7999999999999999, 'lambda': 0.14708718675442184, 'reg_alpha': 7.760853000463915, 'subsample': 0.87167915963462, 'colsample_bytree': 0.628012834709694, 'max_depth': 9, 'min_child_weight': 10, 'scale_pos_weight': 36.55666203226428}. Best is trial 44 with value: 0.48878048780487804.\n",
      "[I 2024-01-23 13:48:54,217] Trial 67 finished with value: 0.41502417255485313 and parameters: {'learning_rate': 0.00048355263700156043, 'booster': 'gbtree', 'gamma': 0.7999999999999999, 'lambda': 0.00021708465878273326, 'reg_alpha': 6.832982049167939, 'subsample': 0.929652394200874, 'colsample_bytree': 0.5823000281195491, 'max_depth': 7, 'min_child_weight': 4, 'scale_pos_weight': 34.37335844980218}. Best is trial 44 with value: 0.48878048780487804.\n",
      "[I 2024-01-23 13:49:01,471] Trial 68 finished with value: 0.3208996160175535 and parameters: {'learning_rate': 0.00012414918119990306, 'booster': 'dart', 'gamma': 0.8999999999999999, 'lambda': 3.6034697159673294e-05, 'reg_alpha': 6.029169290120112, 'subsample': 0.9943701856090894, 'colsample_bytree': 0.7181674011527343, 'max_depth': 3, 'min_child_weight': 5, 'scale_pos_weight': 37.20583635003206}. Best is trial 44 with value: 0.48878048780487804.\n",
      "[I 2024-01-23 13:49:13,078] Trial 69 finished with value: 0.4659090909090909 and parameters: {'learning_rate': 0.00020259020052163285, 'booster': 'gbtree', 'gamma': 0.7999999999999999, 'lambda': 0.000759940089988533, 'reg_alpha': 8.28457826123391, 'subsample': 0.5062119545616787, 'colsample_bytree': 0.6674189581705637, 'max_depth': 11, 'min_child_weight': 3, 'scale_pos_weight': 36.24620724053616}. Best is trial 44 with value: 0.48878048780487804.\n",
      "[I 2024-01-23 13:49:22,698] Trial 70 finished with value: 0.3922144693352919 and parameters: {'learning_rate': 0.0006523409142681226, 'booster': 'dart', 'gamma': 0.7999999999999999, 'lambda': 9.890238646618212e-05, 'reg_alpha': 5.141570364497849, 'subsample': 0.9042481445919348, 'colsample_bytree': 0.6954131780566094, 'max_depth': 5, 'min_child_weight': 8, 'scale_pos_weight': 34.74818353193903}. Best is trial 44 with value: 0.48878048780487804.\n",
      "[I 2024-01-23 13:49:41,491] Trial 71 finished with value: 0.45454545454545453 and parameters: {'learning_rate': 0.0009376506966613467, 'booster': 'gbtree', 'gamma': 0.7, 'lambda': 0.0001216262072654422, 'reg_alpha': 4.594028917949439, 'subsample': 0.7970839916071881, 'colsample_bytree': 0.726160167141155, 'max_depth': 13, 'min_child_weight': 1, 'scale_pos_weight': 36.15957966332623}. Best is trial 44 with value: 0.48878048780487804.\n",
      "[I 2024-01-23 13:49:56,305] Trial 72 finished with value: 0.4721189591078067 and parameters: {'learning_rate': 0.000820637643274189, 'booster': 'gbtree', 'gamma': 0.7, 'lambda': 8.546980827413255e-05, 'reg_alpha': 7.627634453810506, 'subsample': 0.8519956969093703, 'colsample_bytree': 0.7737714760024438, 'max_depth': 9, 'min_child_weight': 1, 'scale_pos_weight': 35.81970147024996}. Best is trial 44 with value: 0.48878048780487804.\n",
      "[I 2024-01-23 13:50:02,160] Trial 73 finished with value: 0.449002849002849 and parameters: {'learning_rate': 0.0013324079263660625, 'booster': 'gbtree', 'gamma': 0.7, 'lambda': 7.703154166948944e-05, 'reg_alpha': 8.633144418700764, 'subsample': 0.20228489383037956, 'colsample_bytree': 0.7711104633296924, 'max_depth': 9, 'min_child_weight': 1, 'scale_pos_weight': 35.6822485126076}. Best is trial 44 with value: 0.48878048780487804.\n",
      "[I 2024-01-23 13:50:13,220] Trial 74 finished with value: 0.4420113544201135 and parameters: {'learning_rate': 0.0001565369765976674, 'booster': 'gbtree', 'gamma': 0.7999999999999999, 'lambda': 0.007533646367560857, 'reg_alpha': 7.5610220446829635, 'subsample': 0.855733303664067, 'colsample_bytree': 0.7477866941031448, 'max_depth': 7, 'min_child_weight': 1, 'scale_pos_weight': 35.87172619510277}. Best is trial 44 with value: 0.48878048780487804.\n",
      "[I 2024-01-23 13:50:32,155] Trial 75 finished with value: 0.47799442896935934 and parameters: {'learning_rate': 0.0003827462830989739, 'booster': 'gbtree', 'gamma': 0.7, 'lambda': 1.6520970555006732e-05, 'reg_alpha': 7.2236164047657985, 'subsample': 0.8857829455027073, 'colsample_bytree': 0.8052968321901812, 'max_depth': 11, 'min_child_weight': 2, 'scale_pos_weight': 36.79216935575216}. Best is trial 44 with value: 0.48878048780487804.\n",
      "[I 2024-01-23 13:50:51,878] Trial 76 finished with value: 0.4668192219679634 and parameters: {'learning_rate': 0.0003246616984590309, 'booster': 'gbtree', 'gamma': 0.7999999999999999, 'lambda': 1.0253802110296694e-07, 'reg_alpha': 7.222190693457259, 'subsample': 0.8823566943600218, 'colsample_bytree': 0.8273841048070373, 'max_depth': 11, 'min_child_weight': 2, 'scale_pos_weight': 37.609386007180554}. Best is trial 44 with value: 0.48878048780487804.\n",
      "[I 2024-01-23 13:51:18,562] Trial 77 finished with value: 0.4391988555078683 and parameters: {'learning_rate': 0.0004374717724698108, 'booster': 'dart', 'gamma': 0.7, 'lambda': 5.880760503077262e-06, 'reg_alpha': 6.793846227772192, 'subsample': 0.827446860599943, 'colsample_bytree': 0.8522607909222685, 'max_depth': 15, 'min_child_weight': 3, 'scale_pos_weight': 36.8923681165345}. Best is trial 44 with value: 0.48878048780487804.\n",
      "[I 2024-01-23 13:51:40,596] Trial 78 finished with value: 0.46714522363335176 and parameters: {'learning_rate': 0.00028043215736416326, 'booster': 'gbtree', 'gamma': 0.7999999999999999, 'lambda': 2.4910533315914817e-05, 'reg_alpha': 6.323335535035461, 'subsample': 0.9653430219052821, 'colsample_bytree': 0.8030087061090152, 'max_depth': 11, 'min_child_weight': 2, 'scale_pos_weight': 37.41054509171063}. Best is trial 44 with value: 0.48878048780487804.\n",
      "[I 2024-01-23 13:51:52,428] Trial 79 finished with value: 0.4052287581699347 and parameters: {'learning_rate': 0.00037827663189767815, 'booster': 'gbtree', 'gamma': 0.7, 'lambda': 0.00021190642044448656, 'reg_alpha': 8.11981444799438, 'subsample': 0.37906611032130255, 'colsample_bytree': 0.6899727224198107, 'max_depth': 13, 'min_child_weight': 7, 'scale_pos_weight': 37.959573055654594}. Best is trial 44 with value: 0.48878048780487804.\n",
      "[I 2024-01-23 13:52:12,615] Trial 80 finished with value: 0.4119496855345912 and parameters: {'learning_rate': 0.0002301586357437756, 'booster': 'dart', 'gamma': 1.0, 'lambda': 0.002025088348518435, 'reg_alpha': 6.562446842996107, 'subsample': 0.6317070626046916, 'colsample_bytree': 0.7143952723537932, 'max_depth': 15, 'min_child_weight': 2, 'scale_pos_weight': 33.32238335846235}. Best is trial 44 with value: 0.48878048780487804.\n",
      "[I 2024-01-23 13:52:28,229] Trial 81 finished with value: 0.4748858447488585 and parameters: {'learning_rate': 0.0006337514887583474, 'booster': 'gbtree', 'gamma': 0.7, 'lambda': 1.0054607200528182e-05, 'reg_alpha': 7.4388013691446675, 'subsample': 0.9268015020719579, 'colsample_bytree': 0.7936373418219296, 'max_depth': 9, 'min_child_weight': 1, 'scale_pos_weight': 36.543330828772056}. Best is trial 44 with value: 0.48878048780487804.\n",
      "[I 2024-01-23 13:52:44,787] Trial 82 finished with value: 0.46641791044776115 and parameters: {'learning_rate': 0.000595041314367349, 'booster': 'gbtree', 'gamma': 0.7, 'lambda': 1.503160256267052e-05, 'reg_alpha': 7.187997389910229, 'subsample': 0.9335820790674795, 'colsample_bytree': 0.8235559877843681, 'max_depth': 9, 'min_child_weight': 1, 'scale_pos_weight': 36.435151865500025}. Best is trial 44 with value: 0.48878048780487804.\n",
      "[I 2024-01-23 13:53:03,729] Trial 83 finished with value: 0.47085714285714286 and parameters: {'learning_rate': 0.00017377218407250189, 'booster': 'gbtree', 'gamma': 0.7, 'lambda': 2.1528566430962586e-06, 'reg_alpha': 7.8866471394410524, 'subsample': 0.9126881808046343, 'colsample_bytree': 0.7932139479251599, 'max_depth': 11, 'min_child_weight': 3, 'scale_pos_weight': 36.65723657778934}. Best is trial 44 with value: 0.48878048780487804.\n",
      "[I 2024-01-23 13:53:18,349] Trial 84 finished with value: 0.4734811957569913 and parameters: {'learning_rate': 0.00012338684672388362, 'booster': 'gbtree', 'gamma': 0.7, 'lambda': 4.1028587165403214e-05, 'reg_alpha': 7.384006206090152, 'subsample': 0.8899782460829674, 'colsample_bytree': 0.7557107984510611, 'max_depth': 9, 'min_child_weight': 2, 'scale_pos_weight': 35.20278983638572}. Best is trial 44 with value: 0.48878048780487804.\n",
      "[I 2024-01-23 13:53:30,205] Trial 85 finished with value: 0.4298696167522718 and parameters: {'learning_rate': 0.0003238369471304212, 'booster': 'gbtree', 'gamma': 0.7, 'lambda': 7.489858712947598e-06, 'reg_alpha': 9.187011108181494, 'subsample': 0.9480784455316655, 'colsample_bytree': 0.7371602627331321, 'max_depth': 7, 'min_child_weight': 1, 'scale_pos_weight': 37.05033701207591}. Best is trial 44 with value: 0.48878048780487804.\n",
      "[I 2024-01-23 13:53:45,145] Trial 86 finished with value: 0.47855811062771914 and parameters: {'learning_rate': 0.000506044921547766, 'booster': 'gbtree', 'gamma': 0.7, 'lambda': 0.00044802544889705885, 'reg_alpha': 6.934313093409277, 'subsample': 0.5760337757543678, 'colsample_bytree': 0.8075151292472513, 'max_depth': 11, 'min_child_weight': 5, 'scale_pos_weight': 35.46716740865858}. Best is trial 44 with value: 0.48878048780487804.\n",
      "[I 2024-01-23 13:54:01,969] Trial 87 finished with value: 0.45569620253164556 and parameters: {'learning_rate': 0.0006987354973043817, 'booster': 'gbtree', 'gamma': 0.7, 'lambda': 5.739815108673763e-05, 'reg_alpha': 6.889803331546773, 'subsample': 0.573856452798415, 'colsample_bytree': 0.8094650575487007, 'max_depth': 13, 'min_child_weight': 2, 'scale_pos_weight': 36.31987804063053}. Best is trial 44 with value: 0.48878048780487804.\n",
      "[I 2024-01-23 13:54:13,373] Trial 88 finished with value: 0.44745222929936307 and parameters: {'learning_rate': 0.0004878246211773522, 'booster': 'dart', 'gamma': 0.7, 'lambda': 0.00044385916606011575, 'reg_alpha': 5.630808060989397, 'subsample': 0.6044393991210597, 'colsample_bytree': 0.7821367126585693, 'max_depth': 7, 'min_child_weight': 6, 'scale_pos_weight': 35.50490892835008}. Best is trial 44 with value: 0.48878048780487804.\n",
      "[I 2024-01-23 13:54:25,763] Trial 89 finished with value: 0.4536509580528224 and parameters: {'learning_rate': 0.0010746892960056204, 'booster': 'gbtree', 'gamma': 0.7, 'lambda': 0.00015602153295917308, 'reg_alpha': 6.0688903038064295, 'subsample': 0.5224260354064068, 'colsample_bytree': 0.8792856706577772, 'max_depth': 9, 'min_child_weight': 4, 'scale_pos_weight': 36.07162095686266}. Best is trial 44 with value: 0.48878048780487804.\n",
      "[I 2024-01-23 13:54:42,420] Trial 90 finished with value: 0.46537059538274606 and parameters: {'learning_rate': 0.0014983601503820868, 'booster': 'gbtree', 'gamma': 0.7, 'lambda': 0.0011311960670800799, 'reg_alpha': 5.378607083634822, 'subsample': 0.6681344737120398, 'colsample_bytree': 0.8540832982966415, 'max_depth': 11, 'min_child_weight': 1, 'scale_pos_weight': 35.46378092757534}. Best is trial 44 with value: 0.48878048780487804.\n",
      "[I 2024-01-23 13:55:00,299] Trial 91 finished with value: 0.4793964016250725 and parameters: {'learning_rate': 0.0004147093211182783, 'booster': 'gbtree', 'gamma': 0.7, 'lambda': 0.0002539216208141585, 'reg_alpha': 7.719210976012602, 'subsample': 0.865954535046158, 'colsample_bytree': 0.7647064216088085, 'max_depth': 11, 'min_child_weight': 5, 'scale_pos_weight': 35.06604020192111}. Best is trial 44 with value: 0.48878048780487804.\n",
      "[I 2024-01-23 13:55:19,157] Trial 92 finished with value: 0.47775175644028106 and parameters: {'learning_rate': 0.0005349867259589494, 'booster': 'gbtree', 'gamma': 0.7, 'lambda': 0.0003421619174309675, 'reg_alpha': 8.681686053548026, 'subsample': 0.8677296226289517, 'colsample_bytree': 0.8176827989766278, 'max_depth': 11, 'min_child_weight': 5, 'scale_pos_weight': 34.87553454969508}. Best is trial 44 with value: 0.48878048780487804.\n",
      "[I 2024-01-23 13:55:39,297] Trial 93 finished with value: 0.46455331412103745 and parameters: {'learning_rate': 0.0006134330474159885, 'booster': 'gbtree', 'gamma': 0.7, 'lambda': 2.751857979678927e-05, 'reg_alpha': 8.510306753731168, 'subsample': 0.9777684684679584, 'colsample_bytree': 0.8143158437465897, 'max_depth': 11, 'min_child_weight': 5, 'scale_pos_weight': 35.01527754355313}. Best is trial 44 with value: 0.48878048780487804.\n",
      "[I 2024-01-23 13:55:57,847] Trial 94 finished with value: 0.44583333333333336 and parameters: {'learning_rate': 0.0004270134150499296, 'booster': 'gbtree', 'gamma': 0.7, 'lambda': 0.0002630507295938626, 'reg_alpha': 9.817141937207099, 'subsample': 0.7052951326956752, 'colsample_bytree': 0.7933876416772333, 'max_depth': 13, 'min_child_weight': 4, 'scale_pos_weight': 34.71310927450905}. Best is trial 44 with value: 0.48878048780487804.\n",
      "[I 2024-01-23 13:56:13,725] Trial 95 finished with value: 0.465005931198102 and parameters: {'learning_rate': 0.0008037053230238911, 'booster': 'gbtree', 'gamma': 0.7, 'lambda': 8.978822046737245e-06, 'reg_alpha': 8.234065177196099, 'subsample': 0.7421410005707783, 'colsample_bytree': 0.76433431087797, 'max_depth': 11, 'min_child_weight': 5, 'scale_pos_weight': 34.22171322997649}. Best is trial 44 with value: 0.48878048780487804.\n",
      "[I 2024-01-23 13:56:38,538] Trial 96 finished with value: 0.4401595744680851 and parameters: {'learning_rate': 0.0005071527005154623, 'booster': 'dart', 'gamma': 0.7, 'lambda': 1.9205226095910895e-06, 'reg_alpha': 7.67543448185254, 'subsample': 0.9177219430590893, 'colsample_bytree': 0.8387515383587016, 'max_depth': 13, 'min_child_weight': 9, 'scale_pos_weight': 35.18858885454112}. Best is trial 44 with value: 0.48878048780487804.\n",
      "[I 2024-01-23 13:56:51,945] Trial 97 finished with value: 0.4606741573033708 and parameters: {'learning_rate': 0.00037096938001918877, 'booster': 'gbtree', 'gamma': 0.7, 'lambda': 5.884386157643842e-05, 'reg_alpha': 7.9146991419362465, 'subsample': 0.5828509407896902, 'colsample_bytree': 0.8644799173234876, 'max_depth': 9, 'min_child_weight': 6, 'scale_pos_weight': 33.871079933579864}. Best is trial 44 with value: 0.48878048780487804.\n",
      "[I 2024-01-23 13:57:04,613] Trial 98 finished with value: 0.4408322496749025 and parameters: {'learning_rate': 0.0005381226554292985, 'booster': 'gbtree', 'gamma': 0.7, 'lambda': 4.572739332218954e-06, 'reg_alpha': 8.67379142136823, 'subsample': 0.4669098595914003, 'colsample_bytree': 0.8065964723883374, 'max_depth': 11, 'min_child_weight': 10, 'scale_pos_weight': 34.92899407605767}. Best is trial 44 with value: 0.48878048780487804.\n",
      "[I 2024-01-23 13:57:22,402] Trial 99 finished with value: 0.425925925925926 and parameters: {'learning_rate': 0.0007466242268098148, 'booster': 'gbtree', 'gamma': 0.7, 'lambda': 0.0006240423822375308, 'reg_alpha': 8.847449950370088, 'subsample': 0.5543582608700937, 'colsample_bytree': 0.8249927096265701, 'max_depth': 15, 'min_child_weight': 7, 'scale_pos_weight': 36.658669952886356}. Best is trial 44 with value: 0.48878048780487804.\n",
      "[I 2024-01-23 13:57:35,315] Trial 100 finished with value: 0.43334675795408784 and parameters: {'learning_rate': 0.00029548596329298006, 'booster': 'dart', 'gamma': 0.7, 'lambda': 0.00033575980970775824, 'reg_alpha': 7.01573600046682, 'subsample': 0.82196694678722, 'colsample_bytree': 0.7817574585637737, 'max_depth': 7, 'min_child_weight': 9, 'scale_pos_weight': 35.982592758682415}. Best is trial 44 with value: 0.48878048780487804.\n",
      "[I 2024-01-23 13:57:48,358] Trial 101 finished with value: 0.45872378402498887 and parameters: {'learning_rate': 0.00014662821178646607, 'booster': 'gbtree', 'gamma': 0.7, 'lambda': 0.0009562641719222207, 'reg_alpha': 7.411371402300142, 'subsample': 0.870892624111009, 'colsample_bytree': 0.6762589501613263, 'max_depth': 9, 'min_child_weight': 5, 'scale_pos_weight': 35.434868077871265}. Best is trial 44 with value: 0.48878048780487804.\n",
      "[I 2024-01-23 13:58:05,214] Trial 102 finished with value: 0.4537341474870832 and parameters: {'learning_rate': 0.00040874042434959625, 'booster': 'gbtree', 'gamma': 0.7, 'lambda': 0.0005318357919236218, 'reg_alpha': 6.668764469600267, 'subsample': 0.842916620907775, 'colsample_bytree': 0.9008255802722069, 'max_depth': 9, 'min_child_weight': 5, 'scale_pos_weight': 34.69686692839557}. Best is trial 44 with value: 0.48878048780487804.\n",
      "[I 2024-01-23 13:58:22,918] Trial 103 finished with value: 0.4701795020266358 and parameters: {'learning_rate': 0.0001853295025480306, 'booster': 'gbtree', 'gamma': 0.7, 'lambda': 0.00014379208847754133, 'reg_alpha': 6.343819901670958, 'subsample': 0.8591264240556286, 'colsample_bytree': 0.7721327494458091, 'max_depth': 11, 'min_child_weight': 4, 'scale_pos_weight': 36.47144543818653}. Best is trial 44 with value: 0.48878048780487804.\n",
      "[I 2024-01-23 13:58:38,558] Trial 104 finished with value: 0.46183206106870234 and parameters: {'learning_rate': 0.0006284392517897532, 'booster': 'gbtree', 'gamma': 0.7, 'lambda': 0.00036672323838395505, 'reg_alpha': 7.777581064047518, 'subsample': 0.9200316017293344, 'colsample_bytree': 0.7961316250344785, 'max_depth': 9, 'min_child_weight': 6, 'scale_pos_weight': 35.59704803900658}. Best is trial 44 with value: 0.48878048780487804.\n",
      "[I 2024-01-23 13:58:44,508] Trial 105 finished with value: 0.3559620119591981 and parameters: {'learning_rate': 0.0002575057501378502, 'booster': 'gbtree', 'gamma': 0.7, 'lambda': 0.004918599561245253, 'reg_alpha': 9.120726693152918, 'subsample': 0.6223569023660321, 'colsample_bytree': 0.6558931366499252, 'max_depth': 5, 'min_child_weight': 6, 'scale_pos_weight': 35.133932726320616}. Best is trial 44 with value: 0.48878048780487804.\n",
      "[I 2024-01-23 13:59:02,222] Trial 106 finished with value: 0.43875174662319516 and parameters: {'learning_rate': 0.00010905445368085229, 'booster': 'gbtree', 'gamma': 0.7, 'lambda': 1.6793652318628015e-05, 'reg_alpha': 1.918707881623659, 'subsample': 0.8697343010230945, 'colsample_bytree': 0.9249425698248536, 'max_depth': 9, 'min_child_weight': 8, 'scale_pos_weight': 36.841171862908176}. Best is trial 44 with value: 0.48878048780487804.\n",
      "[I 2024-01-23 13:59:16,399] Trial 107 finished with value: 0.4482758620689655 and parameters: {'learning_rate': 0.0008985122167042892, 'booster': 'gbtree', 'gamma': 0.7999999999999999, 'lambda': 0.0022976977404205907, 'reg_alpha': 6.966369268069073, 'subsample': 0.645240836124172, 'colsample_bytree': 0.6346889906938512, 'max_depth': 13, 'min_child_weight': 5, 'scale_pos_weight': 35.90518921218703}. Best is trial 44 with value: 0.48878048780487804.\n",
      "[I 2024-01-23 13:59:29,364] Trial 108 finished with value: 0.42539425798625147 and parameters: {'learning_rate': 0.00047819372803506823, 'booster': 'dart', 'gamma': 0.7, 'lambda': 0.0012129181883361307, 'reg_alpha': 8.17504562722424, 'subsample': 0.9993342672548077, 'colsample_bytree': 0.6993181873503667, 'max_depth': 7, 'min_child_weight': 5, 'scale_pos_weight': 34.55926161832132}. Best is trial 44 with value: 0.48878048780487804.\n",
      "[I 2024-01-23 13:59:45,908] Trial 109 finished with value: 0.49047893825735717 and parameters: {'learning_rate': 0.00456955795713425, 'booster': 'gbtree', 'gamma': 0.7999999999999999, 'lambda': 0.0002217914108994138, 'reg_alpha': 7.207360744203036, 'subsample': 0.8098534796065351, 'colsample_bytree': 0.7523278668983803, 'max_depth': 11, 'min_child_weight': 2, 'scale_pos_weight': 36.217626092315975}. Best is trial 109 with value: 0.49047893825735717.\n",
      "[I 2024-01-23 14:00:03,835] Trial 110 finished with value: 0.46666666666666673 and parameters: {'learning_rate': 0.003977973688523085, 'booster': 'gbtree', 'gamma': 0.7, 'lambda': 0.00023508711757687023, 'reg_alpha': 0.18031024964527287, 'subsample': 0.8964136523051933, 'colsample_bytree': 0.7559492105739157, 'max_depth': 11, 'min_child_weight': 2, 'scale_pos_weight': 35.35293586343062}. Best is trial 109 with value: 0.49047893825735717.\n",
      "[I 2024-01-23 14:00:19,531] Trial 111 finished with value: 0.47957371225577267 and parameters: {'learning_rate': 0.008444683396511398, 'booster': 'gbtree', 'gamma': 0.7999999999999999, 'lambda': 0.0007743309487577086, 'reg_alpha': 7.255891227889836, 'subsample': 0.7817465828118659, 'colsample_bytree': 0.7311972535044365, 'max_depth': 11, 'min_child_weight': 3, 'scale_pos_weight': 36.29718922517156}. Best is trial 109 with value: 0.49047893825735717.\n",
      "[I 2024-01-23 14:00:35,591] Trial 112 finished with value: 0.4945745288406625 and parameters: {'learning_rate': 0.008972922470399759, 'booster': 'gbtree', 'gamma': 0.7999999999999999, 'lambda': 0.00016147216805756026, 'reg_alpha': 7.270536101452946, 'subsample': 0.8081090857313314, 'colsample_bytree': 0.7323351597709483, 'max_depth': 11, 'min_child_weight': 2, 'scale_pos_weight': 37.267053261138166}. Best is trial 112 with value: 0.4945745288406625.\n",
      "[I 2024-01-23 14:00:51,499] Trial 113 finished with value: 0.4804208065458796 and parameters: {'learning_rate': 0.008919109482102602, 'booster': 'gbtree', 'gamma': 0.7999999999999999, 'lambda': 7.668819570865965e-05, 'reg_alpha': 7.282285765867756, 'subsample': 0.7601475643632865, 'colsample_bytree': 0.7436120842457021, 'max_depth': 11, 'min_child_weight': 2, 'scale_pos_weight': 37.2329281228234}. Best is trial 112 with value: 0.4945745288406625.\n",
      "[I 2024-01-23 14:01:09,759] Trial 114 finished with value: 0.4474948524365134 and parameters: {'learning_rate': 0.009832547013223924, 'booster': 'gbtree', 'gamma': 0.7999999999999999, 'lambda': 0.00016493310591574506, 'reg_alpha': 7.069677210162302, 'subsample': 0.7812882681223209, 'colsample_bytree': 0.7328973969544615, 'max_depth': 13, 'min_child_weight': 3, 'scale_pos_weight': 37.164417157329375}. Best is trial 112 with value: 0.4945745288406625.\n",
      "[I 2024-01-23 14:01:26,474] Trial 115 finished with value: 0.48673587081891584 and parameters: {'learning_rate': 0.0052668034894784435, 'booster': 'gbtree', 'gamma': 0.7999999999999999, 'lambda': 0.0007150562055998001, 'reg_alpha': 7.2760895434061545, 'subsample': 0.810567535111648, 'colsample_bytree': 0.7471337217431133, 'max_depth': 11, 'min_child_weight': 2, 'scale_pos_weight': 37.51129808604805}. Best is trial 112 with value: 0.4945745288406625.\n",
      "[I 2024-01-23 14:01:45,731] Trial 116 finished with value: 0.45367847411444134 and parameters: {'learning_rate': 0.007291367713559354, 'booster': 'gbtree', 'gamma': 0.7999999999999999, 'lambda': 0.0007549649195833944, 'reg_alpha': 7.659900508849712, 'subsample': 0.8163073670709622, 'colsample_bytree': 0.7485412223287728, 'max_depth': 13, 'min_child_weight': 2, 'scale_pos_weight': 37.555935470681675}. Best is trial 112 with value: 0.4945745288406625.\n",
      "[I 2024-01-23 14:02:01,146] Trial 117 finished with value: 0.4815668202764977 and parameters: {'learning_rate': 0.005077868188301314, 'booster': 'gbtree', 'gamma': 0.7999999999999999, 'lambda': 6.410623077383197e-05, 'reg_alpha': 9.572384593507074, 'subsample': 0.7497261385298954, 'colsample_bytree': 0.7190751268335557, 'max_depth': 11, 'min_child_weight': 2, 'scale_pos_weight': 37.81192978806872}. Best is trial 112 with value: 0.4945745288406625.\n",
      "[I 2024-01-23 14:02:17,254] Trial 118 finished with value: 0.484186313973548 and parameters: {'learning_rate': 0.004586104818528864, 'booster': 'gbtree', 'gamma': 0.7999999999999999, 'lambda': 7.320392333199041e-05, 'reg_alpha': 7.9910512766370925, 'subsample': 0.806874630320786, 'colsample_bytree': 0.7209365362446978, 'max_depth': 11, 'min_child_weight': 3, 'scale_pos_weight': 38.56876898873026}. Best is trial 112 with value: 0.4945745288406625.\n",
      "[I 2024-01-23 14:02:32,611] Trial 119 finished with value: 0.48177676537585423 and parameters: {'learning_rate': 0.004462461058245201, 'booster': 'gbtree', 'gamma': 0.7999999999999999, 'lambda': 6.966457968399352e-05, 'reg_alpha': 8.370303465194207, 'subsample': 0.7536655361315484, 'colsample_bytree': 0.721682191607871, 'max_depth': 11, 'min_child_weight': 2, 'scale_pos_weight': 38.60680074522975}. Best is trial 112 with value: 0.4945745288406625.\n",
      "[I 2024-01-23 14:02:48,088] Trial 120 finished with value: 0.4790011350737797 and parameters: {'learning_rate': 0.004522885408396993, 'booster': 'gbtree', 'gamma': 0.7999999999999999, 'lambda': 2.5903540106893867e-05, 'reg_alpha': 9.524693807816147, 'subsample': 0.7592506810637183, 'colsample_bytree': 0.7137442480578318, 'max_depth': 11, 'min_child_weight': 2, 'scale_pos_weight': 38.8455725700476}. Best is trial 112 with value: 0.4945745288406625.\n",
      "[I 2024-01-23 14:03:04,009] Trial 121 finished with value: 0.49911920140927774 and parameters: {'learning_rate': 0.0049122701444476585, 'booster': 'gbtree', 'gamma': 0.7999999999999999, 'lambda': 6.631764323190999e-05, 'reg_alpha': 9.49510429383493, 'subsample': 0.7491210356300484, 'colsample_bytree': 0.7187984813787175, 'max_depth': 11, 'min_child_weight': 2, 'scale_pos_weight': 38.852927910860195}. Best is trial 121 with value: 0.49911920140927774.\n",
      "[I 2024-01-23 14:03:21,705] Trial 122 finished with value: 0.47277556440903057 and parameters: {'learning_rate': 0.004753964750239737, 'booster': 'gbtree', 'gamma': 0.7999999999999999, 'lambda': 2.9935443506916987e-05, 'reg_alpha': 9.8654092888917, 'subsample': 0.7578280856262697, 'colsample_bytree': 0.7220785352198916, 'max_depth': 13, 'min_child_weight': 2, 'scale_pos_weight': 38.784968919891966}. Best is trial 121 with value: 0.49911920140927774.\n",
      "[I 2024-01-23 14:03:37,192] Trial 123 finished with value: 0.49307159353348734 and parameters: {'learning_rate': 0.0030656465179987194, 'booster': 'gbtree', 'gamma': 0.7999999999999999, 'lambda': 6.140960093868238e-05, 'reg_alpha': 9.589155444715963, 'subsample': 0.7512759418396232, 'colsample_bytree': 0.7306938526814171, 'max_depth': 11, 'min_child_weight': 3, 'scale_pos_weight': 38.4174085647224}. Best is trial 121 with value: 0.49911920140927774.\n",
      "[I 2024-01-23 14:03:54,863] Trial 124 finished with value: 0.4777486910994764 and parameters: {'learning_rate': 0.0032264360205435886, 'booster': 'gbtree', 'gamma': 0.7999999999999999, 'lambda': 5.870711015792028e-05, 'reg_alpha': 9.580909258672857, 'subsample': 0.7494008038917801, 'colsample_bytree': 0.7174658711978047, 'max_depth': 13, 'min_child_weight': 3, 'scale_pos_weight': 39.42742908887812}. Best is trial 121 with value: 0.49911920140927774.\n",
      "[I 2024-01-23 14:04:10,035] Trial 125 finished with value: 0.4797258709308966 and parameters: {'learning_rate': 0.006170130125774938, 'booster': 'gbtree', 'gamma': 0.7999999999999999, 'lambda': 7.542971161441335e-05, 'reg_alpha': 9.537460872319759, 'subsample': 0.7261877108447229, 'colsample_bytree': 0.730217779192516, 'max_depth': 11, 'min_child_weight': 3, 'scale_pos_weight': 38.33503397230558}. Best is trial 121 with value: 0.49911920140927774.\n",
      "[I 2024-01-23 14:04:25,266] Trial 126 finished with value: 0.4831981460023175 and parameters: {'learning_rate': 0.008439527519341905, 'booster': 'gbtree', 'gamma': 0.7999999999999999, 'lambda': 8.73608058087933e-05, 'reg_alpha': 9.330833621702189, 'subsample': 0.7251119030937705, 'colsample_bytree': 0.7346983563442079, 'max_depth': 11, 'min_child_weight': 3, 'scale_pos_weight': 38.26953463894826}. Best is trial 121 with value: 0.49911920140927774.\n",
      "[I 2024-01-23 14:04:40,279] Trial 127 finished with value: 0.48092868988391374 and parameters: {'learning_rate': 0.008763428381414737, 'booster': 'gbtree', 'gamma': 0.7999999999999999, 'lambda': 7.308053536958486e-05, 'reg_alpha': 9.278498872560313, 'subsample': 0.721679819570934, 'colsample_bytree': 0.7309764031745712, 'max_depth': 11, 'min_child_weight': 3, 'scale_pos_weight': 38.38170829876885}. Best is trial 121 with value: 0.49911920140927774.\n",
      "[I 2024-01-23 14:04:58,061] Trial 128 finished with value: 0.4528813559322034 and parameters: {'learning_rate': 0.0059851219800615635, 'booster': 'gbtree', 'gamma': 0.7999999999999999, 'lambda': 7.703577242529133e-05, 'reg_alpha': 9.396439010354268, 'subsample': 0.7277589137093208, 'colsample_bytree': 0.7404853401431157, 'max_depth': 13, 'min_child_weight': 3, 'scale_pos_weight': 38.391461676370014}. Best is trial 121 with value: 0.49911920140927774.\n",
      "[I 2024-01-23 14:05:13,362] Trial 129 finished with value: 0.4847775175644028 and parameters: {'learning_rate': 0.019565630920356947, 'booster': 'gbtree', 'gamma': 0.7999999999999999, 'lambda': 4.1577247104589095e-05, 'reg_alpha': 9.964798687541514, 'subsample': 0.7125347888446211, 'colsample_bytree': 0.7246852221292165, 'max_depth': 11, 'min_child_weight': 3, 'scale_pos_weight': 38.37881488966342}. Best is trial 121 with value: 0.49911920140927774.\n",
      "[I 2024-01-23 14:05:37,642] Trial 130 finished with value: 0.3926482873851295 and parameters: {'learning_rate': 0.018195346987013222, 'booster': 'gbtree', 'gamma': 0.7999999999999999, 'lambda': 4.572916071745039e-05, 'reg_alpha': 9.700874079988521, 'subsample': 0.6923328026162087, 'colsample_bytree': 0.7488768723952522, 'max_depth': 25, 'min_child_weight': 3, 'scale_pos_weight': 37.95385246355243}. Best is trial 121 with value: 0.49911920140927774.\n",
      "[I 2024-01-23 14:05:52,621] Trial 131 finished with value: 0.4700407213496218 and parameters: {'learning_rate': 0.014335920884452178, 'booster': 'gbtree', 'gamma': 0.7999999999999999, 'lambda': 0.00013242896765407303, 'reg_alpha': 9.944074751901923, 'subsample': 0.7121341917390224, 'colsample_bytree': 0.7264559395031212, 'max_depth': 11, 'min_child_weight': 3, 'scale_pos_weight': 38.3358253692525}. Best is trial 121 with value: 0.49911920140927774.\n",
      "[I 2024-01-23 14:06:08,029] Trial 132 finished with value: 0.4753914988814318 and parameters: {'learning_rate': 0.005449092897535425, 'booster': 'gbtree', 'gamma': 0.7999999999999999, 'lambda': 7.492203189770077e-05, 'reg_alpha': 9.145696546916316, 'subsample': 0.8023573105690359, 'colsample_bytree': 0.6905282267635084, 'max_depth': 11, 'min_child_weight': 2, 'scale_pos_weight': 39.05190192249792}. Best is trial 121 with value: 0.49911920140927774.\n",
      "[I 2024-01-23 14:06:34,707] Trial 133 finished with value: 0.3584229390681003 and parameters: {'learning_rate': 0.0024644829337990234, 'booster': 'gbtree', 'gamma': 0.7999999999999999, 'lambda': 0.0001094796029501232, 'reg_alpha': 9.298990123007462, 'subsample': 0.72509222717695, 'colsample_bytree': 0.735001357478861, 'max_depth': 31, 'min_child_weight': 3, 'scale_pos_weight': 38.49818526978611}. Best is trial 121 with value: 0.49911920140927774.\n",
      "[I 2024-01-23 14:06:52,828] Trial 134 finished with value: 0.48063033486539725 and parameters: {'learning_rate': 0.01047933223387471, 'booster': 'gbtree', 'gamma': 0.7999999999999999, 'lambda': 5.2541661328765815e-05, 'reg_alpha': 9.99837490797826, 'subsample': 0.7866413548750796, 'colsample_bytree': 0.722089351748496, 'max_depth': 13, 'min_child_weight': 2, 'scale_pos_weight': 38.15677563504363}. Best is trial 121 with value: 0.49911920140927774.\n",
      "[I 2024-01-23 14:07:13,793] Trial 135 finished with value: 0.42902208201892744 and parameters: {'learning_rate': 0.022942111705088163, 'booster': 'gbtree', 'gamma': 0.7999999999999999, 'lambda': 4.82557940356699e-05, 'reg_alpha': 8.997210464617087, 'subsample': 0.7733838918191548, 'colsample_bytree': 0.7016750704196126, 'max_depth': 17, 'min_child_weight': 2, 'scale_pos_weight': 38.13218277836041}. Best is trial 121 with value: 0.49911920140927774.\n",
      "[I 2024-01-23 14:07:31,848] Trial 136 finished with value: 0.4613278576317591 and parameters: {'learning_rate': 0.009858745406323477, 'booster': 'gbtree', 'gamma': 0.7999999999999999, 'lambda': 2.2918150034561692e-05, 'reg_alpha': 9.975962353965937, 'subsample': 0.7896960889553503, 'colsample_bytree': 0.714780265574094, 'max_depth': 13, 'min_child_weight': 2, 'scale_pos_weight': 37.85955560704004}. Best is trial 121 with value: 0.49911920140927774.\n",
      "[I 2024-01-23 14:07:52,842] Trial 137 finished with value: 0.4583629893238434 and parameters: {'learning_rate': 0.007890648608753135, 'booster': 'gbtree', 'gamma': 0.7999999999999999, 'lambda': 3.9583603564421956e-05, 'reg_alpha': 9.686211999409556, 'subsample': 0.8101648293222897, 'colsample_bytree': 0.7448152204535913, 'max_depth': 15, 'min_child_weight': 2, 'scale_pos_weight': 39.039891725487294}. Best is trial 121 with value: 0.49911920140927774.\n",
      "[I 2024-01-23 14:08:10,630] Trial 138 finished with value: 0.4677206851119895 and parameters: {'learning_rate': 0.0476066524810766, 'booster': 'gbtree', 'gamma': 0.7999999999999999, 'lambda': 3.484014932844145e-05, 'reg_alpha': 9.315645324247319, 'subsample': 0.752379355337783, 'colsample_bytree': 0.7230916613209591, 'max_depth': 13, 'min_child_weight': 2, 'scale_pos_weight': 38.536657175810895}. Best is trial 121 with value: 0.49911920140927774.\n",
      "[I 2024-01-23 14:08:25,744] Trial 139 finished with value: 0.474679682733374 and parameters: {'learning_rate': 0.004956069874087423, 'booster': 'gbtree', 'gamma': 0.7999999999999999, 'lambda': 0.000116163537222626, 'reg_alpha': 9.046337880945552, 'subsample': 0.6806388251075988, 'colsample_bytree': 0.7573004199278887, 'max_depth': 11, 'min_child_weight': 3, 'scale_pos_weight': 38.130415039354716}. Best is trial 121 with value: 0.49911920140927774.\n",
      "[I 2024-01-23 14:08:41,909] Trial 140 finished with value: 0.44054054054054054 and parameters: {'learning_rate': 0.010749185777634455, 'booster': 'gbtree', 'gamma': 0.7999999999999999, 'lambda': 1.1991892464051394e-05, 'reg_alpha': 8.401116119282413, 'subsample': 0.7035543284337207, 'colsample_bytree': 0.6830539470931546, 'max_depth': 13, 'min_child_weight': 2, 'scale_pos_weight': 39.36410956849613}. Best is trial 121 with value: 0.49911920140927774.\n",
      "[I 2024-01-23 14:08:57,172] Trial 141 finished with value: 0.4799081515499426 and parameters: {'learning_rate': 0.006018692367016834, 'booster': 'gbtree', 'gamma': 0.7999999999999999, 'lambda': 6.75496961658192e-05, 'reg_alpha': 9.620107217498251, 'subsample': 0.731776376330001, 'colsample_bytree': 0.7336276641729058, 'max_depth': 11, 'min_child_weight': 3, 'scale_pos_weight': 37.807767502371775}. Best is trial 121 with value: 0.49911920140927774.\n",
      "[I 2024-01-23 14:09:12,442] Trial 142 finished with value: 0.4658823529411765 and parameters: {'learning_rate': 0.003805785133877949, 'booster': 'gbtree', 'gamma': 0.7999999999999999, 'lambda': 0.00016746460168901126, 'reg_alpha': 9.666222505738533, 'subsample': 0.7397228460948934, 'colsample_bytree': 0.711372177059544, 'max_depth': 11, 'min_child_weight': 3, 'scale_pos_weight': 37.83427915360904}. Best is trial 121 with value: 0.49911920140927774.\n",
      "[I 2024-01-23 14:09:37,482] Trial 143 finished with value: 0.3973288814691152 and parameters: {'learning_rate': 0.008622888376286133, 'booster': 'gbtree', 'gamma': 0.7999999999999999, 'lambda': 6.98301781141836e-05, 'reg_alpha': 8.766138092765466, 'subsample': 0.7697272063436267, 'colsample_bytree': 0.7394824964109306, 'max_depth': 23, 'min_child_weight': 2, 'scale_pos_weight': 38.680960073816756}. Best is trial 121 with value: 0.49911920140927774.\n",
      "[I 2024-01-23 14:09:53,324] Trial 144 finished with value: 0.49678550555230855 and parameters: {'learning_rate': 0.0068597665640621995, 'booster': 'gbtree', 'gamma': 0.7999999999999999, 'lambda': 5.142842243665307e-05, 'reg_alpha': 9.999220640786262, 'subsample': 0.7912988057058895, 'colsample_bytree': 0.7211258582953824, 'max_depth': 11, 'min_child_weight': 3, 'scale_pos_weight': 38.083623066598115}. Best is trial 121 with value: 0.49911920140927774.\n",
      "[I 2024-01-23 14:10:09,332] Trial 145 finished with value: 0.4935064935064935 and parameters: {'learning_rate': 0.012344860835082941, 'booster': 'gbtree', 'gamma': 0.7999999999999999, 'lambda': 3.7789213932014424e-05, 'reg_alpha': 9.974656422366042, 'subsample': 0.7949390975746616, 'colsample_bytree': 0.7228738394483836, 'max_depth': 11, 'min_child_weight': 3, 'scale_pos_weight': 37.360355212440865}. Best is trial 121 with value: 0.49911920140927774.\n",
      "[I 2024-01-23 14:10:26,962] Trial 146 finished with value: 0.46766819072501625 and parameters: {'learning_rate': 0.012371054452503801, 'booster': 'gbtree', 'gamma': 0.7999999999999999, 'lambda': 1.9960324113407034e-05, 'reg_alpha': 9.98473139310429, 'subsample': 0.7923225926430901, 'colsample_bytree': 0.6966863332832256, 'max_depth': 13, 'min_child_weight': 3, 'scale_pos_weight': 38.09506709746252}. Best is trial 121 with value: 0.49911920140927774.\n",
      "[I 2024-01-23 14:10:40,118] Trial 147 finished with value: 0.4787386526516962 and parameters: {'learning_rate': 0.006979024463139322, 'booster': 'gbtree', 'gamma': 0.7999999999999999, 'lambda': 3.8014367446987075e-05, 'reg_alpha': 9.393071014491317, 'subsample': 0.809011959412144, 'colsample_bytree': 0.7229205638131653, 'max_depth': 9, 'min_child_weight': 3, 'scale_pos_weight': 37.57748783352086}. Best is trial 121 with value: 0.49911920140927774.\n",
      "[I 2024-01-23 14:10:53,425] Trial 148 finished with value: 0.4658413571756075 and parameters: {'learning_rate': 0.01966883702623349, 'booster': 'gbtree', 'gamma': 0.7999999999999999, 'lambda': 0.00011422983266015913, 'reg_alpha': 9.776957799315461, 'subsample': 0.8344333318088376, 'colsample_bytree': 0.7067931415393924, 'max_depth': 9, 'min_child_weight': 3, 'scale_pos_weight': 38.55783728635633}. Best is trial 121 with value: 0.49911920140927774.\n",
      "[I 2024-01-23 14:11:09,997] Trial 149 finished with value: 0.4725592143269786 and parameters: {'learning_rate': 0.00304029399592438, 'booster': 'gbtree', 'gamma': 0.7999999999999999, 'lambda': 5.06200396755654e-05, 'reg_alpha': 9.249187033668125, 'subsample': 0.787791576633868, 'colsample_bytree': 0.7525751842248053, 'max_depth': 11, 'min_child_weight': 3, 'scale_pos_weight': 38.87324118922613}. Best is trial 121 with value: 0.49911920140927774.\n",
      "[I 2024-01-23 14:11:24,327] Trial 150 finished with value: 0.4857849196538937 and parameters: {'learning_rate': 0.011641171965927023, 'booster': 'gbtree', 'gamma': 0.7999999999999999, 'lambda': 0.00019050138752339213, 'reg_alpha': 9.482887183132862, 'subsample': 0.6643202051918458, 'colsample_bytree': 0.7183552275312648, 'max_depth': 11, 'min_child_weight': 4, 'scale_pos_weight': 38.180804394355974}. Best is trial 121 with value: 0.49911920140927774.\n",
      "[I 2024-01-23 14:11:38,871] Trial 151 finished with value: 0.4881087202718007 and parameters: {'learning_rate': 0.014457361119620298, 'booster': 'gbtree', 'gamma': 0.7999999999999999, 'lambda': 0.0002045905194265975, 'reg_alpha': 9.50319844258723, 'subsample': 0.6881754145651611, 'colsample_bytree': 0.7153954164299385, 'max_depth': 11, 'min_child_weight': 4, 'scale_pos_weight': 38.26472834144685}. Best is trial 121 with value: 0.49911920140927774.\n",
      "[I 2024-01-23 14:11:52,981] Trial 152 finished with value: 0.4927536231884059 and parameters: {'learning_rate': 0.0156478081161096, 'booster': 'gbtree', 'gamma': 0.7999999999999999, 'lambda': 0.00014903176164162102, 'reg_alpha': 9.484721294821714, 'subsample': 0.655849914301371, 'colsample_bytree': 0.7131873150409962, 'max_depth': 11, 'min_child_weight': 4, 'scale_pos_weight': 38.33111475551042}. Best is trial 121 with value: 0.49911920140927774.\n",
      "[I 2024-01-23 14:12:06,607] Trial 153 finished with value: 0.45283018867924524 and parameters: {'learning_rate': 0.015293183712040024, 'booster': 'gbtree', 'gamma': 0.7999999999999999, 'lambda': 0.00022434492211866945, 'reg_alpha': 9.533226133206453, 'subsample': 0.6722691933004628, 'colsample_bytree': 0.6768920955735858, 'max_depth': 11, 'min_child_weight': 4, 'scale_pos_weight': 37.42038593956499}. Best is trial 121 with value: 0.49911920140927774.\n",
      "[I 2024-01-23 14:12:18,517] Trial 154 finished with value: 0.47846889952153104 and parameters: {'learning_rate': 0.013267349992034596, 'booster': 'gbtree', 'gamma': 0.7999999999999999, 'lambda': 0.00016989321662829983, 'reg_alpha': 8.940437973591402, 'subsample': 0.6870312163273787, 'colsample_bytree': 0.7031799609052638, 'max_depth': 9, 'min_child_weight': 4, 'scale_pos_weight': 37.70071184971495}. Best is trial 121 with value: 0.49911920140927774.\n",
      "[I 2024-01-23 14:12:32,122] Trial 155 finished with value: 0.4849215922798552 and parameters: {'learning_rate': 0.017492496582603843, 'booster': 'gbtree', 'gamma': 0.7999999999999999, 'lambda': 0.00010849490993241916, 'reg_alpha': 9.770554729713911, 'subsample': 0.6601296493271884, 'colsample_bytree': 0.687364149454067, 'max_depth': 11, 'min_child_weight': 4, 'scale_pos_weight': 38.039199864877375}. Best is trial 121 with value: 0.49911920140927774.\n",
      "[I 2024-01-23 14:12:43,548] Trial 156 finished with value: 0.4822286263208453 and parameters: {'learning_rate': 0.022909987461292428, 'booster': 'gbtree', 'gamma': 0.7999999999999999, 'lambda': 0.0002679083696442539, 'reg_alpha': 9.71308128432482, 'subsample': 0.6637219519149183, 'colsample_bytree': 0.6884751151735052, 'max_depth': 9, 'min_child_weight': 4, 'scale_pos_weight': 38.58157957798043}. Best is trial 121 with value: 0.49911920140927774.\n",
      "[I 2024-01-23 14:12:54,788] Trial 157 finished with value: 0.489578284052351 and parameters: {'learning_rate': 0.023919265888640833, 'booster': 'gbtree', 'gamma': 0.7999999999999999, 'lambda': 0.0002774655418334985, 'reg_alpha': 9.795908551549724, 'subsample': 0.6499855679934693, 'colsample_bytree': 0.6878008224095489, 'max_depth': 9, 'min_child_weight': 4, 'scale_pos_weight': 38.08998477356498}. Best is trial 121 with value: 0.49911920140927774.\n",
      "[I 2024-01-23 14:13:06,095] Trial 158 finished with value: 0.4750733137829912 and parameters: {'learning_rate': 0.0170358037635192, 'booster': 'gbtree', 'gamma': 0.7999999999999999, 'lambda': 0.00011300887004224472, 'reg_alpha': 9.811153881979335, 'subsample': 0.6499341825963135, 'colsample_bytree': 0.6941409437134773, 'max_depth': 9, 'min_child_weight': 4, 'scale_pos_weight': 37.9909241230274}. Best is trial 121 with value: 0.49911920140927774.\n",
      "[I 2024-01-23 14:13:19,328] Trial 159 finished with value: 0.4707287933094385 and parameters: {'learning_rate': 0.022546840544619067, 'booster': 'gbtree', 'gamma': 0.7999999999999999, 'lambda': 0.0001611929585931292, 'reg_alpha': 9.402143333569402, 'subsample': 0.6109283152754703, 'colsample_bytree': 0.6773261594385105, 'max_depth': 11, 'min_child_weight': 4, 'scale_pos_weight': 38.21976913743725}. Best is trial 121 with value: 0.49911920140927774.\n",
      "[I 2024-01-23 14:13:31,463] Trial 160 finished with value: 0.46482889733840305 and parameters: {'learning_rate': 0.012368748918638223, 'booster': 'gbtree', 'gamma': 0.7999999999999999, 'lambda': 0.00019623448041740756, 'reg_alpha': 9.07551412639682, 'subsample': 0.6978269856063682, 'colsample_bytree': 0.7098094281702267, 'max_depth': 9, 'min_child_weight': 4, 'scale_pos_weight': 39.20435277210187}. Best is trial 121 with value: 0.49911920140927774.\n",
      "[I 2024-01-23 14:13:42,790] Trial 161 finished with value: 0.46744412050534506 and parameters: {'learning_rate': 0.03319124108578712, 'booster': 'gbtree', 'gamma': 0.7999999999999999, 'lambda': 0.00023311877712102434, 'reg_alpha': 9.784792757624356, 'subsample': 0.6547163348506112, 'colsample_bytree': 0.6898552438478991, 'max_depth': 9, 'min_child_weight': 4, 'scale_pos_weight': 38.78975332960801}. Best is trial 121 with value: 0.49911920140927774.\n",
      "[I 2024-01-23 14:13:54,110] Trial 162 finished with value: 0.4740882917466411 and parameters: {'learning_rate': 0.030258868320305683, 'booster': 'gbtree', 'gamma': 0.7999999999999999, 'lambda': 0.9045033704453527, 'reg_alpha': 9.751290631268489, 'subsample': 0.664042731127615, 'colsample_bytree': 0.6829941304511814, 'max_depth': 9, 'min_child_weight': 4, 'scale_pos_weight': 38.29063080612519}. Best is trial 121 with value: 0.49911920140927774.\n",
      "[I 2024-01-23 14:14:07,860] Trial 163 finished with value: 0.46339987900786445 and parameters: {'learning_rate': 0.021676548458136408, 'booster': 'gbtree', 'gamma': 0.7999999999999999, 'lambda': 0.00010470532405754761, 'reg_alpha': 9.506294046688552, 'subsample': 0.62829626403969, 'colsample_bytree': 0.7069936482068067, 'max_depth': 11, 'min_child_weight': 4, 'scale_pos_weight': 38.43693132045716}. Best is trial 121 with value: 0.49911920140927774.\n",
      "[I 2024-01-23 14:14:19,496] Trial 164 finished with value: 0.47777234978016614 and parameters: {'learning_rate': 0.025715648087315007, 'booster': 'gbtree', 'gamma': 0.7999999999999999, 'lambda': 0.0002857931071350635, 'reg_alpha': 9.98959967601906, 'subsample': 0.6479645052962606, 'colsample_bytree': 0.6961995784290096, 'max_depth': 9, 'min_child_weight': 4, 'scale_pos_weight': 38.068863298042025}. Best is trial 121 with value: 0.49911920140927774.\n",
      "[I 2024-01-23 14:14:32,772] Trial 165 finished with value: 0.46787878787878784 and parameters: {'learning_rate': 0.01609759492863126, 'booster': 'gbtree', 'gamma': 0.7999999999999999, 'lambda': 0.0003565055526578899, 'reg_alpha': 9.632590532284457, 'subsample': 0.6718108155133528, 'colsample_bytree': 0.6602008932182416, 'max_depth': 11, 'min_child_weight': 4, 'scale_pos_weight': 37.35610785634231}. Best is trial 121 with value: 0.49911920140927774.\n",
      "[I 2024-01-23 14:14:47,393] Trial 166 finished with value: 0.45169082125603865 and parameters: {'learning_rate': 0.011422267486799262, 'booster': 'gbtree', 'gamma': 0.7999999999999999, 'lambda': 0.46241004853789236, 'reg_alpha': 9.791351282020681, 'subsample': 0.6364448320376483, 'colsample_bytree': 0.7640369332797051, 'max_depth': 11, 'min_child_weight': 4, 'scale_pos_weight': 39.739684721982584}. Best is trial 121 with value: 0.49911920140927774.\n",
      "[I 2024-01-23 14:15:01,849] Trial 167 finished with value: 0.5014343086632244 and parameters: {'learning_rate': 0.018532546571990664, 'booster': 'gbtree', 'gamma': 0.7999999999999999, 'lambda': 0.00010690298719347456, 'reg_alpha': 9.353729121385786, 'subsample': 0.6835366299983335, 'colsample_bytree': 0.7145795902754652, 'max_depth': 11, 'min_child_weight': 4, 'scale_pos_weight': 38.948239592913026}. Best is trial 167 with value: 0.5014343086632244.\n",
      "[I 2024-01-23 14:15:18,848] Trial 168 finished with value: 0.4756828780812791 and parameters: {'learning_rate': 0.01814425136234513, 'booster': 'gbtree', 'gamma': 0.7999999999999999, 'lambda': 0.00013547819992018644, 'reg_alpha': 9.171351271093352, 'subsample': 0.7076747198174534, 'colsample_bytree': 0.7142361441621354, 'max_depth': 13, 'min_child_weight': 3, 'scale_pos_weight': 38.97558933699396}. Best is trial 167 with value: 0.5014343086632244.\n",
      "[I 2024-01-23 14:15:35,620] Trial 169 finished with value: 0.47078280044101434 and parameters: {'learning_rate': 0.014547109076083503, 'booster': 'dart', 'gamma': 0.8999999999999999, 'lambda': 9.917483255348009e-05, 'reg_alpha': 9.429716401931518, 'subsample': 0.6947770689449045, 'colsample_bytree': 0.7364755348413883, 'max_depth': 11, 'min_child_weight': 4, 'scale_pos_weight': 39.234289050696916}. Best is trial 167 with value: 0.5014343086632244.\n",
      "[I 2024-01-23 14:15:51,056] Trial 170 finished with value: 0.45013477088948783 and parameters: {'learning_rate': 0.00707589920871337, 'booster': 'gbtree', 'gamma': 0.7999999999999999, 'lambda': 3.4266923137119725e-05, 'reg_alpha': 8.828864526874915, 'subsample': 0.5985078507307535, 'colsample_bytree': 0.7282062495610366, 'max_depth': 13, 'min_child_weight': 3, 'scale_pos_weight': 37.66833172632888}. Best is trial 167 with value: 0.5014343086632244.\n",
      "[I 2024-01-23 14:16:04,421] Trial 171 finished with value: 0.48160919540229885 and parameters: {'learning_rate': 0.025423394825058485, 'booster': 'gbtree', 'gamma': 0.7999999999999999, 'lambda': 0.000315079575777436, 'reg_alpha': 9.422844443798226, 'subsample': 0.6618675163635568, 'colsample_bytree': 0.6724550270687956, 'max_depth': 11, 'min_child_weight': 4, 'scale_pos_weight': 38.76057455245251}. Best is trial 167 with value: 0.5014343086632244.\n",
      "[I 2024-01-23 14:16:15,881] Trial 172 finished with value: 0.4736842105263158 and parameters: {'learning_rate': 0.020089782608242967, 'booster': 'gbtree', 'gamma': 0.7999999999999999, 'lambda': 0.0001891867958222965, 'reg_alpha': 9.815372803261283, 'subsample': 0.6248738447023986, 'colsample_bytree': 0.6997728954313391, 'max_depth': 9, 'min_child_weight': 4, 'scale_pos_weight': 38.6035262228042}. Best is trial 167 with value: 0.5014343086632244.\n",
      "[I 2024-01-23 14:16:30,785] Trial 173 finished with value: 0.4874251497005988 and parameters: {'learning_rate': 0.013901738450473997, 'booster': 'gbtree', 'gamma': 0.7999999999999999, 'lambda': 0.00010234813784329505, 'reg_alpha': 9.628562926225488, 'subsample': 0.6729726147087791, 'colsample_bytree': 0.7461080828844706, 'max_depth': 11, 'min_child_weight': 4, 'scale_pos_weight': 38.28114696933244}. Best is trial 167 with value: 0.5014343086632244.\n",
      "[I 2024-01-23 14:16:45,772] Trial 174 finished with value: 0.4877479579929988 and parameters: {'learning_rate': 0.013296383331778554, 'booster': 'gbtree', 'gamma': 0.7999999999999999, 'lambda': 9.432100345823247e-05, 'reg_alpha': 9.24816241325727, 'subsample': 0.682215746775674, 'colsample_bytree': 0.7465612054232946, 'max_depth': 11, 'min_child_weight': 4, 'scale_pos_weight': 38.28229628584065}. Best is trial 167 with value: 0.5014343086632244.\n",
      "[I 2024-01-23 14:17:02,481] Trial 175 finished with value: 0.48746355685131193 and parameters: {'learning_rate': 0.01414927569349708, 'booster': 'gbtree', 'gamma': 0.7999999999999999, 'lambda': 0.00012185914697235147, 'reg_alpha': 9.169344574209505, 'subsample': 0.82404289878699, 'colsample_bytree': 0.7475875925166957, 'max_depth': 11, 'min_child_weight': 4, 'scale_pos_weight': 37.98791122283943}. Best is trial 167 with value: 0.5014343086632244.\n",
      "[I 2024-01-23 14:17:18,038] Trial 176 finished with value: 0.48595988538681945 and parameters: {'learning_rate': 0.013475199262885724, 'booster': 'gbtree', 'gamma': 0.7999999999999999, 'lambda': 0.00013095463359516705, 'reg_alpha': 9.121279060144344, 'subsample': 0.6837139776890567, 'colsample_bytree': 0.7706430713294804, 'max_depth': 11, 'min_child_weight': 4, 'scale_pos_weight': 37.93891917993018}. Best is trial 167 with value: 0.5014343086632244.\n",
      "[I 2024-01-23 14:17:33,477] Trial 177 finished with value: 0.47274881516587675 and parameters: {'learning_rate': 0.013280531181115668, 'booster': 'gbtree', 'gamma': 0.7999999999999999, 'lambda': 0.0001601410622711508, 'reg_alpha': 9.0850683489021, 'subsample': 0.6791927431333511, 'colsample_bytree': 0.7747825808927943, 'max_depth': 11, 'min_child_weight': 4, 'scale_pos_weight': 38.000986364358454}. Best is trial 167 with value: 0.5014343086632244.\n",
      "[I 2024-01-23 14:17:53,170] Trial 178 finished with value: 0.4623444662737394 and parameters: {'learning_rate': 0.015442418932908077, 'booster': 'gbtree', 'gamma': 0.7999999999999999, 'lambda': 0.0004800974824754668, 'reg_alpha': 8.915395322217694, 'subsample': 0.8321689486027817, 'colsample_bytree': 0.7620803974424554, 'max_depth': 13, 'min_child_weight': 4, 'scale_pos_weight': 37.507092765364895}. Best is trial 167 with value: 0.5014343086632244.\n",
      "[I 2024-01-23 14:18:07,749] Trial 179 finished with value: 0.484774665042631 and parameters: {'learning_rate': 0.011834357592872125, 'booster': 'gbtree', 'gamma': 0.7999999999999999, 'lambda': 0.000132480547448819, 'reg_alpha': 9.152352581412064, 'subsample': 0.6361584686116293, 'colsample_bytree': 0.7553791889157299, 'max_depth': 11, 'min_child_weight': 4, 'scale_pos_weight': 37.75722421961402}. Best is trial 167 with value: 0.5014343086632244.\n",
      "[I 2024-01-23 14:18:23,031] Trial 180 finished with value: 0.4781783681214421 and parameters: {'learning_rate': 0.013572258385571589, 'booster': 'gbtree', 'gamma': 0.7999999999999999, 'lambda': 0.00019041914167263128, 'reg_alpha': 9.555985705554743, 'subsample': 0.6456990954681506, 'colsample_bytree': 0.7726953265700865, 'max_depth': 11, 'min_child_weight': 4, 'scale_pos_weight': 31.56771732596658}. Best is trial 167 with value: 0.5014343086632244.\n",
      "[I 2024-01-23 14:18:38,101] Trial 181 finished with value: 0.48942598187311176 and parameters: {'learning_rate': 0.017118254019735768, 'booster': 'gbtree', 'gamma': 0.7999999999999999, 'lambda': 0.00010070186166443023, 'reg_alpha': 9.288774172990236, 'subsample': 0.6799317323481427, 'colsample_bytree': 0.7433973171876233, 'max_depth': 11, 'min_child_weight': 4, 'scale_pos_weight': 38.17567509948089}. Best is trial 167 with value: 0.5014343086632244.\n",
      "[I 2024-01-23 14:18:53,103] Trial 182 finished with value: 0.4853905784138342 and parameters: {'learning_rate': 0.016961223294496803, 'booster': 'gbtree', 'gamma': 0.7999999999999999, 'lambda': 9.044959002061777e-05, 'reg_alpha': 9.282149197775366, 'subsample': 0.6794555670205045, 'colsample_bytree': 0.7441907583633481, 'max_depth': 11, 'min_child_weight': 4, 'scale_pos_weight': 37.95533761255646}. Best is trial 167 with value: 0.5014343086632244.\n",
      "[I 2024-01-23 14:19:10,227] Trial 183 finished with value: 0.46174863387978143 and parameters: {'learning_rate': 0.010065629781236854, 'booster': 'gbtree', 'gamma': 0.7999999999999999, 'lambda': 0.00011282768530022467, 'reg_alpha': 9.289865202961858, 'subsample': 0.6794589246606773, 'colsample_bytree': 0.7476306701715926, 'max_depth': 13, 'min_child_weight': 4, 'scale_pos_weight': 37.91432590353101}. Best is trial 167 with value: 0.5014343086632244.\n",
      "[I 2024-01-23 14:19:25,435] Trial 184 finished with value: 0.48720930232558135 and parameters: {'learning_rate': 0.01554426441769802, 'booster': 'gbtree', 'gamma': 0.7999999999999999, 'lambda': 5.0913925844020135e-05, 'reg_alpha': 8.938945709752053, 'subsample': 0.6853629412501332, 'colsample_bytree': 0.7459438308456956, 'max_depth': 11, 'min_child_weight': 4, 'scale_pos_weight': 38.27289628014451}. Best is trial 167 with value: 0.5014343086632244.\n",
      "[I 2024-01-23 14:19:38,487] Trial 185 finished with value: 0.4733672996757758 and parameters: {'learning_rate': 0.011485278169854769, 'booster': 'gbtree', 'gamma': 0.7999999999999999, 'lambda': 5.063121027698309e-05, 'reg_alpha': 8.62155891077491, 'subsample': 0.6912146104279572, 'colsample_bytree': 0.7814832607342692, 'max_depth': 9, 'min_child_weight': 4, 'scale_pos_weight': 38.238490638361824}. Best is trial 167 with value: 0.5014343086632244.\n",
      "[I 2024-01-23 14:19:52,980] Trial 186 finished with value: 0.4753901560624249 and parameters: {'learning_rate': 0.014774524096198418, 'booster': 'gbtree', 'gamma': 0.7999999999999999, 'lambda': 2.9123105195767833e-05, 'reg_alpha': 8.93091201081533, 'subsample': 0.6160932858730264, 'colsample_bytree': 0.7660830653229258, 'max_depth': 11, 'min_child_weight': 4, 'scale_pos_weight': 38.16041637701312}. Best is trial 167 with value: 0.5014343086632244.\n",
      "[I 2024-01-23 14:20:13,943] Trial 187 finished with value: 0.4689745264532985 and parameters: {'learning_rate': 0.01327613009785038, 'booster': 'dart', 'gamma': 0.7999999999999999, 'lambda': 1.4514879517482695e-08, 'reg_alpha': 9.44282637227085, 'subsample': 0.8137770225731868, 'colsample_bytree': 0.7510048140295995, 'max_depth': 13, 'min_child_weight': 4, 'scale_pos_weight': 37.5833068627637}. Best is trial 167 with value: 0.5014343086632244.\n",
      "[I 2024-01-23 14:20:29,553] Trial 188 finished with value: 0.49216482878699935 and parameters: {'learning_rate': 0.016220099183049213, 'booster': 'gbtree', 'gamma': 0.7999999999999999, 'lambda': 0.00027184757650040604, 'reg_alpha': 9.196226263791464, 'subsample': 0.7010201245901012, 'colsample_bytree': 0.7428400771088909, 'max_depth': 11, 'min_child_weight': 4, 'scale_pos_weight': 38.429857247516935}. Best is trial 167 with value: 0.5014343086632244.\n",
      "[I 2024-01-23 14:20:42,317] Trial 189 finished with value: 0.47420728821580693 and parameters: {'learning_rate': 0.015811869093865283, 'booster': 'gbtree', 'gamma': 0.7999999999999999, 'lambda': 0.00034099309747050063, 'reg_alpha': 8.746849366075743, 'subsample': 0.7030223126388615, 'colsample_bytree': 0.7566604064842792, 'max_depth': 9, 'min_child_weight': 4, 'scale_pos_weight': 38.43353163551568}. Best is trial 167 with value: 0.5014343086632244.\n",
      "[I 2024-01-23 14:20:59,619] Trial 190 finished with value: 0.46838709677419355 and parameters: {'learning_rate': 0.020862035127142256, 'booster': 'gbtree', 'gamma': 0.7999999999999999, 'lambda': 0.0004998562917436089, 'reg_alpha': 9.064639966204224, 'subsample': 0.695431044139207, 'colsample_bytree': 0.7416867107198074, 'max_depth': 13, 'min_child_weight': 4, 'scale_pos_weight': 39.00078892568854}. Best is trial 167 with value: 0.5014343086632244.\n",
      "[I 2024-01-23 14:21:14,180] Trial 191 finished with value: 0.4819129368485591 and parameters: {'learning_rate': 0.011057345012175111, 'booster': 'gbtree', 'gamma': 0.7999999999999999, 'lambda': 0.00018912324312223873, 'reg_alpha': 9.535090624323313, 'subsample': 0.6513661702003203, 'colsample_bytree': 0.7384277063998662, 'max_depth': 11, 'min_child_weight': 4, 'scale_pos_weight': 38.20952814944637}. Best is trial 167 with value: 0.5014343086632244.\n",
      "[I 2024-01-23 14:21:29,228] Trial 192 finished with value: 0.49116607773851595 and parameters: {'learning_rate': 0.09672625505808465, 'booster': 'gbtree', 'gamma': 0.7999999999999999, 'lambda': 0.00023926411797191115, 'reg_alpha': 9.201937236254585, 'subsample': 0.672128574908037, 'colsample_bytree': 0.7449860026977609, 'max_depth': 11, 'min_child_weight': 4, 'scale_pos_weight': 37.78913807623998}. Best is trial 167 with value: 0.5014343086632244.\n",
      "[I 2024-01-23 14:21:44,393] Trial 193 finished with value: 0.48256146369353914 and parameters: {'learning_rate': 0.017618344398016936, 'booster': 'gbtree', 'gamma': 0.7999999999999999, 'lambda': 0.0002857273046480601, 'reg_alpha': 9.20044823750176, 'subsample': 0.6861184915818167, 'colsample_bytree': 0.7507478606652389, 'max_depth': 11, 'min_child_weight': 4, 'scale_pos_weight': 37.74714574422272}. Best is trial 167 with value: 0.5014343086632244.\n",
      "[I 2024-01-23 14:22:01,693] Trial 194 finished with value: 0.48364485981308414 and parameters: {'learning_rate': 0.014263448975662275, 'booster': 'gbtree', 'gamma': 0.7999999999999999, 'lambda': 5.098585199581442e-05, 'reg_alpha': 8.953043787109499, 'subsample': 0.8219658738706069, 'colsample_bytree': 0.7710481067691658, 'max_depth': 11, 'min_child_weight': 4, 'scale_pos_weight': 37.19795535188196}. Best is trial 167 with value: 0.5014343086632244.\n",
      "[I 2024-01-23 14:22:17,966] Trial 195 finished with value: 0.48711943793911006 and parameters: {'learning_rate': 0.04281731068090968, 'booster': 'gbtree', 'gamma': 0.7999999999999999, 'lambda': 0.00013249042798202403, 'reg_alpha': 9.251328262226444, 'subsample': 0.7754521050706222, 'colsample_bytree': 0.7603354353308561, 'max_depth': 11, 'min_child_weight': 4, 'scale_pos_weight': 37.4352778763796}. Best is trial 167 with value: 0.5014343086632244.\n",
      "[I 2024-01-23 14:22:31,198] Trial 196 finished with value: 0.4723424723424723 and parameters: {'learning_rate': 0.0867970998481741, 'booster': 'gbtree', 'gamma': 0.7999999999999999, 'lambda': 8.87481912621207e-05, 'reg_alpha': 9.60868630054303, 'subsample': 0.7787753319620837, 'colsample_bytree': 0.7325152156500799, 'max_depth': 9, 'min_child_weight': 5, 'scale_pos_weight': 36.998875149438895}. Best is trial 167 with value: 0.5014343086632244.\n",
      "[I 2024-01-23 14:22:47,599] Trial 197 finished with value: 0.48438420742486743 and parameters: {'learning_rate': 0.049377058825325656, 'booster': 'gbtree', 'gamma': 0.7999999999999999, 'lambda': 0.00024709805062827784, 'reg_alpha': 8.531060635170627, 'subsample': 0.8027842607693637, 'colsample_bytree': 0.7455748801642983, 'max_depth': 11, 'min_child_weight': 4, 'scale_pos_weight': 37.389333660864025}. Best is trial 167 with value: 0.5014343086632244.\n",
      "[I 2024-01-23 14:23:07,512] Trial 198 finished with value: 0.47782925215089345 and parameters: {'learning_rate': 0.019184891963202187, 'booster': 'gbtree', 'gamma': 0.7999999999999999, 'lambda': 5.727210784581037e-05, 'reg_alpha': 9.35694902159886, 'subsample': 0.8470794981599928, 'colsample_bytree': 0.7543204080555478, 'max_depth': 13, 'min_child_weight': 4, 'scale_pos_weight': 38.46163992618622}. Best is trial 167 with value: 0.5014343086632244.\n",
      "[I 2024-01-23 14:23:20,409] Trial 199 finished with value: 0.47848218417399346 and parameters: {'learning_rate': 0.05082942780974077, 'booster': 'gbtree', 'gamma': 0.8999999999999999, 'lambda': 0.00014586250872412798, 'reg_alpha': 8.800386444254245, 'subsample': 0.7710194039378531, 'colsample_bytree': 0.7291478009231295, 'max_depth': 9, 'min_child_weight': 4, 'scale_pos_weight': 38.80041855373023}. Best is trial 167 with value: 0.5014343086632244.\n"
     ]
    }
   ],
   "source": [
    "xgb_clf = XGBClassifier()\n",
    "\n",
    "dtrain = xgb.DMatrix(X_train, label=y_train)\n",
    "dvalid = xgb.DMatrix(X_val, label=y_val)\n",
    "\n",
    "trials = {}\n",
    "# 1. Define an objective function to be maximized.\n",
    "def objective(trial):\n",
    "    param = {\n",
    "        'objective': 'binary:logistic',\n",
    "        \"learning_rate\": trial.suggest_float(\"learning_rate\", 1e-4, 1e-1, log=True),\n",
    "        \"booster\": trial.suggest_categorical(\"booster\", [\"gbtree\", \"dart\"]),\n",
    "        \"gamma\": trial.suggest_float(\"gamma\", 0.7, 1.0, step=0.1),\n",
    "        \"lambda\": trial.suggest_float(\"lambda\", 1e-8, 1.0, log=True),\n",
    "        \"reg_alpha\": trial.suggest_float(\"reg_alpha\", 1e-2, 10.),\n",
    "        \"subsample\": trial.suggest_float(\"subsample\", 0.2, 1.0),\n",
    "        \"colsample_bytree\": trial.suggest_float(\"colsample_bytree\", 0.5, 1.0),\n",
    "        \"max_depth\": trial.suggest_int(\"max_depth\", 1, 31, step=2),\n",
    "        \"min_child_weight\": trial.suggest_int(\"min_child_weight\", 1, 10),\n",
    "        \"scale_pos_weight\": trial.suggest_float(\"scale_pos_weight\", ratio-5, ratio+5),\n",
    "    }\n",
    "\n",
    "    bst = xgb.train(param, dtrain)\n",
    "    preds = bst.predict(dvalid)\n",
    "    pred_labels = np.rint(preds)\n",
    "\n",
    "    f1 =  f1_score(y_val, pred_labels)\n",
    "    mcc =  matthews_corrcoef(y_val, pred_labels)\n",
    "    conf_matrix = confusion_matrix(y_val, pred_labels)\n",
    "\n",
    "    trials[trial.number] = [f1, mcc, conf_matrix]    \n",
    "    return f1\n",
    "\n",
    "# 3. Create a study object and optimize the objective function.\n",
    "study = optuna.create_study(direction='maximize')\n",
    "study.optimize(objective, n_trials=200)"
   ]
  },
  {
   "cell_type": "code",
   "execution_count": 16,
   "metadata": {},
   "outputs": [
    {
     "name": "stdout",
     "output_type": "stream",
     "text": [
      "Number of finished trials:  200\n",
      "Best trial:\n",
      "  Value: 0.5014343086632244\n",
      "  Params: \n",
      "    learning_rate: 0.018532546571990664\n",
      "    booster: gbtree\n",
      "    gamma: 0.7999999999999999\n",
      "    lambda: 0.00010690298719347456\n",
      "    reg_alpha: 9.353729121385786\n",
      "    subsample: 0.6835366299983335\n",
      "    colsample_bytree: 0.7145795902754652\n",
      "    max_depth: 11\n",
      "    min_child_weight: 4\n",
      "    scale_pos_weight: 38.948239592913026\n"
     ]
    }
   ],
   "source": [
    "print(\"Number of finished trials: \", len(study.trials))\n",
    "print(\"Best trial:\")\n",
    "trial = study.best_trial\n",
    "\n",
    "print(\"  Value: {}\".format(trial.value))\n",
    "print(\"  Params: \")\n",
    "for key, value in trial.params.items():\n",
    "    print(\"    {}: {}\".format(key, value))"
   ]
  },
  {
   "cell_type": "code",
   "execution_count": 19,
   "metadata": {},
   "outputs": [
    {
     "name": "stdout",
     "output_type": "stream",
     "text": [
      "F1 score: 0.581 \n",
      "MCC: 0.526 \n",
      "      0    1\n",
      "0  6450  462\n",
      "1   321  543\n"
     ]
    }
   ],
   "source": [
    "xgb_clf = XGBClassifier(objective='binary:logistic', **trial.params, n_jobs=-1, random_state=42)\n",
    "\n",
    "xgb_clf.fit(X_train, y_train)\n",
    "\n",
    "# evaluate model on the traindataset\n",
    "ypred = xgb_clf.predict(X_test)\n",
    "\n",
    "print('F1 score: %.3f ' % f1_score(y_test, ypred))\n",
    "print('MCC: %.3f ' % matthews_corrcoef(y_test, ypred))\n",
    "\n",
    "cm = confusion_matrix(y_test, ypred)\n",
    "cm = pd.DataFrame(cm , index = ['0','1'] , columns = ['0','1'])\n",
    "print(cm)"
   ]
  },
  {
   "cell_type": "markdown",
   "metadata": {},
   "source": [
    "### Optimize BalancedRandomForest"
   ]
  },
  {
   "cell_type": "code",
   "execution_count": 31,
   "metadata": {},
   "outputs": [
    {
     "name": "stderr",
     "output_type": "stream",
     "text": [
      "[I 2024-01-23 15:18:08,348] A new study created in memory with name: no-name-cfea11f8-97e7-4167-8270-32d20289face\n",
      "[I 2024-01-23 15:19:09,036] Trial 0 finished with value: 0.30103468279674267 and parameters: {'n_estimators': 278, 'criterion': 'gini', 'max_depth': 19, 'min_samples_split': 20, 'min_samples_leaf': 5, 'max_features': 0.1995372108787425}. Best is trial 0 with value: 0.30103468279674267.\n",
      "[I 2024-01-23 15:20:46,315] Trial 1 finished with value: 0.26135000520174106 and parameters: {'n_estimators': 152, 'criterion': 'gini', 'max_depth': 17, 'min_samples_split': 10, 'min_samples_leaf': 9, 'max_features': 0.8019260177182596}. Best is trial 0 with value: 0.30103468279674267.\n",
      "[I 2024-01-23 15:24:32,286] Trial 2 finished with value: 0.24979906994176757 and parameters: {'n_estimators': 371, 'criterion': 'entropy', 'max_depth': 25, 'min_samples_split': 17, 'min_samples_leaf': 20, 'max_features': 0.9113880731483077}. Best is trial 0 with value: 0.30103468279674267.\n",
      "[I 2024-01-23 15:25:37,962] Trial 3 finished with value: 0.2857557509877908 and parameters: {'n_estimators': 363, 'criterion': 'entropy', 'max_depth': 23, 'min_samples_split': 14, 'min_samples_leaf': 17, 'max_features': 0.1622090212853649}. Best is trial 0 with value: 0.30103468279674267.\n",
      "[I 2024-01-23 15:27:46,248] Trial 4 finished with value: 0.25736819279951456 and parameters: {'n_estimators': 236, 'criterion': 'gini', 'max_depth': 19, 'min_samples_split': 5, 'min_samples_leaf': 13, 'max_features': 0.7372751763906602}. Best is trial 0 with value: 0.30103468279674267.\n",
      "[I 2024-01-23 15:28:20,324] Trial 5 finished with value: 0.3045958868285808 and parameters: {'n_estimators': 151, 'criterion': 'entropy', 'max_depth': 25, 'min_samples_split': 18, 'min_samples_leaf': 8, 'max_features': 0.15762196145395452}. Best is trial 5 with value: 0.3045958868285808.\n",
      "[I 2024-01-23 15:30:44,814] Trial 6 finished with value: 0.2452544888741881 and parameters: {'n_estimators': 279, 'criterion': 'gini', 'max_depth': 11, 'min_samples_split': 20, 'min_samples_leaf': 6, 'max_features': 0.7824651204233397}. Best is trial 5 with value: 0.3045958868285808.\n",
      "[I 2024-01-23 15:31:08,181] Trial 7 finished with value: 0.11539341412942217 and parameters: {'n_estimators': 99, 'criterion': 'entropy', 'max_depth': 1, 'min_samples_split': 8, 'min_samples_leaf': 19, 'max_features': 0.3051524204888639}. Best is trial 5 with value: 0.3045958868285808.\n",
      "[I 2024-01-23 15:31:40,784] Trial 8 finished with value: 0.07767093705973631 and parameters: {'n_estimators': 167, 'criterion': 'entropy', 'max_depth': 1, 'min_samples_split': 2, 'min_samples_leaf': 1, 'max_features': 0.9255540536256387}. Best is trial 5 with value: 0.3045958868285808.\n",
      "[I 2024-01-23 15:33:17,263] Trial 9 finished with value: 0.24652492546078572 and parameters: {'n_estimators': 193, 'criterion': 'gini', 'max_depth': 15, 'min_samples_split': 7, 'min_samples_leaf': 17, 'max_features': 0.7230377844676837}. Best is trial 5 with value: 0.3045958868285808.\n",
      "[I 2024-01-23 15:34:35,158] Trial 10 finished with value: 0.30508260538537796 and parameters: {'n_estimators': 499, 'criterion': 'entropy', 'max_depth': 27, 'min_samples_split': 13, 'min_samples_leaf': 11, 'max_features': 0.1341362138577959}. Best is trial 10 with value: 0.30508260538537796.\n",
      "[I 2024-01-23 15:35:50,287] Trial 11 finished with value: 0.3028415814440134 and parameters: {'n_estimators': 500, 'criterion': 'entropy', 'max_depth': 31, 'min_samples_split': 13, 'min_samples_leaf': 12, 'max_features': 0.12700318438577834}. Best is trial 10 with value: 0.30508260538537796.\n",
      "[I 2024-01-23 15:37:03,355] Trial 12 finished with value: 0.3125089868724346 and parameters: {'n_estimators': 486, 'criterion': 'entropy', 'max_depth': 31, 'min_samples_split': 16, 'min_samples_leaf': 9, 'max_features': 0.11003878464986155}. Best is trial 12 with value: 0.3125089868724346.\n",
      "[I 2024-01-23 15:38:13,206] Trial 13 finished with value: 0.30012281518848644 and parameters: {'n_estimators': 497, 'criterion': 'entropy', 'max_depth': 31, 'min_samples_split': 14, 'min_samples_leaf': 14, 'max_features': 0.10056954497456266}. Best is trial 12 with value: 0.3125089868724346.\n",
      "[I 2024-01-23 15:39:51,531] Trial 14 finished with value: 0.2904491863273027 and parameters: {'n_estimators': 422, 'criterion': 'entropy', 'max_depth': 29, 'min_samples_split': 16, 'min_samples_leaf': 11, 'max_features': 0.2609984184256313}. Best is trial 12 with value: 0.3125089868724346.\n",
      "[I 2024-01-23 15:42:29,532] Trial 15 finished with value: 0.29664655108523624 and parameters: {'n_estimators': 421, 'criterion': 'entropy', 'max_depth': 27, 'min_samples_split': 11, 'min_samples_leaf': 4, 'max_features': 0.45751726334184656}. Best is trial 12 with value: 0.3125089868724346.\n",
      "[I 2024-01-23 15:43:30,470] Trial 16 finished with value: 0.23664002459032094 and parameters: {'n_estimators': 433, 'criterion': 'entropy', 'max_depth': 7, 'min_samples_split': 13, 'min_samples_leaf': 9, 'max_features': 0.10362844886957431}. Best is trial 12 with value: 0.3125089868724346.\n",
      "[I 2024-01-23 15:45:28,998] Trial 17 finished with value: 0.2703707449577382 and parameters: {'n_estimators': 346, 'criterion': 'entropy', 'max_depth': 23, 'min_samples_split': 16, 'min_samples_leaf': 15, 'max_features': 0.44455273161776243}. Best is trial 12 with value: 0.3125089868724346.\n",
      "[I 2024-01-23 15:47:07,967] Trial 18 finished with value: 0.3027387518385514 and parameters: {'n_estimators': 458, 'criterion': 'entropy', 'max_depth': 31, 'min_samples_split': 9, 'min_samples_leaf': 7, 'max_features': 0.23434680068230293}. Best is trial 12 with value: 0.3125089868724346.\n",
      "[I 2024-01-23 15:47:25,614] Trial 19 finished with value: 0.3031368330977466 and parameters: {'n_estimators': 53, 'criterion': 'entropy', 'max_depth': 27, 'min_samples_split': 15, 'min_samples_leaf': 3, 'max_features': 0.1399936697592968}. Best is trial 12 with value: 0.3125089868724346.\n",
      "[I 2024-01-23 15:48:33,817] Trial 20 finished with value: 0.29668899946961474 and parameters: {'n_estimators': 344, 'criterion': 'entropy', 'max_depth': 21, 'min_samples_split': 12, 'min_samples_leaf': 10, 'max_features': 0.196538753060511}. Best is trial 12 with value: 0.3125089868724346.\n",
      "[I 2024-01-23 15:49:18,130] Trial 21 finished with value: 0.3077105139696472 and parameters: {'n_estimators': 229, 'criterion': 'entropy', 'max_depth': 27, 'min_samples_split': 18, 'min_samples_leaf': 8, 'max_features': 0.13420740119044267}. Best is trial 12 with value: 0.3125089868724346.\n",
      "[I 2024-01-23 15:49:59,025] Trial 22 finished with value: 0.3086644022328526 and parameters: {'n_estimators': 239, 'criterion': 'entropy', 'max_depth': 27, 'min_samples_split': 18, 'min_samples_leaf': 7, 'max_features': 0.1222184778619043}. Best is trial 12 with value: 0.3125089868724346.\n",
      "[I 2024-01-23 15:50:41,419] Trial 23 finished with value: 0.31359231015583205 and parameters: {'n_estimators': 249, 'criterion': 'entropy', 'max_depth': 29, 'min_samples_split': 18, 'min_samples_leaf': 6, 'max_features': 0.11632578995653196}. Best is trial 23 with value: 0.31359231015583205.\n",
      "[I 2024-01-23 15:51:32,357] Trial 24 finished with value: 0.32018564561957424 and parameters: {'n_estimators': 310, 'criterion': 'entropy', 'max_depth': 31, 'min_samples_split': 19, 'min_samples_leaf': 3, 'max_features': 0.11483970486710159}. Best is trial 24 with value: 0.32018564561957424.\n",
      "[I 2024-01-23 15:52:35,046] Trial 25 finished with value: 0.3142659672654264 and parameters: {'n_estimators': 316, 'criterion': 'entropy', 'max_depth': 31, 'min_samples_split': 20, 'min_samples_leaf': 1, 'max_features': 0.17756585280650392}. Best is trial 24 with value: 0.32018564561957424.\n",
      "[I 2024-01-23 15:53:35,503] Trial 26 finished with value: 0.29162986429169985 and parameters: {'n_estimators': 315, 'criterion': 'gini', 'max_depth': 13, 'min_samples_split': 20, 'min_samples_leaf': 1, 'max_features': 0.18333059682997227}. Best is trial 24 with value: 0.32018564561957424.\n",
      "[I 2024-01-23 15:54:30,181] Trial 27 finished with value: 0.3144949410726229 and parameters: {'n_estimators': 311, 'criterion': 'entropy', 'max_depth': 29, 'min_samples_split': 19, 'min_samples_leaf': 3, 'max_features': 0.16279115873928376}. Best is trial 24 with value: 0.32018564561957424.\n",
      "[I 2024-01-23 15:55:43,988] Trial 28 finished with value: 0.3054536705881175 and parameters: {'n_estimators': 309, 'criterion': 'entropy', 'max_depth': 29, 'min_samples_split': 19, 'min_samples_leaf': 3, 'max_features': 0.2374151950987392}. Best is trial 24 with value: 0.32018564561957424.\n",
      "[I 2024-01-23 15:56:41,960] Trial 29 finished with value: 0.31663170272354674 and parameters: {'n_estimators': 285, 'criterion': 'gini', 'max_depth': 23, 'min_samples_split': 20, 'min_samples_leaf': 2, 'max_features': 0.15921613783957703}. Best is trial 24 with value: 0.32018564561957424.\n",
      "[I 2024-01-23 15:58:24,488] Trial 30 finished with value: 0.29342436712723813 and parameters: {'n_estimators': 286, 'criterion': 'gini', 'max_depth': 21, 'min_samples_split': 19, 'min_samples_leaf': 3, 'max_features': 0.38125519279853576}. Best is trial 24 with value: 0.32018564561957424.\n",
      "[I 2024-01-23 15:59:28,442] Trial 31 finished with value: 0.31600211433731057 and parameters: {'n_estimators': 309, 'criterion': 'gini', 'max_depth': 23, 'min_samples_split': 20, 'min_samples_leaf': 1, 'max_features': 0.17112132518828602}. Best is trial 24 with value: 0.32018564561957424.\n",
      "[I 2024-01-23 16:00:26,870] Trial 32 finished with value: 0.30078283769930997 and parameters: {'n_estimators': 269, 'criterion': 'gini', 'max_depth': 19, 'min_samples_split': 20, 'min_samples_leaf': 4, 'max_features': 0.2172196380528807}. Best is trial 24 with value: 0.32018564561957424.\n",
      "[I 2024-01-23 16:01:36,431] Trial 33 finished with value: 0.3175715969472261 and parameters: {'n_estimators': 383, 'criterion': 'gini', 'max_depth': 23, 'min_samples_split': 17, 'min_samples_leaf': 2, 'max_features': 0.15908969418225}. Best is trial 24 with value: 0.32018564561957424.\n",
      "[I 2024-01-23 16:02:48,914] Trial 34 finished with value: 0.32025029184106 and parameters: {'n_estimators': 382, 'criterion': 'gini', 'max_depth': 23, 'min_samples_split': 17, 'min_samples_leaf': 2, 'max_features': 0.15913157456209415}. Best is trial 34 with value: 0.32025029184106.\n",
      "[I 2024-01-23 16:03:55,890] Trial 35 finished with value: 0.3075292039299092 and parameters: {'n_estimators': 392, 'criterion': 'gini', 'max_depth': 17, 'min_samples_split': 17, 'min_samples_leaf': 5, 'max_features': 0.15030826848357892}. Best is trial 34 with value: 0.32025029184106.\n",
      "[I 2024-01-23 16:05:45,861] Trial 36 finished with value: 0.30097163384890074 and parameters: {'n_estimators': 386, 'criterion': 'gini', 'max_depth': 21, 'min_samples_split': 17, 'min_samples_leaf': 2, 'max_features': 0.2852120407691363}. Best is trial 34 with value: 0.32025029184106.\n",
      "[I 2024-01-23 16:07:04,045] Trial 37 finished with value: 0.3070177713043942 and parameters: {'n_estimators': 356, 'criterion': 'gini', 'max_depth': 25, 'min_samples_split': 15, 'min_samples_leaf': 5, 'max_features': 0.20121807441419987}. Best is trial 34 with value: 0.32025029184106.\n",
      "[I 2024-01-23 16:09:14,116] Trial 38 finished with value: 0.29388230187987024 and parameters: {'n_estimators': 401, 'criterion': 'gini', 'max_depth': 19, 'min_samples_split': 17, 'min_samples_leaf': 2, 'max_features': 0.3493337007047398}. Best is trial 34 with value: 0.32025029184106.\n",
      "[I 2024-01-23 16:09:58,181] Trial 39 finished with value: 0.3148496531376547 and parameters: {'n_estimators': 209, 'criterion': 'gini', 'max_depth': 23, 'min_samples_split': 15, 'min_samples_leaf': 4, 'max_features': 0.14794967265832923}. Best is trial 34 with value: 0.32025029184106.\n",
      "[I 2024-01-23 16:10:55,683] Trial 40 finished with value: 0.3149716188695084 and parameters: {'n_estimators': 364, 'criterion': 'gini', 'max_depth': 17, 'min_samples_split': 19, 'min_samples_leaf': 2, 'max_features': 0.11794632584475442}. Best is trial 34 with value: 0.32025029184106.\n",
      "[I 2024-01-23 16:12:04,084] Trial 41 finished with value: 0.32036161311293726 and parameters: {'n_estimators': 332, 'criterion': 'gini', 'max_depth': 25, 'min_samples_split': 20, 'min_samples_leaf': 1, 'max_features': 0.1612007896145716}. Best is trial 41 with value: 0.32036161311293726.\n",
      "[I 2024-01-23 16:13:01,405] Trial 42 finished with value: 0.31809533299245246 and parameters: {'n_estimators': 285, 'criterion': 'gini', 'max_depth': 25, 'min_samples_split': 18, 'min_samples_leaf': 2, 'max_features': 0.16050868130824153}. Best is trial 41 with value: 0.32036161311293726.\n",
      "[I 2024-01-23 16:14:11,497] Trial 43 finished with value: 0.3095608378924804 and parameters: {'n_estimators': 330, 'criterion': 'gini', 'max_depth': 25, 'min_samples_split': 18, 'min_samples_leaf': 4, 'max_features': 0.19474293229428793}. Best is trial 41 with value: 0.32036161311293726.\n",
      "[I 2024-01-23 16:15:17,808] Trial 44 finished with value: 0.3237903879263741 and parameters: {'n_estimators': 370, 'criterion': 'gini', 'max_depth': 25, 'min_samples_split': 16, 'min_samples_leaf': 1, 'max_features': 0.13524373343977067}. Best is trial 44 with value: 0.3237903879263741.\n",
      "[I 2024-01-23 16:17:51,818] Trial 45 finished with value: 0.28675445291939544 and parameters: {'n_estimators': 257, 'criterion': 'gini', 'max_depth': 25, 'min_samples_split': 2, 'min_samples_leaf': 1, 'max_features': 0.6133222321617487}. Best is trial 44 with value: 0.3237903879263741.\n",
      "[I 2024-01-23 16:18:41,961] Trial 46 finished with value: 0.31659959488116546 and parameters: {'n_estimators': 292, 'criterion': 'gini', 'max_depth': 21, 'min_samples_split': 16, 'min_samples_leaf': 5, 'max_features': 0.12932423946635946}. Best is trial 44 with value: 0.3237903879263741.\n",
      "[I 2024-01-23 16:19:26,547] Trial 47 finished with value: 0.2387509591656296 and parameters: {'n_estimators': 333, 'criterion': 'gini', 'max_depth': 7, 'min_samples_split': 19, 'min_samples_leaf': 3, 'max_features': 0.10975813208848613}. Best is trial 44 with value: 0.3237903879263741.\n",
      "[I 2024-01-23 16:20:32,674] Trial 48 finished with value: 0.31166909645285645 and parameters: {'n_estimators': 402, 'criterion': 'gini', 'max_depth': 25, 'min_samples_split': 14, 'min_samples_leaf': 6, 'max_features': 0.1422276495803788}. Best is trial 44 with value: 0.3237903879263741.\n",
      "[I 2024-01-23 16:21:52,113] Trial 49 finished with value: 0.29892515144385706 and parameters: {'n_estimators': 365, 'criterion': 'gini', 'max_depth': 15, 'min_samples_split': 6, 'min_samples_leaf': 1, 'max_features': 0.21966563790849217}. Best is trial 44 with value: 0.3237903879263741.\n",
      "[I 2024-01-23 16:22:54,331] Trial 50 finished with value: 0.2845014200622235 and parameters: {'n_estimators': 444, 'criterion': 'gini', 'max_depth': 29, 'min_samples_split': 17, 'min_samples_leaf': 20, 'max_features': 0.11169141029644158}. Best is trial 44 with value: 0.3237903879263741.\n",
      "[I 2024-01-23 16:24:07,819] Trial 51 finished with value: 0.32017192527192034 and parameters: {'n_estimators': 381, 'criterion': 'gini', 'max_depth': 23, 'min_samples_split': 17, 'min_samples_leaf': 2, 'max_features': 0.16227828538708375}. Best is trial 44 with value: 0.3237903879263741.\n",
      "[I 2024-01-23 16:25:15,025] Trial 52 finished with value: 0.32504929690933576 and parameters: {'n_estimators': 410, 'criterion': 'gini', 'max_depth': 25, 'min_samples_split': 18, 'min_samples_leaf': 2, 'max_features': 0.12654670309679278}. Best is trial 52 with value: 0.32504929690933576.\n",
      "[I 2024-01-23 16:26:26,878] Trial 53 finished with value: 0.3196089517550926 and parameters: {'n_estimators': 470, 'criterion': 'gini', 'max_depth': 27, 'min_samples_split': 16, 'min_samples_leaf': 4, 'max_features': 0.12651068969559376}. Best is trial 52 with value: 0.32504929690933576.\n",
      "[I 2024-01-23 16:27:29,365] Trial 54 finished with value: 0.3256480134696928 and parameters: {'n_estimators': 427, 'criterion': 'gini', 'max_depth': 21, 'min_samples_split': 19, 'min_samples_leaf': 3, 'max_features': 0.10066086628059506}. Best is trial 54 with value: 0.3256480134696928.\n",
      "[I 2024-01-23 16:28:27,868] Trial 55 finished with value: 0.3214410555968128 and parameters: {'n_estimators': 415, 'criterion': 'gini', 'max_depth': 19, 'min_samples_split': 19, 'min_samples_leaf': 3, 'max_features': 0.10018512008219453}. Best is trial 54 with value: 0.3256480134696928.\n",
      "[I 2024-01-23 16:29:38,167] Trial 56 finished with value: 0.32217095459743567 and parameters: {'n_estimators': 416, 'criterion': 'gini', 'max_depth': 19, 'min_samples_split': 4, 'min_samples_leaf': 1, 'max_features': 0.13689481004443768}. Best is trial 54 with value: 0.3256480134696928.\n",
      "[I 2024-01-23 16:30:34,969] Trial 57 finished with value: 0.28930003626506234 and parameters: {'n_estimators': 415, 'criterion': 'gini', 'max_depth': 19, 'min_samples_split': 4, 'min_samples_leaf': 18, 'max_features': 0.104082224167715}. Best is trial 54 with value: 0.3256480134696928.\n",
      "[I 2024-01-23 16:31:38,574] Trial 58 finished with value: 0.31903365572132353 and parameters: {'n_estimators': 445, 'criterion': 'gini', 'max_depth': 15, 'min_samples_split': 10, 'min_samples_leaf': 1, 'max_features': 0.10049814268273842}. Best is trial 54 with value: 0.3256480134696928.\n",
      "[I 2024-01-23 16:32:53,366] Trial 59 finished with value: 0.3150187790479287 and parameters: {'n_estimators': 466, 'criterion': 'gini', 'max_depth': 21, 'min_samples_split': 8, 'min_samples_leaf': 6, 'max_features': 0.13563331632626166}. Best is trial 54 with value: 0.3256480134696928.\n",
      "[I 2024-01-23 16:33:59,781] Trial 60 finished with value: 0.32260435003302856 and parameters: {'n_estimators': 418, 'criterion': 'gini', 'max_depth': 19, 'min_samples_split': 4, 'min_samples_leaf': 3, 'max_features': 0.12293149122341442}. Best is trial 54 with value: 0.3256480134696928.\n",
      "[I 2024-01-23 16:35:06,739] Trial 61 finished with value: 0.31924512624576 and parameters: {'n_estimators': 411, 'criterion': 'gini', 'max_depth': 17, 'min_samples_split': 4, 'min_samples_leaf': 3, 'max_features': 0.12229480903739422}. Best is trial 54 with value: 0.3256480134696928.\n",
      "[I 2024-01-23 16:36:12,366] Trial 62 finished with value: 0.3255550387218156 and parameters: {'n_estimators': 441, 'criterion': 'gini', 'max_depth': 19, 'min_samples_split': 5, 'min_samples_leaf': 1, 'max_features': 0.10978740998055689}. Best is trial 54 with value: 0.3256480134696928.\n",
      "[I 2024-01-23 16:37:15,382] Trial 63 finished with value: 0.3235913442689083 and parameters: {'n_estimators': 432, 'criterion': 'gini', 'max_depth': 19, 'min_samples_split': 3, 'min_samples_leaf': 4, 'max_features': 0.10857335602043773}. Best is trial 54 with value: 0.3256480134696928.\n",
      "[I 2024-01-23 16:38:18,856] Trial 64 finished with value: 0.32381844718064356 and parameters: {'n_estimators': 432, 'criterion': 'gini', 'max_depth': 17, 'min_samples_split': 3, 'min_samples_leaf': 4, 'max_features': 0.11006706070620502}. Best is trial 54 with value: 0.3256480134696928.\n",
      "[I 2024-01-23 16:39:18,959] Trial 65 finished with value: 0.3081709688606734 and parameters: {'n_estimators': 436, 'criterion': 'gini', 'max_depth': 13, 'min_samples_split': 3, 'min_samples_leaf': 4, 'max_features': 0.11225944246620063}. Best is trial 54 with value: 0.3256480134696928.\n",
      "[I 2024-01-23 16:40:29,151] Trial 66 finished with value: 0.3071075458052136 and parameters: {'n_estimators': 479, 'criterion': 'gini', 'max_depth': 15, 'min_samples_split': 3, 'min_samples_leaf': 7, 'max_features': 0.12270791384894969}. Best is trial 54 with value: 0.3256480134696928.\n",
      "[I 2024-01-23 16:41:33,853] Trial 67 finished with value: 0.3191246843226072 and parameters: {'n_estimators': 456, 'criterion': 'gini', 'max_depth': 17, 'min_samples_split': 6, 'min_samples_leaf': 5, 'max_features': 0.10670004500880252}. Best is trial 54 with value: 0.3256480134696928.\n",
      "[I 2024-01-23 16:42:34,185] Trial 68 finished with value: 0.2942257679956311 and parameters: {'n_estimators': 430, 'criterion': 'gini', 'max_depth': 13, 'min_samples_split': 3, 'min_samples_leaf': 13, 'max_features': 0.11855935961458781}. Best is trial 54 with value: 0.3256480134696928.\n",
      "[I 2024-01-23 16:43:48,351] Trial 69 finished with value: 0.3203896997443219 and parameters: {'n_estimators': 459, 'criterion': 'gini', 'max_depth': 21, 'min_samples_split': 5, 'min_samples_leaf': 4, 'max_features': 0.1280642847538699}. Best is trial 54 with value: 0.3256480134696928.\n",
      "[I 2024-01-23 16:45:03,609] Trial 70 finished with value: 0.30357938161822634 and parameters: {'n_estimators': 486, 'criterion': 'gini', 'max_depth': 17, 'min_samples_split': 2, 'min_samples_leaf': 8, 'max_features': 0.14312228447446318}. Best is trial 54 with value: 0.3256480134696928.\n",
      "[I 2024-01-23 16:46:08,836] Trial 71 finished with value: 0.3292552728103526 and parameters: {'n_estimators': 429, 'criterion': 'gini', 'max_depth': 19, 'min_samples_split': 5, 'min_samples_leaf': 1, 'max_features': 0.10863870211771137}. Best is trial 71 with value: 0.3292552728103526.\n",
      "[I 2024-01-23 16:47:14,164] Trial 72 finished with value: 0.32903033180392866 and parameters: {'n_estimators': 432, 'criterion': 'gini', 'max_depth': 21, 'min_samples_split': 5, 'min_samples_leaf': 3, 'max_features': 0.10949204660182556}. Best is trial 71 with value: 0.3292552728103526.\n",
      "[I 2024-01-23 16:48:20,579] Trial 73 finished with value: 0.3316898365423184 and parameters: {'n_estimators': 445, 'criterion': 'gini', 'max_depth': 21, 'min_samples_split': 5, 'min_samples_leaf': 2, 'max_features': 0.10942647706472025}. Best is trial 73 with value: 0.3316898365423184.\n",
      "[I 2024-01-23 16:49:28,796] Trial 74 finished with value: 0.329170048709114 and parameters: {'n_estimators': 439, 'criterion': 'gini', 'max_depth': 21, 'min_samples_split': 6, 'min_samples_leaf': 2, 'max_features': 0.11289733770903214}. Best is trial 73 with value: 0.3316898365423184.\n",
      "[I 2024-01-23 16:50:36,349] Trial 75 finished with value: 0.3283757838942238 and parameters: {'n_estimators': 447, 'criterion': 'gini', 'max_depth': 21, 'min_samples_split': 6, 'min_samples_leaf': 2, 'max_features': 0.1139579696982193}. Best is trial 73 with value: 0.3316898365423184.\n",
      "[I 2024-01-23 16:51:43,573] Trial 76 finished with value: 0.32945680078084344 and parameters: {'n_estimators': 449, 'criterion': 'gini', 'max_depth': 21, 'min_samples_split': 7, 'min_samples_leaf': 2, 'max_features': 0.10398179909280056}. Best is trial 73 with value: 0.3316898365423184.\n",
      "[I 2024-01-23 16:52:53,544] Trial 77 finished with value: 0.3286654490589808 and parameters: {'n_estimators': 449, 'criterion': 'gini', 'max_depth': 21, 'min_samples_split': 7, 'min_samples_leaf': 2, 'max_features': 0.1165389327306273}. Best is trial 73 with value: 0.3316898365423184.\n",
      "[I 2024-01-23 16:54:05,016] Trial 78 finished with value: 0.3290410344726456 and parameters: {'n_estimators': 479, 'criterion': 'gini', 'max_depth': 21, 'min_samples_split': 7, 'min_samples_leaf': 2, 'max_features': 0.11602237725234042}. Best is trial 73 with value: 0.3316898365423184.\n",
      "[I 2024-01-23 16:55:20,825] Trial 79 finished with value: 0.328120745088653 and parameters: {'n_estimators': 486, 'criterion': 'gini', 'max_depth': 21, 'min_samples_split': 7, 'min_samples_leaf': 2, 'max_features': 0.11757649953136459}. Best is trial 73 with value: 0.3316898365423184.\n",
      "[I 2024-01-23 16:59:42,422] Trial 80 finished with value: 0.28584942160114607 and parameters: {'n_estimators': 498, 'criterion': 'gini', 'max_depth': 21, 'min_samples_split': 7, 'min_samples_leaf': 2, 'max_features': 0.5803067213761606}. Best is trial 73 with value: 0.3316898365423184.\n",
      "[I 2024-01-23 17:00:54,608] Trial 81 finished with value: 0.3283068709764834 and parameters: {'n_estimators': 483, 'criterion': 'gini', 'max_depth': 21, 'min_samples_split': 7, 'min_samples_leaf': 2, 'max_features': 0.11737044183194786}. Best is trial 73 with value: 0.3316898365423184.\n",
      "[I 2024-01-23 17:01:58,973] Trial 82 finished with value: 0.3294707655173544 and parameters: {'n_estimators': 454, 'criterion': 'gini', 'max_depth': 23, 'min_samples_split': 6, 'min_samples_leaf': 2, 'max_features': 0.11404648810726287}. Best is trial 73 with value: 0.3316898365423184.\n",
      "[I 2024-01-23 17:03:05,104] Trial 83 finished with value: 0.2863237770234779 and parameters: {'n_estimators': 457, 'criterion': 'gini', 'max_depth': 23, 'min_samples_split': 6, 'min_samples_leaf': 16, 'max_features': 0.14939145289124783}. Best is trial 73 with value: 0.3316898365423184.\n",
      "[I 2024-01-23 17:04:10,075] Trial 84 finished with value: 0.3296026627932158 and parameters: {'n_estimators': 474, 'criterion': 'gini', 'max_depth': 23, 'min_samples_split': 8, 'min_samples_leaf': 3, 'max_features': 0.10530898146888566}. Best is trial 73 with value: 0.3316898365423184.\n",
      "[I 2024-01-23 17:05:14,508] Trial 85 finished with value: 0.3279291877637635 and parameters: {'n_estimators': 466, 'criterion': 'gini', 'max_depth': 23, 'min_samples_split': 8, 'min_samples_leaf': 3, 'max_features': 0.10618185250676197}. Best is trial 73 with value: 0.3316898365423184.\n",
      "[I 2024-01-23 17:06:27,429] Trial 86 finished with value: 0.3255882518470498 and parameters: {'n_estimators': 475, 'criterion': 'gini', 'max_depth': 21, 'min_samples_split': 8, 'min_samples_leaf': 3, 'max_features': 0.131819695589095}. Best is trial 73 with value: 0.3316898365423184.\n",
      "[I 2024-01-23 17:07:29,755] Trial 87 finished with value: 0.33421130609627586 and parameters: {'n_estimators': 454, 'criterion': 'gini', 'max_depth': 23, 'min_samples_split': 5, 'min_samples_leaf': 1, 'max_features': 0.10269622290272544}. Best is trial 87 with value: 0.33421130609627586.\n",
      "[I 2024-01-23 17:07:55,216] Trial 88 finished with value: 0.3247042671693303 and parameters: {'n_estimators': 144, 'criterion': 'gini', 'max_depth': 23, 'min_samples_split': 5, 'min_samples_leaf': 1, 'max_features': 0.10465354365300711}. Best is trial 87 with value: 0.33421130609627586.\n",
      "[I 2024-01-23 17:09:03,485] Trial 89 finished with value: 0.3338542103600311 and parameters: {'n_estimators': 495, 'criterion': 'gini', 'max_depth': 23, 'min_samples_split': 9, 'min_samples_leaf': 1, 'max_features': 0.10271449773865468}. Best is trial 87 with value: 0.33421130609627586.\n",
      "[I 2024-01-23 17:10:12,587] Trial 90 finished with value: 0.33504421760678804 and parameters: {'n_estimators': 493, 'criterion': 'gini', 'max_depth': 23, 'min_samples_split': 9, 'min_samples_leaf': 1, 'max_features': 0.1010372410631545}. Best is trial 90 with value: 0.33504421760678804.\n",
      "[I 2024-01-23 17:11:22,185] Trial 91 finished with value: 0.333540822594133 and parameters: {'n_estimators': 473, 'criterion': 'gini', 'max_depth': 23, 'min_samples_split': 9, 'min_samples_leaf': 1, 'max_features': 0.10076652562188912}. Best is trial 90 with value: 0.33504421760678804.\n",
      "[I 2024-01-23 17:12:33,349] Trial 92 finished with value: 0.3329317943780579 and parameters: {'n_estimators': 492, 'criterion': 'gini', 'max_depth': 23, 'min_samples_split': 9, 'min_samples_leaf': 1, 'max_features': 0.10069723876844404}. Best is trial 90 with value: 0.33504421760678804.\n",
      "[I 2024-01-23 17:13:39,941] Trial 93 finished with value: 0.33328109780032417 and parameters: {'n_estimators': 493, 'criterion': 'gini', 'max_depth': 23, 'min_samples_split': 10, 'min_samples_leaf': 1, 'max_features': 0.10107569558736765}. Best is trial 90 with value: 0.33504421760678804.\n",
      "[I 2024-01-23 17:14:47,574] Trial 94 finished with value: 0.33457077498972637 and parameters: {'n_estimators': 500, 'criterion': 'gini', 'max_depth': 23, 'min_samples_split': 9, 'min_samples_leaf': 1, 'max_features': 0.10054676840135976}. Best is trial 90 with value: 0.33504421760678804.\n",
      "[I 2024-01-23 17:15:54,396] Trial 95 finished with value: 0.3345406829399713 and parameters: {'n_estimators': 492, 'criterion': 'gini', 'max_depth': 23, 'min_samples_split': 10, 'min_samples_leaf': 1, 'max_features': 0.10354809871407852}. Best is trial 90 with value: 0.33504421760678804.\n",
      "[I 2024-01-23 17:17:02,581] Trial 96 finished with value: 0.3368479527114699 and parameters: {'n_estimators': 496, 'criterion': 'gini', 'max_depth': 27, 'min_samples_split': 10, 'min_samples_leaf': 1, 'max_features': 0.10037085816077634}. Best is trial 96 with value: 0.3368479527114699.\n",
      "[I 2024-01-23 17:18:15,120] Trial 97 finished with value: 0.33785369384683545 and parameters: {'n_estimators': 500, 'criterion': 'gini', 'max_depth': 27, 'min_samples_split': 10, 'min_samples_leaf': 1, 'max_features': 0.1018758247225511}. Best is trial 97 with value: 0.33785369384683545.\n",
      "[I 2024-01-23 17:19:25,177] Trial 98 finished with value: 0.33780495990020626 and parameters: {'n_estimators': 493, 'criterion': 'gini', 'max_depth': 27, 'min_samples_split': 10, 'min_samples_leaf': 1, 'max_features': 0.10079988197024392}. Best is trial 97 with value: 0.33785369384683545.\n",
      "[I 2024-01-23 17:20:36,126] Trial 99 finished with value: 0.33631051084944147 and parameters: {'n_estimators': 499, 'criterion': 'gini', 'max_depth': 27, 'min_samples_split': 11, 'min_samples_leaf': 1, 'max_features': 0.1011597513800612}. Best is trial 97 with value: 0.33785369384683545.\n",
      "[I 2024-01-23 17:21:56,328] Trial 100 finished with value: 0.3320461064433063 and parameters: {'n_estimators': 499, 'criterion': 'gini', 'max_depth': 27, 'min_samples_split': 11, 'min_samples_leaf': 1, 'max_features': 0.12237183139221736}. Best is trial 97 with value: 0.33785369384683545.\n",
      "[I 2024-01-23 17:23:07,479] Trial 101 finished with value: 0.33564256129693654 and parameters: {'n_estimators': 491, 'criterion': 'gini', 'max_depth': 27, 'min_samples_split': 10, 'min_samples_leaf': 1, 'max_features': 0.10120389338821319}. Best is trial 97 with value: 0.33785369384683545.\n",
      "[I 2024-01-23 17:24:19,839] Trial 102 finished with value: 0.33816512184884284 and parameters: {'n_estimators': 490, 'criterion': 'gini', 'max_depth': 29, 'min_samples_split': 11, 'min_samples_leaf': 1, 'max_features': 0.10071887668064035}. Best is trial 102 with value: 0.33816512184884284.\n",
      "[I 2024-01-23 17:25:32,534] Trial 103 finished with value: 0.33566986179628766 and parameters: {'n_estimators': 500, 'criterion': 'gini', 'max_depth': 29, 'min_samples_split': 11, 'min_samples_leaf': 1, 'max_features': 0.10594311221803841}. Best is trial 102 with value: 0.33816512184884284.\n",
      "[I 2024-01-23 17:26:43,062] Trial 104 finished with value: 0.3364717962880648 and parameters: {'n_estimators': 487, 'criterion': 'gini', 'max_depth': 29, 'min_samples_split': 11, 'min_samples_leaf': 1, 'max_features': 0.10658705393318813}. Best is trial 102 with value: 0.33816512184884284.\n",
      "[I 2024-01-23 17:27:53,392] Trial 105 finished with value: 0.3278666990339276 and parameters: {'n_estimators': 489, 'criterion': 'entropy', 'max_depth': 29, 'min_samples_split': 11, 'min_samples_leaf': 1, 'max_features': 0.1212700804248597}. Best is trial 102 with value: 0.33816512184884284.\n",
      "[I 2024-01-23 17:29:09,685] Trial 106 finished with value: 0.3315512949394515 and parameters: {'n_estimators': 466, 'criterion': 'gini', 'max_depth': 27, 'min_samples_split': 12, 'min_samples_leaf': 1, 'max_features': 0.12880283025725697}. Best is trial 102 with value: 0.33816512184884284.\n",
      "[I 2024-01-23 17:30:26,529] Trial 107 finished with value: 0.3384667562125589 and parameters: {'n_estimators': 499, 'criterion': 'gini', 'max_depth': 31, 'min_samples_split': 11, 'min_samples_leaf': 1, 'max_features': 0.107786155787668}. Best is trial 107 with value: 0.3384667562125589.\n",
      "[I 2024-01-23 17:31:31,100] Trial 108 finished with value: 0.30760974268833974 and parameters: {'n_estimators': 500, 'criterion': 'gini', 'max_depth': 31, 'min_samples_split': 12, 'min_samples_leaf': 10, 'max_features': 0.10696039457366206}. Best is trial 107 with value: 0.3384667562125589.\n",
      "[I 2024-01-23 17:32:42,909] Trial 109 finished with value: 0.3358676959647639 and parameters: {'n_estimators': 483, 'criterion': 'gini', 'max_depth': 29, 'min_samples_split': 11, 'min_samples_leaf': 1, 'max_features': 0.11255774179100543}. Best is trial 107 with value: 0.3384667562125589.\n",
      "[I 2024-01-23 17:33:54,121] Trial 110 finished with value: 0.3332343242080254 and parameters: {'n_estimators': 482, 'criterion': 'gini', 'max_depth': 29, 'min_samples_split': 12, 'min_samples_leaf': 2, 'max_features': 0.11349104034256834}. Best is trial 107 with value: 0.3384667562125589.\n",
      "[I 2024-01-23 17:35:03,968] Trial 111 finished with value: 0.33607955597885836 and parameters: {'n_estimators': 468, 'criterion': 'gini', 'max_depth': 29, 'min_samples_split': 11, 'min_samples_leaf': 1, 'max_features': 0.10690407401595091}. Best is trial 107 with value: 0.3384667562125589.\n",
      "[I 2024-01-23 17:36:20,775] Trial 112 finished with value: 0.33181876151537004 and parameters: {'n_estimators': 465, 'criterion': 'gini', 'max_depth': 29, 'min_samples_split': 11, 'min_samples_leaf': 1, 'max_features': 0.12410797119074099}. Best is trial 107 with value: 0.3384667562125589.\n",
      "[I 2024-01-23 17:37:32,190] Trial 113 finished with value: 0.337000177380397 and parameters: {'n_estimators': 482, 'criterion': 'gini', 'max_depth': 31, 'min_samples_split': 10, 'min_samples_leaf': 1, 'max_features': 0.10685168979909894}. Best is trial 107 with value: 0.3384667562125589.\n",
      "[I 2024-01-23 17:38:41,572] Trial 114 finished with value: 0.33564932363126093 and parameters: {'n_estimators': 480, 'criterion': 'gini', 'max_depth': 31, 'min_samples_split': 10, 'min_samples_leaf': 2, 'max_features': 0.10784153440289142}. Best is trial 107 with value: 0.3384667562125589.\n",
      "[I 2024-01-23 17:39:51,389] Trial 115 finished with value: 0.33490614257432294 and parameters: {'n_estimators': 481, 'criterion': 'gini', 'max_depth': 31, 'min_samples_split': 11, 'min_samples_leaf': 2, 'max_features': 0.10796648791163115}. Best is trial 107 with value: 0.3384667562125589.\n",
      "[I 2024-01-23 17:41:03,690] Trial 116 finished with value: 0.33137876849999914 and parameters: {'n_estimators': 473, 'criterion': 'gini', 'max_depth': 31, 'min_samples_split': 13, 'min_samples_leaf': 2, 'max_features': 0.11891209692714523}. Best is trial 107 with value: 0.3384667562125589.\n",
      "[I 2024-01-23 17:42:13,963] Trial 117 finished with value: 0.33582735467369873 and parameters: {'n_estimators': 463, 'criterion': 'gini', 'max_depth': 29, 'min_samples_split': 11, 'min_samples_leaf': 1, 'max_features': 0.11257664904895905}. Best is trial 107 with value: 0.3384667562125589.\n",
      "[I 2024-01-23 17:43:31,235] Trial 118 finished with value: 0.3298708957583565 and parameters: {'n_estimators': 463, 'criterion': 'gini', 'max_depth': 29, 'min_samples_split': 11, 'min_samples_leaf': 1, 'max_features': 0.12907348572045108}. Best is trial 107 with value: 0.3384667562125589.\n",
      "[I 2024-01-23 17:44:33,466] Trial 119 finished with value: 0.30352544422027866 and parameters: {'n_estimators': 472, 'criterion': 'entropy', 'max_depth': 29, 'min_samples_split': 12, 'min_samples_leaf': 12, 'max_features': 0.11429656703284449}. Best is trial 107 with value: 0.3384667562125589.\n",
      "[I 2024-01-23 17:45:53,039] Trial 120 finished with value: 0.32538656484827955 and parameters: {'n_estimators': 482, 'criterion': 'gini', 'max_depth': 27, 'min_samples_split': 13, 'min_samples_leaf': 1, 'max_features': 0.14332455985266745}. Best is trial 107 with value: 0.3384667562125589.\n",
      "[I 2024-01-23 17:52:36,321] Trial 121 finished with value: 0.2829913335554592 and parameters: {'n_estimators': 487, 'criterion': 'gini', 'max_depth': 31, 'min_samples_split': 10, 'min_samples_leaf': 2, 'max_features': 0.8757184499323277}. Best is trial 107 with value: 0.3384667562125589.\n",
      "[I 2024-01-23 17:53:45,248] Trial 122 finished with value: 0.3350896661019643 and parameters: {'n_estimators': 479, 'criterion': 'gini', 'max_depth': 29, 'min_samples_split': 10, 'min_samples_leaf': 1, 'max_features': 0.11154042568647338}. Best is trial 107 with value: 0.3384667562125589.\n",
      "[I 2024-01-23 17:54:53,381] Trial 123 finished with value: 0.33316847833167323 and parameters: {'n_estimators': 500, 'criterion': 'gini', 'max_depth': 31, 'min_samples_split': 11, 'min_samples_leaf': 2, 'max_features': 0.10842277908099734}. Best is trial 107 with value: 0.3384667562125589.\n",
      "[I 2024-01-23 17:56:01,437] Trial 124 finished with value: 0.33176126789479055 and parameters: {'n_estimators': 462, 'criterion': 'gini', 'max_depth': 29, 'min_samples_split': 10, 'min_samples_leaf': 2, 'max_features': 0.1210759566048976}. Best is trial 107 with value: 0.3384667562125589.\n",
      "[I 2024-01-23 17:58:14,356] Trial 125 finished with value: 0.30985006755388017 and parameters: {'n_estimators': 472, 'criterion': 'gini', 'max_depth': 27, 'min_samples_split': 12, 'min_samples_leaf': 1, 'max_features': 0.2784042282095972}. Best is trial 107 with value: 0.3384667562125589.\n",
      "[I 2024-01-23 18:01:27,583] Trial 126 finished with value: 0.30249646737780433 and parameters: {'n_estimators': 486, 'criterion': 'gini', 'max_depth': 31, 'min_samples_split': 11, 'min_samples_leaf': 2, 'max_features': 0.4103615122369434}. Best is trial 107 with value: 0.3384667562125589.\n",
      "[I 2024-01-23 18:02:27,973] Trial 127 finished with value: 0.329302228721348 and parameters: {'n_estimators': 478, 'criterion': 'gini', 'max_depth': 27, 'min_samples_split': 11, 'min_samples_leaf': 3, 'max_features': 0.10748368057391916}. Best is trial 107 with value: 0.3384667562125589.\n",
      "[I 2024-01-23 18:03:39,269] Trial 128 finished with value: 0.33597856746910115 and parameters: {'n_estimators': 487, 'criterion': 'gini', 'max_depth': 29, 'min_samples_split': 10, 'min_samples_leaf': 1, 'max_features': 0.11575725206292331}. Best is trial 107 with value: 0.3384667562125589.\n",
      "[I 2024-01-23 18:04:58,084] Trial 129 finished with value: 0.33180917143561134 and parameters: {'n_estimators': 489, 'criterion': 'gini', 'max_depth': 29, 'min_samples_split': 11, 'min_samples_leaf': 1, 'max_features': 0.13465487143641303}. Best is trial 107 with value: 0.3384667562125589.\n",
      "[I 2024-01-23 18:05:14,689] Trial 130 finished with value: 0.31982779394305555 and parameters: {'n_estimators': 67, 'criterion': 'gini', 'max_depth': 29, 'min_samples_split': 12, 'min_samples_leaf': 1, 'max_features': 0.11574643948738662}. Best is trial 107 with value: 0.3384667562125589.\n",
      "[I 2024-01-23 18:06:20,884] Trial 131 finished with value: 0.3358129377223997 and parameters: {'n_estimators': 468, 'criterion': 'gini', 'max_depth': 31, 'min_samples_split': 10, 'min_samples_leaf': 1, 'max_features': 0.11182492138792692}. Best is trial 107 with value: 0.3384667562125589.\n",
      "[I 2024-01-23 18:07:26,524] Trial 132 finished with value: 0.33546864068689386 and parameters: {'n_estimators': 467, 'criterion': 'gini', 'max_depth': 29, 'min_samples_split': 10, 'min_samples_leaf': 1, 'max_features': 0.11281891424469528}. Best is trial 107 with value: 0.3384667562125589.\n",
      "[I 2024-01-23 18:08:35,440] Trial 133 finished with value: 0.3334502305193152 and parameters: {'n_estimators': 460, 'criterion': 'gini', 'max_depth': 31, 'min_samples_split': 9, 'min_samples_leaf': 1, 'max_features': 0.1241193651541188}. Best is trial 107 with value: 0.3384667562125589.\n",
      "[I 2024-01-23 18:09:39,972] Trial 134 finished with value: 0.33377124605113195 and parameters: {'n_estimators': 489, 'criterion': 'gini', 'max_depth': 27, 'min_samples_split': 10, 'min_samples_leaf': 2, 'max_features': 0.10582702941860632}. Best is trial 107 with value: 0.3384667562125589.\n",
      "[I 2024-01-23 18:10:50,747] Trial 135 finished with value: 0.3328407708451724 and parameters: {'n_estimators': 470, 'criterion': 'gini', 'max_depth': 29, 'min_samples_split': 12, 'min_samples_leaf': 1, 'max_features': 0.11943613213867275}. Best is trial 107 with value: 0.3384667562125589.\n",
      "[I 2024-01-23 18:13:30,487] Trial 136 finished with value: 0.3087336488473371 and parameters: {'n_estimators': 500, 'criterion': 'gini', 'max_depth': 29, 'min_samples_split': 11, 'min_samples_leaf': 2, 'max_features': 0.33016959888519976}. Best is trial 107 with value: 0.3384667562125589.\n",
      "[I 2024-01-23 18:14:33,590] Trial 137 finished with value: 0.3367406202035122 and parameters: {'n_estimators': 454, 'criterion': 'gini', 'max_depth': 31, 'min_samples_split': 13, 'min_samples_leaf': 1, 'max_features': 0.11033344384380923}. Best is trial 107 with value: 0.3384667562125589.\n",
      "[I 2024-01-23 18:15:35,288] Trial 138 finished with value: 0.32913248407258405 and parameters: {'n_estimators': 459, 'criterion': 'gini', 'max_depth': 31, 'min_samples_split': 13, 'min_samples_leaf': 3, 'max_features': 0.11148734131324861}. Best is trial 107 with value: 0.3384667562125589.\n",
      "[I 2024-01-23 18:16:42,490] Trial 139 finished with value: 0.3335034953404002 and parameters: {'n_estimators': 452, 'criterion': 'gini', 'max_depth': 31, 'min_samples_split': 10, 'min_samples_leaf': 1, 'max_features': 0.11641408288799326}. Best is trial 107 with value: 0.3384667562125589.\n",
      "[I 2024-01-23 18:17:49,459] Trial 140 finished with value: 0.32541917871525317 and parameters: {'n_estimators': 477, 'criterion': 'entropy', 'max_depth': 27, 'min_samples_split': 14, 'min_samples_leaf': 2, 'max_features': 0.13042457411752048}. Best is trial 107 with value: 0.3384667562125589.\n",
      "[I 2024-01-23 18:18:57,184] Trial 141 finished with value: 0.33745732341481166 and parameters: {'n_estimators': 486, 'criterion': 'gini', 'max_depth': 31, 'min_samples_split': 11, 'min_samples_leaf': 1, 'max_features': 0.10562884000690405}. Best is trial 107 with value: 0.3384667562125589.\n",
      "[I 2024-01-23 18:20:05,655] Trial 142 finished with value: 0.3342177926045287 and parameters: {'n_estimators': 487, 'criterion': 'gini', 'max_depth': 31, 'min_samples_split': 10, 'min_samples_leaf': 1, 'max_features': 0.11161096998720817}. Best is trial 107 with value: 0.3384667562125589.\n",
      "[I 2024-01-23 18:20:55,727] Trial 143 finished with value: 0.24036143285826264 and parameters: {'n_estimators': 471, 'criterion': 'gini', 'max_depth': 7, 'min_samples_split': 9, 'min_samples_leaf': 1, 'max_features': 0.10701731116704345}. Best is trial 107 with value: 0.3384667562125589.\n",
      "[I 2024-01-23 18:21:59,055] Trial 144 finished with value: 0.33363464862055486 and parameters: {'n_estimators': 487, 'criterion': 'gini', 'max_depth': 31, 'min_samples_split': 12, 'min_samples_leaf': 2, 'max_features': 0.10059675840015675}. Best is trial 107 with value: 0.3384667562125589.\n",
      "[I 2024-01-23 18:23:09,023] Trial 145 finished with value: 0.33301304136578186 and parameters: {'n_estimators': 480, 'criterion': 'gini', 'max_depth': 27, 'min_samples_split': 11, 'min_samples_leaf': 1, 'max_features': 0.11871842052028264}. Best is trial 107 with value: 0.3384667562125589.\n",
      "[I 2024-01-23 18:24:16,177] Trial 146 finished with value: 0.3353269936315388 and parameters: {'n_estimators': 492, 'criterion': 'gini', 'max_depth': 29, 'min_samples_split': 11, 'min_samples_leaf': 2, 'max_features': 0.10461585169438212}. Best is trial 107 with value: 0.3384667562125589.\n",
      "[I 2024-01-23 18:28:07,340] Trial 147 finished with value: 0.2974700221687828 and parameters: {'n_estimators': 463, 'criterion': 'gini', 'max_depth': 31, 'min_samples_split': 10, 'min_samples_leaf': 1, 'max_features': 0.4953287456583914}. Best is trial 107 with value: 0.3384667562125589.\n",
      "[I 2024-01-23 18:29:09,504] Trial 148 finished with value: 0.3339427325183058 and parameters: {'n_estimators': 442, 'criterion': 'gini', 'max_depth': 31, 'min_samples_split': 10, 'min_samples_leaf': 1, 'max_features': 0.11278754402094764}. Best is trial 107 with value: 0.3384667562125589.\n",
      "[I 2024-01-23 18:30:07,480] Trial 149 finished with value: 0.3346010194417888 and parameters: {'n_estimators': 476, 'criterion': 'gini', 'max_depth': 29, 'min_samples_split': 12, 'min_samples_leaf': 2, 'max_features': 0.10016412140603609}. Best is trial 107 with value: 0.3384667562125589.\n",
      "[I 2024-01-23 18:31:14,779] Trial 150 finished with value: 0.3298673172349697 and parameters: {'n_estimators': 454, 'criterion': 'gini', 'max_depth': 25, 'min_samples_split': 11, 'min_samples_leaf': 1, 'max_features': 0.1266918678167879}. Best is trial 107 with value: 0.3384667562125589.\n",
      "[I 2024-01-23 18:32:20,931] Trial 151 finished with value: 0.33652138402242615 and parameters: {'n_estimators': 500, 'criterion': 'gini', 'max_depth': 29, 'min_samples_split': 11, 'min_samples_leaf': 1, 'max_features': 0.10538493670943286}. Best is trial 107 with value: 0.3384667562125589.\n",
      "[I 2024-01-23 18:33:26,464] Trial 152 finished with value: 0.3371528159271972 and parameters: {'n_estimators': 493, 'criterion': 'gini', 'max_depth': 27, 'min_samples_split': 11, 'min_samples_leaf': 1, 'max_features': 0.10616148764325055}. Best is trial 107 with value: 0.3384667562125589.\n",
      "[I 2024-01-23 18:34:31,742] Trial 153 finished with value: 0.3369018223864113 and parameters: {'n_estimators': 500, 'criterion': 'gini', 'max_depth': 27, 'min_samples_split': 11, 'min_samples_leaf': 1, 'max_features': 0.10579166341393641}. Best is trial 107 with value: 0.3384667562125589.\n",
      "[I 2024-01-23 18:35:32,127] Trial 154 finished with value: 0.3327985712309632 and parameters: {'n_estimators': 492, 'criterion': 'gini', 'max_depth': 25, 'min_samples_split': 11, 'min_samples_leaf': 2, 'max_features': 0.10558795754327192}. Best is trial 107 with value: 0.3384667562125589.\n",
      "[I 2024-01-23 18:36:35,486] Trial 155 finished with value: 0.33477186997175107 and parameters: {'n_estimators': 495, 'criterion': 'gini', 'max_depth': 27, 'min_samples_split': 12, 'min_samples_leaf': 1, 'max_features': 0.10575150124581649}. Best is trial 107 with value: 0.3384667562125589.\n",
      "[I 2024-01-23 18:37:35,234] Trial 156 finished with value: 0.3339341211461541 and parameters: {'n_estimators': 484, 'criterion': 'gini', 'max_depth': 27, 'min_samples_split': 9, 'min_samples_leaf': 2, 'max_features': 0.10029471062925212}. Best is trial 107 with value: 0.3384667562125589.\n",
      "[I 2024-01-23 18:38:46,808] Trial 157 finished with value: 0.3312422221190897 and parameters: {'n_estimators': 499, 'criterion': 'gini', 'max_depth': 27, 'min_samples_split': 11, 'min_samples_leaf': 1, 'max_features': 0.11874338289674394}. Best is trial 107 with value: 0.3384667562125589.\n",
      "[I 2024-01-23 18:39:43,030] Trial 158 finished with value: 0.30986736604091714 and parameters: {'n_estimators': 484, 'criterion': 'gini', 'max_depth': 29, 'min_samples_split': 12, 'min_samples_leaf': 9, 'max_features': 0.10516106970813946}. Best is trial 107 with value: 0.3384667562125589.\n",
      "[I 2024-01-23 18:40:46,555] Trial 159 finished with value: 0.3289476603108102 and parameters: {'n_estimators': 500, 'criterion': 'gini', 'max_depth': 27, 'min_samples_split': 10, 'min_samples_leaf': 3, 'max_features': 0.1095520633024136}. Best is trial 107 with value: 0.3384667562125589.\n",
      "[I 2024-01-23 18:41:41,946] Trial 160 finished with value: 0.292431109313074 and parameters: {'n_estimators': 487, 'criterion': 'gini', 'max_depth': 25, 'min_samples_split': 11, 'min_samples_leaf': 15, 'max_features': 0.116137964434339}. Best is trial 107 with value: 0.3384667562125589.\n",
      "[I 2024-01-23 18:42:46,496] Trial 161 finished with value: 0.3352161299771701 and parameters: {'n_estimators': 475, 'criterion': 'gini', 'max_depth': 29, 'min_samples_split': 11, 'min_samples_leaf': 1, 'max_features': 0.11042996078280222}. Best is trial 107 with value: 0.3384667562125589.\n",
      "[I 2024-01-23 18:43:53,167] Trial 162 finished with value: 0.3361351621517479 and parameters: {'n_estimators': 492, 'criterion': 'gini', 'max_depth': 29, 'min_samples_split': 11, 'min_samples_leaf': 1, 'max_features': 0.10470487700876234}. Best is trial 107 with value: 0.3384667562125589.\n",
      "[I 2024-01-23 18:44:58,212] Trial 163 finished with value: 0.3359254726797199 and parameters: {'n_estimators': 491, 'criterion': 'gini', 'max_depth': 27, 'min_samples_split': 10, 'min_samples_leaf': 1, 'max_features': 0.10492898311810381}. Best is trial 107 with value: 0.3384667562125589.\n",
      "[I 2024-01-23 18:46:00,299] Trial 164 finished with value: 0.3338628090166866 and parameters: {'n_estimators': 492, 'criterion': 'gini', 'max_depth': 27, 'min_samples_split': 10, 'min_samples_leaf': 2, 'max_features': 0.10446744041786721}. Best is trial 107 with value: 0.3384667562125589.\n",
      "[I 2024-01-23 18:47:03,746] Trial 165 finished with value: 0.3358413165107846 and parameters: {'n_estimators': 493, 'criterion': 'gini', 'max_depth': 27, 'min_samples_split': 10, 'min_samples_leaf': 1, 'max_features': 0.10443850754531306}. Best is trial 107 with value: 0.3384667562125589.\n",
      "[I 2024-01-23 18:48:07,899] Trial 166 finished with value: 0.3339347469550134 and parameters: {'n_estimators': 499, 'criterion': 'gini', 'max_depth': 25, 'min_samples_split': 9, 'min_samples_leaf': 2, 'max_features': 0.10803655315490977}. Best is trial 107 with value: 0.3384667562125589.\n",
      "[I 2024-01-23 18:48:38,533] Trial 167 finished with value: 0.3307985578275748 and parameters: {'n_estimators': 196, 'criterion': 'gini', 'max_depth': 29, 'min_samples_split': 12, 'min_samples_leaf': 1, 'max_features': 0.10368466664253659}. Best is trial 107 with value: 0.3384667562125589.\n",
      "[I 2024-01-23 18:49:37,835] Trial 168 finished with value: 0.33276238404216857 and parameters: {'n_estimators': 479, 'criterion': 'entropy', 'max_depth': 27, 'min_samples_split': 10, 'min_samples_leaf': 1, 'max_features': 0.10055764507426665}. Best is trial 107 with value: 0.3384667562125589.\n",
      "[I 2024-01-23 18:50:49,240] Trial 169 finished with value: 0.33396498390659346 and parameters: {'n_estimators': 487, 'criterion': 'gini', 'max_depth': 29, 'min_samples_split': 11, 'min_samples_leaf': 1, 'max_features': 0.12156482092381891}. Best is trial 107 with value: 0.3384667562125589.\n",
      "[I 2024-01-23 18:51:51,887] Trial 170 finished with value: 0.3344285990111646 and parameters: {'n_estimators': 474, 'criterion': 'gini', 'max_depth': 29, 'min_samples_split': 11, 'min_samples_leaf': 2, 'max_features': 0.10850277399027831}. Best is trial 107 with value: 0.3384667562125589.\n",
      "[I 2024-01-23 18:53:02,694] Trial 171 finished with value: 0.3337059623381091 and parameters: {'n_estimators': 500, 'criterion': 'gini', 'max_depth': 29, 'min_samples_split': 11, 'min_samples_leaf': 1, 'max_features': 0.11590423287603036}. Best is trial 107 with value: 0.3384667562125589.\n",
      "[I 2024-01-23 18:54:09,114] Trial 172 finished with value: 0.3363559785606291 and parameters: {'n_estimators': 483, 'criterion': 'gini', 'max_depth': 31, 'min_samples_split': 10, 'min_samples_leaf': 1, 'max_features': 0.11188707560621255}. Best is trial 107 with value: 0.3384667562125589.\n",
      "[I 2024-01-23 18:55:12,776] Trial 173 finished with value: 0.3339575108037733 and parameters: {'n_estimators': 488, 'criterion': 'gini', 'max_depth': 31, 'min_samples_split': 10, 'min_samples_leaf': 2, 'max_features': 0.10880712810124253}. Best is trial 107 with value: 0.3384667562125589.\n",
      "[I 2024-01-23 18:56:17,421] Trial 174 finished with value: 0.3393694410422728 and parameters: {'n_estimators': 479, 'criterion': 'gini', 'max_depth': 31, 'min_samples_split': 9, 'min_samples_leaf': 1, 'max_features': 0.10054955508358797}. Best is trial 174 with value: 0.3393694410422728.\n",
      "[I 2024-01-23 18:57:19,077] Trial 175 finished with value: 0.33921530194582195 and parameters: {'n_estimators': 479, 'criterion': 'gini', 'max_depth': 31, 'min_samples_split': 9, 'min_samples_leaf': 1, 'max_features': 0.1014100904900214}. Best is trial 174 with value: 0.3393694410422728.\n",
      "[I 2024-01-23 18:58:19,325] Trial 176 finished with value: 0.336137110373866 and parameters: {'n_estimators': 469, 'criterion': 'gini', 'max_depth': 31, 'min_samples_split': 9, 'min_samples_leaf': 2, 'max_features': 0.10334114112863803}. Best is trial 174 with value: 0.3393694410422728.\n",
      "[I 2024-01-23 18:59:21,225] Trial 177 finished with value: 0.3382960508003093 and parameters: {'n_estimators': 475, 'criterion': 'gini', 'max_depth': 31, 'min_samples_split': 8, 'min_samples_leaf': 2, 'max_features': 0.10055246383994314}. Best is trial 174 with value: 0.3393694410422728.\n",
      "[I 2024-01-23 19:00:21,859] Trial 178 finished with value: 0.3350059743244596 and parameters: {'n_estimators': 477, 'criterion': 'gini', 'max_depth': 31, 'min_samples_split': 8, 'min_samples_leaf': 2, 'max_features': 0.10322926297987281}. Best is trial 174 with value: 0.3393694410422728.\n",
      "[I 2024-01-23 19:01:23,248] Trial 179 finished with value: 0.33751466202946895 and parameters: {'n_estimators': 469, 'criterion': 'gini', 'max_depth': 31, 'min_samples_split': 8, 'min_samples_leaf': 2, 'max_features': 0.10046889812021889}. Best is trial 174 with value: 0.3393694410422728.\n",
      "[I 2024-01-23 19:01:46,222] Trial 180 finished with value: 0.33286516956959017 and parameters: {'n_estimators': 141, 'criterion': 'gini', 'max_depth': 31, 'min_samples_split': 8, 'min_samples_leaf': 2, 'max_features': 0.101317678170508}. Best is trial 174 with value: 0.3393694410422728.\n",
      "[I 2024-01-23 19:02:46,049] Trial 181 finished with value: 0.3374318302822821 and parameters: {'n_estimators': 470, 'criterion': 'gini', 'max_depth': 31, 'min_samples_split': 9, 'min_samples_leaf': 2, 'max_features': 0.1001342737643602}. Best is trial 174 with value: 0.3393694410422728.\n",
      "[I 2024-01-23 19:03:48,028] Trial 182 finished with value: 0.34010165362107186 and parameters: {'n_estimators': 479, 'criterion': 'gini', 'max_depth': 31, 'min_samples_split': 8, 'min_samples_leaf': 1, 'max_features': 0.1005925021350651}. Best is trial 182 with value: 0.34010165362107186.\n",
      "[I 2024-01-23 19:04:48,086] Trial 183 finished with value: 0.33680126403704774 and parameters: {'n_estimators': 460, 'criterion': 'gini', 'max_depth': 31, 'min_samples_split': 8, 'min_samples_leaf': 2, 'max_features': 0.10066489777937346}. Best is trial 182 with value: 0.34010165362107186.\n",
      "[I 2024-01-23 19:05:44,692] Trial 184 finished with value: 0.3319657362169394 and parameters: {'n_estimators': 456, 'criterion': 'gini', 'max_depth': 31, 'min_samples_split': 8, 'min_samples_leaf': 3, 'max_features': 0.10118061994164855}. Best is trial 182 with value: 0.34010165362107186.\n",
      "[I 2024-01-23 19:06:43,603] Trial 185 finished with value: 0.3367510778385872 and parameters: {'n_estimators': 463, 'criterion': 'gini', 'max_depth': 31, 'min_samples_split': 9, 'min_samples_leaf': 2, 'max_features': 0.10082795722565703}. Best is trial 182 with value: 0.34010165362107186.\n",
      "[I 2024-01-23 19:07:40,039] Trial 186 finished with value: 0.33416377180399687 and parameters: {'n_estimators': 452, 'criterion': 'gini', 'max_depth': 31, 'min_samples_split': 8, 'min_samples_leaf': 3, 'max_features': 0.10021757633504122}. Best is trial 182 with value: 0.34010165362107186.\n",
      "[I 2024-01-23 19:08:38,699] Trial 187 finished with value: 0.3363798590092805 and parameters: {'n_estimators': 467, 'criterion': 'gini', 'max_depth': 31, 'min_samples_split': 8, 'min_samples_leaf': 2, 'max_features': 0.10053657523681149}. Best is trial 182 with value: 0.34010165362107186.\n",
      "[I 2024-01-23 19:09:38,133] Trial 188 finished with value: 0.3289014329933056 and parameters: {'n_estimators': 462, 'criterion': 'gini', 'max_depth': 31, 'min_samples_split': 9, 'min_samples_leaf': 3, 'max_features': 0.10974471779381904}. Best is trial 182 with value: 0.34010165362107186.\n",
      "[I 2024-01-23 19:10:37,356] Trial 189 finished with value: 0.3361508360175447 and parameters: {'n_estimators': 445, 'criterion': 'gini', 'max_depth': 31, 'min_samples_split': 9, 'min_samples_leaf': 2, 'max_features': 0.10879390875598491}. Best is trial 182 with value: 0.34010165362107186.\n",
      "[I 2024-01-23 19:11:38,738] Trial 190 finished with value: 0.33607194603023477 and parameters: {'n_estimators': 474, 'criterion': 'gini', 'max_depth': 31, 'min_samples_split': 8, 'min_samples_leaf': 2, 'max_features': 0.10590155006096394}. Best is trial 182 with value: 0.34010165362107186.\n",
      "[I 2024-01-23 19:12:41,794] Trial 191 finished with value: 0.338225531118072 and parameters: {'n_estimators': 478, 'criterion': 'gini', 'max_depth': 31, 'min_samples_split': 9, 'min_samples_leaf': 1, 'max_features': 0.10054417990592769}. Best is trial 182 with value: 0.34010165362107186.\n",
      "[I 2024-01-23 19:13:44,288] Trial 192 finished with value: 0.34060937812551556 and parameters: {'n_estimators': 476, 'criterion': 'gini', 'max_depth': 31, 'min_samples_split': 9, 'min_samples_leaf': 1, 'max_features': 0.10002741468568423}. Best is trial 192 with value: 0.34060937812551556.\n",
      "[I 2024-01-23 19:14:43,349] Trial 193 finished with value: 0.3400549667488966 and parameters: {'n_estimators': 461, 'criterion': 'gini', 'max_depth': 31, 'min_samples_split': 9, 'min_samples_leaf': 1, 'max_features': 0.10128001316127873}. Best is trial 192 with value: 0.34060937812551556.\n",
      "[I 2024-01-23 19:15:43,801] Trial 194 finished with value: 0.3372641293718475 and parameters: {'n_estimators': 475, 'criterion': 'gini', 'max_depth': 31, 'min_samples_split': 9, 'min_samples_leaf': 2, 'max_features': 0.10027480245459353}. Best is trial 192 with value: 0.34060937812551556.\n",
      "[I 2024-01-23 19:16:46,622] Trial 195 finished with value: 0.336707253181526 and parameters: {'n_estimators': 478, 'criterion': 'gini', 'max_depth': 31, 'min_samples_split': 9, 'min_samples_leaf': 1, 'max_features': 0.10114123814181024}. Best is trial 192 with value: 0.34060937812551556.\n",
      "[I 2024-01-23 19:17:48,582] Trial 196 finished with value: 0.33998177354415876 and parameters: {'n_estimators': 473, 'criterion': 'gini', 'max_depth': 31, 'min_samples_split': 9, 'min_samples_leaf': 1, 'max_features': 0.10000521496400717}. Best is trial 192 with value: 0.34060937812551556.\n",
      "[I 2024-01-23 19:19:49,227] Trial 197 finished with value: 0.31638211706387326 and parameters: {'n_estimators': 473, 'criterion': 'gini', 'max_depth': 31, 'min_samples_split': 9, 'min_samples_leaf': 1, 'max_features': 0.24357303068213454}. Best is trial 192 with value: 0.34060937812551556.\n",
      "[I 2024-01-23 19:20:53,521] Trial 198 finished with value: 0.3369564986865954 and parameters: {'n_estimators': 479, 'criterion': 'gini', 'max_depth': 31, 'min_samples_split': 9, 'min_samples_leaf': 1, 'max_features': 0.10660467242222862}. Best is trial 192 with value: 0.34060937812551556.\n",
      "[I 2024-01-23 19:21:53,580] Trial 199 finished with value: 0.33742901398362335 and parameters: {'n_estimators': 470, 'criterion': 'gini', 'max_depth': 31, 'min_samples_split': 9, 'min_samples_leaf': 1, 'max_features': 0.10007487234470114}. Best is trial 192 with value: 0.34060937812551556.\n"
     ]
    }
   ],
   "source": [
    "import sklearn.model_selection\n",
    "\n",
    "trials = {}\n",
    "# 1. Define an objective function to be maximized.\n",
    "def objective(trial):\n",
    "    params_brf = {\n",
    "        \"n_estimators\": trial.suggest_int(\"n_estimators\", 50, 500),\n",
    "        \"criterion\": trial.suggest_categorical(\"criterion\", [\"gini\", \"entropy\"]),\n",
    "        \"max_depth\": trial.suggest_int(\"max_depth\", 1, 31, step=2),\n",
    "        \"min_samples_split\": trial.suggest_int(\"min_samples_split\", 2, 20),\n",
    "        \"min_samples_leaf\": trial.suggest_int(\"min_samples_leaf\", 1, 20),\n",
    "        \"max_features\": trial.suggest_float(\"max_features\", 0.1, 1.0, log=True),\n",
    "    }\n",
    "\n",
    "    brf = BalancedRandomForestClassifier(replacement=True, sampling_strategy= \"all\", **params_brf, n_jobs=-1)\n",
    "    score = sklearn.model_selection.cross_val_score(brf, X_train, y_train, scoring=\"f1\", n_jobs=-1, cv=3).mean()\n",
    "\n",
    "    return score\n",
    "\n",
    "# 3. Create a study object and optimize the objective function.\n",
    "study = optuna.create_study(direction='maximize')\n",
    "study.optimize(objective, n_trials=200)"
   ]
  },
  {
   "cell_type": "code",
   "execution_count": 32,
   "metadata": {},
   "outputs": [
    {
     "name": "stdout",
     "output_type": "stream",
     "text": [
      "Number of finished trials:  200\n",
      "Best trial:\n",
      "  Value: 0.34060937812551556\n",
      "  Params: \n",
      "    n_estimators: 476\n",
      "    criterion: gini\n",
      "    max_depth: 31\n",
      "    min_samples_split: 9\n",
      "    min_samples_leaf: 1\n",
      "    max_features: 0.10002741468568423\n"
     ]
    }
   ],
   "source": [
    "print(\"Number of finished trials: \", len(study.trials))\n",
    "print(\"Best trial:\")\n",
    "trial = study.best_trial\n",
    "\n",
    "print(\"  Value: {}\".format(trial.value))\n",
    "print(\"  Params: \")\n",
    "for key, value in trial.params.items():\n",
    "    print(\"    {}: {}\".format(key, value))"
   ]
  },
  {
   "cell_type": "code",
   "execution_count": 34,
   "metadata": {},
   "outputs": [
    {
     "name": "stdout",
     "output_type": "stream",
     "text": [
      "F1 score: 0.526 \n",
      "MCC: 0.470 \n",
      "Balanced accuracy: 0.790 \n",
      "      0    1\n",
      "0  6084  828\n",
      "1   260  604\n"
     ]
    }
   ],
   "source": [
    "trial = study.best_trial\n",
    "brf_clf = BalancedRandomForestClassifier(replacement=True, sampling_strategy= \"all\", n_jobs=-1, **trial.params)\n",
    "brf_clf.fit(X_train, y_train)\n",
    "ypred = brf_clf.predict(X_test)\n",
    "\n",
    "print('F1 score: %.3f ' % f1_score(y_test, ypred))\n",
    "print('MCC: %.3f ' % matthews_corrcoef(y_test, ypred))\n",
    "print('Balanced accuracy: %.3f ' % balanced_accuracy_score(y_test, ypred))\n",
    "\n",
    "cm = confusion_matrix(y_test, ypred)\n",
    "cm = pd.DataFrame(cm , index = ['0','1'] , columns = ['0','1'])\n",
    "print(cm)"
   ]
  },
  {
   "cell_type": "markdown",
   "metadata": {},
   "source": [
    "### Optimize SLP"
   ]
  },
  {
   "cell_type": "code",
   "execution_count": 4,
   "metadata": {},
   "outputs": [
    {
     "name": "stderr",
     "output_type": "stream",
     "text": [
      "[I 2024-01-24 18:47:50,782] A new study created in memory with name: no-name-a9e8bdd1-820f-4ae9-8e5a-389251680820\n",
      "2024-01-24 18:47:50.802899: I external/local_xla/xla/stream_executor/cuda/cuda_executor.cc:901] successful NUMA node read from SysFS had negative value (-1), but there must be at least one NUMA node, so returning NUMA node zero. See more at https://github.com/torvalds/linux/blob/v6.0/Documentation/ABI/testing/sysfs-bus-pci#L344-L355\n",
      "2024-01-24 18:47:50.822119: W tensorflow/core/common_runtime/gpu/gpu_device.cc:2256] Cannot dlopen some GPU libraries. Please make sure the missing libraries mentioned above are installed properly if you would like to use GPU. Follow the guide at https://www.tensorflow.org/install/gpu for how to download and setup the required libraries for your platform.\n",
      "Skipping registering GPU devices...\n"
     ]
    },
    {
     "name": "stdout",
     "output_type": "stream",
     "text": [
      "187/187 [==============================] - 0s 463us/step\n"
     ]
    },
    {
     "name": "stderr",
     "output_type": "stream",
     "text": [
      "[I 2024-01-24 18:50:53,524] Trial 0 finished with value: 0.0 and parameters: {'hidden_layer_sizes': 620, 'activation': 'sigmoid', 'optimizer': 'sgd', 'learning_rate': 0.0008530257137986239}. Best is trial 0 with value: 0.0.\n"
     ]
    },
    {
     "name": "stdout",
     "output_type": "stream",
     "text": [
      "187/187 [==============================] - 0s 414us/step\n"
     ]
    },
    {
     "name": "stderr",
     "output_type": "stream",
     "text": [
      "[I 2024-01-24 18:53:03,500] Trial 1 finished with value: 0.0 and parameters: {'hidden_layer_sizes': 255, 'activation': 'sigmoid', 'optimizer': 'sgd', 'learning_rate': 0.00023709620469053263}. Best is trial 0 with value: 0.0.\n"
     ]
    },
    {
     "name": "stdout",
     "output_type": "stream",
     "text": [
      "187/187 [==============================] - 0s 513us/step\n"
     ]
    },
    {
     "name": "stderr",
     "output_type": "stream",
     "text": [
      "[I 2024-01-24 19:00:39,315] Trial 2 finished with value: 0.4785772029102668 and parameters: {'hidden_layer_sizes': 825, 'activation': 'sigmoid', 'optimizer': 'adam', 'learning_rate': 0.0001932096755625571}. Best is trial 2 with value: 0.4785772029102668.\n"
     ]
    },
    {
     "name": "stdout",
     "output_type": "stream",
     "text": [
      "187/187 [==============================] - 0s 472us/step\n"
     ]
    },
    {
     "name": "stderr",
     "output_type": "stream",
     "text": [
      "[I 2024-01-24 19:03:00,246] Trial 3 finished with value: 0.27926078028747436 and parameters: {'hidden_layer_sizes': 367, 'activation': 'sigmoid', 'optimizer': 'sgd', 'learning_rate': 0.06293990985744187}. Best is trial 2 with value: 0.4785772029102668.\n"
     ]
    },
    {
     "name": "stdout",
     "output_type": "stream",
     "text": [
      "187/187 [==============================] - 0s 391us/step\n"
     ]
    },
    {
     "name": "stderr",
     "output_type": "stream",
     "text": [
      "[I 2024-01-24 19:06:05,665] Trial 4 finished with value: 0.46376811594202894 and parameters: {'hidden_layer_sizes': 183, 'activation': 'sigmoid', 'optimizer': 'adam', 'learning_rate': 0.00028048341915515735}. Best is trial 2 with value: 0.4785772029102668.\n"
     ]
    },
    {
     "name": "stdout",
     "output_type": "stream",
     "text": [
      "187/187 [==============================] - 0s 317us/step\n"
     ]
    },
    {
     "name": "stderr",
     "output_type": "stream",
     "text": [
      "[I 2024-01-24 19:08:03,553] Trial 5 finished with value: 0.3537158984007525 and parameters: {'hidden_layer_sizes': 89, 'activation': 'sigmoid', 'optimizer': 'adam', 'learning_rate': 3.145934660383375e-05}. Best is trial 2 with value: 0.4785772029102668.\n"
     ]
    },
    {
     "name": "stdout",
     "output_type": "stream",
     "text": [
      "187/187 [==============================] - 0s 499us/step\n"
     ]
    },
    {
     "name": "stderr",
     "output_type": "stream",
     "text": [
      "[I 2024-01-24 19:11:34,257] Trial 6 finished with value: 0.08478802992518703 and parameters: {'hidden_layer_sizes': 787, 'activation': 'relu', 'optimizer': 'sgd', 'learning_rate': 0.0005348885143326522}. Best is trial 2 with value: 0.4785772029102668.\n"
     ]
    },
    {
     "name": "stdout",
     "output_type": "stream",
     "text": [
      "187/187 [==============================] - 0s 465us/step\n"
     ]
    },
    {
     "name": "stderr",
     "output_type": "stream",
     "text": [
      "[I 2024-01-24 19:14:53,715] Trial 7 finished with value: 0.0 and parameters: {'hidden_layer_sizes': 732, 'activation': 'sigmoid', 'optimizer': 'sgd', 'learning_rate': 5.8166383370084015e-05}. Best is trial 2 with value: 0.4785772029102668.\n"
     ]
    },
    {
     "name": "stdout",
     "output_type": "stream",
     "text": [
      "187/187 [==============================] - 0s 510us/step\n"
     ]
    },
    {
     "name": "stderr",
     "output_type": "stream",
     "text": [
      "[I 2024-01-24 19:21:38,303] Trial 8 finished with value: 0.3805229936880072 and parameters: {'hidden_layer_sizes': 710, 'activation': 'tanh', 'optimizer': 'adam', 'learning_rate': 1.436422641424835e-05}. Best is trial 2 with value: 0.4785772029102668.\n"
     ]
    },
    {
     "name": "stdout",
     "output_type": "stream",
     "text": [
      "187/187 [==============================] - 0s 453us/step\n"
     ]
    },
    {
     "name": "stderr",
     "output_type": "stream",
     "text": [
      "[I 2024-01-24 19:25:28,947] Trial 9 finished with value: 0.010484927916120577 and parameters: {'hidden_layer_sizes': 962, 'activation': 'relu', 'optimizer': 'sgd', 'learning_rate': 0.00026573007316365557}. Best is trial 2 with value: 0.4785772029102668.\n"
     ]
    },
    {
     "name": "stdout",
     "output_type": "stream",
     "text": [
      "187/187 [==============================] - 0s 483us/step\n"
     ]
    },
    {
     "name": "stderr",
     "output_type": "stream",
     "text": [
      "[I 2024-01-24 19:34:21,323] Trial 10 finished with value: 0.12636695018226002 and parameters: {'hidden_layer_sizes': 985, 'activation': 'tanh', 'optimizer': 'adam', 'learning_rate': 0.007873985108005549}. Best is trial 2 with value: 0.4785772029102668.\n"
     ]
    },
    {
     "name": "stdout",
     "output_type": "stream",
     "text": [
      "187/187 [==============================] - 0s 286us/step\n"
     ]
    },
    {
     "name": "stderr",
     "output_type": "stream",
     "text": [
      "[I 2024-01-24 19:35:23,404] Trial 11 finished with value: 0.44479004665629857 and parameters: {'hidden_layer_sizes': 12, 'activation': 'sigmoid', 'optimizer': 'adam', 'learning_rate': 0.004560100274340154}. Best is trial 2 with value: 0.4785772029102668.\n"
     ]
    },
    {
     "name": "stdout",
     "output_type": "stream",
     "text": [
      "187/187 [==============================] - 0s 414us/step\n"
     ]
    },
    {
     "name": "stderr",
     "output_type": "stream",
     "text": [
      "[I 2024-01-24 19:40:15,606] Trial 12 finished with value: 0.3720073664825046 and parameters: {'hidden_layer_sizes': 444, 'activation': 'sigmoid', 'optimizer': 'adam', 'learning_rate': 9.812342947595332e-05}. Best is trial 2 with value: 0.4785772029102668.\n"
     ]
    },
    {
     "name": "stdout",
     "output_type": "stream",
     "text": [
      "187/187 [==============================] - 0s 397us/step\n"
     ]
    },
    {
     "name": "stderr",
     "output_type": "stream",
     "text": [
      "[I 2024-01-24 19:43:36,159] Trial 13 finished with value: 0.44246353322528365 and parameters: {'hidden_layer_sizes': 216, 'activation': 'tanh', 'optimizer': 'adam', 'learning_rate': 0.0035204559176477204}. Best is trial 2 with value: 0.4785772029102668.\n"
     ]
    },
    {
     "name": "stdout",
     "output_type": "stream",
     "text": [
      "187/187 [==============================] - 0s 431us/step\n"
     ]
    },
    {
     "name": "stderr",
     "output_type": "stream",
     "text": [
      "[I 2024-01-24 19:49:02,823] Trial 14 finished with value: 0.4607922392886014 and parameters: {'hidden_layer_sizes': 541, 'activation': 'sigmoid', 'optimizer': 'adam', 'learning_rate': 0.0001332169663328279}. Best is trial 2 with value: 0.4785772029102668.\n"
     ]
    },
    {
     "name": "stdout",
     "output_type": "stream",
     "text": [
      "187/187 [==============================] - 0s 450us/step\n"
     ]
    },
    {
     "name": "stderr",
     "output_type": "stream",
     "text": [
      "[I 2024-01-24 19:56:29,877] Trial 15 finished with value: 0.42769500438212094 and parameters: {'hidden_layer_sizes': 858, 'activation': 'sigmoid', 'optimizer': 'adam', 'learning_rate': 0.0017959807891126582}. Best is trial 2 with value: 0.4785772029102668.\n"
     ]
    },
    {
     "name": "stdout",
     "output_type": "stream",
     "text": [
      "187/187 [==============================] - 0s 411us/step\n"
     ]
    },
    {
     "name": "stderr",
     "output_type": "stream",
     "text": [
      "[I 2024-01-24 20:00:19,184] Trial 16 finished with value: 0.48104956268221566 and parameters: {'hidden_layer_sizes': 295, 'activation': 'relu', 'optimizer': 'adam', 'learning_rate': 0.019119842088035098}. Best is trial 16 with value: 0.48104956268221566.\n"
     ]
    },
    {
     "name": "stdout",
     "output_type": "stream",
     "text": [
      "187/187 [==============================] - 0s 404us/step\n"
     ]
    },
    {
     "name": "stderr",
     "output_type": "stream",
     "text": [
      "[I 2024-01-24 20:04:31,782] Trial 17 finished with value: 0.0 and parameters: {'hidden_layer_sizes': 359, 'activation': 'relu', 'optimizer': 'adam', 'learning_rate': 0.0342069089036136}. Best is trial 16 with value: 0.48104956268221566.\n"
     ]
    },
    {
     "name": "stdout",
     "output_type": "stream",
     "text": [
      "187/187 [==============================] - 0s 434us/step\n"
     ]
    },
    {
     "name": "stderr",
     "output_type": "stream",
     "text": [
      "[I 2024-01-24 20:10:05,135] Trial 18 finished with value: 0.46877409406322285 and parameters: {'hidden_layer_sizes': 569, 'activation': 'relu', 'optimizer': 'adam', 'learning_rate': 0.015278711434844532}. Best is trial 16 with value: 0.48104956268221566.\n"
     ]
    },
    {
     "name": "stdout",
     "output_type": "stream",
     "text": [
      "187/187 [==============================] - 0s 409us/step\n"
     ]
    },
    {
     "name": "stderr",
     "output_type": "stream",
     "text": [
      "[I 2024-01-24 20:14:49,987] Trial 19 finished with value: 0.0 and parameters: {'hidden_layer_sizes': 445, 'activation': 'relu', 'optimizer': 'adam', 'learning_rate': 0.07430762802306683}. Best is trial 16 with value: 0.48104956268221566.\n"
     ]
    },
    {
     "name": "stdout",
     "output_type": "stream",
     "text": [
      "187/187 [==============================] - 0s 429us/step\n"
     ]
    },
    {
     "name": "stderr",
     "output_type": "stream",
     "text": [
      "[I 2024-01-24 20:20:48,493] Trial 20 finished with value: 0.515527950310559 and parameters: {'hidden_layer_sizes': 635, 'activation': 'relu', 'optimizer': 'adam', 'learning_rate': 0.002029554796716754}. Best is trial 20 with value: 0.515527950310559.\n"
     ]
    },
    {
     "name": "stdout",
     "output_type": "stream",
     "text": [
      "187/187 [==============================] - 0s 422us/step\n"
     ]
    },
    {
     "name": "stderr",
     "output_type": "stream",
     "text": [
      "[I 2024-01-24 20:26:52,525] Trial 21 finished with value: 0.4481658692185008 and parameters: {'hidden_layer_sizes': 653, 'activation': 'relu', 'optimizer': 'adam', 'learning_rate': 0.0169066050931286}. Best is trial 20 with value: 0.515527950310559.\n"
     ]
    },
    {
     "name": "stdout",
     "output_type": "stream",
     "text": [
      "187/187 [==============================] - 0s 458us/step\n"
     ]
    },
    {
     "name": "stderr",
     "output_type": "stream",
     "text": [
      "[I 2024-01-24 20:34:22,820] Trial 22 finished with value: 0.39569049951028407 and parameters: {'hidden_layer_sizes': 865, 'activation': 'relu', 'optimizer': 'adam', 'learning_rate': 0.0019942481256062417}. Best is trial 20 with value: 0.515527950310559.\n"
     ]
    },
    {
     "name": "stdout",
     "output_type": "stream",
     "text": [
      "187/187 [==============================] - 0s 447us/step\n"
     ]
    },
    {
     "name": "stderr",
     "output_type": "stream",
     "text": [
      "[I 2024-01-24 20:41:41,670] Trial 23 finished with value: 0.4426666666666667 and parameters: {'hidden_layer_sizes': 844, 'activation': 'relu', 'optimizer': 'adam', 'learning_rate': 0.0006099839110195364}. Best is trial 20 with value: 0.515527950310559.\n"
     ]
    },
    {
     "name": "stdout",
     "output_type": "stream",
     "text": [
      "187/187 [==============================] - 0s 405us/step\n"
     ]
    },
    {
     "name": "stderr",
     "output_type": "stream",
     "text": [
      "[I 2024-01-24 20:45:29,368] Trial 24 finished with value: 0.45871559633027525 and parameters: {'hidden_layer_sizes': 300, 'activation': 'relu', 'optimizer': 'adam', 'learning_rate': 0.00875217031953868}. Best is trial 20 with value: 0.515527950310559.\n"
     ]
    },
    {
     "name": "stdout",
     "output_type": "stream",
     "text": [
      "187/187 [==============================] - 0s 402us/step\n"
     ]
    },
    {
     "name": "stderr",
     "output_type": "stream",
     "text": [
      "[I 2024-01-24 20:50:27,816] Trial 25 finished with value: 0.5123595505617978 and parameters: {'hidden_layer_sizes': 490, 'activation': 'relu', 'optimizer': 'adam', 'learning_rate': 0.001663125550923563}. Best is trial 20 with value: 0.515527950310559.\n"
     ]
    },
    {
     "name": "stdout",
     "output_type": "stream",
     "text": [
      "187/187 [==============================] - 0s 407us/step\n"
     ]
    },
    {
     "name": "stderr",
     "output_type": "stream",
     "text": [
      "[I 2024-01-24 20:55:19,433] Trial 26 finished with value: 0.4649910233393178 and parameters: {'hidden_layer_sizes': 470, 'activation': 'relu', 'optimizer': 'adam', 'learning_rate': 0.0020320398318993778}. Best is trial 20 with value: 0.515527950310559.\n"
     ]
    },
    {
     "name": "stdout",
     "output_type": "stream",
     "text": [
      "187/187 [==============================] - 0s 407us/step\n"
     ]
    },
    {
     "name": "stderr",
     "output_type": "stream",
     "text": [
      "[I 2024-01-24 20:59:35,983] Trial 27 finished with value: 0.005256241787122207 and parameters: {'hidden_layer_sizes': 384, 'activation': 'relu', 'optimizer': 'adam', 'learning_rate': 0.03236574746281449}. Best is trial 20 with value: 0.515527950310559.\n"
     ]
    },
    {
     "name": "stdout",
     "output_type": "stream",
     "text": [
      "187/187 [==============================] - 0s 422us/step\n"
     ]
    },
    {
     "name": "stderr",
     "output_type": "stream",
     "text": [
      "[I 2024-01-24 21:04:55,392] Trial 28 finished with value: 0.46568201563857514 and parameters: {'hidden_layer_sizes': 542, 'activation': 'relu', 'optimizer': 'adam', 'learning_rate': 0.001336855915759036}. Best is trial 20 with value: 0.515527950310559.\n"
     ]
    },
    {
     "name": "stdout",
     "output_type": "stream",
     "text": [
      "187/187 [==============================] - 0s 431us/step\n"
     ]
    },
    {
     "name": "stderr",
     "output_type": "stream",
     "text": [
      "[I 2024-01-24 21:07:52,403] Trial 29 finished with value: 0.13285024154589373 and parameters: {'hidden_layer_sizes': 627, 'activation': 'relu', 'optimizer': 'sgd', 'learning_rate': 0.0007873092337822035}. Best is trial 20 with value: 0.515527950310559.\n"
     ]
    },
    {
     "name": "stdout",
     "output_type": "stream",
     "text": [
      "187/187 [==============================] - 0s 335us/step\n"
     ]
    },
    {
     "name": "stderr",
     "output_type": "stream",
     "text": [
      "[I 2024-01-24 21:10:25,255] Trial 30 finished with value: 0.45362563237774034 and parameters: {'hidden_layer_sizes': 128, 'activation': 'tanh', 'optimizer': 'adam', 'learning_rate': 0.004247776679645683}. Best is trial 20 with value: 0.515527950310559.\n"
     ]
    },
    {
     "name": "stdout",
     "output_type": "stream",
     "text": [
      "187/187 [==============================] - 0s 422us/step\n"
     ]
    },
    {
     "name": "stderr",
     "output_type": "stream",
     "text": [
      "[I 2024-01-24 21:16:40,492] Trial 31 finished with value: 0.43744531933508307 and parameters: {'hidden_layer_sizes': 688, 'activation': 'relu', 'optimizer': 'adam', 'learning_rate': 0.000424318986253876}. Best is trial 20 with value: 0.515527950310559.\n"
     ]
    },
    {
     "name": "stdout",
     "output_type": "stream",
     "text": [
      "187/187 [==============================] - 0s 442us/step\n"
     ]
    },
    {
     "name": "stderr",
     "output_type": "stream",
     "text": [
      "[I 2024-01-24 21:23:32,157] Trial 32 finished with value: 0.5164923572003217 and parameters: {'hidden_layer_sizes': 776, 'activation': 'relu', 'optimizer': 'adam', 'learning_rate': 0.0009146523695170536}. Best is trial 32 with value: 0.5164923572003217.\n"
     ]
    },
    {
     "name": "stdout",
     "output_type": "stream",
     "text": [
      "187/187 [==============================] - 0s 435us/step\n"
     ]
    },
    {
     "name": "stderr",
     "output_type": "stream",
     "text": [
      "[I 2024-01-24 21:29:13,646] Trial 33 finished with value: 0.5008025682182985 and parameters: {'hidden_layer_sizes': 589, 'activation': 'relu', 'optimizer': 'adam', 'learning_rate': 0.0013685103227879327}. Best is trial 32 with value: 0.5164923572003217.\n"
     ]
    },
    {
     "name": "stdout",
     "output_type": "stream",
     "text": [
      "187/187 [==============================] - 0s 443us/step\n"
     ]
    },
    {
     "name": "stderr",
     "output_type": "stream",
     "text": [
      "[I 2024-01-24 21:32:05,515] Trial 34 finished with value: 0.2054176072234763 and parameters: {'hidden_layer_sizes': 593, 'activation': 'relu', 'optimizer': 'sgd', 'learning_rate': 0.0013295131170595056}. Best is trial 32 with value: 0.5164923572003217.\n"
     ]
    },
    {
     "name": "stdout",
     "output_type": "stream",
     "text": [
      "187/187 [==============================] - 0s 414us/step\n"
     ]
    },
    {
     "name": "stderr",
     "output_type": "stream",
     "text": [
      "[I 2024-01-24 21:37:18,013] Trial 35 finished with value: 0.45367965367965374 and parameters: {'hidden_layer_sizes': 516, 'activation': 'relu', 'optimizer': 'adam', 'learning_rate': 0.0009167094350966893}. Best is trial 32 with value: 0.5164923572003217.\n"
     ]
    },
    {
     "name": "stdout",
     "output_type": "stream",
     "text": [
      "187/187 [==============================] - 0s 444us/step\n"
     ]
    },
    {
     "name": "stderr",
     "output_type": "stream",
     "text": [
      "[I 2024-01-24 21:44:15,799] Trial 36 finished with value: 0.44177449168207017 and parameters: {'hidden_layer_sizes': 779, 'activation': 'relu', 'optimizer': 'adam', 'learning_rate': 0.003638547772803011}. Best is trial 32 with value: 0.5164923572003217.\n"
     ]
    },
    {
     "name": "stdout",
     "output_type": "stream",
     "text": [
      "187/187 [==============================] - 0s 438us/step\n"
     ]
    },
    {
     "name": "stderr",
     "output_type": "stream",
     "text": [
      "[I 2024-01-24 21:50:25,859] Trial 37 finished with value: 0.4456521739130435 and parameters: {'hidden_layer_sizes': 657, 'activation': 'relu', 'optimizer': 'adam', 'learning_rate': 0.00032722696835409603}. Best is trial 32 with value: 0.5164923572003217.\n"
     ]
    },
    {
     "name": "stdout",
     "output_type": "stream",
     "text": [
      "187/187 [==============================] - 0s 433us/step\n"
     ]
    },
    {
     "name": "stderr",
     "output_type": "stream",
     "text": [
      "[I 2024-01-24 21:53:38,039] Trial 38 finished with value: 0.28950050968399593 and parameters: {'hidden_layer_sizes': 742, 'activation': 'relu', 'optimizer': 'sgd', 'learning_rate': 0.0024272570166005833}. Best is trial 32 with value: 0.5164923572003217.\n"
     ]
    },
    {
     "name": "stdout",
     "output_type": "stream",
     "text": [
      "187/187 [==============================] - 0s 465us/step\n"
     ]
    },
    {
     "name": "stderr",
     "output_type": "stream",
     "text": [
      "[I 2024-01-24 22:01:34,514] Trial 39 finished with value: 0.4216315307057746 and parameters: {'hidden_layer_sizes': 935, 'activation': 'tanh', 'optimizer': 'adam', 'learning_rate': 0.0010575967003254169}. Best is trial 32 with value: 0.5164923572003217.\n"
     ]
    },
    {
     "name": "stdout",
     "output_type": "stream",
     "text": [
      "187/187 [==============================] - 0s 435us/step\n"
     ]
    },
    {
     "name": "stderr",
     "output_type": "stream",
     "text": [
      "[I 2024-01-24 22:04:27,544] Trial 40 finished with value: 0.4066029539530843 and parameters: {'hidden_layer_sizes': 607, 'activation': 'relu', 'optimizer': 'sgd', 'learning_rate': 0.007006636022726289}. Best is trial 32 with value: 0.5164923572003217.\n"
     ]
    },
    {
     "name": "stdout",
     "output_type": "stream",
     "text": [
      "187/187 [==============================] - 0s 409us/step\n"
     ]
    },
    {
     "name": "stderr",
     "output_type": "stream",
     "text": [
      "[I 2024-01-24 22:08:20,446] Trial 41 finished with value: 0.5077551020408164 and parameters: {'hidden_layer_sizes': 316, 'activation': 'relu', 'optimizer': 'adam', 'learning_rate': 0.0005823484844110781}. Best is trial 32 with value: 0.5164923572003217.\n"
     ]
    },
    {
     "name": "stdout",
     "output_type": "stream",
     "text": [
      "187/187 [==============================] - 0s 403us/step\n"
     ]
    },
    {
     "name": "stderr",
     "output_type": "stream",
     "text": [
      "[I 2024-01-24 22:12:42,937] Trial 42 finished with value: 0.40805123513266234 and parameters: {'hidden_layer_sizes': 392, 'activation': 'relu', 'optimizer': 'adam', 'learning_rate': 0.0006380240623107867}. Best is trial 32 with value: 0.5164923572003217.\n"
     ]
    },
    {
     "name": "stdout",
     "output_type": "stream",
     "text": [
      "187/187 [==============================] - 0s 408us/step\n"
     ]
    },
    {
     "name": "stderr",
     "output_type": "stream",
     "text": [
      "[I 2024-01-24 22:17:39,572] Trial 43 finished with value: 0.46840775063184503 and parameters: {'hidden_layer_sizes': 488, 'activation': 'relu', 'optimizer': 'adam', 'learning_rate': 0.000394569273337424}. Best is trial 32 with value: 0.5164923572003217.\n"
     ]
    },
    {
     "name": "stdout",
     "output_type": "stream",
     "text": [
      "187/187 [==============================] - 0s 455us/step\n"
     ]
    },
    {
     "name": "stderr",
     "output_type": "stream",
     "text": [
      "[I 2024-01-24 22:24:34,516] Trial 44 finished with value: 0.43548387096774194 and parameters: {'hidden_layer_sizes': 775, 'activation': 'relu', 'optimizer': 'adam', 'learning_rate': 0.00015572979136582483}. Best is trial 32 with value: 0.5164923572003217.\n"
     ]
    },
    {
     "name": "stdout",
     "output_type": "stream",
     "text": [
      "187/187 [==============================] - 0s 421us/step\n"
     ]
    },
    {
     "name": "stderr",
     "output_type": "stream",
     "text": [
      "[I 2024-01-24 22:30:48,484] Trial 45 finished with value: 0.4774083546462063 and parameters: {'hidden_layer_sizes': 684, 'activation': 'relu', 'optimizer': 'adam', 'learning_rate': 0.002895716954862769}. Best is trial 32 with value: 0.5164923572003217.\n"
     ]
    },
    {
     "name": "stdout",
     "output_type": "stream",
     "text": [
      "187/187 [==============================] - 0s 453us/step\n"
     ]
    },
    {
     "name": "stderr",
     "output_type": "stream",
     "text": [
      "[I 2024-01-24 22:38:29,166] Trial 46 finished with value: 0.49247822644497236 and parameters: {'hidden_layer_sizes': 902, 'activation': 'tanh', 'optimizer': 'adam', 'learning_rate': 0.0012067477310520498}. Best is trial 32 with value: 0.5164923572003217.\n"
     ]
    },
    {
     "name": "stdout",
     "output_type": "stream",
     "text": [
      "187/187 [==============================] - 0s 404us/step\n"
     ]
    },
    {
     "name": "stderr",
     "output_type": "stream",
     "text": [
      "[I 2024-01-24 22:42:26,377] Trial 47 finished with value: 0.4651162790697674 and parameters: {'hidden_layer_sizes': 328, 'activation': 'relu', 'optimizer': 'adam', 'learning_rate': 6.890527262208497e-05}. Best is trial 32 with value: 0.5164923572003217.\n"
     ]
    },
    {
     "name": "stdout",
     "output_type": "stream",
     "text": [
      "187/187 [==============================] - 0s 415us/step\n"
     ]
    },
    {
     "name": "stderr",
     "output_type": "stream",
     "text": [
      "[I 2024-01-24 22:47:06,218] Trial 48 finished with value: 0.4217081850533808 and parameters: {'hidden_layer_sizes': 431, 'activation': 'relu', 'optimizer': 'adam', 'learning_rate': 0.0005491041046494668}. Best is trial 32 with value: 0.5164923572003217.\n"
     ]
    },
    {
     "name": "stdout",
     "output_type": "stream",
     "text": [
      "187/187 [==============================] - 0s 385us/step\n"
     ]
    },
    {
     "name": "stderr",
     "output_type": "stream",
     "text": [
      "[I 2024-01-24 22:49:01,428] Trial 49 finished with value: 0.0 and parameters: {'hidden_layer_sizes': 185, 'activation': 'sigmoid', 'optimizer': 'sgd', 'learning_rate': 0.00023602323234034114}. Best is trial 32 with value: 0.5164923572003217.\n"
     ]
    },
    {
     "name": "stdout",
     "output_type": "stream",
     "text": [
      "Best hyperparameters: {'hidden_layer_sizes': 776, 'activation': 'relu', 'optimizer': 'adam', 'learning_rate': 0.0009146523695170536}\n"
     ]
    }
   ],
   "source": [
    "def objective(trial):\n",
    "    # Define hyperparameters to be optimized\n",
    "    params = {\n",
    "        'hidden_layer_sizes': trial.suggest_int('hidden_layer_sizes', 1, 1000),\n",
    "        'activation': trial.suggest_categorical('activation', ['relu', 'tanh', 'sigmoid']),\n",
    "        'optimizer': trial.suggest_categorical('optimizer', ['adam', 'sgd']),\n",
    "        'learning_rate': trial.suggest_float('learning_rate', 1e-5, 1e-1, log=True),\n",
    "        'epochs': 20,\n",
    "    }\n",
    "\n",
    "    # Build the MLP model with the suggested hyperparameters\n",
    "    model = tf.keras.models.Sequential()\n",
    "    model.add(tf.keras.layers.Dense(units=params['hidden_layer_sizes'], activation=params['activation'], input_dim=X_train.shape[1]))\n",
    "    model.add(tf.keras.layers.Dense(units=1, activation='sigmoid'))  # Assuming binary classification\n",
    "\n",
    "    # Compile the model\n",
    "    if params['optimizer'] == 'adam':\n",
    "        optimizer = tf.keras.optimizers.Adam(learning_rate=params['learning_rate'])\n",
    "    else:\n",
    "        optimizer = tf.keras.optimizers.SGD(learning_rate=params['learning_rate'])\n",
    "\n",
    "    model.compile(optimizer=optimizer, loss='binary_crossentropy', metrics=['accuracy'])\n",
    "\n",
    "    # Train the model on the training set\n",
    "    model.fit(X_train, y_train, epochs=params['epochs'], verbose=0)\n",
    "\n",
    "    # Make predictions on the validation set\n",
    "    y_pred_proba = model.predict(X_val)\n",
    "    y_pred = (y_pred_proba > 0.5).astype(int)\n",
    "\n",
    "    # Calculate accuracy on the validation set\n",
    "    f1 = f1_score(y_val, y_pred)\n",
    "\n",
    "    return f1  # Optimize for accuracy, so minimize the error\n",
    "\n",
    "# Create an Optuna study\n",
    "study = optuna.create_study(direction='maximize')\n",
    "\n",
    "# Optimize the objective function\n",
    "study.optimize(objective, n_trials=50)\n",
    "\n",
    "# Get the best hyperparameters\n",
    "best_params = study.best_params\n",
    "print(\"Best hyperparameters:\", best_params)"
   ]
  },
  {
   "cell_type": "code",
   "execution_count": 6,
   "metadata": {},
   "outputs": [
    {
     "name": "stdout",
     "output_type": "stream",
     "text": [
      "Number of finished trials:  50\n",
      "Best trial:\n",
      "  Value: 0.5164923572003217\n",
      "  Params: \n",
      "    hidden_layer_sizes: 776\n",
      "    activation: relu\n",
      "    optimizer: adam\n",
      "    learning_rate: 0.0009146523695170536\n"
     ]
    }
   ],
   "source": [
    "print(\"Number of finished trials: \", len(study.trials))\n",
    "print(\"Best trial:\")\n",
    "trial = study.best_trial\n",
    "\n",
    "print(\"  Value: {}\".format(trial.value))\n",
    "print(\"  Params: \")\n",
    "for key, value in trial.params.items():\n",
    "    print(\"    {}: {}\".format(key, value))"
   ]
  },
  {
   "cell_type": "code",
   "execution_count": 8,
   "metadata": {},
   "outputs": [
    {
     "name": "stdout",
     "output_type": "stream",
     "text": [
      "Epoch 1/20\n",
      "9291/9291 [==============================] - 22s 2ms/step - loss: 0.0514 - tp: 4260.0000 - fp: 1611.0000 - tn: 287372.0000 - fn: 4052.0000 - precision: 0.7256 - recall: 0.5125\n",
      "Epoch 2/20\n",
      "9291/9291 [==============================] - 22s 2ms/step - loss: 0.0326 - tp: 5984.0000 - fp: 1379.0000 - tn: 287604.0000 - fn: 2328.0000 - precision: 0.8127 - recall: 0.7199\n",
      "Epoch 3/20\n",
      "9291/9291 [==============================] - 22s 2ms/step - loss: 0.0225 - tp: 6801.0000 - fp: 1001.0000 - tn: 287982.0000 - fn: 1511.0000 - precision: 0.8717 - recall: 0.8182\n",
      "Epoch 4/20\n",
      "9291/9291 [==============================] - 22s 2ms/step - loss: 0.0159 - tp: 7336.0000 - fp: 677.0000 - tn: 288306.0000 - fn: 976.0000 - precision: 0.9155 - recall: 0.8826\n",
      "Epoch 5/20\n",
      "9291/9291 [==============================] - 22s 2ms/step - loss: 0.0116 - tp: 7634.0000 - fp: 510.0000 - tn: 288473.0000 - fn: 678.0000 - precision: 0.9374 - recall: 0.9184\n",
      "Epoch 6/20\n",
      "9291/9291 [==============================] - 22s 2ms/step - loss: 0.0091 - tp: 7804.0000 - fp: 401.0000 - tn: 288582.0000 - fn: 508.0000 - precision: 0.9511 - recall: 0.9389\n",
      "Epoch 7/20\n",
      "9291/9291 [==============================] - 22s 2ms/step - loss: 0.0078 - tp: 7907.0000 - fp: 324.0000 - tn: 288659.0000 - fn: 405.0000 - precision: 0.9606 - recall: 0.9513\n",
      "Epoch 8/20\n",
      "9291/9291 [==============================] - 22s 2ms/step - loss: 0.0067 - tp: 7992.0000 - fp: 271.0000 - tn: 288712.0000 - fn: 320.0000 - precision: 0.9672 - recall: 0.9615\n",
      "Epoch 9/20\n",
      "9291/9291 [==============================] - 22s 2ms/step - loss: 0.0059 - tp: 8035.0000 - fp: 246.0000 - tn: 288737.0000 - fn: 277.0000 - precision: 0.9703 - recall: 0.9667\n",
      "Epoch 10/20\n",
      "9291/9291 [==============================] - 22s 2ms/step - loss: 0.0055 - tp: 8072.0000 - fp: 211.0000 - tn: 288772.0000 - fn: 240.0000 - precision: 0.9745 - recall: 0.9711\n",
      "Epoch 11/20\n",
      "9291/9291 [==============================] - 22s 2ms/step - loss: 0.0048 - tp: 8081.0000 - fp: 188.0000 - tn: 288795.0000 - fn: 231.0000 - precision: 0.9773 - recall: 0.9722\n",
      "Epoch 12/20\n",
      "9291/9291 [==============================] - 22s 2ms/step - loss: 0.0046 - tp: 8119.0000 - fp: 183.0000 - tn: 288800.0000 - fn: 193.0000 - precision: 0.9780 - recall: 0.9768\n",
      "Epoch 13/20\n",
      "9291/9291 [==============================] - 22s 2ms/step - loss: 0.0043 - tp: 8128.0000 - fp: 150.0000 - tn: 288833.0000 - fn: 184.0000 - precision: 0.9819 - recall: 0.9779\n",
      "Epoch 14/20\n",
      "9291/9291 [==============================] - 22s 2ms/step - loss: 0.0037 - tp: 8149.0000 - fp: 153.0000 - tn: 288830.0000 - fn: 163.0000 - precision: 0.9816 - recall: 0.9804\n",
      "Epoch 15/20\n",
      "9291/9291 [==============================] - 22s 2ms/step - loss: 0.0039 - tp: 8146.0000 - fp: 149.0000 - tn: 288834.0000 - fn: 166.0000 - precision: 0.9820 - recall: 0.9800\n",
      "Epoch 16/20\n",
      "9291/9291 [==============================] - 22s 2ms/step - loss: 0.0033 - tp: 8175.0000 - fp: 128.0000 - tn: 288855.0000 - fn: 137.0000 - precision: 0.9846 - recall: 0.9835\n",
      "Epoch 17/20\n",
      "9291/9291 [==============================] - 22s 2ms/step - loss: 0.0031 - tp: 8183.0000 - fp: 109.0000 - tn: 288874.0000 - fn: 129.0000 - precision: 0.9869 - recall: 0.9845\n",
      "Epoch 18/20\n",
      "9291/9291 [==============================] - 22s 2ms/step - loss: 0.0033 - tp: 8191.0000 - fp: 121.0000 - tn: 288862.0000 - fn: 121.0000 - precision: 0.9854 - recall: 0.9854\n",
      "Epoch 19/20\n",
      "9291/9291 [==============================] - 22s 2ms/step - loss: 0.0030 - tp: 8187.0000 - fp: 119.0000 - tn: 288864.0000 - fn: 125.0000 - precision: 0.9857 - recall: 0.9850\n",
      "Epoch 20/20\n",
      "9291/9291 [==============================] - 22s 2ms/step - loss: 0.0031 - tp: 8197.0000 - fp: 116.0000 - tn: 288867.0000 - fn: 115.0000 - precision: 0.9860 - recall: 0.9862\n",
      "243/243 [==============================] - 0s 421us/step\n",
      "F1 score: 0.520 \n",
      "MCC: 0.516 \n",
      "      0    1\n",
      "0  6815   97\n",
      "1   526  338\n"
     ]
    }
   ],
   "source": [
    "#  Trial 2 finished with value: 0.5825958702064896 and parameters: {'hidden_layer_sizes': 412, 'activation': 'tanh', 'optimizer': 'adam', 'learning_rate': 0.00040448886589716375}. Best is trial 1 with value: 0.005256241787122207.\n",
    "metrics = [\n",
    "  tf.keras.metrics.TruePositives(name='tp'),\n",
    "  tf.keras.metrics.FalsePositives(name='fp'),\n",
    "  tf.keras.metrics.TrueNegatives(name='tn'),\n",
    "  tf.keras.metrics.FalseNegatives(name='fn'), \n",
    "  tf.keras.metrics.Precision(name='precision'),\n",
    "  tf.keras.metrics.Recall(name='recall'),\n",
    "]\n",
    "\n",
    "# Build the final model with the best hyperparameters on the entire training set\n",
    "final_model = tf.keras.models.Sequential()\n",
    "final_model.add(tf.keras.layers.Dense(units=776, activation='relu', input_dim=X_train.shape[1]))\n",
    "final_model.add(tf.keras.layers.Dense(units=1, activation='sigmoid'))  # Assuming binary classification\n",
    "\n",
    "# Compile the final model\n",
    "final_model.compile(optimizer=tf.keras.optimizers.Adam(learning_rate=0.0009146523695170536), loss='binary_crossentropy', metrics=metrics)\n",
    "\n",
    "# Train the final model on the entire training set\n",
    "final_model.fit(X_train, y_train, epochs=20)\n",
    "\n",
    "ypred = final_model.predict(X_test)\n",
    "\n",
    "print('F1 score: %.3f ' % f1_score(y_test, ypred > 0.5))\n",
    "print('MCC: %.3f ' % matthews_corrcoef(y_test, ypred > 0.5))\n",
    "\n",
    "cm = confusion_matrix(y_test, ypred > 0.5)\n",
    "cm = pd.DataFrame(cm , index = ['0','1'] , columns = ['0','1'])\n",
    "print(cm)"
   ]
  },
  {
   "cell_type": "markdown",
   "metadata": {},
   "source": [
    "### Optimize MLP"
   ]
  },
  {
   "cell_type": "code",
   "execution_count": null,
   "metadata": {},
   "outputs": [],
   "source": [
    "def create_model(trial):\n",
    "    # We optimize the numbers of layers, their units and weight decay parameter.\n",
    "    n_layers = trial.suggest_int(\"n_layers\", 1, 4)\n",
    "    weight_decay = trial.suggest_float(\"weight_decay\", 1e-10, 1e-3, log=True)\n",
    "    num_hidden = trial.suggest_int(\"n_units_l_input\", 4, 512, log=True)\n",
    "    model = tf.keras.Sequential()\n",
    "    model.add(\n",
    "        tf.keras.layers.Dense(\n",
    "            num_hidden,\n",
    "            input_shape=(X_train.shape[-1],),\n",
    "            activation=trial.suggest_categorical('activation_input', ['relu', 'tanh', 'sigmoid']),\n",
    "        )\n",
    "    )\n",
    "    model.add(tf.keras.layers.Flatten())\n",
    "\n",
    "    for i in range(n_layers):\n",
    "        num_hidden = trial.suggest_int(\"n_units_l{}\".format(i), 4, 512, log=True)\n",
    "        model.add(\n",
    "            tf.keras.layers.Dense(\n",
    "                num_hidden,\n",
    "                activation=trial.suggest_categorical('activation_{}'.format(i), ['relu', 'tanh', 'sigmoid']),\n",
    "                kernel_regularizer=tf.keras.regularizers.l2(weight_decay),\n",
    "            )\n",
    "        )\n",
    "    model.add(\n",
    "        tf.keras.layers.Dense(1, kernel_regularizer=tf.keras.regularizers.l2(weight_decay), activation=\"sigmoid\")\n",
    "    )\n",
    "    return model\n",
    "\n",
    "def create_optimizer(trial):\n",
    "    # We optimize the choice of optimizers as well as their parameters.\n",
    "    kwargs = {}\n",
    "    optimizer_options = [\"Adam\", \"SGD\"]\n",
    "    optimizer_selected = trial.suggest_categorical(\"optimizer\", optimizer_options)\n",
    "    if optimizer_selected == \"Adam\":\n",
    "        kwargs[\"learning_rate\"] = trial.suggest_float(\"adam_learning_rate\", 1e-5, 1e-1, log=True)\n",
    "    elif optimizer_selected == \"SGD\":\n",
    "        kwargs[\"learning_rate\"] = trial.suggest_float(\n",
    "            \"sgd_opt_learning_rate\", 1e-5, 1e-1, log=True\n",
    "        )\n",
    "        kwargs[\"momentum\"] = trial.suggest_float(\"sgd_opt_momentum\", 1e-5, 1e-1, log=True)\n",
    "\n",
    "    optimizer = getattr(tf.optimizers, optimizer_selected)(**kwargs)\n",
    "    return optimizer\n",
    "\n",
    "def learn(model, optimizer, X, y, trial):    \n",
    "    model.compile(optimizer=optimizer,\n",
    "                  loss=tf.keras.losses.BinaryCrossentropy(from_logits=True),\n",
    "                  metrics=[tf.keras.metrics.Precision(), \n",
    "                           tf.keras.metrics.Recall(), \n",
    "                           tf.keras.metrics.F1Score(name='f1_score')])\n",
    "    \n",
    "    y = tf.cast(y, tf.float32)\n",
    "\n",
    "    model.fit(X, y, \n",
    "              epochs=trial.suggest_int(\"epochs\", 10, 30), \n",
    "              batch_size=trial.suggest_int(\"batch_size\", 128, 512))\n",
    "\n",
    "    \n",
    "def objective(trial):\n",
    "\n",
    "    # Build model and optimizer.\n",
    "    model = create_model(trial)\n",
    "    optimizer = create_optimizer(trial)\n",
    "\n",
    "    # Training and validating cycle.\n",
    "    with tf.device(\"/GPU:0\"):\n",
    "        # for _ in range(20):\n",
    "        learn(model, optimizer, X_train, y_train, trial)\n",
    "\n",
    "        # Make predictions on the validation set\n",
    "        y_pred_proba = model.predict(X_val.values)\n",
    "        y_pred = (y_pred_proba > 0.5).astype(int)\n",
    "\n",
    "        # Calculate F1 score on the validation set\n",
    "        f1 = f1_score(y_val.values, y_pred)\n",
    "\n",
    "    # Return last validation accuracy.\n",
    "    return f1\n",
    "\n",
    "study = optuna.create_study(direction=\"maximize\")\n",
    "study.optimize(objective, n_trials=50)"
   ]
  },
  {
   "cell_type": "code",
   "execution_count": 13,
   "metadata": {},
   "outputs": [
    {
     "name": "stdout",
     "output_type": "stream",
     "text": [
      "Number of trials:  50\n",
      "Best trial:\n",
      "  Value: 0.6041055718475073\n",
      "  Params: \n",
      "    n_layers: 3\n",
      "    weight_decay: 2.6955177810398497e-08\n",
      "    n_units_l_input: 274\n",
      "    activation_input: relu\n",
      "    n_units_l0: 42\n",
      "    activation_0: tanh\n",
      "    n_units_l1: 53\n",
      "    activation_1: relu\n",
      "    n_units_l2: 49\n",
      "    activation_2: tanh\n",
      "    optimizer: Adam\n",
      "    adam_learning_rate: 0.0018389654970221772\n",
      "    epochs: 14\n",
      "    batch_size: 283\n"
     ]
    }
   ],
   "source": [
    "print(\"Number of trials: \", len(study.trials))\n",
    "print(\"Best trial:\")\n",
    "trial = study.best_trial\n",
    "\n",
    "print(\"  Value: {}\".format(trial.value))\n",
    "print(\"  Params: \")\n",
    "for key, value in trial.params.items():\n",
    "    print(\"    {}: {}\".format(key, value))"
   ]
  },
  {
   "cell_type": "code",
   "execution_count": 19,
   "metadata": {},
   "outputs": [],
   "source": [
    "params = {\n",
    "  'n_layers': 3,\n",
    "  'weight_decay': 2.6955177810398497e-08,\n",
    "  'n_units_l_input': 274,\n",
    "  'activation_input': 'relu',\n",
    "  'n_units_l0': 42,\n",
    "  'activation_0': 'tanh',\n",
    "  'n_units_l1': 53,\n",
    "  'activation_1': 'relu',\n",
    "  'n_units_l2': 49,\n",
    "  'activation_2': 'tanh',\n",
    "  'optimizer': 'Adam',\n",
    "  'adam_learning_rate': 0.0018389654970221772,\n",
    "  'epochs': 14,\n",
    "  'batch_size': 283,\n",
    "}"
   ]
  },
  {
   "cell_type": "code",
   "execution_count": 20,
   "metadata": {},
   "outputs": [
    {
     "name": "stdout",
     "output_type": "stream",
     "text": [
      "Epoch 1/14\n"
     ]
    },
    {
     "name": "stderr",
     "output_type": "stream",
     "text": [
      "/home/dimitra/miniconda3/lib/python3.11/site-packages/keras/src/backend.py:5818: UserWarning: \"`binary_crossentropy` received `from_logits=True`, but the `output` argument was produced by a Sigmoid activation and thus does not represent logits. Was this intended?\n",
      "  output, from_logits = _get_logits(\n"
     ]
    },
    {
     "name": "stdout",
     "output_type": "stream",
     "text": [
      "1051/1051 [==============================] - 2s 2ms/step - loss: 0.0533 - precision_6: 0.6947 - recall_6: 0.4975\n",
      "Epoch 2/14\n",
      "1051/1051 [==============================] - 2s 2ms/step - loss: 0.0332 - precision_6: 0.7901 - recall_6: 0.7156\n",
      "Epoch 3/14\n",
      "1051/1051 [==============================] - 2s 2ms/step - loss: 0.0251 - precision_6: 0.8273 - recall_6: 0.7980\n",
      "Epoch 4/14\n",
      "1051/1051 [==============================] - 2s 2ms/step - loss: 0.0198 - precision_6: 0.8627 - recall_6: 0.8493\n",
      "Epoch 5/14\n",
      "1051/1051 [==============================] - 2s 2ms/step - loss: 0.0161 - precision_6: 0.8895 - recall_6: 0.8793\n",
      "Epoch 6/14\n",
      "1051/1051 [==============================] - 2s 2ms/step - loss: 0.0134 - precision_6: 0.9069 - recall_6: 0.9039\n",
      "Epoch 7/14\n",
      "1051/1051 [==============================] - 2s 2ms/step - loss: 0.0116 - precision_6: 0.9186 - recall_6: 0.9175\n",
      "Epoch 8/14\n",
      "1051/1051 [==============================] - 2s 2ms/step - loss: 0.0098 - precision_6: 0.9303 - recall_6: 0.9340\n",
      "Epoch 9/14\n",
      "1051/1051 [==============================] - 2s 2ms/step - loss: 0.0089 - precision_6: 0.9398 - recall_6: 0.9423\n",
      "Epoch 10/14\n",
      "1051/1051 [==============================] - 2s 2ms/step - loss: 0.0077 - precision_6: 0.9486 - recall_6: 0.9525\n",
      "Epoch 11/14\n",
      "1051/1051 [==============================] - 2s 2ms/step - loss: 0.0070 - precision_6: 0.9522 - recall_6: 0.9534\n",
      "Epoch 12/14\n",
      "1051/1051 [==============================] - 2s 2ms/step - loss: 0.0067 - precision_6: 0.9569 - recall_6: 0.9533\n",
      "Epoch 13/14\n",
      "1051/1051 [==============================] - 2s 2ms/step - loss: 0.0061 - precision_6: 0.9598 - recall_6: 0.9585\n",
      "Epoch 14/14\n",
      "1051/1051 [==============================] - 2s 2ms/step - loss: 0.0055 - precision_6: 0.9670 - recall_6: 0.9622\n"
     ]
    },
    {
     "data": {
      "text/plain": [
       "<keras.src.callbacks.History at 0x7fd0bba8f190>"
      ]
     },
     "execution_count": 20,
     "metadata": {},
     "output_type": "execute_result"
    }
   ],
   "source": [
    "model_mlp = tf.keras.Sequential()\n",
    "\n",
    "model_mlp.add(tf.keras.layers.Dense(params['n_units_l_input'], \n",
    "                                    input_shape=(X_train.shape[-1],), \n",
    "                                    activation=params['activation_input']))\n",
    "model_mlp.add(tf.keras.layers.Flatten())\n",
    "\n",
    "for i in range(params['n_layers']):\n",
    "  model_mlp.add(tf.keras.layers.Dense(\n",
    "                params['n_units_l{}'.format(i)],\n",
    "                activation=params['activation_{}'.format(i)],\n",
    "                kernel_regularizer=tf.keras.regularizers.l2(params['weight_decay']))\n",
    "            )\n",
    "model_mlp.add(\n",
    "        tf.keras.layers.Dense(1, \n",
    "                              kernel_regularizer=tf.keras.regularizers.l2(params['weight_decay']), \n",
    "                              activation=\"sigmoid\")\n",
    "    )\n",
    "\n",
    "\n",
    "model_mlp.compile(optimizer=tf.keras.optimizers.Adam(learning_rate=params['adam_learning_rate']),\n",
    "                  loss=tf.keras.losses.BinaryCrossentropy(from_logits=True),\n",
    "                  metrics=[tf.keras.metrics.Precision(), \n",
    "                           tf.keras.metrics.Recall()])\n",
    "y = tf.cast(y_train, tf.float32)\n",
    "\n",
    "model_mlp.fit(X_train, y, \n",
    "              epochs=params['epochs'], \n",
    "              batch_size=params['batch_size'])"
   ]
  },
  {
   "cell_type": "code",
   "execution_count": 21,
   "metadata": {},
   "outputs": [
    {
     "name": "stdout",
     "output_type": "stream",
     "text": [
      "243/243 [==============================] - 0s 410us/step\n",
      "F1 score: 0.680 \n",
      "MCC: 0.647 \n",
      "      0    1\n",
      "0  6730  182\n",
      "1   325  539\n"
     ]
    }
   ],
   "source": [
    " # Make predictions on the validation set\n",
    "y_pred_proba = model_mlp.predict(X_test)\n",
    "y_pred = (y_pred_proba > 0.5).astype(int)\n",
    "\n",
    "print('F1 score: %.3f ' % f1_score(y_test, y_pred > 0.5))\n",
    "print('MCC: %.3f ' % matthews_corrcoef(y_test, y_pred > 0.5))\n",
    "\n",
    "cm = confusion_matrix(y_test, y_pred > 0.5)\n",
    "cm = pd.DataFrame(cm , index = ['0','1'] , columns = ['0','1'])\n",
    "print(cm)"
   ]
  },
  {
   "cell_type": "code",
   "execution_count": 22,
   "metadata": {},
   "outputs": [
    {
     "name": "stdout",
     "output_type": "stream",
     "text": [
      "INFO:tensorflow:Assets written to: best_model_protTrans_new/assets\n"
     ]
    },
    {
     "name": "stderr",
     "output_type": "stream",
     "text": [
      "INFO:tensorflow:Assets written to: best_model_protTrans_new/assets\n"
     ]
    }
   ],
   "source": [
    "model_mlp.save(\"best_model_protTrans_new\")"
   ]
  },
  {
   "cell_type": "markdown",
   "metadata": {},
   "source": [
    "### Plot Tensorflow model"
   ]
  },
  {
   "cell_type": "code",
   "execution_count": 3,
   "metadata": {},
   "outputs": [
    {
     "data": {
      "image/png": "[encoded data removed]",
      "text/plain": [
       "<IPython.core.display.Image object>"
      ]
     },
     "execution_count": 3,
     "metadata": {},
     "output_type": "execute_result"
    }
   ],
   "source": [
    "from tensorflow.keras.utils import plot_model\n",
    "from tensorflow.keras.metrics import F1Score\n",
    "import tensorflow as tf\n",
    "\n",
    "model_for_testing = 'esm_new'\n",
    "model = tf.keras.models.load_model('/home/dimitra/master_thesis/models/best_model_esm_new')\n",
    "\n",
    "plot_model(\n",
    "    model,\n",
    "    to_file='model_plot.png',\n",
    "    show_shapes=True,\n",
    "    show_dtype=False,\n",
    "    show_layer_names=True,\n",
    "    rankdir='TB',\n",
    "    expand_nested=True,\n",
    "    dpi=96,\n",
    "    show_layer_activations=True,\n",
    ")"
   ]
  }
 ],
 "metadata": {
  "kernelspec": {
   "display_name": "base",
   "language": "python",
   "name": "python3"
  },
  "language_info": {
   "codemirror_mode": {
    "name": "ipython",
    "version": 3
   },
   "file_extension": ".py",
   "mimetype": "text/x-python",
   "name": "python",
   "nbconvert_exporter": "python",
   "pygments_lexer": "ipython3",
   "version": "3.11.7"
  }
 },
 "nbformat": 4,
 "nbformat_minor": 2
}
