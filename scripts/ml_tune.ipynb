{
 "cells": [
  {
   "cell_type": "code",
   "execution_count": null,
   "metadata": {},
   "outputs": [],
   "source": [
    "import pandas as pd\n",
    "import json\n",
    "import numpy as np\n",
    "\n",
    "from sklearn.metrics import f1_score, balanced_accuracy_score, matthews_corrcoef, confusion_matrix, precision_recall_curve\n",
    "\n",
    "from xgboost import XGBClassifier\n",
    "import xgboost as xgb\n",
    "from imblearn.ensemble import BalancedRandomForestClassifier\n",
    "import tensorflow as tf\n",
    "\n",
    "# import packages for hyperparameters tuning\n",
    "import optuna"
   ]
  },
  {
   "cell_type": "code",
   "execution_count": 3,
   "metadata": {},
   "outputs": [],
   "source": [
    "model_for_testing = 'protTrans'\n",
    "df = pd.read_csv('../Datasets/My_Dataset/proteins_embeddings_' + model_for_testing + '_annotated.csv', index_col=0, dtype={'your_column': 'float32'})\n",
    "\n",
    "# convert residues to one-hot encode\n",
    "df_res = pd.get_dummies(df['residue_1l'])\n",
    "# Convert boolean values to numeric values\n",
    "df_res = df_res.astype(int)\n",
    "\n",
    "df = df.merge(df_res, left_index=True, right_index=True, how='inner')\n",
    "df.insert(len(df.columns)-1, 'is_IBS', df.pop('is_IBS'))\n",
    "df.head(5)\n",
    "\n",
    "f = open('..s/Datasets/My_Dataset/split_proteins.json')\n",
    "dict_proteins_split = json.load(f)\n",
    "f.close()\n",
    "\n",
    "df_train = df[df.uniprot_id.isin(dict_proteins_split['train'])]\n",
    "df_test = df[df.uniprot_id.isin(dict_proteins_split['test'])]\n",
    "df_val = df[df.uniprot_id.isin(dict_proteins_split['val'])]\n",
    "\n",
    "positive_samples = df_train['is_IBS'].sum()\n",
    "negative_samples = len(df_train) - positive_samples\n",
    "\n",
    "ratio = negative_samples / positive_samples\n",
    "\n",
    "X_train, y_train = df_train.drop(['uniprot_id', 'residue_1l', 'is_IBS'], axis=1, inplace=False), df_train['is_IBS']\n",
    "X_test, y_test = df_test.drop(['uniprot_id', 'residue_1l', 'is_IBS'], axis=1, inplace=False), df_test['is_IBS']\n",
    "X_val, y_val = df_val.drop(['uniprot_id', 'residue_1l', 'is_IBS'], axis=1, inplace=False), df_val['is_IBS']\n",
    "\n",
    "import gc\n",
    "\n",
    "del df, df_train, df_test, df_val, df_res\n",
    "gc.collect()\n",
    "\n",
    "X_train, y_train = X_train.values, y_train.values\n",
    "X_test, y_test = X_test.values, y_test.values"
   ]
  },
  {
   "cell_type": "markdown",
   "metadata": {},
   "source": [
    "### Optimize XGBoost"
   ]
  },
  {
   "cell_type": "code",
   "execution_count": null,
   "metadata": {},
   "outputs": [],
   "source": [
    "xgb_clf = XGBClassifier()\n",
    "\n",
    "dtrain = xgb.DMatrix(X_train, label=y_train)\n",
    "dvalid = xgb.DMatrix(X_val, label=y_val)\n",
    "\n",
    "trials = {}\n",
    "# 1. Define an objective function to be maximized.\n",
    "def objective(trial):\n",
    "    param = {\n",
    "        'objective': 'binary:logistic',\n",
    "        \"learning_rate\": trial.suggest_float(\"learning_rate\", 1e-4, 1e-1, log=True),\n",
    "        \"booster\": trial.suggest_categorical(\"booster\", [\"gbtree\", \"dart\"]),\n",
    "        \"gamma\": trial.suggest_float(\"gamma\", 0.7, 1.0, step=0.1),\n",
    "        \"lambda\": trial.suggest_float(\"lambda\", 1e-8, 1.0, log=True),\n",
    "        \"reg_alpha\": trial.suggest_float(\"reg_alpha\", 1e-2, 10.),\n",
    "        \"subsample\": trial.suggest_float(\"subsample\", 0.2, 1.0),\n",
    "        \"colsample_bytree\": trial.suggest_float(\"colsample_bytree\", 0.5, 1.0),\n",
    "        \"max_depth\": trial.suggest_int(\"max_depth\", 1, 31, step=2),\n",
    "        \"min_child_weight\": trial.suggest_int(\"min_child_weight\", 1, 10),\n",
    "        \"scale_pos_weight\": trial.suggest_float(\"scale_pos_weight\", ratio-5, ratio+5),\n",
    "    }\n",
    "\n",
    "    bst = xgb.train(param, dtrain)\n",
    "    preds = bst.predict(dvalid)\n",
    "    pred_labels = np.rint(preds)\n",
    "\n",
    "    f1 =  f1_score(y_val, pred_labels)\n",
    "    mcc =  matthews_corrcoef(y_val, pred_labels)\n",
    "    conf_matrix = confusion_matrix(y_val, pred_labels)\n",
    "\n",
    "    trials[trial.number] = [f1, mcc, conf_matrix]    \n",
    "    return f1\n",
    "\n",
    "# 3. Create a study object and optimize the objective function.\n",
    "study = optuna.create_study(direction='maximize')\n",
    "study.optimize(objective, n_trials=200)"
   ]
  },
  {
   "cell_type": "code",
   "execution_count": 16,
   "metadata": {},
   "outputs": [
    {
     "name": "stdout",
     "output_type": "stream",
     "text": [
      "Number of finished trials:  200\n",
      "Best trial:\n",
      "  Value: 0.5014343086632244\n",
      "  Params: \n",
      "    learning_rate: 0.018532546571990664\n",
      "    booster: gbtree\n",
      "    gamma: 0.7999999999999999\n",
      "    lambda: 0.00010690298719347456\n",
      "    reg_alpha: 9.353729121385786\n",
      "    subsample: 0.6835366299983335\n",
      "    colsample_bytree: 0.7145795902754652\n",
      "    max_depth: 11\n",
      "    min_child_weight: 4\n",
      "    scale_pos_weight: 38.948239592913026\n"
     ]
    }
   ],
   "source": [
    "print(\"Number of finished trials: \", len(study.trials))\n",
    "print(\"Best trial:\")\n",
    "trial = study.best_trial\n",
    "\n",
    "print(\"  Value: {}\".format(trial.value))\n",
    "print(\"  Params: \")\n",
    "for key, value in trial.params.items():\n",
    "    print(\"    {}: {}\".format(key, value))"
   ]
  },
  {
   "cell_type": "code",
   "execution_count": 19,
   "metadata": {},
   "outputs": [
    {
     "name": "stdout",
     "output_type": "stream",
     "text": [
      "F1 score: 0.581 \n",
      "MCC: 0.526 \n",
      "      0    1\n",
      "0  6450  462\n",
      "1   321  543\n"
     ]
    }
   ],
   "source": [
    "xgb_clf = XGBClassifier(objective='binary:logistic', **trial.params, n_jobs=-1, random_state=42)\n",
    "\n",
    "xgb_clf.fit(X_train, y_train)\n",
    "\n",
    "# evaluate model on the traindataset\n",
    "ypred = xgb_clf.predict(X_test)\n",
    "\n",
    "print('F1 score: %.3f ' % f1_score(y_test, ypred))\n",
    "print('MCC: %.3f ' % matthews_corrcoef(y_test, ypred))\n",
    "\n",
    "cm = confusion_matrix(y_test, ypred)\n",
    "cm = pd.DataFrame(cm , index = ['0','1'] , columns = ['0','1'])\n",
    "print(cm)"
   ]
  },
  {
   "cell_type": "markdown",
   "metadata": {},
   "source": [
    "### Optimize BalancedRandomForest"
   ]
  },
  {
   "cell_type": "code",
   "execution_count": null,
   "metadata": {},
   "outputs": [],
   "source": [
    "import sklearn.model_selection\n",
    "\n",
    "trials = {}\n",
    "# 1. Define an objective function to be maximized.\n",
    "def objective(trial):\n",
    "    params_brf = {\n",
    "        \"n_estimators\": trial.suggest_int(\"n_estimators\", 50, 500),\n",
    "        \"criterion\": trial.suggest_categorical(\"criterion\", [\"gini\", \"entropy\"]),\n",
    "        \"max_depth\": trial.suggest_int(\"max_depth\", 1, 31, step=2),\n",
    "        \"min_samples_split\": trial.suggest_int(\"min_samples_split\", 2, 20),\n",
    "        \"min_samples_leaf\": trial.suggest_int(\"min_samples_leaf\", 1, 20),\n",
    "        \"max_features\": trial.suggest_float(\"max_features\", 0.1, 1.0, log=True),\n",
    "    }\n",
    "\n",
    "    brf = BalancedRandomForestClassifier(replacement=True, sampling_strategy= \"all\", **params_brf, n_jobs=-1)\n",
    "    score = sklearn.model_selection.cross_val_score(brf, X_train, y_train, scoring=\"f1\", n_jobs=-1, cv=3).mean()\n",
    "\n",
    "    return score\n",
    "\n",
    "# 3. Create a study object and optimize the objective function.\n",
    "study = optuna.create_study(direction='maximize')\n",
    "study.optimize(objective, n_trials=200)"
   ]
  },
  {
   "cell_type": "code",
   "execution_count": 32,
   "metadata": {},
   "outputs": [
    {
     "name": "stdout",
     "output_type": "stream",
     "text": [
      "Number of finished trials:  200\n",
      "Best trial:\n",
      "  Value: 0.34060937812551556\n",
      "  Params: \n",
      "    n_estimators: 476\n",
      "    criterion: gini\n",
      "    max_depth: 31\n",
      "    min_samples_split: 9\n",
      "    min_samples_leaf: 1\n",
      "    max_features: 0.10002741468568423\n"
     ]
    }
   ],
   "source": [
    "print(\"Number of finished trials: \", len(study.trials))\n",
    "print(\"Best trial:\")\n",
    "trial = study.best_trial\n",
    "\n",
    "print(\"  Value: {}\".format(trial.value))\n",
    "print(\"  Params: \")\n",
    "for key, value in trial.params.items():\n",
    "    print(\"    {}: {}\".format(key, value))"
   ]
  },
  {
   "cell_type": "code",
   "execution_count": 34,
   "metadata": {},
   "outputs": [
    {
     "name": "stdout",
     "output_type": "stream",
     "text": [
      "F1 score: 0.526 \n",
      "MCC: 0.470 \n",
      "Balanced accuracy: 0.790 \n",
      "      0    1\n",
      "0  6084  828\n",
      "1   260  604\n"
     ]
    }
   ],
   "source": [
    "trial = study.best_trial\n",
    "brf_clf = BalancedRandomForestClassifier(replacement=True, sampling_strategy= \"all\", n_jobs=-1, **trial.params)\n",
    "brf_clf.fit(X_train, y_train)\n",
    "ypred = brf_clf.predict(X_test)\n",
    "\n",
    "print('F1 score: %.3f ' % f1_score(y_test, ypred))\n",
    "print('MCC: %.3f ' % matthews_corrcoef(y_test, ypred))\n",
    "print('Balanced accuracy: %.3f ' % balanced_accuracy_score(y_test, ypred))\n",
    "\n",
    "cm = confusion_matrix(y_test, ypred)\n",
    "cm = pd.DataFrame(cm , index = ['0','1'] , columns = ['0','1'])\n",
    "print(cm)"
   ]
  },
  {
   "cell_type": "markdown",
   "metadata": {},
   "source": [
    "### Optimize SLP"
   ]
  },
  {
   "cell_type": "code",
   "execution_count": null,
   "metadata": {},
   "outputs": [],
   "source": [
    "def objective(trial):\n",
    "    # Define hyperparameters to be optimized\n",
    "    params = {\n",
    "        'hidden_layer_sizes': trial.suggest_int('hidden_layer_sizes', 1, 1000),\n",
    "        'activation': trial.suggest_categorical('activation', ['relu', 'tanh', 'sigmoid']),\n",
    "        'optimizer': trial.suggest_categorical('optimizer', ['adam', 'sgd']),\n",
    "        'learning_rate': trial.suggest_float('learning_rate', 1e-5, 1e-1, log=True),\n",
    "        'epochs': 20,\n",
    "    }\n",
    "\n",
    "    # Build the MLP model with the suggested hyperparameters\n",
    "    model = tf.keras.models.Sequential()\n",
    "    model.add(tf.keras.layers.Dense(units=params['hidden_layer_sizes'], activation=params['activation'], input_dim=X_train.shape[1]))\n",
    "    model.add(tf.keras.layers.Dense(units=1, activation='sigmoid'))  # Assuming binary classification\n",
    "\n",
    "    # Compile the model\n",
    "    if params['optimizer'] == 'adam':\n",
    "        optimizer = tf.keras.optimizers.Adam(learning_rate=params['learning_rate'])\n",
    "    else:\n",
    "        optimizer = tf.keras.optimizers.SGD(learning_rate=params['learning_rate'])\n",
    "\n",
    "    model.compile(optimizer=optimizer, loss='binary_crossentropy', metrics=['accuracy'])\n",
    "\n",
    "    # Train the model on the training set\n",
    "    model.fit(X_train, y_train, epochs=params['epochs'], verbose=0)\n",
    "\n",
    "    # Make predictions on the validation set\n",
    "    y_pred_proba = model.predict(X_val)\n",
    "    y_pred = (y_pred_proba > 0.5).astype(int)\n",
    "\n",
    "    # Calculate accuracy on the validation set\n",
    "    f1 = f1_score(y_val, y_pred)\n",
    "\n",
    "    return f1  # Optimize for accuracy, so minimize the error\n",
    "\n",
    "# Create an Optuna study\n",
    "study = optuna.create_study(direction='maximize')\n",
    "\n",
    "# Optimize the objective function\n",
    "study.optimize(objective, n_trials=50)\n",
    "\n",
    "# Get the best hyperparameters\n",
    "best_params = study.best_params\n",
    "print(\"Best hyperparameters:\", best_params)"
   ]
  },
  {
   "cell_type": "code",
   "execution_count": 6,
   "metadata": {},
   "outputs": [
    {
     "name": "stdout",
     "output_type": "stream",
     "text": [
      "Number of finished trials:  50\n",
      "Best trial:\n",
      "  Value: 0.5164923572003217\n",
      "  Params: \n",
      "    hidden_layer_sizes: 776\n",
      "    activation: relu\n",
      "    optimizer: adam\n",
      "    learning_rate: 0.0009146523695170536\n"
     ]
    }
   ],
   "source": [
    "print(\"Number of finished trials: \", len(study.trials))\n",
    "print(\"Best trial:\")\n",
    "trial = study.best_trial\n",
    "\n",
    "print(\"  Value: {}\".format(trial.value))\n",
    "print(\"  Params: \")\n",
    "for key, value in trial.params.items():\n",
    "    print(\"    {}: {}\".format(key, value))"
   ]
  },
  {
   "cell_type": "code",
   "execution_count": 8,
   "metadata": {},
   "outputs": [
    {
     "name": "stdout",
     "output_type": "stream",
     "text": [
      "Epoch 1/20\n",
      "9291/9291 [==============================] - 22s 2ms/step - loss: 0.0514 - tp: 4260.0000 - fp: 1611.0000 - tn: 287372.0000 - fn: 4052.0000 - precision: 0.7256 - recall: 0.5125\n",
      "Epoch 2/20\n",
      "9291/9291 [==============================] - 22s 2ms/step - loss: 0.0326 - tp: 5984.0000 - fp: 1379.0000 - tn: 287604.0000 - fn: 2328.0000 - precision: 0.8127 - recall: 0.7199\n",
      "Epoch 3/20\n",
      "9291/9291 [==============================] - 22s 2ms/step - loss: 0.0225 - tp: 6801.0000 - fp: 1001.0000 - tn: 287982.0000 - fn: 1511.0000 - precision: 0.8717 - recall: 0.8182\n",
      "Epoch 4/20\n",
      "9291/9291 [==============================] - 22s 2ms/step - loss: 0.0159 - tp: 7336.0000 - fp: 677.0000 - tn: 288306.0000 - fn: 976.0000 - precision: 0.9155 - recall: 0.8826\n",
      "Epoch 5/20\n",
      "9291/9291 [==============================] - 22s 2ms/step - loss: 0.0116 - tp: 7634.0000 - fp: 510.0000 - tn: 288473.0000 - fn: 678.0000 - precision: 0.9374 - recall: 0.9184\n",
      "Epoch 6/20\n",
      "9291/9291 [==============================] - 22s 2ms/step - loss: 0.0091 - tp: 7804.0000 - fp: 401.0000 - tn: 288582.0000 - fn: 508.0000 - precision: 0.9511 - recall: 0.9389\n",
      "Epoch 7/20\n",
      "9291/9291 [==============================] - 22s 2ms/step - loss: 0.0078 - tp: 7907.0000 - fp: 324.0000 - tn: 288659.0000 - fn: 405.0000 - precision: 0.9606 - recall: 0.9513\n",
      "Epoch 8/20\n",
      "9291/9291 [==============================] - 22s 2ms/step - loss: 0.0067 - tp: 7992.0000 - fp: 271.0000 - tn: 288712.0000 - fn: 320.0000 - precision: 0.9672 - recall: 0.9615\n",
      "Epoch 9/20\n",
      "9291/9291 [==============================] - 22s 2ms/step - loss: 0.0059 - tp: 8035.0000 - fp: 246.0000 - tn: 288737.0000 - fn: 277.0000 - precision: 0.9703 - recall: 0.9667\n",
      "Epoch 10/20\n",
      "9291/9291 [==============================] - 22s 2ms/step - loss: 0.0055 - tp: 8072.0000 - fp: 211.0000 - tn: 288772.0000 - fn: 240.0000 - precision: 0.9745 - recall: 0.9711\n",
      "Epoch 11/20\n",
      "9291/9291 [==============================] - 22s 2ms/step - loss: 0.0048 - tp: 8081.0000 - fp: 188.0000 - tn: 288795.0000 - fn: 231.0000 - precision: 0.9773 - recall: 0.9722\n",
      "Epoch 12/20\n",
      "9291/9291 [==============================] - 22s 2ms/step - loss: 0.0046 - tp: 8119.0000 - fp: 183.0000 - tn: 288800.0000 - fn: 193.0000 - precision: 0.9780 - recall: 0.9768\n",
      "Epoch 13/20\n",
      "9291/9291 [==============================] - 22s 2ms/step - loss: 0.0043 - tp: 8128.0000 - fp: 150.0000 - tn: 288833.0000 - fn: 184.0000 - precision: 0.9819 - recall: 0.9779\n",
      "Epoch 14/20\n",
      "9291/9291 [==============================] - 22s 2ms/step - loss: 0.0037 - tp: 8149.0000 - fp: 153.0000 - tn: 288830.0000 - fn: 163.0000 - precision: 0.9816 - recall: 0.9804\n",
      "Epoch 15/20\n",
      "9291/9291 [==============================] - 22s 2ms/step - loss: 0.0039 - tp: 8146.0000 - fp: 149.0000 - tn: 288834.0000 - fn: 166.0000 - precision: 0.9820 - recall: 0.9800\n",
      "Epoch 16/20\n",
      "9291/9291 [==============================] - 22s 2ms/step - loss: 0.0033 - tp: 8175.0000 - fp: 128.0000 - tn: 288855.0000 - fn: 137.0000 - precision: 0.9846 - recall: 0.9835\n",
      "Epoch 17/20\n",
      "9291/9291 [==============================] - 22s 2ms/step - loss: 0.0031 - tp: 8183.0000 - fp: 109.0000 - tn: 288874.0000 - fn: 129.0000 - precision: 0.9869 - recall: 0.9845\n",
      "Epoch 18/20\n",
      "9291/9291 [==============================] - 22s 2ms/step - loss: 0.0033 - tp: 8191.0000 - fp: 121.0000 - tn: 288862.0000 - fn: 121.0000 - precision: 0.9854 - recall: 0.9854\n",
      "Epoch 19/20\n",
      "9291/9291 [==============================] - 22s 2ms/step - loss: 0.0030 - tp: 8187.0000 - fp: 119.0000 - tn: 288864.0000 - fn: 125.0000 - precision: 0.9857 - recall: 0.9850\n",
      "Epoch 20/20\n",
      "9291/9291 [==============================] - 22s 2ms/step - loss: 0.0031 - tp: 8197.0000 - fp: 116.0000 - tn: 288867.0000 - fn: 115.0000 - precision: 0.9860 - recall: 0.9862\n",
      "243/243 [==============================] - 0s 421us/step\n",
      "F1 score: 0.520 \n",
      "MCC: 0.516 \n",
      "      0    1\n",
      "0  6815   97\n",
      "1   526  338\n"
     ]
    }
   ],
   "source": [
    "metrics = [\n",
    "  tf.keras.metrics.TruePositives(name='tp'),\n",
    "  tf.keras.metrics.FalsePositives(name='fp'),\n",
    "  tf.keras.metrics.TrueNegatives(name='tn'),\n",
    "  tf.keras.metrics.FalseNegatives(name='fn'), \n",
    "  tf.keras.metrics.Precision(name='precision'),\n",
    "  tf.keras.metrics.Recall(name='recall'),\n",
    "]\n",
    "\n",
    "# Build the final model with the best hyperparameters on the entire training set\n",
    "final_model = tf.keras.models.Sequential()\n",
    "final_model.add(tf.keras.layers.Dense(units=776, activation='relu', input_dim=X_train.shape[1]))\n",
    "final_model.add(tf.keras.layers.Dense(units=1, activation='sigmoid'))  # Assuming binary classification\n",
    "\n",
    "# Compile the final model\n",
    "final_model.compile(optimizer=tf.keras.optimizers.Adam(learning_rate=0.0009146523695170536), loss='binary_crossentropy', metrics=metrics)\n",
    "\n",
    "# Train the final model on the entire training set\n",
    "final_model.fit(X_train, y_train, epochs=20)\n",
    "\n",
    "ypred = final_model.predict(X_test)\n",
    "\n",
    "print('F1 score: %.3f ' % f1_score(y_test, ypred > 0.5))\n",
    "print('MCC: %.3f ' % matthews_corrcoef(y_test, ypred > 0.5))\n",
    "\n",
    "cm = confusion_matrix(y_test, ypred > 0.5)\n",
    "cm = pd.DataFrame(cm , index = ['0','1'] , columns = ['0','1'])\n",
    "print(cm)"
   ]
  },
  {
   "cell_type": "markdown",
   "metadata": {},
   "source": [
    "### Optimize MLP"
   ]
  },
  {
   "cell_type": "code",
   "execution_count": null,
   "metadata": {},
   "outputs": [],
   "source": [
    "def create_model(trial):\n",
    "    # We optimize the numbers of layers, their units and weight decay parameter.\n",
    "    n_layers = trial.suggest_int(\"n_layers\", 1, 4)\n",
    "    weight_decay = trial.suggest_float(\"weight_decay\", 1e-10, 1e-3, log=True)\n",
    "    num_hidden = trial.suggest_int(\"n_units_l_input\", 4, 512, log=True)\n",
    "    model = tf.keras.Sequential()\n",
    "    model.add(\n",
    "        tf.keras.layers.Dense(\n",
    "            num_hidden,\n",
    "            input_shape=(X_train.shape[-1],),\n",
    "            activation=trial.suggest_categorical('activation_input', ['relu', 'tanh', 'sigmoid']),\n",
    "        )\n",
    "    )\n",
    "    model.add(tf.keras.layers.Flatten())\n",
    "\n",
    "    for i in range(n_layers):\n",
    "        num_hidden = trial.suggest_int(\"n_units_l{}\".format(i), 4, 512, log=True)\n",
    "        model.add(\n",
    "            tf.keras.layers.Dense(\n",
    "                num_hidden,\n",
    "                activation=trial.suggest_categorical('activation_{}'.format(i), ['relu', 'tanh', 'sigmoid']),\n",
    "                kernel_regularizer=tf.keras.regularizers.l2(weight_decay),\n",
    "            )\n",
    "        )\n",
    "    model.add(\n",
    "        tf.keras.layers.Dense(1, kernel_regularizer=tf.keras.regularizers.l2(weight_decay), activation=\"sigmoid\")\n",
    "    )\n",
    "    return model\n",
    "\n",
    "def create_optimizer(trial):\n",
    "    # We optimize the choice of optimizers as well as their parameters.\n",
    "    kwargs = {}\n",
    "    optimizer_options = [\"Adam\", \"SGD\"]\n",
    "    optimizer_selected = trial.suggest_categorical(\"optimizer\", optimizer_options)\n",
    "    if optimizer_selected == \"Adam\":\n",
    "        kwargs[\"learning_rate\"] = trial.suggest_float(\"adam_learning_rate\", 1e-5, 1e-1, log=True)\n",
    "    elif optimizer_selected == \"SGD\":\n",
    "        kwargs[\"learning_rate\"] = trial.suggest_float(\n",
    "            \"sgd_opt_learning_rate\", 1e-5, 1e-1, log=True\n",
    "        )\n",
    "        kwargs[\"momentum\"] = trial.suggest_float(\"sgd_opt_momentum\", 1e-5, 1e-1, log=True)\n",
    "\n",
    "    optimizer = getattr(tf.optimizers, optimizer_selected)(**kwargs)\n",
    "    return optimizer\n",
    "\n",
    "def learn(model, optimizer, X, y, trial):    \n",
    "    model.compile(optimizer=optimizer,\n",
    "                  loss=tf.keras.losses.BinaryCrossentropy(from_logits=True),\n",
    "                  metrics=[tf.keras.metrics.Precision(), \n",
    "                           tf.keras.metrics.Recall(), \n",
    "                           tf.keras.metrics.F1Score(name='f1_score')])\n",
    "    \n",
    "    y = tf.cast(y, tf.float32)\n",
    "\n",
    "    model.fit(X, y, \n",
    "              epochs=trial.suggest_int(\"epochs\", 10, 30), \n",
    "              batch_size=trial.suggest_int(\"batch_size\", 128, 512))\n",
    "\n",
    "    \n",
    "def objective(trial):\n",
    "\n",
    "    # Build model and optimizer.\n",
    "    model = create_model(trial)\n",
    "    optimizer = create_optimizer(trial)\n",
    "\n",
    "    # Training and validating cycle.\n",
    "    with tf.device(\"/GPU:0\"):\n",
    "        # for _ in range(20):\n",
    "        learn(model, optimizer, X_train, y_train, trial)\n",
    "\n",
    "        # Make predictions on the validation set\n",
    "        y_pred_proba = model.predict(X_val.values)\n",
    "        y_pred = (y_pred_proba > 0.5).astype(int)\n",
    "\n",
    "        # Calculate F1 score on the validation set\n",
    "        f1 = f1_score(y_val.values, y_pred)\n",
    "\n",
    "    # Return last validation accuracy.\n",
    "    return f1\n",
    "\n",
    "study = optuna.create_study(direction=\"maximize\")\n",
    "study.optimize(objective, n_trials=50)"
   ]
  },
  {
   "cell_type": "code",
   "execution_count": 13,
   "metadata": {},
   "outputs": [
    {
     "name": "stdout",
     "output_type": "stream",
     "text": [
      "Number of trials:  50\n",
      "Best trial:\n",
      "  Value: 0.6041055718475073\n",
      "  Params: \n",
      "    n_layers: 3\n",
      "    weight_decay: 2.6955177810398497e-08\n",
      "    n_units_l_input: 274\n",
      "    activation_input: relu\n",
      "    n_units_l0: 42\n",
      "    activation_0: tanh\n",
      "    n_units_l1: 53\n",
      "    activation_1: relu\n",
      "    n_units_l2: 49\n",
      "    activation_2: tanh\n",
      "    optimizer: Adam\n",
      "    adam_learning_rate: 0.0018389654970221772\n",
      "    epochs: 14\n",
      "    batch_size: 283\n"
     ]
    }
   ],
   "source": [
    "print(\"Number of trials: \", len(study.trials))\n",
    "print(\"Best trial:\")\n",
    "trial = study.best_trial\n",
    "\n",
    "print(\"  Value: {}\".format(trial.value))\n",
    "print(\"  Params: \")\n",
    "for key, value in trial.params.items():\n",
    "    print(\"    {}: {}\".format(key, value))"
   ]
  },
  {
   "cell_type": "code",
   "execution_count": 19,
   "metadata": {},
   "outputs": [],
   "source": [
    "params = {\n",
    "  'n_layers': 3,\n",
    "  'weight_decay': 2.6955177810398497e-08,\n",
    "  'n_units_l_input': 274,\n",
    "  'activation_input': 'relu',\n",
    "  'n_units_l0': 42,\n",
    "  'activation_0': 'tanh',\n",
    "  'n_units_l1': 53,\n",
    "  'activation_1': 'relu',\n",
    "  'n_units_l2': 49,\n",
    "  'activation_2': 'tanh',\n",
    "  'optimizer': 'Adam',\n",
    "  'adam_learning_rate': 0.0018389654970221772,\n",
    "  'epochs': 14,\n",
    "  'batch_size': 283,\n",
    "}"
   ]
  },
  {
   "cell_type": "code",
   "execution_count": 20,
   "metadata": {},
   "outputs": [
    {
     "name": "stdout",
     "output_type": "stream",
     "text": [
      "Epoch 1/14\n"
     ]
    },
    {
     "name": "stderr",
     "output_type": "stream",
     "text": [
      "/home/dimitra/miniconda3/lib/python3.11/site-packages/keras/src/backend.py:5818: UserWarning: \"`binary_crossentropy` received `from_logits=True`, but the `output` argument was produced by a Sigmoid activation and thus does not represent logits. Was this intended?\n",
      "  output, from_logits = _get_logits(\n"
     ]
    },
    {
     "name": "stdout",
     "output_type": "stream",
     "text": [
      "1051/1051 [==============================] - 2s 2ms/step - loss: 0.0533 - precision_6: 0.6947 - recall_6: 0.4975\n",
      "Epoch 2/14\n",
      "1051/1051 [==============================] - 2s 2ms/step - loss: 0.0332 - precision_6: 0.7901 - recall_6: 0.7156\n",
      "Epoch 3/14\n",
      "1051/1051 [==============================] - 2s 2ms/step - loss: 0.0251 - precision_6: 0.8273 - recall_6: 0.7980\n",
      "Epoch 4/14\n",
      "1051/1051 [==============================] - 2s 2ms/step - loss: 0.0198 - precision_6: 0.8627 - recall_6: 0.8493\n",
      "Epoch 5/14\n",
      "1051/1051 [==============================] - 2s 2ms/step - loss: 0.0161 - precision_6: 0.8895 - recall_6: 0.8793\n",
      "Epoch 6/14\n",
      "1051/1051 [==============================] - 2s 2ms/step - loss: 0.0134 - precision_6: 0.9069 - recall_6: 0.9039\n",
      "Epoch 7/14\n",
      "1051/1051 [==============================] - 2s 2ms/step - loss: 0.0116 - precision_6: 0.9186 - recall_6: 0.9175\n",
      "Epoch 8/14\n",
      "1051/1051 [==============================] - 2s 2ms/step - loss: 0.0098 - precision_6: 0.9303 - recall_6: 0.9340\n",
      "Epoch 9/14\n",
      "1051/1051 [==============================] - 2s 2ms/step - loss: 0.0089 - precision_6: 0.9398 - recall_6: 0.9423\n",
      "Epoch 10/14\n",
      "1051/1051 [==============================] - 2s 2ms/step - loss: 0.0077 - precision_6: 0.9486 - recall_6: 0.9525\n",
      "Epoch 11/14\n",
      "1051/1051 [==============================] - 2s 2ms/step - loss: 0.0070 - precision_6: 0.9522 - recall_6: 0.9534\n",
      "Epoch 12/14\n",
      "1051/1051 [==============================] - 2s 2ms/step - loss: 0.0067 - precision_6: 0.9569 - recall_6: 0.9533\n",
      "Epoch 13/14\n",
      "1051/1051 [==============================] - 2s 2ms/step - loss: 0.0061 - precision_6: 0.9598 - recall_6: 0.9585\n",
      "Epoch 14/14\n",
      "1051/1051 [==============================] - 2s 2ms/step - loss: 0.0055 - precision_6: 0.9670 - recall_6: 0.9622\n"
     ]
    },
    {
     "data": {
      "text/plain": [
       "<keras.src.callbacks.History at 0x7fd0bba8f190>"
      ]
     },
     "execution_count": 20,
     "metadata": {},
     "output_type": "execute_result"
    }
   ],
   "source": [
    "model_mlp = tf.keras.Sequential()\n",
    "\n",
    "model_mlp.add(tf.keras.layers.Dense(params['n_units_l_input'], \n",
    "                                    input_shape=(X_train.shape[-1],), \n",
    "                                    activation=params['activation_input']))\n",
    "model_mlp.add(tf.keras.layers.Flatten())\n",
    "\n",
    "for i in range(params['n_layers']):\n",
    "  model_mlp.add(tf.keras.layers.Dense(\n",
    "                params['n_units_l{}'.format(i)],\n",
    "                activation=params['activation_{}'.format(i)],\n",
    "                kernel_regularizer=tf.keras.regularizers.l2(params['weight_decay']))\n",
    "            )\n",
    "model_mlp.add(\n",
    "        tf.keras.layers.Dense(1, \n",
    "                              kernel_regularizer=tf.keras.regularizers.l2(params['weight_decay']), \n",
    "                              activation=\"sigmoid\")\n",
    "    )\n",
    "\n",
    "\n",
    "model_mlp.compile(optimizer=tf.keras.optimizers.Adam(learning_rate=params['adam_learning_rate']),\n",
    "                  loss=tf.keras.losses.BinaryCrossentropy(from_logits=True),\n",
    "                  metrics=[tf.keras.metrics.Precision(), \n",
    "                           tf.keras.metrics.Recall()])\n",
    "y = tf.cast(y_train, tf.float32)\n",
    "\n",
    "model_mlp.fit(X_train, y, \n",
    "              epochs=params['epochs'], \n",
    "              batch_size=params['batch_size'])"
   ]
  },
  {
   "cell_type": "code",
   "execution_count": 21,
   "metadata": {},
   "outputs": [
    {
     "name": "stdout",
     "output_type": "stream",
     "text": [
      "243/243 [==============================] - 0s 410us/step\n",
      "F1 score: 0.680 \n",
      "MCC: 0.647 \n",
      "      0    1\n",
      "0  6730  182\n",
      "1   325  539\n"
     ]
    }
   ],
   "source": [
    " # Make predictions on the validation set\n",
    "y_pred_proba = model_mlp.predict(X_test)\n",
    "y_pred = (y_pred_proba > 0.5).astype(int)\n",
    "\n",
    "print('F1 score: %.3f ' % f1_score(y_test, y_pred > 0.5))\n",
    "print('MCC: %.3f ' % matthews_corrcoef(y_test, y_pred > 0.5))\n",
    "\n",
    "cm = confusion_matrix(y_test, y_pred > 0.5)\n",
    "cm = pd.DataFrame(cm , index = ['0','1'] , columns = ['0','1'])\n",
    "print(cm)"
   ]
  },
  {
   "cell_type": "code",
   "execution_count": 22,
   "metadata": {},
   "outputs": [
    {
     "name": "stdout",
     "output_type": "stream",
     "text": [
      "INFO:tensorflow:Assets written to: best_model_protTrans_new/assets\n"
     ]
    },
    {
     "name": "stderr",
     "output_type": "stream",
     "text": [
      "INFO:tensorflow:Assets written to: best_model_protTrans_new/assets\n"
     ]
    }
   ],
   "source": [
    "model_mlp.save(\"best_model_protTrans_new\")"
   ]
  },
  {
   "cell_type": "markdown",
   "metadata": {},
   "source": [
    "### Plot Tensorflow model"
   ]
  },
  {
   "cell_type": "code",
   "execution_count": 3,
   "metadata": {},
   "outputs": [
    {
     "data": {
      "image/png": "[encoded data removed]",
      "text/plain": [
       "<IPython.core.display.Image object>"
      ]
     },
     "execution_count": 3,
     "metadata": {},
     "output_type": "execute_result"
    }
   ],
   "source": [
    "from tensorflow.keras.utils import plot_model\n",
    "from tensorflow.keras.metrics import F1Score\n",
    "import tensorflow as tf\n",
    "\n",
    "model_for_testing = 'esm_new'\n",
    "model = tf.keras.models.load_model('../models/best_model_esm_new')\n",
    "\n",
    "plot_model(\n",
    "    model,\n",
    "    to_file='model_plot.png',\n",
    "    show_shapes=True,\n",
    "    show_dtype=False,\n",
    "    show_layer_names=True,\n",
    "    rankdir='TB',\n",
    "    expand_nested=True,\n",
    "    dpi=96,\n",
    "    show_layer_activations=True,\n",
    ")"
   ]
  }
 ],
 "metadata": {
  "kernelspec": {
   "display_name": "base",
   "language": "python",
   "name": "python3"
  },
  "language_info": {
   "codemirror_mode": {
    "name": "ipython",
    "version": 3
   },
   "file_extension": ".py",
   "mimetype": "text/x-python",
   "name": "python",
   "nbconvert_exporter": "python",
   "pygments_lexer": "ipython3",
   "version": "3.11.5"
  }
 },
 "nbformat": 4,
 "nbformat_minor": 2
}
