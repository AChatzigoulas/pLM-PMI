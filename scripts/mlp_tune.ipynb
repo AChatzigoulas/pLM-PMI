{
 "cells": [
  {
   "cell_type": "code",
   "execution_count": 2,
   "metadata": {},
   "outputs": [],
   "source": [
    "import pandas as pd\n",
    "import numpy as np\n",
    "import json\n",
    "import shutil\n",
    "\n",
    "from sklearn.metrics import accuracy_score, f1_score, balanced_accuracy_score, roc_auc_score, precision_recall_curve, classification_report, matthews_corrcoef, confusion_matrix, precision_recall_fscore_support\n",
    "\n",
    "import keras\n",
    "import tensorflow as tf\n",
    "import keras_tuner as kt"
   ]
  },
  {
   "cell_type": "code",
   "execution_count": 2,
   "metadata": {},
   "outputs": [],
   "source": [
    "model_for_testing = 'esm'\n",
    "threshold = 0.58"
   ]
  },
  {
   "cell_type": "markdown",
   "metadata": {},
   "source": [
    "### Load dataset"
   ]
  },
  {
   "cell_type": "code",
   "execution_count": 3,
   "metadata": {},
   "outputs": [
    {
     "data": {
      "text/html": [
       "<div>\n",
       "<style scoped>\n",
       "    .dataframe tbody tr th:only-of-type {\n",
       "        vertical-align: middle;\n",
       "    }\n",
       "\n",
       "    .dataframe tbody tr th {\n",
       "        vertical-align: top;\n",
       "    }\n",
       "\n",
       "    .dataframe thead th {\n",
       "        text-align: right;\n",
       "    }\n",
       "</style>\n",
       "<table border=\"1\" class=\"dataframe\">\n",
       "  <thead>\n",
       "    <tr style=\"text-align: right;\">\n",
       "      <th></th>\n",
       "      <th>uniprot_id</th>\n",
       "      <th>residue_1l</th>\n",
       "      <th>Feature_1</th>\n",
       "      <th>Feature_2</th>\n",
       "      <th>Feature_3</th>\n",
       "      <th>Feature_4</th>\n",
       "      <th>Feature_5</th>\n",
       "      <th>Feature_6</th>\n",
       "      <th>Feature_7</th>\n",
       "      <th>Feature_8</th>\n",
       "      <th>...</th>\n",
       "      <th>Feature_1272</th>\n",
       "      <th>Feature_1273</th>\n",
       "      <th>Feature_1274</th>\n",
       "      <th>Feature_1275</th>\n",
       "      <th>Feature_1276</th>\n",
       "      <th>Feature_1277</th>\n",
       "      <th>Feature_1278</th>\n",
       "      <th>Feature_1279</th>\n",
       "      <th>Feature_1280</th>\n",
       "      <th>is_IBS</th>\n",
       "    </tr>\n",
       "  </thead>\n",
       "  <tbody>\n",
       "    <tr>\n",
       "      <th>0</th>\n",
       "      <td>O01761</td>\n",
       "      <td>M</td>\n",
       "      <td>0.051436</td>\n",
       "      <td>0.057840</td>\n",
       "      <td>-0.002832</td>\n",
       "      <td>0.040003</td>\n",
       "      <td>0.079338</td>\n",
       "      <td>0.021896</td>\n",
       "      <td>0.050686</td>\n",
       "      <td>-0.112886</td>\n",
       "      <td>...</td>\n",
       "      <td>-0.033487</td>\n",
       "      <td>-0.214859</td>\n",
       "      <td>-0.042207</td>\n",
       "      <td>0.021364</td>\n",
       "      <td>-0.003393</td>\n",
       "      <td>-0.007095</td>\n",
       "      <td>-0.160942</td>\n",
       "      <td>0.128649</td>\n",
       "      <td>0.002735</td>\n",
       "      <td>0</td>\n",
       "    </tr>\n",
       "    <tr>\n",
       "      <th>1</th>\n",
       "      <td>O01761</td>\n",
       "      <td>A</td>\n",
       "      <td>-0.063363</td>\n",
       "      <td>0.188756</td>\n",
       "      <td>-0.229877</td>\n",
       "      <td>0.050276</td>\n",
       "      <td>0.079548</td>\n",
       "      <td>-0.171778</td>\n",
       "      <td>0.108604</td>\n",
       "      <td>0.039983</td>\n",
       "      <td>...</td>\n",
       "      <td>0.197676</td>\n",
       "      <td>-0.114204</td>\n",
       "      <td>-0.001352</td>\n",
       "      <td>0.113371</td>\n",
       "      <td>0.030062</td>\n",
       "      <td>-0.122710</td>\n",
       "      <td>0.157325</td>\n",
       "      <td>0.054761</td>\n",
       "      <td>-0.073914</td>\n",
       "      <td>0</td>\n",
       "    </tr>\n",
       "    <tr>\n",
       "      <th>2</th>\n",
       "      <td>O01761</td>\n",
       "      <td>S</td>\n",
       "      <td>-0.154245</td>\n",
       "      <td>0.227232</td>\n",
       "      <td>-0.185334</td>\n",
       "      <td>0.012168</td>\n",
       "      <td>0.148100</td>\n",
       "      <td>-0.056722</td>\n",
       "      <td>0.065092</td>\n",
       "      <td>0.031289</td>\n",
       "      <td>...</td>\n",
       "      <td>0.081713</td>\n",
       "      <td>-0.119545</td>\n",
       "      <td>0.015701</td>\n",
       "      <td>0.188290</td>\n",
       "      <td>0.227505</td>\n",
       "      <td>-0.060425</td>\n",
       "      <td>0.220450</td>\n",
       "      <td>0.123903</td>\n",
       "      <td>-0.153156</td>\n",
       "      <td>0</td>\n",
       "    </tr>\n",
       "    <tr>\n",
       "      <th>3</th>\n",
       "      <td>O01761</td>\n",
       "      <td>R</td>\n",
       "      <td>0.036627</td>\n",
       "      <td>0.373738</td>\n",
       "      <td>-0.066661</td>\n",
       "      <td>0.132569</td>\n",
       "      <td>0.077150</td>\n",
       "      <td>-0.188361</td>\n",
       "      <td>-0.010662</td>\n",
       "      <td>0.117254</td>\n",
       "      <td>...</td>\n",
       "      <td>0.131667</td>\n",
       "      <td>-0.144065</td>\n",
       "      <td>0.113407</td>\n",
       "      <td>-0.077438</td>\n",
       "      <td>-0.052469</td>\n",
       "      <td>-0.085575</td>\n",
       "      <td>0.224432</td>\n",
       "      <td>-0.196661</td>\n",
       "      <td>-0.248436</td>\n",
       "      <td>0</td>\n",
       "    </tr>\n",
       "    <tr>\n",
       "      <th>4</th>\n",
       "      <td>O01761</td>\n",
       "      <td>R</td>\n",
       "      <td>-0.054136</td>\n",
       "      <td>0.169932</td>\n",
       "      <td>-0.131501</td>\n",
       "      <td>0.061030</td>\n",
       "      <td>0.031650</td>\n",
       "      <td>-0.164336</td>\n",
       "      <td>0.107642</td>\n",
       "      <td>0.028456</td>\n",
       "      <td>...</td>\n",
       "      <td>0.207674</td>\n",
       "      <td>-0.110496</td>\n",
       "      <td>-0.014361</td>\n",
       "      <td>0.091086</td>\n",
       "      <td>0.131275</td>\n",
       "      <td>-0.133346</td>\n",
       "      <td>0.138712</td>\n",
       "      <td>0.026365</td>\n",
       "      <td>-0.135246</td>\n",
       "      <td>0</td>\n",
       "    </tr>\n",
       "    <tr>\n",
       "      <th>...</th>\n",
       "      <td>...</td>\n",
       "      <td>...</td>\n",
       "      <td>...</td>\n",
       "      <td>...</td>\n",
       "      <td>...</td>\n",
       "      <td>...</td>\n",
       "      <td>...</td>\n",
       "      <td>...</td>\n",
       "      <td>...</td>\n",
       "      <td>...</td>\n",
       "      <td>...</td>\n",
       "      <td>...</td>\n",
       "      <td>...</td>\n",
       "      <td>...</td>\n",
       "      <td>...</td>\n",
       "      <td>...</td>\n",
       "      <td>...</td>\n",
       "      <td>...</td>\n",
       "      <td>...</td>\n",
       "      <td>...</td>\n",
       "      <td>...</td>\n",
       "    </tr>\n",
       "    <tr>\n",
       "      <th>325938</th>\n",
       "      <td>P01441</td>\n",
       "      <td>T</td>\n",
       "      <td>-0.063050</td>\n",
       "      <td>-0.156123</td>\n",
       "      <td>-0.024356</td>\n",
       "      <td>0.306045</td>\n",
       "      <td>0.204681</td>\n",
       "      <td>0.126729</td>\n",
       "      <td>0.185344</td>\n",
       "      <td>-0.071489</td>\n",
       "      <td>...</td>\n",
       "      <td>0.088493</td>\n",
       "      <td>0.158650</td>\n",
       "      <td>-0.035943</td>\n",
       "      <td>0.039711</td>\n",
       "      <td>-0.132667</td>\n",
       "      <td>0.230300</td>\n",
       "      <td>-0.280772</td>\n",
       "      <td>0.166818</td>\n",
       "      <td>-0.113874</td>\n",
       "      <td>0</td>\n",
       "    </tr>\n",
       "    <tr>\n",
       "      <th>325939</th>\n",
       "      <td>P01441</td>\n",
       "      <td>D</td>\n",
       "      <td>-0.147620</td>\n",
       "      <td>-0.060844</td>\n",
       "      <td>-0.206223</td>\n",
       "      <td>0.033649</td>\n",
       "      <td>0.167042</td>\n",
       "      <td>-0.270832</td>\n",
       "      <td>-0.000974</td>\n",
       "      <td>-0.248665</td>\n",
       "      <td>...</td>\n",
       "      <td>0.067822</td>\n",
       "      <td>0.005815</td>\n",
       "      <td>-0.137717</td>\n",
       "      <td>0.053914</td>\n",
       "      <td>0.290871</td>\n",
       "      <td>0.257227</td>\n",
       "      <td>-0.101212</td>\n",
       "      <td>-0.149518</td>\n",
       "      <td>-0.164374</td>\n",
       "      <td>0</td>\n",
       "    </tr>\n",
       "    <tr>\n",
       "      <th>325940</th>\n",
       "      <td>P01441</td>\n",
       "      <td>K</td>\n",
       "      <td>-0.143371</td>\n",
       "      <td>-0.321767</td>\n",
       "      <td>-0.308143</td>\n",
       "      <td>0.256336</td>\n",
       "      <td>-0.222516</td>\n",
       "      <td>-0.122124</td>\n",
       "      <td>0.151273</td>\n",
       "      <td>-0.164138</td>\n",
       "      <td>...</td>\n",
       "      <td>0.018976</td>\n",
       "      <td>-0.267598</td>\n",
       "      <td>0.065262</td>\n",
       "      <td>0.133239</td>\n",
       "      <td>0.087251</td>\n",
       "      <td>0.131562</td>\n",
       "      <td>-0.134833</td>\n",
       "      <td>-0.130386</td>\n",
       "      <td>0.114424</td>\n",
       "      <td>0</td>\n",
       "    </tr>\n",
       "    <tr>\n",
       "      <th>325941</th>\n",
       "      <td>P01441</td>\n",
       "      <td>C</td>\n",
       "      <td>0.148909</td>\n",
       "      <td>0.094213</td>\n",
       "      <td>0.298960</td>\n",
       "      <td>0.271658</td>\n",
       "      <td>0.097396</td>\n",
       "      <td>-0.417317</td>\n",
       "      <td>0.205594</td>\n",
       "      <td>-0.042907</td>\n",
       "      <td>...</td>\n",
       "      <td>0.127418</td>\n",
       "      <td>-0.341982</td>\n",
       "      <td>-0.366732</td>\n",
       "      <td>0.327198</td>\n",
       "      <td>-0.259981</td>\n",
       "      <td>0.394668</td>\n",
       "      <td>-0.191575</td>\n",
       "      <td>-0.055792</td>\n",
       "      <td>-0.273750</td>\n",
       "      <td>0</td>\n",
       "    </tr>\n",
       "    <tr>\n",
       "      <th>325942</th>\n",
       "      <td>P01441</td>\n",
       "      <td>N</td>\n",
       "      <td>-0.131682</td>\n",
       "      <td>-0.064144</td>\n",
       "      <td>0.094732</td>\n",
       "      <td>0.274434</td>\n",
       "      <td>0.034825</td>\n",
       "      <td>-0.227383</td>\n",
       "      <td>0.225298</td>\n",
       "      <td>0.032520</td>\n",
       "      <td>...</td>\n",
       "      <td>0.129185</td>\n",
       "      <td>-0.003097</td>\n",
       "      <td>-0.023348</td>\n",
       "      <td>0.345915</td>\n",
       "      <td>-0.164354</td>\n",
       "      <td>0.316149</td>\n",
       "      <td>-0.361902</td>\n",
       "      <td>-0.203341</td>\n",
       "      <td>-0.091843</td>\n",
       "      <td>0</td>\n",
       "    </tr>\n",
       "  </tbody>\n",
       "</table>\n",
       "<p>325943 rows × 1283 columns</p>\n",
       "</div>"
      ],
      "text/plain": [
       "       uniprot_id residue_1l  Feature_1  Feature_2  Feature_3  Feature_4  \\\n",
       "0          O01761          M   0.051436   0.057840  -0.002832   0.040003   \n",
       "1          O01761          A  -0.063363   0.188756  -0.229877   0.050276   \n",
       "2          O01761          S  -0.154245   0.227232  -0.185334   0.012168   \n",
       "3          O01761          R   0.036627   0.373738  -0.066661   0.132569   \n",
       "4          O01761          R  -0.054136   0.169932  -0.131501   0.061030   \n",
       "...           ...        ...        ...        ...        ...        ...   \n",
       "325938     P01441          T  -0.063050  -0.156123  -0.024356   0.306045   \n",
       "325939     P01441          D  -0.147620  -0.060844  -0.206223   0.033649   \n",
       "325940     P01441          K  -0.143371  -0.321767  -0.308143   0.256336   \n",
       "325941     P01441          C   0.148909   0.094213   0.298960   0.271658   \n",
       "325942     P01441          N  -0.131682  -0.064144   0.094732   0.274434   \n",
       "\n",
       "        Feature_5  Feature_6  Feature_7  Feature_8  ...  Feature_1272  \\\n",
       "0        0.079338   0.021896   0.050686  -0.112886  ...     -0.033487   \n",
       "1        0.079548  -0.171778   0.108604   0.039983  ...      0.197676   \n",
       "2        0.148100  -0.056722   0.065092   0.031289  ...      0.081713   \n",
       "3        0.077150  -0.188361  -0.010662   0.117254  ...      0.131667   \n",
       "4        0.031650  -0.164336   0.107642   0.028456  ...      0.207674   \n",
       "...           ...        ...        ...        ...  ...           ...   \n",
       "325938   0.204681   0.126729   0.185344  -0.071489  ...      0.088493   \n",
       "325939   0.167042  -0.270832  -0.000974  -0.248665  ...      0.067822   \n",
       "325940  -0.222516  -0.122124   0.151273  -0.164138  ...      0.018976   \n",
       "325941   0.097396  -0.417317   0.205594  -0.042907  ...      0.127418   \n",
       "325942   0.034825  -0.227383   0.225298   0.032520  ...      0.129185   \n",
       "\n",
       "        Feature_1273  Feature_1274  Feature_1275  Feature_1276  Feature_1277  \\\n",
       "0          -0.214859     -0.042207      0.021364     -0.003393     -0.007095   \n",
       "1          -0.114204     -0.001352      0.113371      0.030062     -0.122710   \n",
       "2          -0.119545      0.015701      0.188290      0.227505     -0.060425   \n",
       "3          -0.144065      0.113407     -0.077438     -0.052469     -0.085575   \n",
       "4          -0.110496     -0.014361      0.091086      0.131275     -0.133346   \n",
       "...              ...           ...           ...           ...           ...   \n",
       "325938      0.158650     -0.035943      0.039711     -0.132667      0.230300   \n",
       "325939      0.005815     -0.137717      0.053914      0.290871      0.257227   \n",
       "325940     -0.267598      0.065262      0.133239      0.087251      0.131562   \n",
       "325941     -0.341982     -0.366732      0.327198     -0.259981      0.394668   \n",
       "325942     -0.003097     -0.023348      0.345915     -0.164354      0.316149   \n",
       "\n",
       "        Feature_1278  Feature_1279  Feature_1280  is_IBS  \n",
       "0          -0.160942      0.128649      0.002735       0  \n",
       "1           0.157325      0.054761     -0.073914       0  \n",
       "2           0.220450      0.123903     -0.153156       0  \n",
       "3           0.224432     -0.196661     -0.248436       0  \n",
       "4           0.138712      0.026365     -0.135246       0  \n",
       "...              ...           ...           ...     ...  \n",
       "325938     -0.280772      0.166818     -0.113874       0  \n",
       "325939     -0.101212     -0.149518     -0.164374       0  \n",
       "325940     -0.134833     -0.130386      0.114424       0  \n",
       "325941     -0.191575     -0.055792     -0.273750       0  \n",
       "325942     -0.361902     -0.203341     -0.091843       0  \n",
       "\n",
       "[325943 rows x 1283 columns]"
      ]
     },
     "execution_count": 3,
     "metadata": {},
     "output_type": "execute_result"
    }
   ],
   "source": [
    "df = pd.read_csv('./Datasets/My_Dataset/proteins_embeddings_' + model_for_testing + '_annotated.csv', index_col=0)\n",
    "df"
   ]
  },
  {
   "cell_type": "code",
   "execution_count": 4,
   "metadata": {},
   "outputs": [
    {
     "data": {
      "text/html": [
       "<div>\n",
       "<style scoped>\n",
       "    .dataframe tbody tr th:only-of-type {\n",
       "        vertical-align: middle;\n",
       "    }\n",
       "\n",
       "    .dataframe tbody tr th {\n",
       "        vertical-align: top;\n",
       "    }\n",
       "\n",
       "    .dataframe thead th {\n",
       "        text-align: right;\n",
       "    }\n",
       "</style>\n",
       "<table border=\"1\" class=\"dataframe\">\n",
       "  <thead>\n",
       "    <tr style=\"text-align: right;\">\n",
       "      <th></th>\n",
       "      <th>uniprot_id</th>\n",
       "      <th>residue_1l</th>\n",
       "      <th>Feature_1</th>\n",
       "      <th>Feature_2</th>\n",
       "      <th>Feature_3</th>\n",
       "      <th>Feature_4</th>\n",
       "      <th>Feature_5</th>\n",
       "      <th>Feature_6</th>\n",
       "      <th>Feature_7</th>\n",
       "      <th>Feature_8</th>\n",
       "      <th>...</th>\n",
       "      <th>N</th>\n",
       "      <th>P</th>\n",
       "      <th>Q</th>\n",
       "      <th>R</th>\n",
       "      <th>S</th>\n",
       "      <th>T</th>\n",
       "      <th>V</th>\n",
       "      <th>W</th>\n",
       "      <th>Y</th>\n",
       "      <th>is_IBS</th>\n",
       "    </tr>\n",
       "  </thead>\n",
       "  <tbody>\n",
       "    <tr>\n",
       "      <th>0</th>\n",
       "      <td>O01761</td>\n",
       "      <td>M</td>\n",
       "      <td>0.051436</td>\n",
       "      <td>0.057840</td>\n",
       "      <td>-0.002832</td>\n",
       "      <td>0.040003</td>\n",
       "      <td>0.079338</td>\n",
       "      <td>0.021896</td>\n",
       "      <td>0.050686</td>\n",
       "      <td>-0.112886</td>\n",
       "      <td>...</td>\n",
       "      <td>0</td>\n",
       "      <td>0</td>\n",
       "      <td>0</td>\n",
       "      <td>0</td>\n",
       "      <td>0</td>\n",
       "      <td>0</td>\n",
       "      <td>0</td>\n",
       "      <td>0</td>\n",
       "      <td>0</td>\n",
       "      <td>0</td>\n",
       "    </tr>\n",
       "    <tr>\n",
       "      <th>1</th>\n",
       "      <td>O01761</td>\n",
       "      <td>A</td>\n",
       "      <td>-0.063363</td>\n",
       "      <td>0.188756</td>\n",
       "      <td>-0.229877</td>\n",
       "      <td>0.050276</td>\n",
       "      <td>0.079548</td>\n",
       "      <td>-0.171778</td>\n",
       "      <td>0.108604</td>\n",
       "      <td>0.039983</td>\n",
       "      <td>...</td>\n",
       "      <td>0</td>\n",
       "      <td>0</td>\n",
       "      <td>0</td>\n",
       "      <td>0</td>\n",
       "      <td>0</td>\n",
       "      <td>0</td>\n",
       "      <td>0</td>\n",
       "      <td>0</td>\n",
       "      <td>0</td>\n",
       "      <td>0</td>\n",
       "    </tr>\n",
       "    <tr>\n",
       "      <th>2</th>\n",
       "      <td>O01761</td>\n",
       "      <td>S</td>\n",
       "      <td>-0.154245</td>\n",
       "      <td>0.227232</td>\n",
       "      <td>-0.185334</td>\n",
       "      <td>0.012168</td>\n",
       "      <td>0.148100</td>\n",
       "      <td>-0.056722</td>\n",
       "      <td>0.065092</td>\n",
       "      <td>0.031289</td>\n",
       "      <td>...</td>\n",
       "      <td>0</td>\n",
       "      <td>0</td>\n",
       "      <td>0</td>\n",
       "      <td>0</td>\n",
       "      <td>1</td>\n",
       "      <td>0</td>\n",
       "      <td>0</td>\n",
       "      <td>0</td>\n",
       "      <td>0</td>\n",
       "      <td>0</td>\n",
       "    </tr>\n",
       "    <tr>\n",
       "      <th>3</th>\n",
       "      <td>O01761</td>\n",
       "      <td>R</td>\n",
       "      <td>0.036627</td>\n",
       "      <td>0.373738</td>\n",
       "      <td>-0.066661</td>\n",
       "      <td>0.132569</td>\n",
       "      <td>0.077150</td>\n",
       "      <td>-0.188361</td>\n",
       "      <td>-0.010662</td>\n",
       "      <td>0.117254</td>\n",
       "      <td>...</td>\n",
       "      <td>0</td>\n",
       "      <td>0</td>\n",
       "      <td>0</td>\n",
       "      <td>1</td>\n",
       "      <td>0</td>\n",
       "      <td>0</td>\n",
       "      <td>0</td>\n",
       "      <td>0</td>\n",
       "      <td>0</td>\n",
       "      <td>0</td>\n",
       "    </tr>\n",
       "    <tr>\n",
       "      <th>4</th>\n",
       "      <td>O01761</td>\n",
       "      <td>R</td>\n",
       "      <td>-0.054136</td>\n",
       "      <td>0.169932</td>\n",
       "      <td>-0.131501</td>\n",
       "      <td>0.061030</td>\n",
       "      <td>0.031650</td>\n",
       "      <td>-0.164336</td>\n",
       "      <td>0.107642</td>\n",
       "      <td>0.028456</td>\n",
       "      <td>...</td>\n",
       "      <td>0</td>\n",
       "      <td>0</td>\n",
       "      <td>0</td>\n",
       "      <td>1</td>\n",
       "      <td>0</td>\n",
       "      <td>0</td>\n",
       "      <td>0</td>\n",
       "      <td>0</td>\n",
       "      <td>0</td>\n",
       "      <td>0</td>\n",
       "    </tr>\n",
       "  </tbody>\n",
       "</table>\n",
       "<p>5 rows × 1303 columns</p>\n",
       "</div>"
      ],
      "text/plain": [
       "  uniprot_id residue_1l  Feature_1  Feature_2  Feature_3  Feature_4  \\\n",
       "0     O01761          M   0.051436   0.057840  -0.002832   0.040003   \n",
       "1     O01761          A  -0.063363   0.188756  -0.229877   0.050276   \n",
       "2     O01761          S  -0.154245   0.227232  -0.185334   0.012168   \n",
       "3     O01761          R   0.036627   0.373738  -0.066661   0.132569   \n",
       "4     O01761          R  -0.054136   0.169932  -0.131501   0.061030   \n",
       "\n",
       "   Feature_5  Feature_6  Feature_7  Feature_8  ...  N  P  Q  R  S  T  V  W  Y  \\\n",
       "0   0.079338   0.021896   0.050686  -0.112886  ...  0  0  0  0  0  0  0  0  0   \n",
       "1   0.079548  -0.171778   0.108604   0.039983  ...  0  0  0  0  0  0  0  0  0   \n",
       "2   0.148100  -0.056722   0.065092   0.031289  ...  0  0  0  0  1  0  0  0  0   \n",
       "3   0.077150  -0.188361  -0.010662   0.117254  ...  0  0  0  1  0  0  0  0  0   \n",
       "4   0.031650  -0.164336   0.107642   0.028456  ...  0  0  0  1  0  0  0  0  0   \n",
       "\n",
       "   is_IBS  \n",
       "0       0  \n",
       "1       0  \n",
       "2       0  \n",
       "3       0  \n",
       "4       0  \n",
       "\n",
       "[5 rows x 1303 columns]"
      ]
     },
     "execution_count": 4,
     "metadata": {},
     "output_type": "execute_result"
    }
   ],
   "source": [
    "# convert residues to one-hot encode\n",
    "df_res = pd.get_dummies(df['residue_1l'])\n",
    "\n",
    "df = df.merge(df_res, left_index=True, right_index=True, how='inner')\n",
    "df.insert(len(df.columns)-1, 'is_IBS', df.pop('is_IBS'))\n",
    "df.head(5)"
   ]
  },
  {
   "attachments": {},
   "cell_type": "markdown",
   "metadata": {},
   "source": [
    "#### Genrate json file with train-test-val proteins"
   ]
  },
  {
   "cell_type": "code",
   "execution_count": 8,
   "metadata": {},
   "outputs": [],
   "source": [
    "uniprot_id_val = list(['P61914', 'Q15075', 'O16025', 'Q96QK1', 'Q960X8', 'P12530', 'P00735', 'P40343', 'O24592', 'P05979', 'O88339', 'P22637', 'Q28175', 'P08684', 'P0C2E9', 'Q9LCB2', 'P60484', 'P0C216', 'Q02127', 'P20932', 'P02749', 'P11889', 'Q77DJ6', 'P00803', 'Q99685', 'P49638', 'Q9NZD2', 'P00720', 'P12724', 'P12104', 'P56254', 'P60980', 'P01441'])\n",
    "df_val_dreamm = df[df.uniprot_id.isin(uniprot_id_val)]\n",
    "\n",
    "df = df[~df.uniprot_id.isin(uniprot_id_val)]\n",
    "\n",
    "remain_proteins = df.uniprot_id.unique()\n",
    "\n",
    "train_proteins = list(remain_proteins[:int(len(remain_proteins)*0.80)]) # 80% train proteins\n",
    "test_proteins = list(remain_proteins[int(len(remain_proteins)*0.80):int(len(remain_proteins)*0.90)]) # 10% test proteins\n",
    "val_proteins = list(remain_proteins[int(len(remain_proteins)*0.90):]) # 10% validation proteins\n",
    "\n",
    "temp_dict = dict({\n",
    "'train': train_proteins,\n",
    "'test': test_proteins,\n",
    "'val': val_proteins,\n",
    "'val_dreamm': uniprot_id_val\n",
    "})\n",
    "\n",
    "# save to json file\n",
    "json_object = json.dumps(temp_dict, indent=2)\n",
    "\n",
    "# Writing to sample.json\n",
    "with open(\"split_proteins.json\", \"w\") as outfile:\n",
    "    outfile.write(json_object)\n"
   ]
  },
  {
   "attachments": {},
   "cell_type": "markdown",
   "metadata": {},
   "source": [
    "#### Load and split dataframe proteins"
   ]
  },
  {
   "cell_type": "code",
   "execution_count": 5,
   "metadata": {},
   "outputs": [],
   "source": [
    "f = open('./Datasets/My_Dataset/split_proteins.json')\n",
    "dict_proteins_split = json.load(f)\n",
    "f.close()\n",
    "\n",
    "df_train = df[df.uniprot_id.isin(dict_proteins_split['train'])]\n",
    "df_test = df[df.uniprot_id.isin(dict_proteins_split['test'])]\n",
    "df_val = df[df.uniprot_id.isin(dict_proteins_split['val'])]"
   ]
  },
  {
   "cell_type": "code",
   "execution_count": 6,
   "metadata": {},
   "outputs": [],
   "source": [
    "X_train, y_train = df_train.drop(['uniprot_id', 'residue_1l', 'is_IBS'], axis=1, inplace=False), df_train['is_IBS']\n",
    "X_test, y_test = df_test.drop(['uniprot_id', 'residue_1l', 'is_IBS'], axis=1, inplace=False), df_test['is_IBS']\n",
    "X_val, y_val = df_val.drop(['uniprot_id', 'residue_1l', 'is_IBS'], axis=1, inplace=False), df_val['is_IBS']"
   ]
  },
  {
   "cell_type": "code",
   "execution_count": 11,
   "metadata": {},
   "outputs": [],
   "source": [
    "# del df_train\n",
    "# del df_test\n",
    "# del df_val\n",
    "del df\n",
    "del df_res"
   ]
  },
  {
   "cell_type": "markdown",
   "metadata": {},
   "source": [
    "### Hypertune MLP"
   ]
  },
  {
   "cell_type": "code",
   "execution_count": 7,
   "metadata": {},
   "outputs": [
    {
     "name": "stderr",
     "output_type": "stream",
     "text": [
      "2023-02-09 16:27:44.473663: I tensorflow/core/common_runtime/pluggable_device/pluggable_device_factory.cc:306] Could not identify NUMA node of platform GPU ID 0, defaulting to 0. Your kernel may not have been built with NUMA support.\n",
      "2023-02-09 16:27:44.474195: I tensorflow/core/common_runtime/pluggable_device/pluggable_device_factory.cc:272] Created TensorFlow device (/job:localhost/replica:0/task:0/device:GPU:0 with 0 MB memory) -> physical PluggableDevice (device: 0, name: METAL, pci bus id: <undefined>)\n"
     ]
    },
    {
     "name": "stdout",
     "output_type": "stream",
     "text": [
      "Metal device set to: Apple M1 Pro\n",
      "\n",
      "systemMemory: 16.00 GB\n",
      "maxCacheSize: 5.33 GB\n",
      "\n"
     ]
    }
   ],
   "source": [
    "metrics = [\n",
    "  keras.metrics.TruePositives(name='tp'),\n",
    "  keras.metrics.FalsePositives(name='fp'),\n",
    "  keras.metrics.TrueNegatives(name='tn'),\n",
    "  keras.metrics.FalseNegatives(name='fn'), \n",
    "  keras.metrics.BinaryAccuracy(name='accuracy'),\n",
    "  keras.metrics.Precision(name='precision'),\n",
    "  keras.metrics.Recall(name='recall'),\n",
    "  keras.metrics.AUC(name='auc'),\n",
    "  keras.metrics.AUC(name='prc', curve='PR'), # precision-recall curve\n",
    "]"
   ]
  },
  {
   "cell_type": "code",
   "execution_count": 8,
   "metadata": {},
   "outputs": [],
   "source": [
    "def build_model(hp):\n",
    "    \"\"\"\n",
    "    Builds model and sets up hyperparameter space to search.\n",
    "\n",
    "    Parameters\n",
    "    ----------\n",
    "    hp : HyperParameter object\n",
    "        Configures hyperparameters to tune.\n",
    "        \n",
    "    Returns\n",
    "    -------\n",
    "    model : keras model\n",
    "        Compiled model with hyperparameters to tune.\n",
    "    \"\"\"\n",
    "    # Initialize sequential API and start building model.\n",
    "    model = keras.Sequential()\n",
    "    model.add(keras.layers.Dense(units = hp.Int('dense-bot', min_value=50, max_value=500, step=50), input_shape=(X_train.shape[-1],), activation='relu'))\n",
    "    model.add(keras.layers.Dropout(hp.Float(\"dropout-bot\", 0, 0.3, step=0.1)))\n",
    "\n",
    "    # Tune the number of hidden layers and units in each.\n",
    "    # Number of hidden layers: 1 - 4\n",
    "    # Number of Units: 32 - 512 with stepsize of 32\n",
    "    for i in range(hp.Int('num_dense_layers', 1, 4)):\n",
    "        model.add(keras.layers.Dense(units=hp.Int('dense_' + str(i), min_value=32, max_value=512, step=32), activation='relu'))\n",
    "        \n",
    "        # Tune dropout layer with values from 0 - 0.5 with stepsize of 0.1.\n",
    "        model.add(keras.layers.Dropout(hp.Float(\"dropout_\" + str(i), 0, 0.5, step=0.1)))\n",
    "        \n",
    "\n",
    "    # Add output\n",
    "    model.add(keras.layers.Dense(units=1, activation=\"sigmoid\"))\n",
    "\n",
    "    # Set optimizer\n",
    "    hp_optimizer=hp.Choice('Optimizer', values=['Adam', 'SGD'])\n",
    "\n",
    "    # Tune learning rate for optimizers with values from 0.01, 0.001, or 0.0001\n",
    "    hp_learning_rate = hp.Choice('learning_rate', values=[1e-1, 1e-2, 1e-3, 1e-4])\n",
    "\n",
    "    # Define optimizer, loss, and metrics\n",
    "    model.compile(optimizer=hp_optimizer,\n",
    "                  loss=keras.losses.BinaryCrossentropy(),\n",
    "                  metrics=metrics)\n",
    "\n",
    "    return model"
   ]
  },
  {
   "cell_type": "code",
   "execution_count": 9,
   "metadata": {},
   "outputs": [
    {
     "name": "stdout",
     "output_type": "stream",
     "text": [
      "INFO:tensorflow:Reloading Oracle from existing project ./tuning_trials/mlp_4layers_esm/tuning-mlp/oracle.json\n",
      "INFO:tensorflow:Reloading Tuner from ./tuning_trials/mlp_4layers_esm/tuning-mlp/tuner0.json\n"
     ]
    }
   ],
   "source": [
    "tuner = kt.tuners.BayesianOptimization(build_model,\n",
    "                    seed=1,\n",
    "                    objective='val_loss',\n",
    "                    max_trials=30,\n",
    "                    directory='./tuning_trials/mlp_4layers_esm',\n",
    "                    project_name='tuning-mlp')"
   ]
  },
  {
   "cell_type": "code",
   "execution_count": 10,
   "metadata": {},
   "outputs": [
    {
     "name": "stdout",
     "output_type": "stream",
     "text": [
      "Search space summary\n",
      "Default search space size: 13\n",
      "dense-bot (Int)\n",
      "{'default': None, 'conditions': [], 'min_value': 50, 'max_value': 500, 'step': 50, 'sampling': None}\n",
      "dropout-bot (Float)\n",
      "{'default': 0.0, 'conditions': [], 'min_value': 0.0, 'max_value': 0.8, 'step': 0.1, 'sampling': None}\n",
      "num_dense_layers (Int)\n",
      "{'default': None, 'conditions': [], 'min_value': 1, 'max_value': 4, 'step': 1, 'sampling': None}\n",
      "dense_0 (Int)\n",
      "{'default': None, 'conditions': [], 'min_value': 32, 'max_value': 512, 'step': 32, 'sampling': None}\n",
      "dropout_0 (Float)\n",
      "{'default': 0.0, 'conditions': [], 'min_value': 0.0, 'max_value': 0.5, 'step': 0.1, 'sampling': None}\n",
      "Optimizer (Choice)\n",
      "{'default': 'Adam', 'conditions': [], 'values': ['Adam', 'SGD'], 'ordered': False}\n",
      "learning_rate (Choice)\n",
      "{'default': 0.1, 'conditions': [], 'values': [0.1, 0.01, 0.001, 0.0001], 'ordered': True}\n",
      "dense_1 (Int)\n",
      "{'default': None, 'conditions': [], 'min_value': 32, 'max_value': 512, 'step': 32, 'sampling': None}\n",
      "dropout_1 (Float)\n",
      "{'default': 0.0, 'conditions': [], 'min_value': 0.0, 'max_value': 0.5, 'step': 0.1, 'sampling': None}\n",
      "dense_2 (Int)\n",
      "{'default': None, 'conditions': [], 'min_value': 32, 'max_value': 512, 'step': 32, 'sampling': None}\n",
      "dropout_2 (Float)\n",
      "{'default': 0.0, 'conditions': [], 'min_value': 0.0, 'max_value': 0.5, 'step': 0.1, 'sampling': None}\n",
      "dense_3 (Int)\n",
      "{'default': None, 'conditions': [], 'min_value': 32, 'max_value': 512, 'step': 32, 'sampling': None}\n",
      "dropout_3 (Float)\n",
      "{'default': 0.0, 'conditions': [], 'min_value': 0.0, 'max_value': 0.5, 'step': 0.1, 'sampling': None}\n"
     ]
    }
   ],
   "source": [
    "# Display search space summary\n",
    "tuner.search_space_summary()"
   ]
  },
  {
   "cell_type": "code",
   "execution_count": 10,
   "metadata": {},
   "outputs": [],
   "source": [
    "stop_early = tf.keras.callbacks.EarlyStopping(monitor='val_loss', patience=10)"
   ]
  },
  {
   "cell_type": "code",
   "execution_count": 11,
   "metadata": {},
   "outputs": [
    {
     "name": "stdout",
     "output_type": "stream",
     "text": [
      "INFO:tensorflow:Oracle triggered exit\n",
      "Best Hyper-parameters\n",
      "{'dense-bot': 500, 'dropout-bot': 0.8, 'num_dense_layers': 4, 'dense_0': 32, 'dropout_0': 0.0, 'Optimizer': 'Adam', 'learning_rate': 0.0001, 'dense_1': 32, 'dropout_1': 0.5, 'dense_2': 32, 'dropout_2': 0.5, 'dense_3': 512, 'dropout_3': 0.2}\n"
     ]
    }
   ],
   "source": [
    "tuner.search(X_train, y_train, epochs=50, validation_split=0.2, batch_size=256, callbacks=[stop_early], validation_data=(X_val, y_val))\n",
    "\n",
    "# Get the optimal hyperparameters\n",
    "best_mlp_hyperparameters = tuner.get_best_hyperparameters(1)[0]\n",
    "print(\"Best Hyper-parameters\")\n",
    "print(best_mlp_hyperparameters.values)"
   ]
  },
  {
   "cell_type": "code",
   "execution_count": 19,
   "metadata": {},
   "outputs": [
    {
     "name": "stdout",
     "output_type": "stream",
     "text": [
      "Model: \"sequential_2\"\n",
      "_________________________________________________________________\n",
      " Layer (type)                Output Shape              Param #   \n",
      "=================================================================\n",
      " dense_9 (Dense)             (None, 350)               365750    \n",
      "                                                                 \n",
      " dense_10 (Dense)            (None, 512)               179712    \n",
      "                                                                 \n",
      " dropout_6 (Dropout)         (None, 512)               0         \n",
      "                                                                 \n",
      " dense_11 (Dense)            (None, 32)                16416     \n",
      "                                                                 \n",
      " dropout_7 (Dropout)         (None, 32)                0         \n",
      "                                                                 \n",
      " dense_12 (Dense)            (None, 32)                1056      \n",
      "                                                                 \n",
      " dropout_8 (Dropout)         (None, 32)                0         \n",
      "                                                                 \n",
      " dense_13 (Dense)            (None, 480)               15840     \n",
      "                                                                 \n",
      " dropout_9 (Dropout)         (None, 480)               0         \n",
      "                                                                 \n",
      " dense_14 (Dense)            (None, 1)                 481       \n",
      "                                                                 \n",
      "=================================================================\n",
      "Total params: 579,255\n",
      "Trainable params: 579,255\n",
      "Non-trainable params: 0\n",
      "_________________________________________________________________\n",
      "Epoch 1/50\n"
     ]
    },
    {
     "name": "stderr",
     "output_type": "stream",
     "text": [
      "2023-02-09 16:20:32.015806: I tensorflow/core/grappler/optimizers/custom_graph_optimizer_registry.cc:114] Plugin optimizer for device_type GPU is enabled.\n"
     ]
    },
    {
     "name": "stdout",
     "output_type": "stream",
     "text": [
      "1162/1162 [==============================] - ETA: 0s - loss: 0.3387 - tp: 7248.0000 - fp: 34068.0000 - tn: 260124.0000 - fn: 1822.0000 - accuracy: 0.8817 - precision: 0.1754 - recall: 0.7991 - auc: 0.9268 - prc: 0.3800"
     ]
    },
    {
     "name": "stderr",
     "output_type": "stream",
     "text": [
      "2023-02-09 16:20:54.839834: I tensorflow/core/grappler/optimizers/custom_graph_optimizer_registry.cc:114] Plugin optimizer for device_type GPU is enabled.\n"
     ]
    },
    {
     "name": "stdout",
     "output_type": "stream",
     "text": [
      "1162/1162 [==============================] - 24s 20ms/step - loss: 0.3387 - tp: 7248.0000 - fp: 34068.0000 - tn: 260124.0000 - fn: 1822.0000 - accuracy: 0.8817 - precision: 0.1754 - recall: 0.7991 - auc: 0.9268 - prc: 0.3800 - val_loss: 0.3997 - val_tp: 654.0000 - val_fp: 1211.0000 - val_tn: 3998.0000 - val_fn: 104.0000 - val_accuracy: 0.7796 - val_precision: 0.3507 - val_recall: 0.8628 - val_auc: 0.8686 - val_prc: 0.5822\n",
      "Epoch 2/50\n",
      "1162/1162 [==============================] - 23s 19ms/step - loss: 0.5054 - tp: 6023.0000 - fp: 74995.0000 - tn: 213988.0000 - fn: 2289.0000 - accuracy: 0.7400 - precision: 0.0743 - recall: 0.7246 - auc: 0.8358 - prc: 0.2818 - val_loss: 0.7042 - val_tp: 141.0000 - val_fp: 71.0000 - val_tn: 5138.0000 - val_fn: 617.0000 - val_accuracy: 0.8847 - val_precision: 0.6651 - val_recall: 0.1860 - val_auc: 0.5867 - val_prc: 0.2963\n",
      "Epoch 3/50\n",
      "1162/1162 [==============================] - 22s 19ms/step - loss: 0.5872 - tp: 3572.0000 - fp: 26735.0000 - tn: 262248.0000 - fn: 4740.0000 - accuracy: 0.8941 - precision: 0.1179 - recall: 0.4297 - auc: 0.7279 - prc: 0.1957 - val_loss: 0.5379 - val_tp: 555.0000 - val_fp: 693.0000 - val_tn: 4516.0000 - val_fn: 203.0000 - val_accuracy: 0.8498 - val_precision: 0.4447 - val_recall: 0.7322 - val_auc: 0.8313 - val_prc: 0.5728\n",
      "Epoch 4/50\n",
      "1162/1162 [==============================] - 22s 19ms/step - loss: 0.4802 - tp: 5972.0000 - fp: 33485.0000 - tn: 255498.0000 - fn: 2340.0000 - accuracy: 0.8795 - precision: 0.1514 - recall: 0.7185 - auc: 0.8486 - prc: 0.2090 - val_loss: 0.5010 - val_tp: 564.0000 - val_fp: 1148.0000 - val_tn: 4061.0000 - val_fn: 194.0000 - val_accuracy: 0.7751 - val_precision: 0.3294 - val_recall: 0.7441 - val_auc: 0.7880 - val_prc: 0.3655\n",
      "Epoch 5/50\n",
      "1162/1162 [==============================] - 22s 19ms/step - loss: 0.5085 - tp: 4895.0000 - fp: 16037.0000 - tn: 272946.0000 - fn: 3417.0000 - accuracy: 0.9346 - precision: 0.2339 - recall: 0.5889 - auc: 0.7867 - prc: 0.2301 - val_loss: 0.6495 - val_tp: 388.0000 - val_fp: 777.0000 - val_tn: 4432.0000 - val_fn: 370.0000 - val_accuracy: 0.8078 - val_precision: 0.3330 - val_recall: 0.5119 - val_auc: 0.6814 - val_prc: 0.2576\n",
      "Epoch 6/50\n",
      "1162/1162 [==============================] - 22s 19ms/step - loss: 0.5264 - tp: 4684.0000 - fp: 17123.0000 - tn: 271860.0000 - fn: 3628.0000 - accuracy: 0.9302 - precision: 0.2148 - recall: 0.5635 - auc: 0.7660 - prc: 0.1699 - val_loss: 0.5906 - val_tp: 322.0000 - val_fp: 369.0000 - val_tn: 4840.0000 - val_fn: 436.0000 - val_accuracy: 0.8651 - val_precision: 0.4660 - val_recall: 0.4248 - val_auc: 0.6769 - val_prc: 0.3074\n",
      "Epoch 7/50\n",
      "1162/1162 [==============================] - 23s 19ms/step - loss: 0.5569 - tp: 3959.0000 - fp: 13842.0000 - tn: 275141.0000 - fn: 4353.0000 - accuracy: 0.9388 - precision: 0.2224 - recall: 0.4763 - auc: 0.7267 - prc: 0.1631 - val_loss: 0.6909 - val_tp: 365.0000 - val_fp: 720.0000 - val_tn: 4489.0000 - val_fn: 393.0000 - val_accuracy: 0.8135 - val_precision: 0.3364 - val_recall: 0.4815 - val_auc: 0.6716 - val_prc: 0.2540\n",
      "Epoch 8/50\n",
      "1162/1162 [==============================] - 22s 19ms/step - loss: 0.5389 - tp: 4929.0000 - fp: 26580.0000 - tn: 262403.0000 - fn: 3383.0000 - accuracy: 0.8992 - precision: 0.1564 - recall: 0.5930 - auc: 0.7750 - prc: 0.1338 - val_loss: 0.6324 - val_tp: 411.0000 - val_fp: 849.0000 - val_tn: 4360.0000 - val_fn: 347.0000 - val_accuracy: 0.7996 - val_precision: 0.3262 - val_recall: 0.5422 - val_auc: 0.6896 - val_prc: 0.2587\n",
      "Epoch 9/50\n",
      "1162/1162 [==============================] - 22s 19ms/step - loss: 0.5892 - tp: 3732.0000 - fp: 20329.0000 - tn: 268654.0000 - fn: 4580.0000 - accuracy: 0.9162 - precision: 0.1551 - recall: 0.4490 - auc: 0.7119 - prc: 0.1034 - val_loss: 0.6151 - val_tp: 231.0000 - val_fp: 385.0000 - val_tn: 4824.0000 - val_fn: 527.0000 - val_accuracy: 0.8472 - val_precision: 0.3750 - val_recall: 0.3047 - val_auc: 0.6154 - val_prc: 0.2330\n",
      "Epoch 10/50\n",
      "1162/1162 [==============================] - 23s 20ms/step - loss: 0.6208 - tp: 2620.0000 - fp: 11944.0000 - tn: 277039.0000 - fn: 5692.0000 - accuracy: 0.9407 - precision: 0.1799 - recall: 0.3152 - auc: 0.6362 - prc: 0.0975 - val_loss: 0.6713 - val_tp: 228.0000 - val_fp: 337.0000 - val_tn: 4872.0000 - val_fn: 530.0000 - val_accuracy: 0.8547 - val_precision: 0.4035 - val_recall: 0.3008 - val_auc: 0.6180 - val_prc: 0.2426\n",
      "Epoch 11/50\n",
      "1162/1162 [==============================] - 23s 19ms/step - loss: 0.6548 - tp: 1312.0000 - fp: 5390.0000 - tn: 283593.0000 - fn: 7000.0000 - accuracy: 0.9583 - precision: 0.1958 - recall: 0.1578 - auc: 0.5740 - prc: 0.0832 - val_loss: 0.6492 - val_tp: 93.0000 - val_fp: 72.0000 - val_tn: 5137.0000 - val_fn: 665.0000 - val_accuracy: 0.8765 - val_precision: 0.5636 - val_recall: 0.1227 - val_auc: 0.5544 - val_prc: 0.2099\n"
     ]
    }
   ],
   "source": [
    "model_mlp = keras.Sequential()\n",
    "\n",
    "model_mlp.add(keras.layers.Dense(best_mlp_hyperparameters['dense-bot'], input_shape=(X_train.shape[-1],), activation='relu'))\n",
    "# model_mlp.add(keras.layers.Dropout(best_mlp_hyperparameters['dropout-bot']))\n",
    "\n",
    "for i in range(0,best_mlp_hyperparameters['num_dense_layers']):\n",
    "  model_mlp.add(keras.layers.Dense(units=best_mlp_hyperparameters['dense_' +str(i)], activation='relu'))\n",
    "  model_mlp.add(keras.layers.Dropout(rate=best_mlp_hyperparameters['dropout_' +str(i)]))\n",
    "  \n",
    "model_mlp.add(keras.layers.Dense(1,activation=\"sigmoid\"))\n",
    "\n",
    "model_mlp.compile(optimizer=tf.keras.optimizers.Adam(learning_rate=0.01), loss='binary_crossentropy',metrics=metrics)\n",
    "model_mlp.summary()\n",
    "\n",
    "weights = {0:1, 1:34.7} #/ class_weight=weights in fit procedure\n",
    "history_mlp = model_mlp.fit(X_train, y_train, epochs=50, batch_size=256, validation_data=(X_val, y_val), callbacks=[stop_early], class_weight=weights)\n",
    "\n",
    "#### OR\n",
    "# model_mlp=tuner.hypermodel.build(best_mlp_hyperparameters)\n",
    "# model_mlp.summary()\n",
    "# history_mlp=model_mlp.fit(X_train, y_train, epochs=100, batch_size=32, validation_data=(X_val, y_val), callbacks=[stop_early], class_weight=weights)"
   ]
  },
  {
   "cell_type": "code",
   "execution_count": 20,
   "metadata": {},
   "outputs": [
    {
     "name": "stdout",
     "output_type": "stream",
     "text": [
      " 37/243 [===>..........................] - ETA: 0s"
     ]
    },
    {
     "name": "stderr",
     "output_type": "stream",
     "text": [
      "2023-02-09 16:24:39.080886: I tensorflow/core/grappler/optimizers/custom_graph_optimizer_registry.cc:114] Plugin optimizer for device_type GPU is enabled.\n"
     ]
    },
    {
     "name": "stdout",
     "output_type": "stream",
     "text": [
      "243/243 [==============================] - 1s 2ms/step\n",
      "F2 score 0.38461538461538464\n",
      "Best Threshold=0.456808, F-Score=0.200\n",
      "F1 score: 0.150 \n",
      "MCC: 0.168 \n",
      "Balanced accuracy: 0.538 \n",
      "      0   1\n",
      "0  6826  86\n",
      "1   787  77\n"
     ]
    }
   ],
   "source": [
    "ypred = model_mlp.predict(X_test)\n",
    "\n",
    "from numpy import argmax\n",
    "# calculate roc curves\n",
    "precision, recall, thresholds = precision_recall_curve(y_test, ypred)\n",
    "# convert to f score\n",
    "fscore = (2 * precision * recall) / (precision + recall)\n",
    "f2score = (5 * precision * recall) / (4*precision + recall)\n",
    "\n",
    "ix2 = argmax(f2score)\n",
    "print('F2 score ' + str(f2score[ix2]))\n",
    "# locate the index of the largest f score\n",
    "ix = argmax(fscore)\n",
    "print('Best Threshold=%f, F-Score=%.3f' % (thresholds[ix], fscore[ix]))\n",
    "\n",
    "thres = thresholds[ix]\n",
    "# thres = 0.55\n",
    "print('F1 score: %.3f ' % f1_score(y_test, ypred > thres))\n",
    "print('MCC: %.3f ' % matthews_corrcoef(y_test, ypred> thres))\n",
    "print('Balanced accuracy: %.3f ' % balanced_accuracy_score(y_test, ypred> thres))\n",
    "\n",
    "cm = confusion_matrix(y_test, ypred> thres)\n",
    "cm = pd.DataFrame(cm , index = ['0','1'] , columns = ['0','1'])\n",
    "print(cm)"
   ]
  },
  {
   "attachments": {},
   "cell_type": "markdown",
   "metadata": {},
   "source": [
    "33 weight\n",
    "F1 score: 0.666 \n",
    "MCC: 0.623 \n",
    "Balanced accuracy: 0.822 \n",
    "Accuracy: 0.923 \n",
    "ROC : 0.925 \n",
    "      0    1\n",
    "0  6581  331\n",
    "1   267  597\n",
    "\n",
    "34.7 weight -> thershold 0.65\n",
    "F1 score: 0.670 \n",
    "MCC: 0.627 \n",
    "Balanced accuracy: 0.834 \n",
    "      0    1\n",
    "0  6534  378\n",
    "1   239  625"
   ]
  },
  {
   "cell_type": "code",
   "execution_count": null,
   "metadata": {},
   "outputs": [
    {
     "name": "stdout",
     "output_type": "stream",
     "text": [
      "INFO:tensorflow:Assets written to: best_model_esm_sl/assets\n"
     ]
    }
   ],
   "source": [
    "model_mlp.save(\"best_model_esm_sl\")"
   ]
  },
  {
   "attachments": {},
   "cell_type": "markdown",
   "metadata": {},
   "source": [
    "### Best Model"
   ]
  },
  {
   "cell_type": "code",
   "execution_count": 10,
   "metadata": {},
   "outputs": [],
   "source": [
    "model_for_testing = 'protTrans'"
   ]
  },
  {
   "cell_type": "code",
   "execution_count": 11,
   "metadata": {},
   "outputs": [],
   "source": [
    "# model = keras.models.load_model('./best_model_' + model_for_testing)\n",
    "model = keras.models.load_model('./models/best_model_' + model_for_testing)"
   ]
  },
  {
   "cell_type": "code",
   "execution_count": 12,
   "metadata": {},
   "outputs": [
    {
     "data": {
      "image/png": "[encoded data removed]",
      "text/plain": [
       "<IPython.core.display.Image object>"
      ]
     },
     "execution_count": 12,
     "metadata": {},
     "output_type": "execute_result"
    }
   ],
   "source": [
    "tf.keras.utils.plot_model(\n",
    "model,\n",
    "to_file=f\"model_{model_for_testing}.png\",\n",
    "show_shapes=True,\n",
    "show_dtype=False,\n",
    "show_layer_names=True,\n",
    "rankdir=\"TB\",\n",
    "expand_nested=True,\n",
    "dpi=96,\n",
    "layer_range=None,\n",
    "show_layer_activations=True,\n",
    ")"
   ]
  },
  {
   "cell_type": "code",
   "execution_count": 14,
   "metadata": {},
   "outputs": [
    {
     "name": "stdout",
     "output_type": "stream",
     "text": [
      " 19/243 [=>............................] - ETA: 0s "
     ]
    },
    {
     "name": "stderr",
     "output_type": "stream",
     "text": [
      "2023-02-09 16:29:01.956701: W tensorflow/core/platform/profile_utils/cpu_utils.cc:128] Failed to get CPU frequency: 0 Hz\n",
      "2023-02-09 16:29:02.021216: I tensorflow/core/grappler/optimizers/custom_graph_optimizer_registry.cc:114] Plugin optimizer for device_type GPU is enabled.\n"
     ]
    },
    {
     "name": "stdout",
     "output_type": "stream",
     "text": [
      "243/243 [==============================] - 1s 3ms/step\n"
     ]
    }
   ],
   "source": [
    "ypred = model.predict(X_test)"
   ]
  },
  {
   "cell_type": "code",
   "execution_count": 15,
   "metadata": {},
   "outputs": [
    {
     "name": "stdout",
     "output_type": "stream",
     "text": [
      "Best Threshold=0.551734, F-Score=0.624\n"
     ]
    }
   ],
   "source": [
    "from numpy import argmax\n",
    "# calculate roc curves\n",
    "precision, recall, thresholds = precision_recall_curve(y_test, ypred)\n",
    "# convert to f score\n",
    "fscore = (2 * precision * recall) / (precision + recall)\n",
    "# locate the index of the largest f score\n",
    "ix = argmax(fscore)\n",
    "print('Best Threshold=%f, F-Score=%.3f' % (thresholds[ix], fscore[ix]))"
   ]
  },
  {
   "cell_type": "code",
   "execution_count": null,
   "metadata": {},
   "outputs": [
    {
     "data": {
      "text/plain": [
       "array([[6699,  213],\n",
       "       [ 301,  563]])"
      ]
     },
     "execution_count": 11,
     "metadata": {},
     "output_type": "execute_result"
    }
   ],
   "source": [
    "# tn, fp, fn, tp\n",
    "confusion_matrix(y_test, ypred > 0.7)"
   ]
  },
  {
   "cell_type": "code",
   "execution_count": 16,
   "metadata": {},
   "outputs": [
    {
     "name": "stdout",
     "output_type": "stream",
     "text": [
      "F1 score: 0.622 \n",
      "MCC: 0.577 \n",
      "Balanced accuracy: 0.781 \n",
      "Accuracy: 0.919 \n",
      "ROC : 0.899 \n",
      "Precision : 0.643 , Recall: 0.603 \n",
      "      0    1\n",
      "0  6623  289\n",
      "1   343  521\n"
     ]
    }
   ],
   "source": [
    "thres = 0.55\n",
    "print('F1 score: %.3f ' % f1_score(y_test, ypred > thres))\n",
    "print('MCC: %.3f ' % matthews_corrcoef(y_test, ypred > thres))\n",
    "print('Balanced accuracy: %.3f ' % balanced_accuracy_score(y_test, ypred > thres))\n",
    "print('Precision : %.3f , Recall: %.3f ' % (precision_recall_fscore_support(y_test, ypred > thres, average='binary')[0], precision_recall_fscore_support(y_test, ypred > thres,  average='binary')[1]))\n",
    "\n",
    "cm = confusion_matrix(y_test, ypred > thres)\n",
    "cm = pd.DataFrame(cm , index = ['0','1'] , columns = ['0','1'])\n",
    "print(cm)"
   ]
  }
 ],
 "metadata": {
  "kernelspec": {
   "display_name": "tensorflow",
   "language": "python",
   "name": "python3"
  },
  "language_info": {
   "codemirror_mode": {
    "name": "ipython",
    "version": 3
   },
   "file_extension": ".py",
   "mimetype": "text/x-python",
   "name": "python",
   "nbconvert_exporter": "python",
   "pygments_lexer": "ipython3",
   "version": "3.9.13"
  },
  "orig_nbformat": 4,
  "vscode": {
   "interpreter": {
    "hash": "8a5edab282632443219e051e4ade2d1d5bbc671c781051bf1437897cbdfea0f1"
   }
  }
 },
 "nbformat": 4,
 "nbformat_minor": 2
}
