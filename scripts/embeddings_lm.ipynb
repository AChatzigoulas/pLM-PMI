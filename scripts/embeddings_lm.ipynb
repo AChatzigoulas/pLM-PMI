{
 "cells": [
  {
   "cell_type": "code",
   "execution_count": 1,
   "metadata": {},
   "outputs": [],
   "source": [
    "import pandas as pd\n",
    "import numpy as np\n",
    "from transformers import T5Tokenizer, T5EncoderModel, EsmTokenizer, EsmModel, EsmForSequenceClassification\n",
    "import json\n",
    "import torch\n",
    "from tqdm import tqdm\n",
    "import seaborn as sns\n",
    "import matplotlib.pyplot as plt\n",
    "\n",
    "from sklearn.linear_model import LogisticRegression\n",
    "from sklearn.metrics import f1_score, balanced_accuracy_score, precision_recall_curve, matthews_corrcoef, confusion_matrix\n",
    "from sklearn.model_selection import train_test_split"
   ]
  },
  {
   "cell_type": "code",
   "execution_count": 2,
   "metadata": {},
   "outputs": [
    {
     "data": {
      "text/html": [
       "<div>\n",
       "<style scoped>\n",
       "    .dataframe tbody tr th:only-of-type {\n",
       "        vertical-align: middle;\n",
       "    }\n",
       "\n",
       "    .dataframe tbody tr th {\n",
       "        vertical-align: top;\n",
       "    }\n",
       "\n",
       "    .dataframe thead th {\n",
       "        text-align: right;\n",
       "    }\n",
       "</style>\n",
       "<table border=\"1\" class=\"dataframe\">\n",
       "  <thead>\n",
       "    <tr style=\"text-align: right;\">\n",
       "      <th></th>\n",
       "      <th>uniprot_id</th>\n",
       "      <th>residue_1l</th>\n",
       "      <th>residue_3l</th>\n",
       "      <th>residue_index</th>\n",
       "      <th>is_IBS</th>\n",
       "      <th>sequence</th>\n",
       "    </tr>\n",
       "    <tr>\n",
       "      <th>id</th>\n",
       "      <th></th>\n",
       "      <th></th>\n",
       "      <th></th>\n",
       "      <th></th>\n",
       "      <th></th>\n",
       "      <th></th>\n",
       "    </tr>\n",
       "  </thead>\n",
       "  <tbody>\n",
       "    <tr>\n",
       "      <th>0</th>\n",
       "      <td>P14555</td>\n",
       "      <td>M</td>\n",
       "      <td>MET</td>\n",
       "      <td>1</td>\n",
       "      <td>0</td>\n",
       "      <td>MKTLLLLAVIMIFGLLQAHGNLVNFHRMIKLTTGKEAALSYGFYGC...</td>\n",
       "    </tr>\n",
       "    <tr>\n",
       "      <th>1</th>\n",
       "      <td>P14555</td>\n",
       "      <td>K</td>\n",
       "      <td>LYS</td>\n",
       "      <td>2</td>\n",
       "      <td>0</td>\n",
       "      <td>MKTLLLLAVIMIFGLLQAHGNLVNFHRMIKLTTGKEAALSYGFYGC...</td>\n",
       "    </tr>\n",
       "    <tr>\n",
       "      <th>2</th>\n",
       "      <td>P14555</td>\n",
       "      <td>T</td>\n",
       "      <td>THR</td>\n",
       "      <td>3</td>\n",
       "      <td>0</td>\n",
       "      <td>MKTLLLLAVIMIFGLLQAHGNLVNFHRMIKLTTGKEAALSYGFYGC...</td>\n",
       "    </tr>\n",
       "    <tr>\n",
       "      <th>3</th>\n",
       "      <td>P14555</td>\n",
       "      <td>L</td>\n",
       "      <td>LEU</td>\n",
       "      <td>4</td>\n",
       "      <td>0</td>\n",
       "      <td>MKTLLLLAVIMIFGLLQAHGNLVNFHRMIKLTTGKEAALSYGFYGC...</td>\n",
       "    </tr>\n",
       "    <tr>\n",
       "      <th>4</th>\n",
       "      <td>P14555</td>\n",
       "      <td>L</td>\n",
       "      <td>LEU</td>\n",
       "      <td>5</td>\n",
       "      <td>0</td>\n",
       "      <td>MKTLLLLAVIMIFGLLQAHGNLVNFHRMIKLTTGKEAALSYGFYGC...</td>\n",
       "    </tr>\n",
       "    <tr>\n",
       "      <th>...</th>\n",
       "      <td>...</td>\n",
       "      <td>...</td>\n",
       "      <td>...</td>\n",
       "      <td>...</td>\n",
       "      <td>...</td>\n",
       "      <td>...</td>\n",
       "    </tr>\n",
       "    <tr>\n",
       "      <th>325938</th>\n",
       "      <td>P01441</td>\n",
       "      <td>T</td>\n",
       "      <td>THR</td>\n",
       "      <td>56</td>\n",
       "      <td>0</td>\n",
       "      <td>LKCKKLVPLFSKTCPAGKNLCYKMFMVAAPHVPVKRGCIDVCPKSS...</td>\n",
       "    </tr>\n",
       "    <tr>\n",
       "      <th>325939</th>\n",
       "      <td>P01441</td>\n",
       "      <td>D</td>\n",
       "      <td>ASP</td>\n",
       "      <td>57</td>\n",
       "      <td>0</td>\n",
       "      <td>LKCKKLVPLFSKTCPAGKNLCYKMFMVAAPHVPVKRGCIDVCPKSS...</td>\n",
       "    </tr>\n",
       "    <tr>\n",
       "      <th>325940</th>\n",
       "      <td>P01441</td>\n",
       "      <td>K</td>\n",
       "      <td>LYS</td>\n",
       "      <td>58</td>\n",
       "      <td>0</td>\n",
       "      <td>LKCKKLVPLFSKTCPAGKNLCYKMFMVAAPHVPVKRGCIDVCPKSS...</td>\n",
       "    </tr>\n",
       "    <tr>\n",
       "      <th>325941</th>\n",
       "      <td>P01441</td>\n",
       "      <td>C</td>\n",
       "      <td>CYS</td>\n",
       "      <td>59</td>\n",
       "      <td>0</td>\n",
       "      <td>LKCKKLVPLFSKTCPAGKNLCYKMFMVAAPHVPVKRGCIDVCPKSS...</td>\n",
       "    </tr>\n",
       "    <tr>\n",
       "      <th>325942</th>\n",
       "      <td>P01441</td>\n",
       "      <td>N</td>\n",
       "      <td>ASN</td>\n",
       "      <td>60</td>\n",
       "      <td>0</td>\n",
       "      <td>LKCKKLVPLFSKTCPAGKNLCYKMFMVAAPHVPVKRGCIDVCPKSS...</td>\n",
       "    </tr>\n",
       "  </tbody>\n",
       "</table>\n",
       "<p>325943 rows × 6 columns</p>\n",
       "</div>"
      ],
      "text/plain": [
       "       uniprot_id residue_1l residue_3l  residue_index  is_IBS  \\\n",
       "id                                                               \n",
       "0          P14555          M        MET              1       0   \n",
       "1          P14555          K        LYS              2       0   \n",
       "2          P14555          T        THR              3       0   \n",
       "3          P14555          L        LEU              4       0   \n",
       "4          P14555          L        LEU              5       0   \n",
       "...           ...        ...        ...            ...     ...   \n",
       "325938     P01441          T        THR             56       0   \n",
       "325939     P01441          D        ASP             57       0   \n",
       "325940     P01441          K        LYS             58       0   \n",
       "325941     P01441          C        CYS             59       0   \n",
       "325942     P01441          N        ASN             60       0   \n",
       "\n",
       "                                                 sequence  \n",
       "id                                                         \n",
       "0       MKTLLLLAVIMIFGLLQAHGNLVNFHRMIKLTTGKEAALSYGFYGC...  \n",
       "1       MKTLLLLAVIMIFGLLQAHGNLVNFHRMIKLTTGKEAALSYGFYGC...  \n",
       "2       MKTLLLLAVIMIFGLLQAHGNLVNFHRMIKLTTGKEAALSYGFYGC...  \n",
       "3       MKTLLLLAVIMIFGLLQAHGNLVNFHRMIKLTTGKEAALSYGFYGC...  \n",
       "4       MKTLLLLAVIMIFGLLQAHGNLVNFHRMIKLTTGKEAALSYGFYGC...  \n",
       "...                                                   ...  \n",
       "325938  LKCKKLVPLFSKTCPAGKNLCYKMFMVAAPHVPVKRGCIDVCPKSS...  \n",
       "325939  LKCKKLVPLFSKTCPAGKNLCYKMFMVAAPHVPVKRGCIDVCPKSS...  \n",
       "325940  LKCKKLVPLFSKTCPAGKNLCYKMFMVAAPHVPVKRGCIDVCPKSS...  \n",
       "325941  LKCKKLVPLFSKTCPAGKNLCYKMFMVAAPHVPVKRGCIDVCPKSS...  \n",
       "325942  LKCKKLVPLFSKTCPAGKNLCYKMFMVAAPHVPVKRGCIDVCPKSS...  \n",
       "\n",
       "[325943 rows x 6 columns]"
      ]
     },
     "execution_count": 2,
     "metadata": {},
     "output_type": "execute_result"
    }
   ],
   "source": [
    "df = pd.read_csv('./Datasets/My_Dataset/proteins_df_annotated.csv', index_col=0)\n",
    "uniprot_id = list(df.uniprot_id.unique())\n",
    "df"
   ]
  },
  {
   "attachments": {},
   "cell_type": "markdown",
   "metadata": {},
   "source": [
    "### protTrans model - prot_t5_xl_half_uniref50-enc"
   ]
  },
  {
   "cell_type": "code",
   "execution_count": 3,
   "metadata": {},
   "outputs": [],
   "source": [
    "## set some constants\n",
    "max_residues = 4000\n",
    "max_seq_len = 1000\n",
    "max_batch = 100"
   ]
  },
  {
   "cell_type": "code",
   "execution_count": 5,
   "metadata": {},
   "outputs": [],
   "source": [
    "############### load model ###############\n",
    "\n",
    "# For feature extraction we recommend to use the encoder embedding\n",
    "# Load ProtT5 in half-precision (more specifically: the encoder-part of ProtT5-XL-U50) \n",
    "tokenizer = T5Tokenizer.from_pretrained('Rostlab/prot_t5_xl_half_uniref50-enc', do_lower_case=False)\n",
    "\n",
    "model = T5EncoderModel.from_pretrained(\"Rostlab/prot_t5_xl_half_uniref50-enc\", torch_dtype=torch.float16)\n",
    "# Currently (06/2022) half-precision models cannot be used on CPU. If you want to use the encoder only version on CPU, you need to cast it to its full-precision version (model=model.float())\n",
    "model=model.float()"
   ]
  },
  {
   "attachments": {},
   "cell_type": "markdown",
   "metadata": {},
   "source": [
    "#### Extract Embeddings"
   ]
  },
  {
   "cell_type": "code",
   "execution_count": null,
   "metadata": {},
   "outputs": [],
   "source": [
    "# repl. all non-standard AAs and map them to unknown/X\n",
    "proteins_with_seq = df[['uniprot_id', 'sequence']].groupby('uniprot_id').apply(lambda x: list(np.unique(x['sequence']))[0].replace('U','X').replace('Z','X').replace('O','X')).to_dict()\n",
    "\n",
    "# sort sequences according to length (reduces unnecessary padding --> speeds up embedding)\n",
    "seq_dict = sorted( proteins_with_seq.items(), key=lambda kv: len( proteins_with_seq[kv[0]] ), reverse=True )\n",
    "batch = list()\n",
    "results = dict()\n",
    "\n",
    "for seq_idx, (pdb_id, seq) in tqdm(enumerate(seq_dict,1)):\n",
    "  seq = seq\n",
    "  seq_len = len(seq)\n",
    "  seq = ' '.join(list(seq)) # add space between each AA\n",
    "  batch.append((pdb_id,seq,seq_len))\n",
    "\n",
    "  # count residues in current batch and add the last sequence length to\n",
    "  # avoid that batches with (n_res_batch > max_residues) get processed \n",
    "  n_res_batch = sum([ s_len for  _, _, s_len in batch ]) + seq_len \n",
    "\n",
    "  if len(batch) >= max_batch or n_res_batch>=max_residues or seq_idx==len(seq_dict) or seq_len>max_seq_len:\n",
    "    pdb_ids, seqs, seq_lens = zip(*batch)\n",
    "    batch = list()\n",
    "\n",
    "    # add_special_tokens adds extra token at the end of each sequence\n",
    "    token_encoding = tokenizer.batch_encode_plus(seqs, add_special_tokens=True, padding=\"longest\")\n",
    "    input_ids      = torch.tensor(token_encoding['input_ids'])\n",
    "    attention_mask = torch.tensor(token_encoding['attention_mask'])\n",
    "\n",
    "    try:\n",
    "      with torch.no_grad():\n",
    "        # returns: ( batch-size x max_seq_len_in_minibatch x embedding_dim )\n",
    "        embedding_repr = model(input_ids, attention_mask=attention_mask)\n",
    "    except RuntimeError:\n",
    "      print(\"RuntimeError during embedding for {} (L={})\".format(pdb_id, seq_len))\n",
    "      continue\n",
    "\n",
    "    for batch_idx, identifier in enumerate(pdb_ids): # for each protein in the current mini-batch\n",
    "      s_len = seq_lens[batch_idx]\n",
    "\n",
    "      # slice off padding --> batch-size x seq_len x embedding_dim  \n",
    "      emb = embedding_repr.last_hidden_state[batch_idx,:s_len]\n",
    "      # store per-residue embeddings (Lx1024)\n",
    "      results[identifier] = emb.detach().cpu().numpy().squeeze()\n",
    "  break"
   ]
  },
  {
   "cell_type": "code",
   "execution_count": null,
   "metadata": {},
   "outputs": [],
   "source": [
    "# save to json file\n",
    "json_object = json.dumps({k: v.tolist() for k, v in results.items()}, indent=2)\n",
    "\n",
    "# Writing to sample.json\n",
    "with open(\"embeddings.json\", \"w\") as outfile:\n",
    "    outfile.write(json_object)"
   ]
  },
  {
   "cell_type": "code",
   "execution_count": 2,
   "metadata": {},
   "outputs": [],
   "source": [
    "f = open('./Datasets/My_Dataset/embeddings.json')\n",
    "dict_embeddings = json.load(f)\n",
    "f.close()"
   ]
  },
  {
   "attachments": {},
   "cell_type": "markdown",
   "metadata": {},
   "source": [
    "### ESM model - esm2_t33_650M_UR50D"
   ]
  },
  {
   "cell_type": "code",
   "execution_count": 4,
   "metadata": {},
   "outputs": [
    {
     "name": "stderr",
     "output_type": "stream",
     "text": [
      "Some weights of the model checkpoint at facebook/esm2_t33_650M_UR50D were not used when initializing EsmModel: ['lm_head.dense.bias', 'esm.contact_head.regression.weight', 'esm.contact_head.regression.bias', 'lm_head.bias', 'lm_head.layer_norm.bias', 'lm_head.dense.weight', 'lm_head.layer_norm.weight', 'lm_head.decoder.weight']\n",
      "- This IS expected if you are initializing EsmModel from the checkpoint of a model trained on another task or with another architecture (e.g. initializing a BertForSequenceClassification model from a BertForPreTraining model).\n",
      "- This IS NOT expected if you are initializing EsmModel from the checkpoint of a model that you expect to be exactly identical (initializing a BertForSequenceClassification model from a BertForSequenceClassification model).\n",
      "Some weights of EsmModel were not initialized from the model checkpoint at facebook/esm2_t33_650M_UR50D and are newly initialized: ['esm.pooler.dense.weight', 'esm.pooler.dense.bias']\n",
      "You should probably TRAIN this model on a down-stream task to be able to use it for predictions and inference.\n"
     ]
    }
   ],
   "source": [
    "tokenizer = EsmTokenizer.from_pretrained(\"facebook/esm2_t33_650M_UR50D\", do_lower_case=False)\n",
    "\n",
    "model = EsmModel.from_pretrained(\"facebook/esm2_t33_650M_UR50D\")"
   ]
  },
  {
   "attachments": {},
   "cell_type": "markdown",
   "metadata": {},
   "source": [
    "#### Extract Embeddings"
   ]
  },
  {
   "cell_type": "code",
   "execution_count": null,
   "metadata": {},
   "outputs": [],
   "source": [
    "# repl. all non-standard AAs and map them to unknown/X\n",
    "proteins_with_seq = df[['uniprot_id', 'sequence']].groupby('uniprot_id').apply(lambda x: list(np.unique(x['sequence']))[0].replace('U','X').replace('Z','X').replace('O','X')).to_dict()\n",
    "\n",
    "# sort sequences according to length (reduces unnecessary padding --> speeds up embedding)\n",
    "seq_dict = sorted( proteins_with_seq.items(), key=lambda kv: len( proteins_with_seq[kv[0]] ), reverse=True )\n",
    "results = dict()\n",
    "\n",
    "for seq_idx, (pdb_id, seq) in tqdm(enumerate(seq_dict,1)):\n",
    "  seq = seq\n",
    "  seq_len = len(seq)\n",
    "  \n",
    "  # add_special_tokens adds extra token at the end of each sequence\n",
    "  token_encoding = tokenizer(seq, return_tensors=\"pt\")\n",
    "\n",
    "  try:\n",
    "    with torch.no_grad():\n",
    "      # returns: ( batch-size x max_seq_len_in_minibatch x embedding_dim )\n",
    "      embedding_repr = model(**token_encoding)\n",
    "  except RuntimeError:\n",
    "    print(\"RuntimeError during embedding for {} (L={})\".format(pdb_id, seq_len))\n",
    "    continue\n",
    "  \n",
    "  emb = embedding_repr.last_hidden_state[:,:seq_len]\n",
    "  # # store per-residue embeddings (Lx1024)\n",
    "  results[pdb_id] = emb.detach().cpu().numpy().squeeze()"
   ]
  },
  {
   "cell_type": "code",
   "execution_count": 6,
   "metadata": {},
   "outputs": [],
   "source": [
    "# save to json file\n",
    "json_object = json.dumps({k: v.tolist() for k, v in results.items()}, indent=2)\n",
    "\n",
    "# Writing to sample.json\n",
    "with open(\"embeddings_esm.json\", \"w\") as outfile:\n",
    "    outfile.write(json_object)"
   ]
  },
  {
   "attachments": {
    "image.png": {
     "image/png": "[encoded data removed]"
    }
   },
   "cell_type": "markdown",
   "metadata": {},
   "source": [
    "![image.png](attachment:image.png)"
   ]
  }
 ],
 "metadata": {
  "kernelspec": {
   "display_name": "tensorflow",
   "language": "python",
   "name": "python3"
  },
  "language_info": {
   "codemirror_mode": {
    "name": "ipython",
    "version": 3
   },
   "file_extension": ".py",
   "mimetype": "text/x-python",
   "name": "python",
   "nbconvert_exporter": "python",
   "pygments_lexer": "ipython3",
   "version": "3.9.13"
  },
  "orig_nbformat": 4,
  "vscode": {
   "interpreter": {
    "hash": "5b94450577f76fb0a6eeb85632b771eeeca8e2d84ef61b3145c1a560b69f7c15"
   }
  }
 },
 "nbformat": 4,
 "nbformat_minor": 2
}
