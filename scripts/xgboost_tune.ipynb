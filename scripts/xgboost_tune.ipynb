{
 "cells": [
  {
   "cell_type": "code",
   "execution_count": 1,
   "metadata": {},
   "outputs": [],
   "source": [
    "import pandas as pd\n",
    "import json\n",
    "import numpy as np\n",
    "from tqdm import tqdm\n",
    "import matplotlib.pyplot as plt\n",
    "import seaborn as sns\n",
    "\n",
    "from sklearn.metrics import accuracy_score, f1_score, balanced_accuracy_score, roc_auc_score, precision_recall_curve, classification_report, matthews_corrcoef, confusion_matrix\n",
    "\n",
    "from xgboost import XGBClassifier\n",
    "\n",
    "# import packages for hyperparameters tuning\n",
    "from skopt import BayesSearchCV\n",
    "from skopt.space import Real, Categorical, Integer"
   ]
  },
  {
   "cell_type": "code",
   "execution_count": 2,
   "metadata": {},
   "outputs": [],
   "source": [
    "model_for_testing = 'protTrans'"
   ]
  },
  {
   "cell_type": "code",
   "execution_count": 3,
   "metadata": {},
   "outputs": [
    {
     "data": {
      "text/html": [
       "<div>\n",
       "<style scoped>\n",
       "    .dataframe tbody tr th:only-of-type {\n",
       "        vertical-align: middle;\n",
       "    }\n",
       "\n",
       "    .dataframe tbody tr th {\n",
       "        vertical-align: top;\n",
       "    }\n",
       "\n",
       "    .dataframe thead th {\n",
       "        text-align: right;\n",
       "    }\n",
       "</style>\n",
       "<table border=\"1\" class=\"dataframe\">\n",
       "  <thead>\n",
       "    <tr style=\"text-align: right;\">\n",
       "      <th></th>\n",
       "      <th>uniprot_id</th>\n",
       "      <th>residue_1l</th>\n",
       "      <th>Feature_1</th>\n",
       "      <th>Feature_2</th>\n",
       "      <th>Feature_3</th>\n",
       "      <th>Feature_4</th>\n",
       "      <th>Feature_5</th>\n",
       "      <th>Feature_6</th>\n",
       "      <th>Feature_7</th>\n",
       "      <th>Feature_8</th>\n",
       "      <th>...</th>\n",
       "      <th>N</th>\n",
       "      <th>P</th>\n",
       "      <th>Q</th>\n",
       "      <th>R</th>\n",
       "      <th>S</th>\n",
       "      <th>T</th>\n",
       "      <th>V</th>\n",
       "      <th>W</th>\n",
       "      <th>Y</th>\n",
       "      <th>is_IBS</th>\n",
       "    </tr>\n",
       "    <tr>\n",
       "      <th>id</th>\n",
       "      <th></th>\n",
       "      <th></th>\n",
       "      <th></th>\n",
       "      <th></th>\n",
       "      <th></th>\n",
       "      <th></th>\n",
       "      <th></th>\n",
       "      <th></th>\n",
       "      <th></th>\n",
       "      <th></th>\n",
       "      <th></th>\n",
       "      <th></th>\n",
       "      <th></th>\n",
       "      <th></th>\n",
       "      <th></th>\n",
       "      <th></th>\n",
       "      <th></th>\n",
       "      <th></th>\n",
       "      <th></th>\n",
       "      <th></th>\n",
       "      <th></th>\n",
       "    </tr>\n",
       "  </thead>\n",
       "  <tbody>\n",
       "    <tr>\n",
       "      <th>0</th>\n",
       "      <td>O01761</td>\n",
       "      <td>M</td>\n",
       "      <td>0.038092</td>\n",
       "      <td>-0.257620</td>\n",
       "      <td>0.053704</td>\n",
       "      <td>0.242058</td>\n",
       "      <td>0.110389</td>\n",
       "      <td>0.016710</td>\n",
       "      <td>-0.446441</td>\n",
       "      <td>-0.020999</td>\n",
       "      <td>...</td>\n",
       "      <td>0</td>\n",
       "      <td>0</td>\n",
       "      <td>0</td>\n",
       "      <td>0</td>\n",
       "      <td>0</td>\n",
       "      <td>0</td>\n",
       "      <td>0</td>\n",
       "      <td>0</td>\n",
       "      <td>0</td>\n",
       "      <td>0</td>\n",
       "    </tr>\n",
       "    <tr>\n",
       "      <th>1</th>\n",
       "      <td>O01761</td>\n",
       "      <td>A</td>\n",
       "      <td>-0.126368</td>\n",
       "      <td>-0.266760</td>\n",
       "      <td>0.016587</td>\n",
       "      <td>0.087955</td>\n",
       "      <td>-0.065079</td>\n",
       "      <td>0.004339</td>\n",
       "      <td>-0.374669</td>\n",
       "      <td>-0.106561</td>\n",
       "      <td>...</td>\n",
       "      <td>0</td>\n",
       "      <td>0</td>\n",
       "      <td>0</td>\n",
       "      <td>0</td>\n",
       "      <td>0</td>\n",
       "      <td>0</td>\n",
       "      <td>0</td>\n",
       "      <td>0</td>\n",
       "      <td>0</td>\n",
       "      <td>0</td>\n",
       "    </tr>\n",
       "    <tr>\n",
       "      <th>2</th>\n",
       "      <td>O01761</td>\n",
       "      <td>S</td>\n",
       "      <td>-0.141514</td>\n",
       "      <td>-0.019615</td>\n",
       "      <td>0.152169</td>\n",
       "      <td>0.392465</td>\n",
       "      <td>-0.030234</td>\n",
       "      <td>-0.063051</td>\n",
       "      <td>-0.462616</td>\n",
       "      <td>-0.187547</td>\n",
       "      <td>...</td>\n",
       "      <td>0</td>\n",
       "      <td>0</td>\n",
       "      <td>0</td>\n",
       "      <td>0</td>\n",
       "      <td>1</td>\n",
       "      <td>0</td>\n",
       "      <td>0</td>\n",
       "      <td>0</td>\n",
       "      <td>0</td>\n",
       "      <td>0</td>\n",
       "    </tr>\n",
       "    <tr>\n",
       "      <th>3</th>\n",
       "      <td>O01761</td>\n",
       "      <td>R</td>\n",
       "      <td>-0.204350</td>\n",
       "      <td>-0.102457</td>\n",
       "      <td>-0.046080</td>\n",
       "      <td>0.260170</td>\n",
       "      <td>-0.016230</td>\n",
       "      <td>-0.096556</td>\n",
       "      <td>-0.416828</td>\n",
       "      <td>-0.525503</td>\n",
       "      <td>...</td>\n",
       "      <td>0</td>\n",
       "      <td>0</td>\n",
       "      <td>0</td>\n",
       "      <td>1</td>\n",
       "      <td>0</td>\n",
       "      <td>0</td>\n",
       "      <td>0</td>\n",
       "      <td>0</td>\n",
       "      <td>0</td>\n",
       "      <td>0</td>\n",
       "    </tr>\n",
       "    <tr>\n",
       "      <th>4</th>\n",
       "      <td>O01761</td>\n",
       "      <td>R</td>\n",
       "      <td>-0.095794</td>\n",
       "      <td>-0.068736</td>\n",
       "      <td>-0.037263</td>\n",
       "      <td>0.224324</td>\n",
       "      <td>0.040529</td>\n",
       "      <td>0.009453</td>\n",
       "      <td>-0.429543</td>\n",
       "      <td>-0.505712</td>\n",
       "      <td>...</td>\n",
       "      <td>0</td>\n",
       "      <td>0</td>\n",
       "      <td>0</td>\n",
       "      <td>1</td>\n",
       "      <td>0</td>\n",
       "      <td>0</td>\n",
       "      <td>0</td>\n",
       "      <td>0</td>\n",
       "      <td>0</td>\n",
       "      <td>0</td>\n",
       "    </tr>\n",
       "  </tbody>\n",
       "</table>\n",
       "<p>5 rows × 1047 columns</p>\n",
       "</div>"
      ],
      "text/plain": [
       "   uniprot_id residue_1l  Feature_1  Feature_2  Feature_3  Feature_4  \\\n",
       "id                                                                     \n",
       "0      O01761          M   0.038092  -0.257620   0.053704   0.242058   \n",
       "1      O01761          A  -0.126368  -0.266760   0.016587   0.087955   \n",
       "2      O01761          S  -0.141514  -0.019615   0.152169   0.392465   \n",
       "3      O01761          R  -0.204350  -0.102457  -0.046080   0.260170   \n",
       "4      O01761          R  -0.095794  -0.068736  -0.037263   0.224324   \n",
       "\n",
       "    Feature_5  Feature_6  Feature_7  Feature_8  ...  N  P  Q  R  S  T  V  W  \\\n",
       "id                                              ...                           \n",
       "0    0.110389   0.016710  -0.446441  -0.020999  ...  0  0  0  0  0  0  0  0   \n",
       "1   -0.065079   0.004339  -0.374669  -0.106561  ...  0  0  0  0  0  0  0  0   \n",
       "2   -0.030234  -0.063051  -0.462616  -0.187547  ...  0  0  0  0  1  0  0  0   \n",
       "3   -0.016230  -0.096556  -0.416828  -0.525503  ...  0  0  0  1  0  0  0  0   \n",
       "4    0.040529   0.009453  -0.429543  -0.505712  ...  0  0  0  1  0  0  0  0   \n",
       "\n",
       "    Y  is_IBS  \n",
       "id             \n",
       "0   0       0  \n",
       "1   0       0  \n",
       "2   0       0  \n",
       "3   0       0  \n",
       "4   0       0  \n",
       "\n",
       "[5 rows x 1047 columns]"
      ]
     },
     "execution_count": 3,
     "metadata": {},
     "output_type": "execute_result"
    }
   ],
   "source": [
    "df = pd.read_csv('./Datasets/My_Dataset/proteins_embeddings_' + model_for_testing + '_annotated.csv', index_col=0)\n",
    "\n",
    "# convert residues to one-hot encode\n",
    "df_res = pd.get_dummies(df['residue_1l'])\n",
    "\n",
    "df = df.merge(df_res, left_index=True, right_index=True, how='inner')\n",
    "df.insert(len(df.columns)-1, 'is_IBS', df.pop('is_IBS'))\n",
    "df.head(5)"
   ]
  },
  {
   "cell_type": "code",
   "execution_count": 4,
   "metadata": {},
   "outputs": [],
   "source": [
    "f = open('./Datasets/My_Dataset/split_proteins.json')\n",
    "dict_proteins_split = json.load(f)\n",
    "f.close()\n",
    "\n",
    "df_train = df[df.uniprot_id.isin(dict_proteins_split['train'])]\n",
    "df_test = df[df.uniprot_id.isin(dict_proteins_split['test'])]\n",
    "df_val = df[df.uniprot_id.isin(dict_proteins_split['val'])]"
   ]
  },
  {
   "cell_type": "code",
   "execution_count": 5,
   "metadata": {},
   "outputs": [],
   "source": [
    "X_train, y_train = df_train.drop(['uniprot_id', 'residue_1l', 'is_IBS'], axis=1, inplace=False), df_train['is_IBS']\n",
    "X_test, y_test = df_test.drop(['uniprot_id', 'residue_1l', 'is_IBS'], axis=1, inplace=False), df_test['is_IBS']\n",
    "X_val, y_val = df_val.drop(['uniprot_id', 'residue_1l', 'is_IBS'], axis=1, inplace=False), df_val['is_IBS']"
   ]
  },
  {
   "cell_type": "code",
   "execution_count": 6,
   "metadata": {},
   "outputs": [],
   "source": [
    "del df\n",
    "del df_res"
   ]
  },
  {
   "attachments": {},
   "cell_type": "markdown",
   "metadata": {},
   "source": [
    "### Fine-tune XGBoost"
   ]
  },
  {
   "cell_type": "code",
   "execution_count": 7,
   "metadata": {},
   "outputs": [
    {
     "name": "stdout",
     "output_type": "stream",
     "text": [
      "Fitting 5 folds for each of 1 candidates, totalling 5 fits\n"
     ]
    }
   ],
   "source": [
    "clf = XGBClassifier(objective='binary:logistic', random_state=0, n_jobs=7)\n",
    "\n",
    "\n",
    "xgb_reg_params = {'learning_rate': Real(0.01, 1.0, 'uniform'),\n",
    "                 'max_depth': Integer(1, 30),\n",
    "                 'subsample': Real(0.1, 1.0, 'uniform'),\n",
    "                 'colsample_bytree': Real(0.1, 1.0, 'uniform'), # subsample ratio of columns by tree\n",
    "                 'reg_lambda': Real(1e-9, 100., 'uniform'), # L2 regularization\n",
    "                 'reg_alpha': Real(1e-9, 100., 'uniform'), # L1 regularization\n",
    "                 'n_estimators': Integer(50, 5000),\n",
    "                 'min_child_weight': Integer(0, 20),\n",
    "                 'gamma': Real(1e-9, 1.0, 'uniform'),\n",
    "                 'scale_pos_weight': Real(1e-6, 100,'log-uniform')\n",
    "}\n",
    "\n",
    "xgb_bs = BayesSearchCV(estimator = clf, search_spaces = xgb_reg_params, cv=5, random_state=42, verbose=1,  n_jobs = 6, n_iter = 10)\n",
    "#Best\n",
    "results_bs_xgb = xgb_bs.fit(X_train, y_train)\n",
    "best_model = xgb_bs.best_estimator_\n",
    "\n",
    "print(results_bs_xgb.best_params_)"
   ]
  },
  {
   "attachments": {},
   "cell_type": "markdown",
   "metadata": {},
   "source": [
    "protTrans\n",
    "('colsample_bytree', 0.7606252161870115), ('gamma', 0.939369737663402), ('learning_rate', 0.17197110685216477), ('max_depth', 6), ('min_child_weight', 16), ('n_estimators', 1894), ('reg_alpha', 45.90245141562154), ('reg_lambda', 53.47651601257879), ('scale_pos_weight', 1.9154529871828567), ('subsample', 0.6016844832739164)\n"
   ]
  },
  {
   "cell_type": "code",
   "execution_count": 10,
   "metadata": {},
   "outputs": [
    {
     "data": {
      "text/plain": [
       "34.76696342637151"
      ]
     },
     "execution_count": 10,
     "metadata": {},
     "output_type": "execute_result"
    }
   ],
   "source": [
    "y_train.value_counts()[0]/y_train.value_counts()[1]"
   ]
  },
  {
   "cell_type": "code",
   "execution_count": 15,
   "metadata": {},
   "outputs": [
    {
     "ename": "KeyboardInterrupt",
     "evalue": "",
     "output_type": "error",
     "traceback": [
      "\u001b[0;31m---------------------------------------------------------------------------\u001b[0m",
      "\u001b[0;31mKeyboardInterrupt\u001b[0m                         Traceback (most recent call last)",
      "\u001b[1;32m/Users/dparanou/Master/master_thesis/xgboost_tune.ipynb Cell 11\u001b[0m in \u001b[0;36m<cell line: 8>\u001b[0;34m()\u001b[0m\n\u001b[1;32m      <a href='vscode-notebook-cell:/Users/dparanou/Master/master_thesis/xgboost_tune.ipynb#X12sZmlsZQ%3D%3D?line=4'>5</a>\u001b[0m clf \u001b[39m=\u001b[39m XGBClassifier(\u001b[39m*\u001b[39m\u001b[39m*\u001b[39mparams)\n\u001b[1;32m      <a href='vscode-notebook-cell:/Users/dparanou/Master/master_thesis/xgboost_tune.ipynb#X12sZmlsZQ%3D%3D?line=6'>7</a>\u001b[0m \u001b[39m# fit to model\u001b[39;00m\n\u001b[0;32m----> <a href='vscode-notebook-cell:/Users/dparanou/Master/master_thesis/xgboost_tune.ipynb#X12sZmlsZQ%3D%3D?line=7'>8</a>\u001b[0m clf\u001b[39m.\u001b[39;49mfit(X_train, y_train)\n",
      "File \u001b[0;32m/Library/Frameworks/Python.framework/Versions/3.10/lib/python3.10/site-packages/xgboost/core.py:532\u001b[0m, in \u001b[0;36m_deprecate_positional_args.<locals>.inner_f\u001b[0;34m(*args, **kwargs)\u001b[0m\n\u001b[1;32m    530\u001b[0m \u001b[39mfor\u001b[39;00m k, arg \u001b[39min\u001b[39;00m \u001b[39mzip\u001b[39m(sig\u001b[39m.\u001b[39mparameters, args):\n\u001b[1;32m    531\u001b[0m     kwargs[k] \u001b[39m=\u001b[39m arg\n\u001b[0;32m--> 532\u001b[0m \u001b[39mreturn\u001b[39;00m f(\u001b[39m*\u001b[39;49m\u001b[39m*\u001b[39;49mkwargs)\n",
      "File \u001b[0;32m/Library/Frameworks/Python.framework/Versions/3.10/lib/python3.10/site-packages/xgboost/sklearn.py:1400\u001b[0m, in \u001b[0;36mXGBClassifier.fit\u001b[0;34m(self, X, y, sample_weight, base_margin, eval_set, eval_metric, early_stopping_rounds, verbose, xgb_model, sample_weight_eval_set, base_margin_eval_set, feature_weights, callbacks)\u001b[0m\n\u001b[1;32m   1379\u001b[0m model, metric, params, early_stopping_rounds, callbacks \u001b[39m=\u001b[39m \u001b[39mself\u001b[39m\u001b[39m.\u001b[39m_configure_fit(\n\u001b[1;32m   1380\u001b[0m     xgb_model, eval_metric, params, early_stopping_rounds, callbacks\n\u001b[1;32m   1381\u001b[0m )\n\u001b[1;32m   1382\u001b[0m train_dmatrix, evals \u001b[39m=\u001b[39m _wrap_evaluation_matrices(\n\u001b[1;32m   1383\u001b[0m     missing\u001b[39m=\u001b[39m\u001b[39mself\u001b[39m\u001b[39m.\u001b[39mmissing,\n\u001b[1;32m   1384\u001b[0m     X\u001b[39m=\u001b[39mX,\n\u001b[0;32m   (...)\u001b[0m\n\u001b[1;32m   1397\u001b[0m     enable_categorical\u001b[39m=\u001b[39m\u001b[39mself\u001b[39m\u001b[39m.\u001b[39menable_categorical,\n\u001b[1;32m   1398\u001b[0m )\n\u001b[0;32m-> 1400\u001b[0m \u001b[39mself\u001b[39m\u001b[39m.\u001b[39m_Booster \u001b[39m=\u001b[39m train(\n\u001b[1;32m   1401\u001b[0m     params,\n\u001b[1;32m   1402\u001b[0m     train_dmatrix,\n\u001b[1;32m   1403\u001b[0m     \u001b[39mself\u001b[39;49m\u001b[39m.\u001b[39;49mget_num_boosting_rounds(),\n\u001b[1;32m   1404\u001b[0m     evals\u001b[39m=\u001b[39;49mevals,\n\u001b[1;32m   1405\u001b[0m     early_stopping_rounds\u001b[39m=\u001b[39;49mearly_stopping_rounds,\n\u001b[1;32m   1406\u001b[0m     evals_result\u001b[39m=\u001b[39;49mevals_result,\n\u001b[1;32m   1407\u001b[0m     obj\u001b[39m=\u001b[39;49mobj,\n\u001b[1;32m   1408\u001b[0m     custom_metric\u001b[39m=\u001b[39;49mmetric,\n\u001b[1;32m   1409\u001b[0m     verbose_eval\u001b[39m=\u001b[39;49mverbose,\n\u001b[1;32m   1410\u001b[0m     xgb_model\u001b[39m=\u001b[39;49mmodel,\n\u001b[1;32m   1411\u001b[0m     callbacks\u001b[39m=\u001b[39;49mcallbacks,\n\u001b[1;32m   1412\u001b[0m )\n\u001b[1;32m   1414\u001b[0m \u001b[39mif\u001b[39;00m \u001b[39mnot\u001b[39;00m callable(\u001b[39mself\u001b[39m\u001b[39m.\u001b[39mobjective):\n\u001b[1;32m   1415\u001b[0m     \u001b[39mself\u001b[39m\u001b[39m.\u001b[39mobjective \u001b[39m=\u001b[39m params[\u001b[39m\"\u001b[39m\u001b[39mobjective\u001b[39m\u001b[39m\"\u001b[39m]\n",
      "File \u001b[0;32m/Library/Frameworks/Python.framework/Versions/3.10/lib/python3.10/site-packages/xgboost/core.py:532\u001b[0m, in \u001b[0;36m_deprecate_positional_args.<locals>.inner_f\u001b[0;34m(*args, **kwargs)\u001b[0m\n\u001b[1;32m    530\u001b[0m \u001b[39mfor\u001b[39;00m k, arg \u001b[39min\u001b[39;00m \u001b[39mzip\u001b[39m(sig\u001b[39m.\u001b[39mparameters, args):\n\u001b[1;32m    531\u001b[0m     kwargs[k] \u001b[39m=\u001b[39m arg\n\u001b[0;32m--> 532\u001b[0m \u001b[39mreturn\u001b[39;00m f(\u001b[39m*\u001b[39;49m\u001b[39m*\u001b[39;49mkwargs)\n",
      "File \u001b[0;32m/Library/Frameworks/Python.framework/Versions/3.10/lib/python3.10/site-packages/xgboost/training.py:181\u001b[0m, in \u001b[0;36mtrain\u001b[0;34m(params, dtrain, num_boost_round, evals, obj, feval, maximize, early_stopping_rounds, evals_result, verbose_eval, xgb_model, callbacks, custom_metric)\u001b[0m\n\u001b[1;32m    179\u001b[0m \u001b[39mif\u001b[39;00m cb_container\u001b[39m.\u001b[39mbefore_iteration(bst, i, dtrain, evals):\n\u001b[1;32m    180\u001b[0m     \u001b[39mbreak\u001b[39;00m\n\u001b[0;32m--> 181\u001b[0m bst\u001b[39m.\u001b[39;49mupdate(dtrain, i, obj)\n\u001b[1;32m    182\u001b[0m \u001b[39mif\u001b[39;00m cb_container\u001b[39m.\u001b[39mafter_iteration(bst, i, dtrain, evals):\n\u001b[1;32m    183\u001b[0m     \u001b[39mbreak\u001b[39;00m\n",
      "File \u001b[0;32m/Library/Frameworks/Python.framework/Versions/3.10/lib/python3.10/site-packages/xgboost/core.py:1733\u001b[0m, in \u001b[0;36mBooster.update\u001b[0;34m(self, dtrain, iteration, fobj)\u001b[0m\n\u001b[1;32m   1730\u001b[0m \u001b[39mself\u001b[39m\u001b[39m.\u001b[39m_validate_features(dtrain)\n\u001b[1;32m   1732\u001b[0m \u001b[39mif\u001b[39;00m fobj \u001b[39mis\u001b[39;00m \u001b[39mNone\u001b[39;00m:\n\u001b[0;32m-> 1733\u001b[0m     _check_call(_LIB\u001b[39m.\u001b[39;49mXGBoosterUpdateOneIter(\u001b[39mself\u001b[39;49m\u001b[39m.\u001b[39;49mhandle,\n\u001b[1;32m   1734\u001b[0m                                             ctypes\u001b[39m.\u001b[39;49mc_int(iteration),\n\u001b[1;32m   1735\u001b[0m                                             dtrain\u001b[39m.\u001b[39;49mhandle))\n\u001b[1;32m   1736\u001b[0m \u001b[39melse\u001b[39;00m:\n\u001b[1;32m   1737\u001b[0m     pred \u001b[39m=\u001b[39m \u001b[39mself\u001b[39m\u001b[39m.\u001b[39mpredict(dtrain, output_margin\u001b[39m=\u001b[39m\u001b[39mTrue\u001b[39;00m, training\u001b[39m=\u001b[39m\u001b[39mTrue\u001b[39;00m)\n",
      "\u001b[0;31mKeyboardInterrupt\u001b[0m: "
     ]
    }
   ],
   "source": [
    "params = {'objective': 'binary:logistic' ,'colsample_bytree': 0.7606252161870115, 'gamma': 0.939369737663402, 'learning_rate': 0.17197110685216477, 'max_depth': 6, 'min_child_weight': 16,\n",
    " 'n_estimators': 1894, 'reg_alpha': 45.90245141562154, 'reg_lambda': 53.47651601257879, 'subsample': 0.6016844832739164, 'random_state': 0, \n",
    " 'n_jobs': 7, 'scale_pos_weight': 1.9154529871828567}\n",
    "\n",
    "clf = XGBClassifier(**params)\n",
    "\n",
    "# fit to model\n",
    "clf.fit(X_train, y_train)"
   ]
  },
  {
   "cell_type": "code",
   "execution_count": 12,
   "metadata": {},
   "outputs": [
    {
     "name": "stdout",
     "output_type": "stream",
     "text": [
      "F1 score: 0.655 \n",
      "MCC: 0.612 \n",
      "Balanced accuracy: 0.803 \n",
      "ROC : 0.803 \n",
      "[[6628  284]\n",
      " [ 305  559]]\n",
      "      0    1\n",
      "0  6628  284\n",
      "1   305  559\n"
     ]
    }
   ],
   "source": [
    "ypred = clf.predict(X_test)\n",
    "\n",
    "print('F1 score: %.3f ' % f1_score(y_test, ypred))\n",
    "print('MCC: %.3f ' % matthews_corrcoef(y_test, ypred))\n",
    "print('Balanced accuracy: %.3f ' % balanced_accuracy_score(y_test, ypred))\n",
    "print('ROC : %.3f ' % roc_auc_score(y_test, ypred))\n",
    "\n",
    "cm = confusion_matrix(y_test, ypred)\n",
    "print(cm)\n",
    "cm = pd.DataFrame(cm , index = ['0','1'] , columns = ['0','1'])\n",
    "print(cm)"
   ]
  },
  {
   "attachments": {},
   "cell_type": "markdown",
   "metadata": {},
   "source": [
    "protTrans <br />\n",
    "F1 score: 0.647 <br />\n",
    "MCC: 0.605 <br />\n",
    "Balanced accuracy: 0.793 <br />\n",
    "ROC : 0.793 <br />\n",
    "      0    1\n",
    "0  6646  266\n",
    "1   324  540\n",
    "<br />"
   ]
  },
  {
   "cell_type": "code",
   "execution_count": 13,
   "metadata": {},
   "outputs": [],
   "source": [
    "# save in JSON format\n",
    "clf.save_model('xgboost_' + model_for_testing + '_3.json')"
   ]
  },
  {
   "attachments": {},
   "cell_type": "markdown",
   "metadata": {},
   "source": [
    "### Load Model"
   ]
  },
  {
   "cell_type": "code",
   "execution_count": 12,
   "metadata": {},
   "outputs": [
    {
     "name": "stdout",
     "output_type": "stream",
     "text": [
      "F1 score: 0.647 \n",
      "MCC: 0.605 \n",
      "Balanced accuracy: 0.793 \n",
      "Accuracy: 0.924 \n",
      "ROC : 0.793 \n"
     ]
    }
   ],
   "source": [
    "model = XGBClassifier()\n",
    "model.load_model('./models/xgboost_' + model_for_testing + '.json')\n",
    "\n",
    "ypred = model.predict(X_test)\n",
    "\n",
    "print('F1 score: %.3f ' % f1_score(y_test, ypred))\n",
    "print('MCC: %.3f ' % matthews_corrcoef(y_test, ypred))\n",
    "print('Balanced accuracy: %.3f ' % balanced_accuracy_score(y_test, ypred))\n",
    "print('Accuracy: %.3f ' % accuracy_score(y_test, ypred))\n",
    "print('ROC : %.3f ' % roc_auc_score(y_test, ypred))\n",
    "\n",
    "cm = confusion_matrix(y_test, ypred)\n",
    "cm = pd.DataFrame(cm , index = ['0','1'] , columns = ['0','1'])"
   ]
  }
 ],
 "metadata": {
  "kernelspec": {
   "display_name": "Python 3",
   "language": "python",
   "name": "python3"
  },
  "language_info": {
   "codemirror_mode": {
    "name": "ipython",
    "version": 3
   },
   "file_extension": ".py",
   "mimetype": "text/x-python",
   "name": "python",
   "nbconvert_exporter": "python",
   "pygments_lexer": "ipython3",
   "version": "3.10.4"
  },
  "orig_nbformat": 4,
  "vscode": {
   "interpreter": {
    "hash": "aee8b7b246df8f9039afb4144a1f6fd8d2ca17a180786b69acc140d282b71a49"
   }
  }
 },
 "nbformat": 4,
 "nbformat_minor": 2
}
