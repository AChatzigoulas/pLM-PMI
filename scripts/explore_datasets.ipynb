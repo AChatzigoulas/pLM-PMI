{
 "cells": [
  {
   "cell_type": "code",
   "execution_count": 1,
   "metadata": {},
   "outputs": [],
   "source": [
    "import pandas as pd\n",
    "import numpy as np\n",
    "import glob\n",
    "import json\n",
    "# from Bio import SeqIO, pairwise2\n",
    "# from Bio.PDB.PDBParser import PDBParser\n",
    "# from Bio.SubsMat import MatrixInfo as matlist\n",
    "import re\n",
    "from tqdm import tqdm\n",
    "\n",
    "import warnings\n",
    "warnings.filterwarnings('ignore')"
   ]
  },
  {
   "cell_type": "code",
   "execution_count": 2,
   "metadata": {},
   "outputs": [],
   "source": [
    "amino_acids_3l_key = {\"ARG\":\"R\", \"HIS\":\"H\", \"LYS\":\"K\", \"ASP\":\"D\", \"GLU\":\"E\", \"SER\":\"S\", \"THR\":\"T\", \"ASN\":\"N\", \"GLN\": \"Q\", \"CYS\":\"C\", \"SEC\": \"U\",\"GLY\":\"G\",\"PRO\": \"P\", \"ALA\":\"A\",\"VAL\":\"V\",\"ILE\":\"I\", \"LEU\": \"L\", \"MET\":\"M\", \"MSE\": \"M\", \"PHE\": \"F\", \"TYR\": \"Y\", \"TRP\":\"W\"}\n",
    "amino_acids_1l_key = {'R': 'ARG', 'H': 'HIS', 'K': 'LYS', 'D': 'ASP', 'E': 'GLU', 'S': 'SER', 'T': 'THR', 'N': 'ASN', 'Q': 'GLN', 'C': 'CYS', 'U': 'SEC', 'G': 'GLY', 'P': 'PRO', 'A': 'ALA', 'V': 'VAL', 'I': 'ILE', 'L': 'LEU', 'M': 'MET', 'F': 'PHE', 'Y': 'TYR', 'W': 'TRP'}"
   ]
  },
  {
   "cell_type": "markdown",
   "metadata": {},
   "source": [
    "### Prepare dataset"
   ]
  },
  {
   "cell_type": "code",
   "execution_count": 2,
   "metadata": {},
   "outputs": [],
   "source": [
    "df_s1 = pd.read_csv(\"./Datasets/Dataset_Reuter/s1.csv\")\n",
    "df_s2 = pd.read_csv(\"./Datasets/Dataset_Reuter/S2 File.csv\") # all info is included in df_reuter -> 1328 structures"
   ]
  },
  {
   "cell_type": "code",
   "execution_count": 3,
   "metadata": {},
   "outputs": [
    {
     "data": {
      "text/html": [
       "<div>\n",
       "<style scoped>\n",
       "    .dataframe tbody tr th:only-of-type {\n",
       "        vertical-align: middle;\n",
       "    }\n",
       "\n",
       "    .dataframe tbody tr th {\n",
       "        vertical-align: top;\n",
       "    }\n",
       "\n",
       "    .dataframe thead th {\n",
       "        text-align: right;\n",
       "    }\n",
       "</style>\n",
       "<table border=\"1\" class=\"dataframe\">\n",
       "  <thead>\n",
       "    <tr style=\"text-align: right;\">\n",
       "      <th></th>\n",
       "      <th>domain</th>\n",
       "      <th>cathpdb</th>\n",
       "      <th>pdb</th>\n",
       "      <th>uniprot_acc</th>\n",
       "      <th>uniprot_id</th>\n",
       "      <th>residue_name</th>\n",
       "      <th>IBS</th>\n",
       "      <th>chain_id</th>\n",
       "      <th>residue_number</th>\n",
       "      <th>b_factor</th>\n",
       "      <th>...</th>\n",
       "      <th>S35</th>\n",
       "      <th>S60</th>\n",
       "      <th>S95</th>\n",
       "      <th>S100</th>\n",
       "      <th>uniref50</th>\n",
       "      <th>uniref90</th>\n",
       "      <th>uniref100</th>\n",
       "      <th>origin</th>\n",
       "      <th>location</th>\n",
       "      <th>taxon</th>\n",
       "    </tr>\n",
       "  </thead>\n",
       "  <tbody>\n",
       "    <tr>\n",
       "      <th>0</th>\n",
       "      <td>PH</td>\n",
       "      <td>2m14A00</td>\n",
       "      <td>2M14</td>\n",
       "      <td>P32776</td>\n",
       "      <td>TFB1_YEAST</td>\n",
       "      <td>ASN</td>\n",
       "      <td>False</td>\n",
       "      <td>A</td>\n",
       "      <td>19</td>\n",
       "      <td>0.00</td>\n",
       "      <td>...</td>\n",
       "      <td>123</td>\n",
       "      <td>123.1</td>\n",
       "      <td>123.1.1</td>\n",
       "      <td>123.1.1.1</td>\n",
       "      <td>P32776</td>\n",
       "      <td>P32776</td>\n",
       "      <td>P32776</td>\n",
       "      <td>YEAST</td>\n",
       "      <td>['Nucleus']</td>\n",
       "      <td>Eukaryota/Fungi</td>\n",
       "    </tr>\n",
       "    <tr>\n",
       "      <th>1</th>\n",
       "      <td>PH</td>\n",
       "      <td>2m14A00</td>\n",
       "      <td>2M14</td>\n",
       "      <td>P32776</td>\n",
       "      <td>TFB1_YEAST</td>\n",
       "      <td>ASN</td>\n",
       "      <td>False</td>\n",
       "      <td>A</td>\n",
       "      <td>75</td>\n",
       "      <td>0.00</td>\n",
       "      <td>...</td>\n",
       "      <td>123</td>\n",
       "      <td>123.1</td>\n",
       "      <td>123.1.1</td>\n",
       "      <td>123.1.1.1</td>\n",
       "      <td>P32776</td>\n",
       "      <td>P32776</td>\n",
       "      <td>P32776</td>\n",
       "      <td>YEAST</td>\n",
       "      <td>['Nucleus']</td>\n",
       "      <td>Eukaryota/Fungi</td>\n",
       "    </tr>\n",
       "    <tr>\n",
       "      <th>2</th>\n",
       "      <td>PH</td>\n",
       "      <td>2m14A00</td>\n",
       "      <td>2M14</td>\n",
       "      <td>P32776</td>\n",
       "      <td>TFB1_YEAST</td>\n",
       "      <td>ASN</td>\n",
       "      <td>False</td>\n",
       "      <td>A</td>\n",
       "      <td>78</td>\n",
       "      <td>0.00</td>\n",
       "      <td>...</td>\n",
       "      <td>123</td>\n",
       "      <td>123.1</td>\n",
       "      <td>123.1.1</td>\n",
       "      <td>123.1.1.1</td>\n",
       "      <td>P32776</td>\n",
       "      <td>P32776</td>\n",
       "      <td>P32776</td>\n",
       "      <td>YEAST</td>\n",
       "      <td>['Nucleus']</td>\n",
       "      <td>Eukaryota/Fungi</td>\n",
       "    </tr>\n",
       "    <tr>\n",
       "      <th>3</th>\n",
       "      <td>PH</td>\n",
       "      <td>2m14A00</td>\n",
       "      <td>2M14</td>\n",
       "      <td>P32776</td>\n",
       "      <td>TFB1_YEAST</td>\n",
       "      <td>ASN</td>\n",
       "      <td>False</td>\n",
       "      <td>A</td>\n",
       "      <td>92</td>\n",
       "      <td>0.00</td>\n",
       "      <td>...</td>\n",
       "      <td>123</td>\n",
       "      <td>123.1</td>\n",
       "      <td>123.1.1</td>\n",
       "      <td>123.1.1.1</td>\n",
       "      <td>P32776</td>\n",
       "      <td>P32776</td>\n",
       "      <td>P32776</td>\n",
       "      <td>YEAST</td>\n",
       "      <td>['Nucleus']</td>\n",
       "      <td>Eukaryota/Fungi</td>\n",
       "    </tr>\n",
       "    <tr>\n",
       "      <th>4</th>\n",
       "      <td>PH</td>\n",
       "      <td>2m14A00</td>\n",
       "      <td>2M14</td>\n",
       "      <td>P32776</td>\n",
       "      <td>TFB1_YEAST</td>\n",
       "      <td>ASN</td>\n",
       "      <td>False</td>\n",
       "      <td>A</td>\n",
       "      <td>93</td>\n",
       "      <td>0.00</td>\n",
       "      <td>...</td>\n",
       "      <td>123</td>\n",
       "      <td>123.1</td>\n",
       "      <td>123.1.1</td>\n",
       "      <td>123.1.1.1</td>\n",
       "      <td>P32776</td>\n",
       "      <td>P32776</td>\n",
       "      <td>P32776</td>\n",
       "      <td>YEAST</td>\n",
       "      <td>['Nucleus']</td>\n",
       "      <td>Eukaryota/Fungi</td>\n",
       "    </tr>\n",
       "    <tr>\n",
       "      <th>...</th>\n",
       "      <td>...</td>\n",
       "      <td>...</td>\n",
       "      <td>...</td>\n",
       "      <td>...</td>\n",
       "      <td>...</td>\n",
       "      <td>...</td>\n",
       "      <td>...</td>\n",
       "      <td>...</td>\n",
       "      <td>...</td>\n",
       "      <td>...</td>\n",
       "      <td>...</td>\n",
       "      <td>...</td>\n",
       "      <td>...</td>\n",
       "      <td>...</td>\n",
       "      <td>...</td>\n",
       "      <td>...</td>\n",
       "      <td>...</td>\n",
       "      <td>...</td>\n",
       "      <td>...</td>\n",
       "      <td>...</td>\n",
       "      <td>...</td>\n",
       "    </tr>\n",
       "    <tr>\n",
       "      <th>562250</th>\n",
       "      <td>PLA</td>\n",
       "      <td>5p2pB00</td>\n",
       "      <td>5P2P</td>\n",
       "      <td>P00592</td>\n",
       "      <td>PA21B_PIG</td>\n",
       "      <td>CYS</td>\n",
       "      <td>False</td>\n",
       "      <td>B</td>\n",
       "      <td>91</td>\n",
       "      <td>17.26</td>\n",
       "      <td>...</td>\n",
       "      <td>2</td>\n",
       "      <td>2.1</td>\n",
       "      <td>2.1.2</td>\n",
       "      <td>2.1.2.4</td>\n",
       "      <td>P04054</td>\n",
       "      <td>P00592</td>\n",
       "      <td>P00592</td>\n",
       "      <td>PIG</td>\n",
       "      <td>['Secreted']</td>\n",
       "      <td>Eukaryota/Metazoa</td>\n",
       "    </tr>\n",
       "    <tr>\n",
       "      <th>562251</th>\n",
       "      <td>PLA</td>\n",
       "      <td>5p2pB00</td>\n",
       "      <td>5P2P</td>\n",
       "      <td>P00592</td>\n",
       "      <td>PA21B_PIG</td>\n",
       "      <td>CYS</td>\n",
       "      <td>False</td>\n",
       "      <td>B</td>\n",
       "      <td>96</td>\n",
       "      <td>15.41</td>\n",
       "      <td>...</td>\n",
       "      <td>2</td>\n",
       "      <td>2.1</td>\n",
       "      <td>2.1.2</td>\n",
       "      <td>2.1.2.4</td>\n",
       "      <td>P04054</td>\n",
       "      <td>P00592</td>\n",
       "      <td>P00592</td>\n",
       "      <td>PIG</td>\n",
       "      <td>['Secreted']</td>\n",
       "      <td>Eukaryota/Metazoa</td>\n",
       "    </tr>\n",
       "    <tr>\n",
       "      <th>562252</th>\n",
       "      <td>PLA</td>\n",
       "      <td>5p2pB00</td>\n",
       "      <td>5P2P</td>\n",
       "      <td>P00592</td>\n",
       "      <td>PA21B_PIG</td>\n",
       "      <td>CYS</td>\n",
       "      <td>False</td>\n",
       "      <td>B</td>\n",
       "      <td>98</td>\n",
       "      <td>11.96</td>\n",
       "      <td>...</td>\n",
       "      <td>2</td>\n",
       "      <td>2.1</td>\n",
       "      <td>2.1.2</td>\n",
       "      <td>2.1.2.4</td>\n",
       "      <td>P04054</td>\n",
       "      <td>P00592</td>\n",
       "      <td>P00592</td>\n",
       "      <td>PIG</td>\n",
       "      <td>['Secreted']</td>\n",
       "      <td>Eukaryota/Metazoa</td>\n",
       "    </tr>\n",
       "    <tr>\n",
       "      <th>562253</th>\n",
       "      <td>PLA</td>\n",
       "      <td>5p2pB00</td>\n",
       "      <td>5P2P</td>\n",
       "      <td>P00592</td>\n",
       "      <td>PA21B_PIG</td>\n",
       "      <td>CYS</td>\n",
       "      <td>False</td>\n",
       "      <td>B</td>\n",
       "      <td>105</td>\n",
       "      <td>17.27</td>\n",
       "      <td>...</td>\n",
       "      <td>2</td>\n",
       "      <td>2.1</td>\n",
       "      <td>2.1.2</td>\n",
       "      <td>2.1.2.4</td>\n",
       "      <td>P04054</td>\n",
       "      <td>P00592</td>\n",
       "      <td>P00592</td>\n",
       "      <td>PIG</td>\n",
       "      <td>['Secreted']</td>\n",
       "      <td>Eukaryota/Metazoa</td>\n",
       "    </tr>\n",
       "    <tr>\n",
       "      <th>562254</th>\n",
       "      <td>PLA</td>\n",
       "      <td>5p2pB00</td>\n",
       "      <td>5P2P</td>\n",
       "      <td>P00592</td>\n",
       "      <td>PA21B_PIG</td>\n",
       "      <td>CYS</td>\n",
       "      <td>True</td>\n",
       "      <td>B</td>\n",
       "      <td>124</td>\n",
       "      <td>28.89</td>\n",
       "      <td>...</td>\n",
       "      <td>2</td>\n",
       "      <td>2.1</td>\n",
       "      <td>2.1.2</td>\n",
       "      <td>2.1.2.4</td>\n",
       "      <td>P04054</td>\n",
       "      <td>P00592</td>\n",
       "      <td>P00592</td>\n",
       "      <td>PIG</td>\n",
       "      <td>['Secreted']</td>\n",
       "      <td>Eukaryota/Metazoa</td>\n",
       "    </tr>\n",
       "  </tbody>\n",
       "</table>\n",
       "<p>562255 rows × 34 columns</p>\n",
       "</div>"
      ],
      "text/plain": [
       "       domain  cathpdb   pdb uniprot_acc  uniprot_id residue_name    IBS  \\\n",
       "0          PH  2m14A00  2M14      P32776  TFB1_YEAST          ASN  False   \n",
       "1          PH  2m14A00  2M14      P32776  TFB1_YEAST          ASN  False   \n",
       "2          PH  2m14A00  2M14      P32776  TFB1_YEAST          ASN  False   \n",
       "3          PH  2m14A00  2M14      P32776  TFB1_YEAST          ASN  False   \n",
       "4          PH  2m14A00  2M14      P32776  TFB1_YEAST          ASN  False   \n",
       "...       ...      ...   ...         ...         ...          ...    ...   \n",
       "562250    PLA  5p2pB00  5P2P      P00592   PA21B_PIG          CYS  False   \n",
       "562251    PLA  5p2pB00  5P2P      P00592   PA21B_PIG          CYS  False   \n",
       "562252    PLA  5p2pB00  5P2P      P00592   PA21B_PIG          CYS  False   \n",
       "562253    PLA  5p2pB00  5P2P      P00592   PA21B_PIG          CYS  False   \n",
       "562254    PLA  5p2pB00  5P2P      P00592   PA21B_PIG          CYS   True   \n",
       "\n",
       "       chain_id  residue_number  b_factor  ...  S35    S60      S95  \\\n",
       "0             A              19      0.00  ...  123  123.1  123.1.1   \n",
       "1             A              75      0.00  ...  123  123.1  123.1.1   \n",
       "2             A              78      0.00  ...  123  123.1  123.1.1   \n",
       "3             A              92      0.00  ...  123  123.1  123.1.1   \n",
       "4             A              93      0.00  ...  123  123.1  123.1.1   \n",
       "...         ...             ...       ...  ...  ...    ...      ...   \n",
       "562250        B              91     17.26  ...    2    2.1    2.1.2   \n",
       "562251        B              96     15.41  ...    2    2.1    2.1.2   \n",
       "562252        B              98     11.96  ...    2    2.1    2.1.2   \n",
       "562253        B             105     17.27  ...    2    2.1    2.1.2   \n",
       "562254        B             124     28.89  ...    2    2.1    2.1.2   \n",
       "\n",
       "             S100 uniref50  uniref90  uniref100  origin      location  \\\n",
       "0       123.1.1.1   P32776    P32776     P32776   YEAST   ['Nucleus']   \n",
       "1       123.1.1.1   P32776    P32776     P32776   YEAST   ['Nucleus']   \n",
       "2       123.1.1.1   P32776    P32776     P32776   YEAST   ['Nucleus']   \n",
       "3       123.1.1.1   P32776    P32776     P32776   YEAST   ['Nucleus']   \n",
       "4       123.1.1.1   P32776    P32776     P32776   YEAST   ['Nucleus']   \n",
       "...           ...      ...       ...        ...     ...           ...   \n",
       "562250    2.1.2.4   P04054    P00592     P00592     PIG  ['Secreted']   \n",
       "562251    2.1.2.4   P04054    P00592     P00592     PIG  ['Secreted']   \n",
       "562252    2.1.2.4   P04054    P00592     P00592     PIG  ['Secreted']   \n",
       "562253    2.1.2.4   P04054    P00592     P00592     PIG  ['Secreted']   \n",
       "562254    2.1.2.4   P04054    P00592     P00592     PIG  ['Secreted']   \n",
       "\n",
       "                    taxon  \n",
       "0         Eukaryota/Fungi  \n",
       "1         Eukaryota/Fungi  \n",
       "2         Eukaryota/Fungi  \n",
       "3         Eukaryota/Fungi  \n",
       "4         Eukaryota/Fungi  \n",
       "...                   ...  \n",
       "562250  Eukaryota/Metazoa  \n",
       "562251  Eukaryota/Metazoa  \n",
       "562252  Eukaryota/Metazoa  \n",
       "562253  Eukaryota/Metazoa  \n",
       "562254  Eukaryota/Metazoa  \n",
       "\n",
       "[562255 rows x 34 columns]"
      ]
     },
     "execution_count": 3,
     "metadata": {},
     "output_type": "execute_result"
    }
   ],
   "source": [
    "df_reuter = pd.read_csv('./Datasets/Dataset_Reuter/PePr2DS.csv')\n",
    "df_reuter"
   ]
  },
  {
   "cell_type": "code",
   "execution_count": 4,
   "metadata": {},
   "outputs": [],
   "source": [
    "df_reuter_ibs = df_reuter[df_reuter['IBS'] == True]\n",
    "del df_reuter\n",
    "# df_reuter_non_ibs = df_reuter[df_reuter['IBS'] == False]"
   ]
  },
  {
   "cell_type": "markdown",
   "metadata": {},
   "source": [
    "### Show some general info's that denoted in the paper"
   ]
  },
  {
   "cell_type": "code",
   "execution_count": 9,
   "metadata": {},
   "outputs": [
    {
     "data": {
      "text/plain": [
       "Text(0.5, 1.0, 'Percentage of SS in IBS dataset')"
      ]
     },
     "execution_count": 9,
     "metadata": {},
     "output_type": "execute_result"
    },
    {
     "data": {
      "image/png": "[encoded data removed]",
      "text/plain": [
       "<Figure size 640x480 with 1 Axes>"
      ]
     },
     "metadata": {},
     "output_type": "display_data"
    }
   ],
   "source": [
    "import matplotlib.pyplot as plt\n",
    "# (df_reuter_ibs['sec_struc'].value_counts(normalize=True) * 100).index\n",
    "plt.bar( (df_reuter_ibs['sec_struc'].value_counts(normalize=True) * 100).index, (df_reuter_ibs['sec_struc'].value_counts(normalize=True) * 100).values)\n",
    "plt.xlabel(\"Secondary structure element\")\n",
    "plt.ylabel(\"Percentage (%)\")\n",
    "plt.title(\"Percentage of SS in IBS dataset\")\n",
    "# More proteins from C2DIS family"
   ]
  },
  {
   "cell_type": "code",
   "execution_count": 89,
   "metadata": {},
   "outputs": [
    {
     "data": {
      "text/plain": [
       "C    41.266285\n",
       "E    35.638536\n",
       "H    23.095179\n",
       "Name: sec_struc, dtype: float64"
      ]
     },
     "execution_count": 89,
     "metadata": {},
     "output_type": "execute_result"
    }
   ],
   "source": [
    "df_reuter_non_ibs['sec_struc'].value_counts(normalize=True) * 100"
   ]
  },
  {
   "cell_type": "code",
   "execution_count": 17,
   "metadata": {},
   "outputs": [
    {
     "data": {
      "text/plain": [
       "Text(0.5, 1.0, 'Percentage of AA in IBS dataset')"
      ]
     },
     "execution_count": 17,
     "metadata": {},
     "output_type": "execute_result"
    },
    {
     "data": {
      "image/png": "[encoded data removed]",
      "text/plain": [
       "<Figure size 640x480 with 1 Axes>"
      ]
     },
     "metadata": {},
     "output_type": "display_data"
    }
   ],
   "source": [
    "plt.bar( (df_reuter_ibs['residue_name'].value_counts(normalize=True) * 100).index, (df_reuter_ibs['residue_name'].value_counts(normalize=True) * 100).values, width=0.5)\n",
    "plt.xlabel(\"Amino Acids\")\n",
    "plt.xticks(rotation=45)\n",
    "plt.ylabel(\"Percentage (%)\")\n",
    "plt.title(\"Percentage of AA in IBS dataset\")"
   ]
  },
  {
   "cell_type": "code",
   "execution_count": 93,
   "metadata": {},
   "outputs": [
    {
     "data": {
      "text/plain": [
       "LYS    12.723366\n",
       "ASP    10.273948\n",
       "SER     8.755595\n",
       "ASN     8.451209\n",
       "GLU     7.971352\n",
       "PRO     7.584602\n",
       "THR     7.581021\n",
       "ALA     6.112802\n",
       "LEU     5.059982\n",
       "VAL     4.673232\n",
       "ARG     4.118174\n",
       "GLN     3.136974\n",
       "TYR     2.904208\n",
       "PHE     2.897046\n",
       "ILE     2.381379\n",
       "HIS     1.958818\n",
       "MET     1.761862\n",
       "TRP     1.475380\n",
       "CYS     0.179051\n",
       "Name: residue_name, dtype: float64"
      ]
     },
     "execution_count": 93,
     "metadata": {},
     "output_type": "execute_result"
    }
   ],
   "source": [
    "df_reuter_ibs[df_reuter_ibs['protrusion'] == True].residue_name.value_counts(normalize=True) * 100"
   ]
  },
  {
   "cell_type": "code",
   "execution_count": 100,
   "metadata": {},
   "outputs": [
    {
     "data": {
      "text/plain": [
       "LYS    15.190093\n",
       "GLU     9.578245\n",
       "GLY     8.400450\n",
       "ASP     7.724950\n",
       "SER     7.127392\n",
       "ARG     6.677059\n",
       "LEU     5.473283\n",
       "THR     5.230796\n",
       "PRO     4.763142\n",
       "GLN     4.563956\n",
       "ASN     4.468693\n",
       "VAL     3.836494\n",
       "ALA     3.758552\n",
       "ILE     2.953148\n",
       "PHE     2.286308\n",
       "TYR     2.173725\n",
       "TRP     2.165065\n",
       "HIS     2.000520\n",
       "MET     1.125834\n",
       "CYS     0.502295\n",
       "Name: residue_name, dtype: float64"
      ]
     },
     "execution_count": 100,
     "metadata": {},
     "output_type": "execute_result"
    }
   ],
   "source": [
    "df_reuter_ibs[df_reuter_ibs['domain'] == 'PH'].residue_name.value_counts(normalize=True) * 100"
   ]
  },
  {
   "cell_type": "markdown",
   "metadata": {},
   "source": [
    "### Check similarities in files"
   ]
  },
  {
   "cell_type": "code",
   "execution_count": 15,
   "metadata": {},
   "outputs": [
    {
     "data": {
      "text/plain": [
       "{'1p8jB02', '2id4A02', '3d3aA02', '3w5mA04', '4e8cB02', '4madA02', '4omdB02'}"
      ]
     },
     "execution_count": 15,
     "metadata": {},
     "output_type": "execute_result"
    }
   ],
   "source": [
    "# Proteins that don't have IBS amino_acids\n",
    "set(df_reuter_non_ibs.pdb.unique()).difference(df_reuter_ibs.pdb.unique())"
   ]
  },
  {
   "cell_type": "code",
   "execution_count": 72,
   "metadata": {},
   "outputs": [
    {
     "name": "stdout",
     "output_type": "stream",
     "text": [
      "Common proteins between the 2 datasets 1950 \n",
      "Unique pdbs in non_ibs df 1963\n",
      "Unique cathpdb in non_ibs df 3980\n",
      "Unique pdbs in ibs df 1950\n",
      "Unique cathpdb in ibs df 3936\n"
     ]
    }
   ],
   "source": [
    "print(\"Common proteins between the 2 datasets %s \" % len(set(df_reuter_non_ibs.pdb.unique()) & set(df_reuter_ibs.pdb.unique())))\n",
    "print(\"Unique pdbs in non_ibs df \" + str(len(df_reuter_non_ibs.pdb.unique())))\n",
    "print(\"Unique cathpdb in non_ibs df \" + str(len(df_reuter_non_ibs.cathpdb.unique())))\n",
    "print(\"Unique pdbs in ibs df \" + str(len(df_reuter_ibs.pdb.unique())))\n",
    "print(\"Unique cathpdb in ibs df \" + str(len(df_reuter_ibs.cathpdb.unique())))"
   ]
  },
  {
   "cell_type": "markdown",
   "metadata": {},
   "source": [
    "### Explore DREAMM's Dataset"
   ]
  },
  {
   "cell_type": "code",
   "execution_count": 8,
   "metadata": {},
   "outputs": [
    {
     "name": "stdout",
     "output_type": "stream",
     "text": [
      "Unique proteins 65\n",
      "['5HXW', '6BFG', '4OVU', '3JW8', '1TQN', '3AKM', '3W7R', '1LN1', '1COY', '3NPE', '5BZZ', '1TBN', '1GMI', '1CZS', '2MH1', '3UEJ', '2P0M', '1EAZ', '1H0A', '4HG9', '1VAP', '2K45', '1NL1', '1LA4', '1CJY', '4DNL', '2E73', '1DVP', '1C1Z', '1OIZ', '1FAO', '1HN4', '1VFY', '2AYL', '1KQ6', '2R7E', '5F0P', '1H6H', '2PTD', '4X08', '1JOC', '3IIQ', '1ES6', '4V11', '1PFO', '1FAQ', '1GYG', '1DK5', '1IAZ', '1GWY', '1SDD', '2KS4', '1POA', '1ANX', '2FNQ', '1POC', '5G3N', '1FFJ', '3RZN', '3FSN', '1JSS', '1S6X', '2DDR', '2RSG', '2A1L']\n"
     ]
    }
   ],
   "source": [
    "# Get the files with extension .pdb that exist in the current folder\n",
    "dreamm_files_name = glob.glob(\"./Datasets/Dataset_DREAMM/*/*.pdb\")\n",
    "dreamm_files_name = [x[-8:-4].upper() for x in dreamm_files_name]\n",
    "print(\"Unique proteins %s\" % len(dreamm_files_name))\n",
    "print(dreamm_files_name)"
   ]
  },
  {
   "cell_type": "code",
   "execution_count": 6,
   "metadata": {},
   "outputs": [
    {
     "name": "stdout",
     "output_type": "stream",
     "text": [
      "Common proteins between the 2 datasets 30 \n",
      "{'1CJY', '5G3N', '1ANX', '1VAP', '4HG9', '1TBN', '1FAQ', '1KQ6', '1SDD', '1CZS', '2PTD', '1H6H', '4DNL', '2R7E', '4OVU', '1FAO', '1GMI', '2K45', '2RSG', '3UEJ', '2E73', '1LN1', '1JSS', '1DK5', '2A1L', '1POC', '1EAZ', '1POA', '1HN4', '4V11'}\n"
     ]
    }
   ],
   "source": [
    "print(\"Common proteins between the 2 datasets %s \" % len(set(dreamm_files_name) & set(df_reuter_ibs.pdb.unique())))\n",
    "print(set(dreamm_files_name) & set(df_reuter_ibs.pdb.unique()))\n",
    "common_proteins = list(set(dreamm_files_name) & set(df_reuter_ibs.pdb.unique()))"
   ]
  },
  {
   "cell_type": "code",
   "execution_count": null,
   "metadata": {},
   "outputs": [],
   "source": [
    "# check for the common pdbs, the amino acids that interact with the membrane\n",
    "protein = 27\n",
    "print(common_proteins[protein])\n",
    "res = df_reuter_ibs[(df_reuter_ibs['pdb'] == common_proteins[protein].upper()) & (df_reuter_ibs['chain_id'] == 'B')][['residue_name', 'residue_number']].sort_values('residue_number')\n",
    "res['aa'] = res['residue_name'].apply(lambda x : amino_acids_3l_key[x])\n",
    "res['aa'] = res['aa'] + res['residue_number'].astype(str)\n",
    "print(json.dumps(list(res['aa'].values)))"
   ]
  },
  {
   "cell_type": "markdown",
   "metadata": {},
   "source": [
    "### Prepare Dataset for Clustering"
   ]
  },
  {
   "cell_type": "code",
   "execution_count": 12,
   "metadata": {},
   "outputs": [
    {
     "name": "stdout",
     "output_type": "stream",
     "text": [
      "Different proteins between the 2 datasets 35 \n",
      "{'5F0P', '1VFY', '1OIZ', '3FSN', '1C1Z', '3RZN', '1S6X', '1TQN', '3IIQ', '1JOC', '2P0M', '3W7R', '3AKM', '1PFO', '1FFJ', '1IAZ', '1LA4', '1GWY', '3JW8', '1COY', '2MH1', '1NL1', '5HXW', '1ES6', '1GYG', '2KS4', '1DVP', '2DDR', '2FNQ', '4X08', '5BZZ', '2AYL', '1H0A', '3NPE', '6BFG'}\n"
     ]
    }
   ],
   "source": [
    "# For these proteins, we will have to add Uniprot IDs manually\n",
    "print(\"Different proteins between the 2 datasets %s \" % len(set(dreamm_files_name) - set(df_reuter_ibs.pdb.unique())))\n",
    "print(set(dreamm_files_name) - set(df_reuter_ibs.pdb.unique()))\n",
    "different_proteins = list(set(dreamm_files_name) & set(df_reuter_ibs.pdb.unique()))"
   ]
  },
  {
   "cell_type": "markdown",
   "metadata": {},
   "source": [
    "#### Prepare json file for all uniprot proteins (UniprotID + PdbID)"
   ]
  },
  {
   "cell_type": "code",
   "execution_count": 13,
   "metadata": {},
   "outputs": [],
   "source": [
    "unique_uniprotID = df_reuter_ibs.uniprot_acc.unique()\n",
    "dict_uniprot = {}\n",
    "\n",
    "for uniq_id in unique_uniprotID:\n",
    "  temp_df = df_reuter_ibs[df_reuter_ibs.uniprot_acc == uniq_id]\n",
    "  unique_pdb = temp_df.pdb.unique()\n",
    "\n",
    "  temp_arr = []\n",
    "  for uniq_pdb in unique_pdb:\n",
    "    temp_arr.append({uniq_pdb: list(temp_df[temp_df.pdb == uniq_pdb].chain_id.unique())})\n",
    "\n",
    "  dict_uniprot[uniq_id] = temp_arr\n",
    "\n",
    "# save to json file\n",
    "json_object = json.dumps(dict_uniprot, indent=2)\n",
    "\n",
    "# Writing to sample.json\n",
    "with open(\"uniprot_proteins.json\", \"w\") as outfile:\n",
    "    outfile.write(json_object)"
   ]
  },
  {
   "cell_type": "markdown",
   "metadata": {},
   "source": [
    "#### Get Uniprot fasta sequences for each protein + Generate fasta & json file"
   ]
  },
  {
   "cell_type": "code",
   "execution_count": 48,
   "metadata": {},
   "outputs": [],
   "source": [
    "f = open('./Datasets/My_Dataset/uniprot_proteins.json')\n",
    "uniprot_proteins = json.load(f)\n",
    "f.close()\n",
    "\n",
    "file = open(\"all_proteins.fasta\", \"a\")\n",
    "\n",
    "for protein in uniprot_proteins.keys():\n",
    "  fasta_file_path = './Datasets/My_Dataset/Proteins_Uniprot_fasta/' + protein + '.fasta' \n",
    "  \n",
    "  for seq_record in SeqIO.parse(fasta_file_path, \"fasta\"):\n",
    "    # Add sequence info to dict and write to file\n",
    "    uniprot_proteins[protein].append({'sequence' : str(seq_record.seq)})\n",
    "    file.write(\"> \" + protein)\n",
    "    file.write('\\n')\n",
    "    file.write(str(seq_record.seq))\n",
    "    file.write('\\n\\n')\n",
    "\n",
    "file.close()\n",
    "\n",
    " # save to json file\n",
    "json_object = json.dumps(uniprot_proteins, indent=2)\n",
    "\n",
    "# Writing to sample.json\n",
    "with open(\"uniprot_proteins_with_seq.json\", \"w\") as outfile:\n",
    "    outfile.write(json_object) "
   ]
  },
  {
   "cell_type": "markdown",
   "metadata": {},
   "source": [
    "### Explore clusters and similarity of proteins"
   ]
  },
  {
   "cell_type": "code",
   "execution_count": 25,
   "metadata": {},
   "outputs": [],
   "source": [
    "temp_dict = {}\n",
    "current_cluster = -1\n",
    "\n",
    "with open('./Datasets/My_Dataset/seq_clustering_results.txt') as f:\n",
    "  for line in f:\n",
    "    # if line starts with >, it means that a new cluster is started\n",
    "    if line[0] == \">\":\n",
    "      temp_dict[line[9:].strip()] = []\n",
    "      current_cluster = line[9:].strip()\n",
    "    else:\n",
    "      # if line ends with *, it means that it's a representative protein\n",
    "      if line.strip()[-1] == \"*\":\n",
    "        temp_dict[current_cluster].append({'representative': re.search(r'\\> (.*?)\\.', line.strip()).group(1)})\n",
    "      elif line.strip()[-1] == \"%\":\n",
    "        temp_dict[current_cluster].append({re.search(r'\\> (.*?)\\.', line.strip()).group(1): float(line.strip()[-6:-1])})\n",
    "\n",
    "# save to json file\n",
    "json_object = json.dumps(temp_dict, indent=2)\n",
    "# Writing to cluster_results.json\n",
    "with open(\"cluster_results.json\", \"w\") as outfile:\n",
    "    outfile.write(json_object)"
   ]
  },
  {
   "cell_type": "code",
   "execution_count": 26,
   "metadata": {},
   "outputs": [
    {
     "name": "stdout",
     "output_type": "stream",
     "text": [
      "total proteins 443 \n"
     ]
    }
   ],
   "source": [
    "f = open('./Datasets/My_Dataset/cluster_results.json')\n",
    "dict_clusters = json.load(f)\n",
    "f.close()\n",
    "\n",
    "temp_dict = {}\n",
    "total_pr = 0\n",
    "\n",
    "for cluster_id in dict_clusters.keys():\n",
    "  temp_dict[cluster_id] = []\n",
    "\n",
    "  for protein in dict_clusters[cluster_id]:\n",
    "    (k, v), = protein.items()\n",
    "    # keep only representative\n",
    "    if k == \"representative\":\n",
    "      temp_dict[cluster_id].append({'representative': v})\n",
    "      total_pr += 1\n",
    "\n",
    "# save to json file\n",
    "json_object = json.dumps(temp_dict, indent=2)\n",
    "# Writing to cluster_results.json\n",
    "with open(\"cluster_results_filtered.json\", \"w\") as outfile:\n",
    "    outfile.write(json_object)\n",
    "\n",
    "print(\"total proteins %i \" % total_pr)"
   ]
  },
  {
   "cell_type": "markdown",
   "metadata": {},
   "source": [
    "### Concstruction of final Dataframe"
   ]
  },
  {
   "cell_type": "code",
   "execution_count": 37,
   "metadata": {},
   "outputs": [],
   "source": [
    "pdb_for_download = []\n",
    "filtered_proteins = []\n",
    "\n",
    "f = open('./Datasets/My_Dataset/uniprot_proteins.json')\n",
    "dict_all_proteins_with_pdb = json.load(f)\n",
    "f.close()\n",
    "\n",
    "f = open('./Datasets/My_Dataset/cluster_results_filtered.json')\n",
    "dict_clusters_filtered = json.load(f)\n",
    "f.close()\n",
    "\n",
    "# for each representative uniprotID, save the pdbs that it matches, so as to download them\n",
    "for cluster_id in dict_clusters_filtered.keys():\n",
    "  for protein in dict_clusters_filtered[cluster_id]:\n",
    "    (k, v), = protein.items()\n",
    "    filtered_proteins.append(v)\n",
    "\n",
    "    for pdbs in dict_all_proteins_with_pdb[v]:\n",
    "      pdb_for_download.append(list(pdbs.keys())[0])\n",
    "\n",
    "np.savetxt('pdb_for_download.txt', pdb_for_download, fmt='%s')\n",
    "np.savetxt('filtered_proteins.txt', filtered_proteins, fmt='%s')"
   ]
  },
  {
   "cell_type": "code",
   "execution_count": 6,
   "metadata": {},
   "outputs": [],
   "source": [
    "def seq_alignment(seq1, seq2):\n",
    "  matrix = matlist.blosum62\n",
    "\n",
    "  gap_open = -10\n",
    "  gap_extend = -1\n",
    "\n",
    "  alignments = pairwise2.align.localds(seq1, seq2, matrix, gap_open, gap_extend)\n",
    "\n",
    "  return alignments"
   ]
  },
  {
   "cell_type": "markdown",
   "metadata": {},
   "source": [
    "#### Alignment"
   ]
  },
  {
   "cell_type": "code",
   "execution_count": 7,
   "metadata": {},
   "outputs": [],
   "source": [
    "# align uniprot seq with pdbs and save it to file\n",
    "with open('./Datasets/My_Dataset/filtered_proteins.txt') as file:\n",
    "  proteins = [line.rstrip() for line in file]\n",
    "\n",
    "f = open('./Datasets/My_Dataset/uniprot_proteins_with_seq.json')\n",
    "dict_all_proteins_with_seq = json.load(f)\n",
    "f.close()\n",
    "\n",
    "temp_dict = {}\n",
    "\n",
    "for prot in proteins:\n",
    "  # the sequence is always located on the last item of the list\n",
    "  uniprot_seq = dict_all_proteins_with_seq[prot].pop()['sequence']\n",
    "  temp_dict[prot] = []\n",
    "  temp_dict[prot].append({'sequence': uniprot_seq})\n",
    "  \n",
    "  already_existing_aligned_seq = []\n",
    "\n",
    "  for pdb in dict_all_proteins_with_seq[prot]:\n",
    "    pdb_id = list(pdb.keys())[0]\n",
    "    chains = pdb[pdb_id]\n",
    "\n",
    "    structure = PDBParser().get_structure(pdb_id.lower(), './Datasets/My_Dataset/Proteins_PDB/' + pdb_id.lower() + '.pdb')\n",
    "    model = structure[0]\n",
    "    \n",
    "    for ch in model:\n",
    "      pdb_res_num = []\n",
    "      seq_pdbParser = ''\n",
    "\n",
    "      # check if we PePr dataset has this chain. If yes, save the sequence and the indexing\n",
    "      if ch.id in chains:\n",
    "        chain = model[ch.id]\n",
    "\n",
    "        for i in chain.get_residues():\n",
    "          if i.resname in list(amino_acids_3l_key.keys()):\n",
    "            seq_pdbParser += amino_acids_3l_key[i.resname]\n",
    "            pdb_res_num.append(i.resname + '' + str(i.get_full_id()[3][1]))\n",
    "        \n",
    "        # align this chain sequence with the uniprot\n",
    "        pdb_aligned = seq_alignment(uniprot_seq, seq_pdbParser)\n",
    "\n",
    "        # check that is not already added -> which means that chains A,B,C,D are the same\n",
    "        if pdb_aligned not in already_existing_aligned_seq:\n",
    "          temp_dict[prot].append({pdb_id + '_' +  ch.id: []})\n",
    "          temp_dict[prot][len(temp_dict[prot])-1][pdb_id + '_' +  ch.id].append({'seq': pdb_aligned[0][1]})\n",
    "          temp_dict[prot][len(temp_dict[prot])-1][pdb_id + '_' +  ch.id].append({'uni_seq' : pdb_aligned[0][0]})\n",
    "          temp_dict[prot][len(temp_dict[prot])-1][pdb_id + '_' +  ch.id].append({'res_num' : pdb_res_num})\n",
    "          already_existing_aligned_seq.append(pdb_aligned)\n",
    "\n",
    "# save to json file\n",
    "json_object = json.dumps(temp_dict, indent=2)\n",
    "# Writing to cluster_results.json\n",
    "with open(\"aligned_results.json\", \"w\") as outfile:\n",
    "    outfile.write(json_object)"
   ]
  },
  {
   "cell_type": "code",
   "execution_count": 87,
   "metadata": {},
   "outputs": [],
   "source": [
    "# construct the initial dataframe with uniprot seq only and the index\n",
    "with open('./Datasets/My_Dataset/filtered_proteins.txt') as file:\n",
    "  proteins = [line.rstrip() for line in file]\n",
    "\n",
    "f = open('./Datasets/My_Dataset/uniprot_proteins_with_seq.json')\n",
    "dict_all_proteins_with_seq = json.load(f)\n",
    "f.close()\n",
    "\n",
    "df_proteins = pd.DataFrame(columns=['uniprot_id', 'residue_1l', 'residue_3l', 'residue_index', 'sequence'])\n",
    "\n",
    "for prot in proteins:\n",
    "  seq = dict_all_proteins_with_seq[prot].pop()['sequence']\n",
    "  for index, char in enumerate(seq):\n",
    "    df_proteins = df_proteins.append({'uniprot_id': prot, 'residue_1l': char, 'residue_3l': amino_acids_1l_key[char], 'residue_index': index + 1, 'sequence': seq}, ignore_index = True)\n",
    "\n",
    "df_proteins.to_csv(\"proteins_dataframe.csv\")"
   ]
  },
  {
   "cell_type": "code",
   "execution_count": 27,
   "metadata": {},
   "outputs": [],
   "source": [
    "df_proteins = pd.read_csv('./Datasets/My_Dataset/proteins_dataframe.csv', index_col=0)\n",
    "df_proteins['is_ibs'] = 0\n",
    "column_to_move = df_proteins.pop(\"is_ibs\")\n",
    "df_proteins.insert(4, \"is_ibs\", column_to_move)"
   ]
  },
  {
   "cell_type": "code",
   "execution_count": 7,
   "metadata": {},
   "outputs": [],
   "source": [
    "f = open('./Datasets/My_Dataset/aligned_results.json')\n",
    "dict_aligned = json.load(f)\n",
    "f.close()\n",
    "\n",
    "df_proteins = pd.read_csv('./Datasets/My_Dataset/proteins_dataframe.csv', index_col=0)\n",
    "df_proteins['is_ibs'] = 0\n",
    "column_to_move = df_proteins.pop(\"is_ibs\")\n",
    "df_proteins.insert(4, \"is_IBS\", column_to_move)\n",
    "\n",
    "for protein in dict_aligned.keys():\n",
    "  # remove sequence\n",
    "  dict_aligned[protein].pop(0)\n",
    "\n",
    "  for pdb in dict_aligned[protein]:\n",
    "    pdb_key = list(pdb.keys())[0]\n",
    "    pdb_id = pdb_key[:4]\n",
    "    chain = pdb_key[-1]\n",
    "\n",
    "    pdb_seq_aligned = pdb[pdb_key][0]['seq']\n",
    "    uniprot_seq_aligned = pdb[pdb_key][1]['uni_seq']\n",
    "    res_num = pdb[pdb_key][2]['res_num']\n",
    "\n",
    "    # get amino acid position that interact with the membrane\n",
    "    df_protein_ibs = df_reuter_ibs[(df_reuter_ibs['uniprot_acc'] == protein) & (df_reuter_ibs['pdb'] == pdb_id) & (df_reuter_ibs['chain_id'] == chain)].sort_values(by=['residue_number'])\n",
    "    ibs_aa = (df_protein_ibs.residue_name.apply(lambda x: x) + df_protein_ibs.residue_number.astype(str)).values\n",
    "    \n",
    "    pdb_index = 0\n",
    "    uniprot_index = 0\n",
    "    for i in range(len(pdb_seq_aligned)):\n",
    "      # check that the sequences have common amino acid or just mismatch \n",
    "      if uniprot_seq_aligned[i] == pdb_seq_aligned[i] :\n",
    "        # check if the residue belogns to ibs amino acids\n",
    "        if res_num[pdb_index] in ibs_aa: # if yes, its a IBS -> update value\n",
    "          df_proteins.loc[(df_proteins['uniprot_id']== protein) & (df_proteins['residue_index'] == uniprot_index+1), ['is_IBS']] = 1\n",
    "          \n",
    "        pdb_index += 1\n",
    "        uniprot_index += 1\n",
    "      # in case that uniprot sequence has gap '-', only the pdb has amino acid\n",
    "      elif uniprot_seq_aligned[i] == '-':\n",
    "        pdb_index += 1\n",
    "      # in case that pdb sequence has gap '-', only the uniprot has amino acid\n",
    "      elif pdb_seq_aligned[i] == '-':\n",
    "        uniprot_index += 1\n",
    "      # in case that (uniprot_seq_aligned[i] != '-' and pdb_seq_aligned[i] != '-') -> just mismatch\n",
    "      else:\n",
    "        pdb_index += 1\n",
    "        uniprot_index += 1\n",
    "\n",
    "# save final file\n",
    "# df_proteins.to_csv(\"proteins_df_annotated.csv\")"
   ]
  },
  {
   "cell_type": "markdown",
   "metadata": {},
   "source": [
    "### Check final dataset file's info"
   ]
  },
  {
   "cell_type": "code",
   "execution_count": 4,
   "metadata": {},
   "outputs": [
    {
     "data": {
      "text/html": [
       "<div>\n",
       "<style scoped>\n",
       "    .dataframe tbody tr th:only-of-type {\n",
       "        vertical-align: middle;\n",
       "    }\n",
       "\n",
       "    .dataframe tbody tr th {\n",
       "        vertical-align: top;\n",
       "    }\n",
       "\n",
       "    .dataframe thead th {\n",
       "        text-align: right;\n",
       "    }\n",
       "</style>\n",
       "<table border=\"1\" class=\"dataframe\">\n",
       "  <thead>\n",
       "    <tr style=\"text-align: right;\">\n",
       "      <th></th>\n",
       "      <th>uniprot_id</th>\n",
       "      <th>residue_1l</th>\n",
       "      <th>residue_3l</th>\n",
       "      <th>residue_index</th>\n",
       "      <th>is_IBS</th>\n",
       "      <th>sequence</th>\n",
       "    </tr>\n",
       "    <tr>\n",
       "      <th>id</th>\n",
       "      <th></th>\n",
       "      <th></th>\n",
       "      <th></th>\n",
       "      <th></th>\n",
       "      <th></th>\n",
       "      <th></th>\n",
       "    </tr>\n",
       "  </thead>\n",
       "  <tbody>\n",
       "    <tr>\n",
       "      <th>0</th>\n",
       "      <td>P14555</td>\n",
       "      <td>M</td>\n",
       "      <td>MET</td>\n",
       "      <td>1</td>\n",
       "      <td>0</td>\n",
       "      <td>MKTLLLLAVIMIFGLLQAHGNLVNFHRMIKLTTGKEAALSYGFYGC...</td>\n",
       "    </tr>\n",
       "    <tr>\n",
       "      <th>1</th>\n",
       "      <td>P14555</td>\n",
       "      <td>K</td>\n",
       "      <td>LYS</td>\n",
       "      <td>2</td>\n",
       "      <td>0</td>\n",
       "      <td>MKTLLLLAVIMIFGLLQAHGNLVNFHRMIKLTTGKEAALSYGFYGC...</td>\n",
       "    </tr>\n",
       "    <tr>\n",
       "      <th>2</th>\n",
       "      <td>P14555</td>\n",
       "      <td>T</td>\n",
       "      <td>THR</td>\n",
       "      <td>3</td>\n",
       "      <td>0</td>\n",
       "      <td>MKTLLLLAVIMIFGLLQAHGNLVNFHRMIKLTTGKEAALSYGFYGC...</td>\n",
       "    </tr>\n",
       "    <tr>\n",
       "      <th>3</th>\n",
       "      <td>P14555</td>\n",
       "      <td>L</td>\n",
       "      <td>LEU</td>\n",
       "      <td>4</td>\n",
       "      <td>0</td>\n",
       "      <td>MKTLLLLAVIMIFGLLQAHGNLVNFHRMIKLTTGKEAALSYGFYGC...</td>\n",
       "    </tr>\n",
       "    <tr>\n",
       "      <th>4</th>\n",
       "      <td>P14555</td>\n",
       "      <td>L</td>\n",
       "      <td>LEU</td>\n",
       "      <td>5</td>\n",
       "      <td>0</td>\n",
       "      <td>MKTLLLLAVIMIFGLLQAHGNLVNFHRMIKLTTGKEAALSYGFYGC...</td>\n",
       "    </tr>\n",
       "    <tr>\n",
       "      <th>...</th>\n",
       "      <td>...</td>\n",
       "      <td>...</td>\n",
       "      <td>...</td>\n",
       "      <td>...</td>\n",
       "      <td>...</td>\n",
       "      <td>...</td>\n",
       "    </tr>\n",
       "    <tr>\n",
       "      <th>325938</th>\n",
       "      <td>P01441</td>\n",
       "      <td>T</td>\n",
       "      <td>THR</td>\n",
       "      <td>56</td>\n",
       "      <td>0</td>\n",
       "      <td>LKCKKLVPLFSKTCPAGKNLCYKMFMVAAPHVPVKRGCIDVCPKSS...</td>\n",
       "    </tr>\n",
       "    <tr>\n",
       "      <th>325939</th>\n",
       "      <td>P01441</td>\n",
       "      <td>D</td>\n",
       "      <td>ASP</td>\n",
       "      <td>57</td>\n",
       "      <td>0</td>\n",
       "      <td>LKCKKLVPLFSKTCPAGKNLCYKMFMVAAPHVPVKRGCIDVCPKSS...</td>\n",
       "    </tr>\n",
       "    <tr>\n",
       "      <th>325940</th>\n",
       "      <td>P01441</td>\n",
       "      <td>K</td>\n",
       "      <td>LYS</td>\n",
       "      <td>58</td>\n",
       "      <td>0</td>\n",
       "      <td>LKCKKLVPLFSKTCPAGKNLCYKMFMVAAPHVPVKRGCIDVCPKSS...</td>\n",
       "    </tr>\n",
       "    <tr>\n",
       "      <th>325941</th>\n",
       "      <td>P01441</td>\n",
       "      <td>C</td>\n",
       "      <td>CYS</td>\n",
       "      <td>59</td>\n",
       "      <td>0</td>\n",
       "      <td>LKCKKLVPLFSKTCPAGKNLCYKMFMVAAPHVPVKRGCIDVCPKSS...</td>\n",
       "    </tr>\n",
       "    <tr>\n",
       "      <th>325942</th>\n",
       "      <td>P01441</td>\n",
       "      <td>N</td>\n",
       "      <td>ASN</td>\n",
       "      <td>60</td>\n",
       "      <td>0</td>\n",
       "      <td>LKCKKLVPLFSKTCPAGKNLCYKMFMVAAPHVPVKRGCIDVCPKSS...</td>\n",
       "    </tr>\n",
       "  </tbody>\n",
       "</table>\n",
       "<p>325943 rows × 6 columns</p>\n",
       "</div>"
      ],
      "text/plain": [
       "       uniprot_id residue_1l residue_3l  residue_index  is_IBS  \\\n",
       "id                                                               \n",
       "0          P14555          M        MET              1       0   \n",
       "1          P14555          K        LYS              2       0   \n",
       "2          P14555          T        THR              3       0   \n",
       "3          P14555          L        LEU              4       0   \n",
       "4          P14555          L        LEU              5       0   \n",
       "...           ...        ...        ...            ...     ...   \n",
       "325938     P01441          T        THR             56       0   \n",
       "325939     P01441          D        ASP             57       0   \n",
       "325940     P01441          K        LYS             58       0   \n",
       "325941     P01441          C        CYS             59       0   \n",
       "325942     P01441          N        ASN             60       0   \n",
       "\n",
       "                                                 sequence  \n",
       "id                                                         \n",
       "0       MKTLLLLAVIMIFGLLQAHGNLVNFHRMIKLTTGKEAALSYGFYGC...  \n",
       "1       MKTLLLLAVIMIFGLLQAHGNLVNFHRMIKLTTGKEAALSYGFYGC...  \n",
       "2       MKTLLLLAVIMIFGLLQAHGNLVNFHRMIKLTTGKEAALSYGFYGC...  \n",
       "3       MKTLLLLAVIMIFGLLQAHGNLVNFHRMIKLTTGKEAALSYGFYGC...  \n",
       "4       MKTLLLLAVIMIFGLLQAHGNLVNFHRMIKLTTGKEAALSYGFYGC...  \n",
       "...                                                   ...  \n",
       "325938  LKCKKLVPLFSKTCPAGKNLCYKMFMVAAPHVPVKRGCIDVCPKSS...  \n",
       "325939  LKCKKLVPLFSKTCPAGKNLCYKMFMVAAPHVPVKRGCIDVCPKSS...  \n",
       "325940  LKCKKLVPLFSKTCPAGKNLCYKMFMVAAPHVPVKRGCIDVCPKSS...  \n",
       "325941  LKCKKLVPLFSKTCPAGKNLCYKMFMVAAPHVPVKRGCIDVCPKSS...  \n",
       "325942  LKCKKLVPLFSKTCPAGKNLCYKMFMVAAPHVPVKRGCIDVCPKSS...  \n",
       "\n",
       "[325943 rows x 6 columns]"
      ]
     },
     "execution_count": 4,
     "metadata": {},
     "output_type": "execute_result"
    }
   ],
   "source": [
    "df = pd.read_csv('./Datasets/My_Dataset/proteins_df_annotated.csv', index_col=0)\n",
    "df"
   ]
  },
  {
   "cell_type": "code",
   "execution_count": 30,
   "metadata": {},
   "outputs": [
    {
     "data": {
      "text/plain": [
       "Text(0, 0.5, 'Number of Amino acids')"
      ]
     },
     "execution_count": 30,
     "metadata": {},
     "output_type": "execute_result"
    },
    {
     "data": {
      "image/png": "[encoded data removed]",
      "text/plain": [
       "<Figure size 504x432 with 1 Axes>"
      ]
     },
     "metadata": {
      "needs_background": "light"
     },
     "output_type": "display_data"
    }
   ],
   "source": [
    "import matplotlib.pyplot as plt\n",
    "df.is_IBS.value_counts().plot(kind='bar', figsize=(7, 6), rot=0)\n",
    "plt.xlabel(\"Is IBS?\", labelpad=14)\n",
    "plt.ylabel(\"Number of Amino acids\", labelpad=14)"
   ]
  },
  {
   "cell_type": "code",
   "execution_count": 16,
   "metadata": {},
   "outputs": [
    {
     "name": "stdout",
     "output_type": "stream",
     "text": [
      "Proteins without annotation 33\n",
      "Pdbs of uniprot 33\n",
      "\n",
      "Common DREAMM proteins with mine and without annotation: 32\n",
      "['5F0P', '1VFY', '1OIZ', '3FSN', '1C1Z', '3RZN', '1S6X', '1TQN', '3IIQ', '1JOC', '2P0M', '3W7R', '1PFO', '3AKM', '1FFJ', '1IAZ', '1COY', '3JW8', '2MH1', '1GYG', '1NL1', '5HXW', '1ES6', '1DVP', '2DDR', '2FNQ', '4X08', '5BZZ', '2AYL', '1H0A', '3NPE', '6BFG']\n",
      "\n",
      "['P61914', 'Q15075', 'O16025', 'Q96QK1', 'Q960X8', 'P12530', 'P00735', 'P40343', 'O24592', 'P05979', 'O88339', 'P22637', 'Q28175', 'P08684', 'P0C2E9', 'Q9LCB2', 'P60484', 'P0C216', 'Q02127', 'P20932', 'P02749', 'P11889', 'Q77DJ6', 'P00803', 'Q99685', 'P49638', 'Q9NZD2', 'P00720', 'P12724', 'P12104', 'P56254', 'P60980', 'P01441']\n"
     ]
    }
   ],
   "source": [
    "unique_prot = df.uniprot_id.unique()\n",
    "\n",
    "prot = []\n",
    "# check that all the proteins have annoted amino acids\n",
    "for id in unique_prot:\n",
    "  if len(df[df.uniprot_id == id].is_IBS.unique()) == 1:\n",
    "    prot.append(id)\n",
    "\n",
    "print('Proteins without annotation %s' % len(prot))\n",
    "\n",
    "f = open('./Datasets/My_Dataset/uniprot_proteins.json')\n",
    "dict_proteins = json.load(f)\n",
    "f.close()\n",
    "\n",
    "pdbs_no_annot = []\n",
    "for p in prot:\n",
    "  for pdb in dict_proteins[p]:\n",
    "    pdbs_no_annot.append(list(pdb.keys())[0])\n",
    "\n",
    "print(\"Pdbs of uniprot %s\" % len(pdbs_no_annot))\n",
    "\n",
    "print()\n",
    "common_pdbs_no_annot = list(set(dreamm_files_name) & set(pdbs_no_annot))\n",
    "print(f'Common DREAMM proteins with mine and without annotation: {len(common_pdbs_no_annot)}')\n",
    "print(common_pdbs_no_annot)\n",
    "\n",
    "print()\n",
    "print(prot)\n",
    "# All proteins without annotation are locating in DREAMMs dataset"
   ]
  }
 ],
 "metadata": {
  "kernelspec": {
   "display_name": "tensorflow",
   "language": "python",
   "name": "python3"
  },
  "language_info": {
   "codemirror_mode": {
    "name": "ipython",
    "version": 3
   },
   "file_extension": ".py",
   "mimetype": "text/x-python",
   "name": "python",
   "nbconvert_exporter": "python",
   "pygments_lexer": "ipython3",
   "version": "3.9.13"
  },
  "orig_nbformat": 4,
  "vscode": {
   "interpreter": {
    "hash": "8a5edab282632443219e051e4ade2d1d5bbc671c781051bf1437897cbdfea0f1"
   }
  }
 },
 "nbformat": 4,
 "nbformat_minor": 2
}
