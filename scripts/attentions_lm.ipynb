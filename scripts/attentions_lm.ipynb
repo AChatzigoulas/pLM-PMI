{
 "cells": [
  {
   "cell_type": "code",
   "execution_count": 1,
   "metadata": {},
   "outputs": [],
   "source": [
    "import pandas as pd\n",
    "import numpy as np\n",
    "from transformers import T5Tokenizer, T5EncoderModel, EsmTokenizer, EsmModel\n",
    "import torch\n",
    "import json\n",
    "from tqdm import tqdm\n",
    "import matplotlib.pyplot as plt\n",
    "import seaborn as sns\n",
    "import glob\n",
    "import joblib\n",
    "from collections import Counter\n",
    "\n",
    "from sklearn.linear_model import SGDClassifier\n",
    "from sklearn.metrics import f1_score, balanced_accuracy_score, matthews_corrcoef, confusion_matrix"
   ]
  },
  {
   "cell_type": "code",
   "execution_count": 4,
   "metadata": {},
   "outputs": [],
   "source": [
    "df = pd.read_csv('./Datasets/My_Dataset/proteins_df_annotated.csv', index_col=0)\n",
    "uniprot_id = list(df.uniprot_id.unique())"
   ]
  },
  {
   "cell_type": "code",
   "execution_count": 5,
   "metadata": {},
   "outputs": [],
   "source": [
    "# remove sequences with length > 1024 and sequences with no IBS\n",
    "\n",
    "valid_seq = []\n",
    "for seq in df.sequence.unique():\n",
    "    if len(seq) < 1024 and sum(df[df.sequence == seq].is_IBS.values) != 0:\n",
    "      valid_seq.append(df[df.sequence == seq].uniprot_id.unique()[0])\n",
    "\n",
    "df = df[df.uniprot_id.isin(valid_seq)]"
   ]
  },
  {
   "attachments": {},
   "cell_type": "markdown",
   "metadata": {},
   "source": [
    "#### Sum of weight function"
   ]
  },
  {
   "cell_type": "code",
   "execution_count": 4,
   "metadata": {},
   "outputs": [],
   "source": [
    "def calc_labels_and_weight(attention, y, attention_threshold):\n",
    "  sum_attention_labels = 0\n",
    "  sum_attention = 0\n",
    "  for i in range(0, attention.shape[0]):\n",
    "    for j in range(0, attention.shape[1]):\n",
    "      # if attention weight is greater than threshold, it means that it is high-confidence attention\n",
    "      if attention[i][j] > attention_threshold:\n",
    "        sum_attention_labels += y[j] * attention[i][j]\n",
    "        sum_attention += attention[i][j]\n",
    "\n",
    "  return sum_attention_labels, sum_attention"
   ]
  },
  {
   "attachments": {},
   "cell_type": "markdown",
   "metadata": {},
   "source": [
    "### protTrans model - prot_t5_xl_half_uniref50-enc"
   ]
  },
  {
   "cell_type": "code",
   "execution_count": 2,
   "metadata": {},
   "outputs": [],
   "source": [
    "############### load model ###############\n",
    "\n",
    "# For feature extraction we recommend to use the encoder embedding\n",
    "# Load ProtT5 in half-precision (more specifically: the encoder-part of ProtT5-XL-U50) \n",
    "tokenizer = T5Tokenizer.from_pretrained('Rostlab/prot_t5_xl_half_uniref50-enc', do_lower_case=False)\n",
    "\n",
    "model = T5EncoderModel.from_pretrained(\"Rostlab/prot_t5_xl_half_uniref50-enc\", torch_dtype=torch.float16)\n",
    "# Currently (06/2022) half-precision models cannot be used on CPU. If you want to use the encoder only version on CPU, you need to cast it to its full-precision version (model=model.float())\n",
    "model=model.float()"
   ]
  },
  {
   "cell_type": "code",
   "execution_count": 6,
   "metadata": {},
   "outputs": [
    {
     "name": "stderr",
     "output_type": "stream",
     "text": [
      "309it [00:20, 14.99it/s]\n"
     ]
    }
   ],
   "source": [
    "proteins_with_seq = df[['uniprot_id', 'sequence']].groupby('uniprot_id').apply(lambda x: list(np.unique(x['sequence']))[0].replace('U','X').replace('Z','X').replace('O','X')).to_dict()\n",
    "results = dict()\n",
    "\n",
    "is_logistic = True\n",
    "# read proteins from json file - Logistic Regression\n",
    "if is_logistic:\n",
    "  file = open('./attentions/proteins_logistic.json')\n",
    "  proteins = json.load(file)\n",
    "  file.close()\n",
    "else:\n",
    "  # read proteins from json file - Mathematical Model\n",
    "  file = open('./attentions/attention_head_results.json')\n",
    "  proteins = list(json.load(file)['proteins'][0].keys())\n",
    "  file.close()\n",
    "\n",
    "for seq_idx, (pdb_id, seq) in tqdm(enumerate(proteins_with_seq.items())):\n",
    "  seq = seq\n",
    "  seq_len = len(seq)\n",
    "  seq = ' '.join(list(seq)) # add space between each AA\n",
    "\n",
    "  if pdb_id in proteins['test'] and is_logistic:\n",
    "  # if pdb_id in proteins:\n",
    "    token_encoding = tokenizer(seq, return_tensors='pt')\n",
    "    # token_encoding = tokenizer(seq, return_tensors='pt', padding='max_length', truncation=True, max_length=2000)\n",
    "\n",
    "    try:\n",
    "      with torch.no_grad():\n",
    "        embedding_repr = model(**token_encoding, output_attentions=True)\n",
    "    except RuntimeError:\n",
    "      print(\"RuntimeError during embedding for {} (L={})\".format(pdb_id, seq_len))\n",
    "      continue\n",
    "\n",
    "    results[pdb_id] = embedding_repr"
   ]
  },
  {
   "cell_type": "code",
   "execution_count": 7,
   "metadata": {},
   "outputs": [
    {
     "data": {
      "text/plain": [
       "dict_keys(['A3DK57', 'A4I5U9', 'A6KXE5', 'A6L916', 'A6LIT8'])"
      ]
     },
     "execution_count": 7,
     "metadata": {},
     "output_type": "execute_result"
    }
   ],
   "source": [
    "results.keys()"
   ]
  },
  {
   "cell_type": "code",
   "execution_count": 9,
   "metadata": {},
   "outputs": [
    {
     "data": {
      "text/plain": [
       "'MRKRKLGFSAVIFITIIAIFGCFLDLRISAAPNEYKFDFGAGPVEPGYIGVSASTAYSKSRGYGFNTPWNMRDVAASGSGLTSDAVQFLTYGTKSENTFNVDLDNGLYEVKVTLGNTSRASVAAEGVYQIINMTGNCATDKFQIPITDGQLNILVTAGKEGTPFTLSALEIRKISDVPVTNRTIYIGGDSTVCNYYPLDTSAQAGWGQMLHKFVDTNVFQIRNMASSGQFARGFRDDGQFEAIMKYLKPGDIFILQFGINDTNSKNSTTEAQFKEIMTDMVVKAKATGATVVLSTPQGRATDFNSSNVHDSQGRWYRRATIEVAREQGVRLVDLNVLSSAYFTSIGPEATLALYMPGDTLHPNREGATQLARIVAEELADLLKAPVATPTSGPSATPTPIPNSFIYGDVNGNGSIESTDCVWVKRYLLKQIDSFPNENGARAADVNGNGTIDSTDYQLLKRFILKVINEFPVQKQKNEPVIYQAEDAIIYNAILETVNAGYTGSCYVNYHNEVGGYIEWNVNAPSSGSYALIFRYANGTTANRPMRITVNGNIVKPSMDFVSTGAWTTWNEAGIVANLNQGNNVIRATAIASDGGPNVDYLKVFSANAFQPVSEEKITIYIAGDSTVQTYNASYAPQAGWGQFLGQYFTSNVVIENRAIAGRSSRSFVEEGRLDSILSVIKPGDYLFIQFGHNDADISKPERYSAPYTTYKEYLRKYVDGARQKGAIPVLITPVARLNYKNNAFVNDFPDYCTAMKQVAEEKNVKLIDLMTKSLNYYNSIGYNETYKLFMVSVNNTDYTHFTEKGAQQIARLVAQGVKEANLDIAKYLKTN'"
      ]
     },
     "execution_count": 9,
     "metadata": {},
     "output_type": "execute_result"
    }
   ],
   "source": [
    "df[df.uniprot_id == 'A3DK57'].sequence.unique()[0]"
   ]
  },
  {
   "cell_type": "code",
   "execution_count": 8,
   "metadata": {},
   "outputs": [
    {
     "name": "stdout",
     "output_type": "stream",
     "text": [
      "24\n",
      "torch.Size([1, 32, 832, 832])\n",
      "torch.Size([1, 831, 831])\n",
      "tensor([[[4.2395e-05, 7.5528e-05, 5.2556e-04,  ..., 9.1941e-04,\n",
      "          9.4561e-04, 2.5382e-03],\n",
      "         [3.2223e-05, 9.3920e-06, 2.6272e-04,  ..., 8.2004e-04,\n",
      "          8.5428e-04, 1.7916e-03],\n",
      "         [2.4855e-06, 7.7039e-06, 4.5867e-05,  ..., 8.3666e-04,\n",
      "          2.9673e-04, 2.8818e-03],\n",
      "         ...,\n",
      "         [1.0623e-03, 1.8666e-04, 1.4364e-03,  ..., 1.6277e-03,\n",
      "          8.0372e-03, 7.7264e-03],\n",
      "         [1.3858e-03, 3.0287e-04, 1.9634e-03,  ..., 1.2281e-03,\n",
      "          7.4334e-04, 1.3665e-02],\n",
      "         [1.3865e-04, 3.4428e-05, 7.2357e-05,  ..., 6.7438e-06,\n",
      "          1.0696e-05, 3.5836e-01]]])\n"
     ]
    }
   ],
   "source": [
    "# layers are 24 -> # of hidden layers [attentions[0:23] are the self-attention layers]\n",
    "# [ batch_size, num_attention_heads , seq_len + 1, seq_len + 1 ]\n",
    "# the +2 are the SEP, CLS tokens -> [:max_seq_len - 2]\n",
    "pr = 'A3DK57'\n",
    "print(len(results[pr].attentions))\n",
    "print(results[pr].attentions[0].shape)\n",
    "print(results[pr].attentions[0][:,0,:-1,:-1].shape)\n",
    "print(results[pr].attentions[0][:,0,:,:])\n",
    "# print(results[pr].attentions[1][:,0,:,:].detach().cpu().numpy().squeeze())"
   ]
  },
  {
   "attachments": {},
   "cell_type": "markdown",
   "metadata": {},
   "source": [
    "#### Logistic Regression"
   ]
  },
  {
   "cell_type": "code",
   "execution_count": null,
   "metadata": {},
   "outputs": [],
   "source": [
    "def mostCommon(lst):\n",
    "  return [Counter(col).most_common(1)[0][0] for col in zip(*lst)]"
   ]
  },
  {
   "attachments": {},
   "cell_type": "markdown",
   "metadata": {},
   "source": [
    "##### Prepare files"
   ]
  },
  {
   "cell_type": "code",
   "execution_count": 6,
   "metadata": {},
   "outputs": [
    {
     "name": "stderr",
     "output_type": "stream",
     "text": [
      "100%|██████████| 5/5 [54:33<00:00, 654.77s/it]\n"
     ]
    }
   ],
   "source": [
    "### prepapre data for training - export each protein to a csv file\n",
    "\n",
    "col_names = []\n",
    "# make column names\n",
    "for i in range(24):\n",
    "  for j in range(32):\n",
    "    col_names.append(f\"{i}_{j}\")\n",
    "\n",
    "for pdb_id in tqdm(results.keys()):\n",
    "  ibs = df[df.uniprot_id == pdb_id].is_IBS.values\n",
    "\n",
    "  # create a temporary dataframe with number of rows = seq_len * seq_len -> for each combination of positions\n",
    "  temp_df = pd.DataFrame(columns=col_names)\n",
    "\n",
    "  # add attention scores\n",
    "  for layer in range(24):\n",
    "    for head in range(32):\n",
    "      temp_df[str(layer) + \"_\" + str(head)] = results[pdb_id].attentions[layer][:,head,:-1,:-1].detach().cpu().numpy().squeeze().flatten().astype(np.float16)\n",
    "\n",
    "  # combine weight & target values into one dataframe and save to csv\n",
    "  pd.concat([temp_df, pd.DataFrame({'target': np.tile(ibs.reshape(-1,1), (len(ibs), 1)).reshape(-1,1).squeeze()})], axis=1).to_csv(\"./attentions/protTrans/\" + pdb_id + \".csv\")"
   ]
  },
  {
   "cell_type": "code",
   "execution_count": 7,
   "metadata": {},
   "outputs": [
    {
     "name": "stderr",
     "output_type": "stream",
     "text": [
      "100%|██████████| 30/30 [01:03<00:00,  2.12s/it]\n"
     ]
    }
   ],
   "source": [
    "# combine all csv files into one dataframe\n",
    "file = open('./attentions/proteins_logistic.json')\n",
    "proteins = json.load(file)\n",
    "file.close()\n",
    "\n",
    "# get all csv files\n",
    "csv_files = glob.glob(\"./attentions/protTrans/*.csv\")\n",
    "\n",
    "# create a list of dataframes\n",
    "df_list = []\n",
    "\n",
    "type_set = 'val_dreamm'\n",
    "# loop through all csv files\n",
    "for filename in tqdm(csv_files):\n",
    "  # add column with protein name\n",
    "  protein = filename.split(\"/\")[-1].split(\".\")[0]\n",
    "  if protein not in proteins[type_set]:\n",
    "    continue\n",
    "\n",
    "  temp_df = pd.read_csv(filename)\n",
    "  temp_df['uniprot_id'] = protein\n",
    "  df_list.append(temp_df)\n",
    "  \n",
    "del temp_df\n",
    "# concatenate all dataframes into one dataframe\n",
    "df = pd.concat(df_list, ignore_index=True)\n",
    "df.drop(columns=['Unnamed: 0'], axis = 1, inplace = True)\n",
    "df.to_csv('./attentions/attention_weights_' + type_set +'_protTrans.csv', index=False)"
   ]
  },
  {
   "attachments": {},
   "cell_type": "markdown",
   "metadata": {},
   "source": [
    "#### Train Model"
   ]
  },
  {
   "cell_type": "code",
   "execution_count": null,
   "metadata": {},
   "outputs": [],
   "source": [
    "df_train1 = pd.read_csv('attention_weights_train_protTrans1.csv')\n",
    "df_train2 = pd.read_csv('attention_weights_train_protTrans2.csv')\n",
    "df_test = pd.read_csv('attention_weights_test_protTrans.csv')\n",
    "\n",
    "# convert all columns to float16\n",
    "y_train1 = df_train1['target']\n",
    "y_train2 = df_train2['target']\n",
    "y_test = df_test['target']\n",
    "#y_labels = df_train['uniprot_id']\n",
    "df_train1.drop(['target', 'uniprot_id'], axis=1, inplace=True)\n",
    "df_train1 = df_train1.astype(np.float16)\n",
    "\n",
    "df_train2.drop(['target', 'uniprot_id'], axis=1, inplace=True)\n",
    "df_train2 = df_train2.astype(np.float16)\n",
    "\n",
    "clf_sgd = SGDClassifier(\n",
    "    loss='log_loss', \n",
    "    penalty='l1', \n",
    "    class_weight={0: 0.52792312, 1: 7.45315418},\n",
    "    n_jobs=-1, \n",
    "    random_state=42\n",
    ")\n",
    "\n",
    "# Fit the model to the training data in mini-batches - protTrans\n",
    "clf_sgd.partial_fit(df_train1, y_train1, classes=[0, 1])\n",
    "clf_sgd.partial_fit(df_train2, y_train2, classes=[0, 1])"
   ]
  },
  {
   "cell_type": "code",
   "execution_count": null,
   "metadata": {},
   "outputs": [],
   "source": [
    "heat_map = np.zeros((24, 32)) # protTrans\n",
    "\n",
    "layer = 0\n",
    "head = 0\n",
    "for coe in clf_sgd.coef_[0]:\n",
    "    if head == 31: # protTrans\n",
    "        heat_map[layer][head] = abs(coe)\n",
    "        head = 0\n",
    "        layer +=1\n",
    "    else:\n",
    "        heat_map[layer][head] = abs(coe)\n",
    "        head += 1\n",
    "\n",
    "ax = sns.heatmap(heat_map, cmap=\"Blues\", linewidth=.5, fmt=\".2f%\", cbar=False)\n",
    "ax.invert_yaxis()\n",
    "cbar = ax.figure.colorbar(ax.collections[0])\n",
    "cbar.set_ticks([i for i in range(0, int(round(heat_map.max(), -1) + 10), 5)])\n",
    "cbar.set_ticklabels([str(i) + \"\" for i in range(0, int(round(heat_map.max(), -1) + 10), 5)])\n",
    "\n",
    "plt.xlabel('Attention head')\n",
    "plt.ylabel('Hidden layer')\n",
    "plt.title('Coefficients of SGD (stochastic gradient descent)')\n",
    "plt.show()"
   ]
  },
  {
   "cell_type": "code",
   "execution_count": null,
   "metadata": {},
   "outputs": [],
   "source": [
    "### Evaluate the model on the test set\n",
    "threshold = 0.5\n",
    "\n",
    "# predict the test data\n",
    "y_pred = clf_sgd.predict(df_test.drop(['target', 'uniprot_id'], axis=1, inplace=False))\n",
    "y_pred_proba = clf_sgd.predict_proba(df_test.drop(['target', 'uniprot_id'], axis=1, inplace=False))\n",
    "\n",
    "# contruct a dataframe with the predictions\n",
    "df_proteins = pd.DataFrame(columns=['y_true', 'uniprot_id', 'y_pred', 'y_pred_proba'])\n",
    "df_proteins['y_true'] = df_test['target']\n",
    "df_proteins['uniprot_id'] = df_test['uniprot_id']\n",
    "df_proteins['y_pred'] = y_pred\n",
    "df_proteins['y_pred_proba'] = y_pred_proba[:,1]\n",
    "\n",
    "\n",
    "y_true_final = []\n",
    "y_pred_final = []\n",
    "\n",
    "for protein in df_proteins.uniprot_id.unique():\n",
    "  target_prot = df_proteins[df_proteins.uniprot_id == protein].y_true\n",
    "\n",
    "  seq_len = int(np.sqrt(len(target_prot)))\n",
    "\n",
    "  # convert to the appropriate shape -> seq_len x seq_len\n",
    "  target_prot_true = np.array(target_prot).reshape(seq_len,int(len(target_prot)/seq_len))\n",
    "  y_pred_arr = np.array(df_proteins[df_proteins.uniprot_id == protein].y_pred).reshape(seq_len,int(len(df_proteins[df_proteins.uniprot_id == protein].y_pred)/seq_len))\n",
    "  y_pred_arr_proba = np.array(df_proteins[df_proteins.uniprot_id == protein].y_pred_proba).reshape(seq_len,int(len(df_proteins[df_proteins.uniprot_id == protein].y_pred_proba)/seq_len))\n",
    "\n",
    "  y_true_final = np.concatenate((y_true_final, mostCommon(target_prot_true)))\n",
    "  y_pred_final = np.concatenate((y_pred_final, ((y_pred_arr_proba.mean(axis=0) > threshold) + 0)))\n",
    "\n",
    "print('F1 score: %.3f ' % f1_score(y_true_final, y_pred_final))\n",
    "print('MCC: %.3f ' % matthews_corrcoef(y_true_final, y_pred_final))\n",
    "print('Balanced accuracy: %.3f ' % balanced_accuracy_score(y_true_final, y_pred_final))\n",
    "\n",
    "cm = confusion_matrix(y_true_final, y_pred_final)\n",
    "cm = pd.DataFrame(cm , index = ['0','1'] , columns = ['0','1'])\n",
    "print(cm)"
   ]
  },
  {
   "attachments": {},
   "cell_type": "markdown",
   "metadata": {},
   "source": [
    "#### Predict proteins"
   ]
  },
  {
   "cell_type": "code",
   "execution_count": 3,
   "metadata": {},
   "outputs": [
    {
     "name": "stderr",
     "output_type": "stream",
     "text": [
      "/Users/dparanou/opt/miniconda3/envs/tensorflow/lib/python3.9/site-packages/sklearn/base.py:329: UserWarning: Trying to unpickle estimator SGDClassifier from version 1.2.0 when using version 1.1.3. This might lead to breaking code or invalid results. Use at your own risk. For more info please refer to:\n",
      "https://scikit-learn.org/stable/model_persistence.html#security-maintainability-limitations\n",
      "  warnings.warn(\n"
     ]
    }
   ],
   "source": [
    "# load model\n",
    "clf_sgd = joblib.load(\"./attentions/models/model_protTrans.pkl\")\n",
    "\n",
    "dataset = 'val_dreamm'\n",
    "df_test = pd.read_csv(f'./attentions/attention_weights_{dataset}_protTrans.csv')\n",
    "y_test = df_test['target']\n",
    "threshold = 0.5\n",
    "\n",
    "# predict the test data\n",
    "y_pred = clf_sgd.predict(df_test.drop(['target', 'uniprot_id'], axis=1, inplace=False))\n",
    "y_pred_proba = clf_sgd.predict_proba(df_test.drop(['target', 'uniprot_id'], axis=1, inplace=False))\n",
    "\n",
    "# contruct a dataframe with the true values & predictions of dataset proteins\n",
    "df_proteins = pd.DataFrame(columns=['y_true', 'uniprot_id', 'y_pred', 'y_pred_proba'])\n",
    "df_proteins['y_true'] = df_test['target']\n",
    "df_proteins['uniprot_id'] = df_test['uniprot_id']\n",
    "df_proteins['y_pred'] = y_pred\n",
    "df_proteins['y_pred_proba'] = y_pred_proba[:,1]\n",
    "\n",
    "prot = {}\n",
    "for protein in df_proteins.uniprot_id.unique():\n",
    "  target_prot = df_proteins[df_proteins.uniprot_id == protein].y_true\n",
    "\n",
    "  seq_len = int(np.sqrt(len(target_prot)))\n",
    "\n",
    "  target_prot_true = np.array(target_prot).reshape(seq_len,int(len(target_prot)/seq_len))\n",
    "  y_pred_arr = np.array(df_proteins[df_proteins.uniprot_id == protein].y_pred).reshape(seq_len,int(len(df_proteins[df_proteins.uniprot_id == protein].y_pred)/seq_len))\n",
    "  y_pred_arr_proba = np.array(df_proteins[df_proteins.uniprot_id == protein].y_pred_proba).reshape(seq_len,int(len(df_proteins[df_proteins.uniprot_id == protein].y_pred_proba)/seq_len))\n",
    "\n",
    "  prot[protein] = (y_pred_arr_proba.mean(axis=0) > threshold) + 0"
   ]
  },
  {
   "attachments": {},
   "cell_type": "markdown",
   "metadata": {},
   "source": [
    "#### Sum of weights"
   ]
  },
  {
   "cell_type": "code",
   "execution_count": null,
   "metadata": {},
   "outputs": [],
   "source": [
    "att_maps = {}\n",
    "thresholds = [0.1, 0.15, 0.2, 0.3, 0.4, 0.5]\n",
    "\n",
    "for threshold in thresholds:\n",
    "  print('Threshold: ' + str(threshold))\n",
    "  attention_scores = {}\n",
    "  for hl in range(24): # hidden layers\n",
    "    print('Layer ' + str(hl))\n",
    "    for ah in range(32): # attention heads\n",
    "      sum_attention_weights_labels = 0\n",
    "      sum_attention_weights = 0\n",
    "\n",
    "      for pdb_id in results.keys():\n",
    "        # calculate the denominator of the proportion\n",
    "\n",
    "        X = results[pdb_id].attentions[hl][0, ah,:-1,:-1].numpy()\n",
    "        y = df[df.uniprot_id == pdb_id].is_IBS.values\n",
    "\n",
    "        # calculate the numerator of the proportion\n",
    "        sum_weights_labels, sum_weights = calc_labels_and_weight(X, y, threshold)\n",
    "        sum_attention_weights += sum_weights\n",
    "        sum_attention_weights_labels += sum_weights_labels\n",
    "\n",
    "      if sum_attention_weights != 0:\n",
    "        attention_scores[str(hl) + '_' + str(ah)] = (sum_attention_weights_labels / sum_attention_weights) * 100\n",
    "      else:\n",
    "        attention_scores[str(hl) + '_' + str(ah)] = 0\n",
    "  \n",
    "  att_maps[threshold] = attention_scores"
   ]
  },
  {
   "cell_type": "code",
   "execution_count": 16,
   "metadata": {},
   "outputs": [
    {
     "data": {
      "image/png": "[encoded data removed]",
      "text/plain": [
       "<Figure size 2000x1000 with 12 Axes>"
      ]
     },
     "metadata": {},
     "output_type": "display_data"
    }
   ],
   "source": [
    "f = open('./attentions/attention_head_results.json')\n",
    "attention_results = json.load(f)\n",
    "\n",
    "fig, axs = plt.subplots(2, 3, figsize=(20, 10))\n",
    "\n",
    "for index, (thres, values) in enumerate(attention_results['protTrans'].items()):\n",
    "  attention_scores_2d_array = np.zeros((24, 32))\n",
    "\n",
    "  if index < 3:\n",
    "    row = 0\n",
    "    col = index\n",
    "  else:\n",
    "    row = 1\n",
    "    col = index - 3\n",
    "  \n",
    "  for key in values[0].keys():\n",
    "    attention_scores_2d_array[int(key.split('_')[0])][int(key.split('_')[1])] = values[0][key]\n",
    "  \n",
    "  ax = sns.heatmap(attention_scores_2d_array, cmap=\"Blues\", linewidth=.5, fmt=\".2f%\", cbar=False, ax=axs[row, col])\n",
    "  ax.invert_yaxis()\n",
    "  cbar = ax.figure.colorbar(ax.collections[0])\n",
    "  cbar.set_ticks([i for i in range(0, int(round(attention_scores_2d_array.max(), -1) + 10), 10)])\n",
    "  cbar.set_ticklabels([str(i) + \"%\" for i in range(0, int(round(attention_scores_2d_array.max(), -1) + 10), 10)])\n",
    "  axs[row, col].set_xlabel('Attention head')\n",
    "  axs[row, col].set_ylabel('Hidden layer')\n",
    "  axs[row, col].set_title('Proportion of attention threshold ' + str(thres))\n",
    "\n",
    "plt.show()"
   ]
  },
  {
   "attachments": {},
   "cell_type": "markdown",
   "metadata": {},
   "source": [
    "### ESM model - esm2_t33_650M_UR50D"
   ]
  },
  {
   "cell_type": "code",
   "execution_count": 3,
   "metadata": {},
   "outputs": [
    {
     "name": "stderr",
     "output_type": "stream",
     "text": [
      "Some weights of the model checkpoint at facebook/esm2_t33_650M_UR50D were not used when initializing EsmModel: ['lm_head.dense.weight', 'lm_head.layer_norm.bias', 'lm_head.bias', 'esm.contact_head.regression.weight', 'lm_head.dense.bias', 'lm_head.layer_norm.weight', 'lm_head.decoder.weight', 'esm.contact_head.regression.bias']\n",
      "- This IS expected if you are initializing EsmModel from the checkpoint of a model trained on another task or with another architecture (e.g. initializing a BertForSequenceClassification model from a BertForPreTraining model).\n",
      "- This IS NOT expected if you are initializing EsmModel from the checkpoint of a model that you expect to be exactly identical (initializing a BertForSequenceClassification model from a BertForSequenceClassification model).\n",
      "Some weights of EsmModel were not initialized from the model checkpoint at facebook/esm2_t33_650M_UR50D and are newly initialized: ['esm.pooler.dense.bias', 'esm.pooler.dense.weight']\n",
      "You should probably TRAIN this model on a down-stream task to be able to use it for predictions and inference.\n"
     ]
    }
   ],
   "source": [
    "tokenizer = EsmTokenizer.from_pretrained(\"facebook/esm2_t33_650M_UR50D\", do_lower_case=False)\n",
    "\n",
    "model = EsmModel.from_pretrained(\"facebook/esm2_t33_650M_UR50D\")"
   ]
  },
  {
   "cell_type": "code",
   "execution_count": 6,
   "metadata": {},
   "outputs": [
    {
     "name": "stderr",
     "output_type": "stream",
     "text": [
      "443it [00:06, 64.78it/s]\n"
     ]
    }
   ],
   "source": [
    "proteins_with_seq = df[['uniprot_id', 'sequence']].groupby('uniprot_id').apply(lambda x: list(np.unique(x['sequence']))[0].replace('U','X').replace('Z','X').replace('O','X')).to_dict()\n",
    "results = dict()\n",
    "\n",
    "is_logistic = True\n",
    "# read proteins from json file - Logistic Regression\n",
    "if is_logistic:\n",
    "  file = open('./attentions/proteins_logistic.json')\n",
    "  proteins = json.load(file)\n",
    "  file.close()\n",
    "else:\n",
    "  # read proteins from json file - Mathematical Model\n",
    "  file = open('./attentions/attention_head_results.json')\n",
    "  proteins = list(json.load(file)['proteins'][0].keys())\n",
    "  file.close()\n",
    "\n",
    "for seq_idx, (pdb_id, seq) in tqdm(enumerate(proteins_with_seq.items())):\n",
    "  seq = seq\n",
    "  seq_len = len(seq)\n",
    "\n",
    "  if pdb_id not in proteins['val_dreamm'] and is_logistic:\n",
    "    continue\n",
    "  \n",
    "  # add_special_tokens adds extra token at the end of each sequence\n",
    "  token_encoding = tokenizer(seq, return_tensors=\"pt\")\n",
    "\n",
    "  try:\n",
    "    with torch.no_grad():\n",
    "      # returns: ( batch-size x max_seq_len_in_minibatch x embedding_dim )\n",
    "      embedding_repr = model(input_ids=token_encoding['input_ids'], attention_mask=token_encoding['attention_mask'], output_attentions=True)\n",
    "  except RuntimeError:\n",
    "    print(\"RuntimeError during embedding for {} (L={})\".format(pdb_id, seq_len))\n",
    "    continue\n",
    "  \n",
    "  results[pdb_id] = embedding_repr"
   ]
  },
  {
   "cell_type": "code",
   "execution_count": null,
   "metadata": {},
   "outputs": [],
   "source": [
    "# attentions are 33 -> # of hidden layers [attentions[0:32] are the self-attention layers]\n",
    "# [ x, num_attention_heads , seq_len + 2, seq_len + 2 ]\n",
    "# the +2 are the SEP, CLS tokens -> [:max_seq_len - 2]\n",
    "print(len(results['A0A6N4SPL7'].attentions))\n",
    "print(results['A0A6N4SPL7'].attentions[0].shape)\n",
    "print(results['A0A6N4SPL7'].attentions[0][0,0,1:-1,1:-1].shape)\n",
    "print(results['A0A6N4SPL7'].attentions[1][:,0,:,:].detach().cpu().numpy().squeeze())"
   ]
  },
  {
   "attachments": {},
   "cell_type": "markdown",
   "metadata": {},
   "source": [
    "#### Logistic Regression"
   ]
  },
  {
   "attachments": {},
   "cell_type": "markdown",
   "metadata": {},
   "source": [
    "##### Prepare files"
   ]
  },
  {
   "cell_type": "code",
   "execution_count": 8,
   "metadata": {},
   "outputs": [],
   "source": [
    "### prepapre data for training - export each protein to a csv file\n",
    "\n",
    "col_names = []\n",
    "# make column names\n",
    "for i in range(33):\n",
    "  for j in range(20):\n",
    "    col_names.append(f\"{i}_{j}\")\n",
    "\n",
    "for pdb_id in results.keys():\n",
    "  ibs = df[df.uniprot_id == pdb_id].is_IBS.values\n",
    "\n",
    "  # create a temporary dataframe with number of rows = seq_len * seq_len -> for each combination of positions\n",
    "  temp_df = pd.DataFrame(columns=col_names)\n",
    "\n",
    "  # add attention scores\n",
    "  for layer in range(33):\n",
    "    for head in range(20):\n",
    "      temp_df[str(layer) + \"_\" + str(head)] = results[pdb_id].attentions[layer][:,head,1:-1,1:-1].detach().cpu().numpy().squeeze().flatten().astype(np.float16)\n",
    "\n",
    "  # combine weight & target values into one dataframe and save to csv\n",
    "  pd.concat([temp_df, pd.DataFrame({'target': np.tile(ibs.reshape(-1,1), (len(ibs), 1)).reshape(-1,1).squeeze()})], axis=1).to_csv(\"./attentions/ESM/\" + pdb_id + \".csv\")"
   ]
  },
  {
   "cell_type": "code",
   "execution_count": 9,
   "metadata": {},
   "outputs": [
    {
     "name": "stderr",
     "output_type": "stream",
     "text": [
      "/var/folders/rw/9j5794s503z4wklybl6pd58c0000gn/T/ipykernel_1118/1943782452.py:20: FutureWarning: The frame.append method is deprecated and will be removed from pandas in a future version. Use pandas.concat instead.\n",
      "  df = df.append(temp_df, ignore_index=True)\n",
      "/var/folders/rw/9j5794s503z4wklybl6pd58c0000gn/T/ipykernel_1118/1943782452.py:20: FutureWarning: The frame.append method is deprecated and will be removed from pandas in a future version. Use pandas.concat instead.\n",
      "  df = df.append(temp_df, ignore_index=True)\n",
      "/var/folders/rw/9j5794s503z4wklybl6pd58c0000gn/T/ipykernel_1118/1943782452.py:20: FutureWarning: The frame.append method is deprecated and will be removed from pandas in a future version. Use pandas.concat instead.\n",
      "  df = df.append(temp_df, ignore_index=True)\n",
      "/var/folders/rw/9j5794s503z4wklybl6pd58c0000gn/T/ipykernel_1118/1943782452.py:20: FutureWarning: The frame.append method is deprecated and will be removed from pandas in a future version. Use pandas.concat instead.\n",
      "  df = df.append(temp_df, ignore_index=True)\n",
      "/var/folders/rw/9j5794s503z4wklybl6pd58c0000gn/T/ipykernel_1118/1943782452.py:20: FutureWarning: The frame.append method is deprecated and will be removed from pandas in a future version. Use pandas.concat instead.\n",
      "  df = df.append(temp_df, ignore_index=True)\n"
     ]
    }
   ],
   "source": [
    "# combine all csv files into one dataframe\n",
    "file = open('./attentions/proteins_logistic.json')\n",
    "proteins = json.load(file)\n",
    "file.close()\n",
    "\n",
    "# get all csv files\n",
    "csv_files = glob.glob(\"./attentions/ESM/*.csv\")\n",
    "\n",
    "# create a list of dataframes\n",
    "df = pd.DataFrame()\n",
    "\n",
    "type_set = 'val_dreamm'\n",
    "# loop through all csv files\n",
    "for filename in csv_files:\n",
    "  # add column with protein name\n",
    "  temp_df = pd.read_csv(filename)\n",
    "  if filename.split(\"/\")[-1].split(\".\")[0] not in proteins[type_set]:\n",
    "    continue\n",
    "  temp_df['uniprot_id'] = filename.split(\"/\")[-1].split(\".\")[0]\n",
    "  df = df.append(temp_df, ignore_index=True)\n",
    "\n",
    "df = df.drop(columns=['Unnamed: 0'])\n",
    "df.to_csv('./attentions/attention_weights_' + type_set +'_esm.csv', index=False)"
   ]
  },
  {
   "attachments": {},
   "cell_type": "markdown",
   "metadata": {},
   "source": [
    "##### Train model"
   ]
  },
  {
   "cell_type": "code",
   "execution_count": null,
   "metadata": {},
   "outputs": [],
   "source": [
    "df_train = pd.read_csv('attention_weights_train_esm.csv')\n",
    "df_test = pd.read_csv('attention_weights_esm.csv')\n",
    "\n",
    "# convert all columns to float16\n",
    "y_train = df_train['target']\n",
    "y_test = df_test['target']\n",
    "# y_labels = df_train['uniprot_id']\n",
    "df_train.drop(['target', 'uniprot_id'], axis=1, inplace=True)\n",
    "df_train = df_train.astype(np.float16)\n",
    "\n",
    "clf_sgd = SGDClassifier(\n",
    "    loss='log_loss', \n",
    "    penalty='l1', \n",
    "    # alpha=1/0.15,\n",
    "    class_weight=\"balanced\",\n",
    "    n_jobs=-1, \n",
    "    random_state=42\n",
    ")\n",
    "\n",
    "clf_sgd.fit(df_train, y_train)"
   ]
  },
  {
   "cell_type": "code",
   "execution_count": null,
   "metadata": {},
   "outputs": [],
   "source": [
    "heat_map = np.zeros((33, 20)) # ESM\n",
    "\n",
    "layer = 0\n",
    "head = 0\n",
    "for coe in clf_sgd.coef_[0]:\n",
    "    if head == 19: # ESM\n",
    "        heat_map[layer][head] = abs(coe)\n",
    "        head = 0\n",
    "        layer +=1\n",
    "    else:\n",
    "        heat_map[layer][head] = abs(coe)\n",
    "        head += 1\n",
    "\n",
    "ax = sns.heatmap(heat_map, cmap=\"Blues\", linewidth=.5, fmt=\".2f%\", cbar=False)\n",
    "ax.invert_yaxis()\n",
    "cbar = ax.figure.colorbar(ax.collections[0])\n",
    "cbar.set_ticks([i for i in range(0, int(round(heat_map.max(), -1) + 10), 5)])\n",
    "cbar.set_ticklabels([str(i) + \"\" for i in range(0, int(round(heat_map.max(), -1) + 10), 5)])\n",
    "\n",
    "plt.xlabel('Attention head')\n",
    "plt.ylabel('Hidden layer')\n",
    "plt.title('Coefficients of SGD (stochastic gradient descent)')\n",
    "plt.show()"
   ]
  },
  {
   "cell_type": "code",
   "execution_count": null,
   "metadata": {},
   "outputs": [],
   "source": [
    "### Evaluate the model on the test set\n",
    "threshold = 0.5\n",
    "\n",
    "# predict the test data\n",
    "y_pred = clf_sgd.predict(df_test.drop(['target', 'uniprot_id'], axis=1, inplace=False))\n",
    "y_pred_proba = clf_sgd.predict_proba(df_test.drop(['target', 'uniprot_id'], axis=1, inplace=False))\n",
    "\n",
    "# contruct a dataframe with the predictions\n",
    "df_proteins = pd.DataFrame(columns=['y_true', 'uniprot_id', 'y_pred', 'y_pred_proba'])\n",
    "df_proteins['y_true'] = df_test['target']\n",
    "df_proteins['uniprot_id'] = df_test['uniprot_id']\n",
    "df_proteins['y_pred'] = y_pred\n",
    "df_proteins['y_pred_proba'] = y_pred_proba[:,1]\n",
    "\n",
    "\n",
    "y_true_final = []\n",
    "y_pred_final = []\n",
    "\n",
    "for protein in df_proteins.uniprot_id.unique():\n",
    "  target_prot = df_proteins[df_proteins.uniprot_id == protein].y_true\n",
    "\n",
    "  seq_len = int(np.sqrt(len(target_prot)))\n",
    "\n",
    "  # convert to the appropriate shape -> seq_len x seq_len\n",
    "  target_prot_true = np.array(target_prot).reshape(seq_len,int(len(target_prot)/seq_len))\n",
    "  y_pred_arr = np.array(df_proteins[df_proteins.uniprot_id == protein].y_pred).reshape(seq_len,int(len(df_proteins[df_proteins.uniprot_id == protein].y_pred)/seq_len))\n",
    "  y_pred_arr_proba = np.array(df_proteins[df_proteins.uniprot_id == protein].y_pred_proba).reshape(seq_len,int(len(df_proteins[df_proteins.uniprot_id == protein].y_pred_proba)/seq_len))\n",
    "\n",
    "  y_true_final = np.concatenate((y_true_final, mostCommon(target_prot_true)))\n",
    "  y_pred_final = np.concatenate((y_pred_final, ((y_pred_arr_proba.mean(axis=0) > threshold) + 0)))\n",
    "\n",
    "print('F1 score: %.3f ' % f1_score(y_true_final, y_pred_final))\n",
    "print('MCC: %.3f ' % matthews_corrcoef(y_true_final, y_pred_final))\n",
    "print('Balanced accuracy: %.3f ' % balanced_accuracy_score(y_true_final, y_pred_final))\n",
    "\n",
    "cm = confusion_matrix(y_true_final, y_pred_final)\n",
    "cm = pd.DataFrame(cm , index = ['0','1'] , columns = ['0','1'])\n",
    "print(cm)"
   ]
  },
  {
   "attachments": {},
   "cell_type": "markdown",
   "metadata": {},
   "source": [
    "#### Predict Proteins"
   ]
  },
  {
   "cell_type": "code",
   "execution_count": 15,
   "metadata": {},
   "outputs": [],
   "source": [
    "# load model\n",
    "clf_sgd = joblib.load(\"./attentions/models/model_esm.pkl\")\n",
    "\n",
    "dataset = 'val_dreamm'\n",
    "df_test = pd.read_csv(f'./attentions/attention_weights_{dataset}_esm.csv')\n",
    "y_test = df_test['target']\n",
    "threshold = 0.5\n",
    "\n",
    "# predict the test data\n",
    "y_pred = clf_sgd.predict(df_test.drop(['target', 'uniprot_id'], axis=1, inplace=False))\n",
    "y_pred_proba = clf_sgd.predict_proba(df_test.drop(['target', 'uniprot_id'], axis=1, inplace=False))\n",
    "\n",
    "# contruct a dataframe with the true values & predictions of dataset proteins\n",
    "df_proteins = pd.DataFrame(columns=['y_true', 'uniprot_id', 'y_pred', 'y_pred_proba'])\n",
    "df_proteins['y_true'] = df_test['target']\n",
    "df_proteins['uniprot_id'] = df_test['uniprot_id']\n",
    "df_proteins['y_pred'] = y_pred\n",
    "df_proteins['y_pred_proba'] = y_pred_proba[:,1]\n",
    "\n",
    "prot = {}\n",
    "for protein in df_proteins.uniprot_id.unique():\n",
    "  target_prot = df_proteins[df_proteins.uniprot_id == protein].y_true\n",
    "\n",
    "  seq_len = int(np.sqrt(len(target_prot)))\n",
    "\n",
    "  target_prot_true = np.array(target_prot).reshape(seq_len,int(len(target_prot)/seq_len))\n",
    "  y_pred_arr = np.array(df_proteins[df_proteins.uniprot_id == protein].y_pred).reshape(seq_len,int(len(df_proteins[df_proteins.uniprot_id == protein].y_pred)/seq_len))\n",
    "  y_pred_arr_proba = np.array(df_proteins[df_proteins.uniprot_id == protein].y_pred_proba).reshape(seq_len,int(len(df_proteins[df_proteins.uniprot_id == protein].y_pred_proba)/seq_len))\n",
    "\n",
    "  prot[protein] = (y_pred_arr_proba.mean(axis=0) > threshold) + 0"
   ]
  },
  {
   "attachments": {},
   "cell_type": "markdown",
   "metadata": {},
   "source": [
    "#### Sum of weights"
   ]
  },
  {
   "cell_type": "code",
   "execution_count": null,
   "metadata": {},
   "outputs": [],
   "source": [
    "att_maps = {}\n",
    "thresholds = [0.1, 0.15, 0.2, 0.3, 0.4, 0.5]\n",
    "\n",
    "for threshold in thresholds:\n",
    "  print('Threshold: ' + str(threshold))\n",
    "  attention_scores = {}\n",
    "  for hl in range(33): # hidden layers\n",
    "    print('Layer ' + str(hl))\n",
    "    for ah in range(20): # attention heads\n",
    "      sum_attention_weights_labels = 0\n",
    "      sum_attention_weights = 0\n",
    "\n",
    "      for pdb_id in results.keys():\n",
    "        # calculate the denominator of the proportion\n",
    "\n",
    "        X = results[pdb_id].attentions[hl][0, ah,1:-1,1:-1].numpy()\n",
    "        y = df[df.uniprot_id == pdb_id].is_IBS.values\n",
    "\n",
    "        # calculate the numerator of the proportion\n",
    "        sum_weights_labels, sum_weights = calc_labels_and_weight(X, y, threshold)\n",
    "        sum_attention_weights += sum_weights\n",
    "        sum_attention_weights_labels += sum_weights_labels\n",
    "\n",
    "      if sum_attention_weights != 0:\n",
    "        attention_scores[str(hl) + '_' + str(ah)] = (sum_attention_weights_labels / sum_attention_weights) * 100\n",
    "      else:\n",
    "        attention_scores[str(hl) + '_' + str(ah)] = 0\n",
    "  \n",
    "  att_maps[threshold] = attention_scores"
   ]
  },
  {
   "cell_type": "code",
   "execution_count": null,
   "metadata": {},
   "outputs": [],
   "source": [
    "f = open('attention_head_results.json')\n",
    "attention_results = json.load(f)\n",
    "\n",
    "fig, axs = plt.subplots(2, 3, figsize=(20, 10))\n",
    "\n",
    "for index, (thres, values) in enumerate(attention_results['ESM'].items()):\n",
    "  attention_scores_2d_array = np.zeros((34, 20))\n",
    "\n",
    "  if index < 3:\n",
    "    row = 0\n",
    "    col = index\n",
    "  else:\n",
    "    row = 1\n",
    "    col = index - 3\n",
    "  \n",
    "  for key in values[0].keys():\n",
    "    attention_scores_2d_array[int(key.split('_')[0])][int(key.split('_')[1])] = values[0][key]\n",
    "  \n",
    "  ax = sns.heatmap(attention_scores_2d_array, cmap=\"Blues\", linewidth=.5, fmt=\".2f%\", cbar=False, ax=axs[row, col])\n",
    "  ax.invert_yaxis()\n",
    "  cbar = ax.figure.colorbar(ax.collections[0])\n",
    "  cbar.set_ticks([i for i in range(0, int(round(attention_scores_2d_array.max(), -1) + 10), 10)])\n",
    "  cbar.set_ticklabels([str(i) + \"%\" for i in range(0, int(round(attention_scores_2d_array.max(), -1) + 10), 10)])\n",
    "  axs[row, col].set_xlabel('Attention head')\n",
    "  axs[row, col].set_ylabel('Hidden layer')\n",
    "  axs[row, col].set_title('Proportion of attention threshold ' + str(thres))\n",
    "\n",
    "plt.show()"
   ]
  }
 ],
 "metadata": {
  "kernelspec": {
   "display_name": "tensorflow",
   "language": "python",
   "name": "python3"
  },
  "language_info": {
   "codemirror_mode": {
    "name": "ipython",
    "version": 3
   },
   "file_extension": ".py",
   "mimetype": "text/x-python",
   "name": "python",
   "nbconvert_exporter": "python",
   "pygments_lexer": "ipython3",
   "version": "3.9.13"
  },
  "orig_nbformat": 4,
  "vscode": {
   "interpreter": {
    "hash": "8a5edab282632443219e051e4ade2d1d5bbc671c781051bf1437897cbdfea0f1"
   }
  }
 },
 "nbformat": 4,
 "nbformat_minor": 2
}
